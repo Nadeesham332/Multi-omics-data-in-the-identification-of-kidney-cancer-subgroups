{
 "cells": [
  {
   "cell_type": "markdown",
   "id": "24d5437f",
   "metadata": {},
   "source": [
    "## Dataset initialization"
   ]
  },
  {
   "cell_type": "code",
   "execution_count": 1,
   "id": "72fa5628",
   "metadata": {},
   "outputs": [],
   "source": [
    "import pandas as pd\n",
    "\n",
    "#import data sets in meth data\n",
    "df0=pd.read_csv('KIRC_HumanMethylation450.data',sep='\\t').set_index('sample').T\n",
    "df1=pd.read_csv('KIRP_HumanMethylation450.data',sep='\\t').set_index('sample').T\n",
    "df2=pd.read_csv('KICH_HumanMethylation450.data',sep='\\t').set_index('sample').T"
   ]
  },
  {
   "cell_type": "code",
   "execution_count": 2,
   "id": "b9c8cf7b",
   "metadata": {
    "scrolled": true
   },
   "outputs": [
    {
     "data": {
      "text/plain": [
       "((480, 485578), (321, 485578), (66, 485578))"
      ]
     },
     "execution_count": 2,
     "metadata": {},
     "output_type": "execute_result"
    }
   ],
   "source": [
    "df0.shape, df1.shape, df2.shape"
   ]
  },
  {
   "cell_type": "markdown",
   "id": "f306a21c",
   "metadata": {},
   "source": [
    "## Preprocessing"
   ]
  },
  {
   "cell_type": "markdown",
   "id": "ef6827f8",
   "metadata": {},
   "source": [
    "### 1. Data Integration"
   ]
  },
  {
   "cell_type": "code",
   "execution_count": 3,
   "id": "4fe0adf4",
   "metadata": {},
   "outputs": [],
   "source": [
    "df=pd.concat([df0, df1, df2])"
   ]
  },
  {
   "cell_type": "code",
   "execution_count": 4,
   "id": "f6e4b7d7",
   "metadata": {},
   "outputs": [
    {
     "data": {
      "text/plain": [
       "(867, 485578)"
      ]
     },
     "execution_count": 4,
     "metadata": {},
     "output_type": "execute_result"
    }
   ],
   "source": [
    "df.shape"
   ]
  },
  {
   "cell_type": "markdown",
   "id": "57030f39",
   "metadata": {},
   "source": [
    "\n",
    "### 2. Data Cleaning"
   ]
  },
  {
   "cell_type": "code",
   "execution_count": 5,
   "id": "792e3db5",
   "metadata": {
    "scrolled": true
   },
   "outputs": [],
   "source": [
    "# number of duplicates\n",
    "# df.duplicated().sum()"
   ]
  },
  {
   "cell_type": "code",
   "execution_count": 6,
   "id": "7f3e7e4c",
   "metadata": {},
   "outputs": [
    {
     "data": {
      "text/plain": [
       "sample\n",
       "cg13332474    0\n",
       "cg00651829    0\n",
       "cg17027195    0\n",
       "cg09868354    0\n",
       "cg03050183    2\n",
       "             ..\n",
       "cg10230711    0\n",
       "cg16651827    0\n",
       "cg18138552    0\n",
       "cg07883722    0\n",
       "Subtype       0\n",
       "Length: 485578, dtype: int64"
      ]
     },
     "execution_count": 6,
     "metadata": {},
     "output_type": "execute_result"
    }
   ],
   "source": [
    "df.isnull().sum()"
   ]
  },
  {
   "cell_type": "code",
   "execution_count": 7,
   "id": "750c94cb",
   "metadata": {},
   "outputs": [
    {
     "data": {
      "text/plain": [
       "110192"
      ]
     },
     "execution_count": 7,
     "metadata": {},
     "output_type": "execute_result"
    }
   ],
   "source": [
    "# Count the null values containing features\n",
    "n=(df.isnull().sum()>0).sum()\n",
    "n"
   ]
  },
  {
   "cell_type": "code",
   "execution_count": 8,
   "id": "f4abddb3",
   "metadata": {},
   "outputs": [
    {
     "data": {
      "text/plain": [
       "sample\n",
       "cg20383654    867\n",
       "cg01757760    867\n",
       "cg23688350    867\n",
       "cg24536120    867\n",
       "cg01763947    867\n",
       "             ... \n",
       "cg14467794      1\n",
       "cg17784749      1\n",
       "cg21821726      1\n",
       "cg14872074      1\n",
       "cg12753851      1\n",
       "Length: 110192, dtype: int64"
      ]
     },
     "execution_count": 8,
     "metadata": {},
     "output_type": "execute_result"
    }
   ],
   "source": [
    "# Check the null values\n",
    "df.isnull().sum().sort_values(ascending = False).head(n)"
   ]
  },
  {
   "cell_type": "code",
   "execution_count": 9,
   "id": "a978a244",
   "metadata": {},
   "outputs": [],
   "source": [
    "# drop the null values\n",
    "df=df.dropna(axis=1)"
   ]
  },
  {
   "cell_type": "code",
   "execution_count": 10,
   "id": "f4a660ed",
   "metadata": {},
   "outputs": [
    {
     "data": {
      "text/plain": [
       "(867, 375386)"
      ]
     },
     "execution_count": 10,
     "metadata": {},
     "output_type": "execute_result"
    }
   ],
   "source": [
    "df.shape"
   ]
  },
  {
   "cell_type": "code",
   "execution_count": 11,
   "id": "e8ed831d",
   "metadata": {},
   "outputs": [
    {
     "name": "stdout",
     "output_type": "stream",
     "text": [
      "Count of zeros\n",
      "\t Subtype  :  480\n"
     ]
    }
   ],
   "source": [
    "print('Count of zeros')\n",
    "for column_name in df.columns:\n",
    "    column = df[column_name]\n",
    "    # Get the count of Zeros in column \n",
    "    count = (column == 0).sum()\n",
    "    if(count>0):\n",
    "        print('\\t', column_name, ' : ', count)"
   ]
  },
  {
   "cell_type": "markdown",
   "id": "eddc63eb",
   "metadata": {},
   "source": [
    "### 3. Feature Selection - Mutual Information"
   ]
  },
  {
   "cell_type": "code",
   "execution_count": 23,
   "id": "4e410b9f",
   "metadata": {},
   "outputs": [],
   "source": [
    "X=df.drop(['Subtype'], axis=1)"
   ]
  },
  {
   "cell_type": "code",
   "execution_count": 24,
   "id": "15ee29f1",
   "metadata": {},
   "outputs": [],
   "source": [
    "y=df['Subtype']"
   ]
  },
  {
   "cell_type": "code",
   "execution_count": 15,
   "id": "d27bdb0c",
   "metadata": {},
   "outputs": [],
   "source": [
    "# import necessary libraries\n",
    "from sklearn.feature_selection import mutual_info_classif\n",
    "from sklearn.feature_selection import SelectKBest\n",
    "\n",
    "fs = SelectKBest(score_func=mutual_info_classif, k=200)\n",
    "\n",
    "X_selected = fs.fit_transform(X, y)"
   ]
  },
  {
   "cell_type": "code",
   "execution_count": 16,
   "id": "105395bc",
   "metadata": {
    "scrolled": true
   },
   "outputs": [
    {
     "data": {
      "text/plain": [
       "array([[0.7114, 0.8402, 0.4888, ..., 0.7253, 0.7067, 0.6826],\n",
       "       [0.6274, 0.4223, 0.6813, ..., 0.4296, 0.4939, 0.5001],\n",
       "       [0.7269, 0.1851, 0.8087, ..., 0.5529, 0.6474, 0.5274],\n",
       "       ...,\n",
       "       [0.2831, 0.099 , 0.1407, ..., 0.2474, 0.0536, 0.2142],\n",
       "       [0.3853, 0.1738, 0.2989, ..., 0.4532, 0.1122, 0.3444],\n",
       "       [0.2216, 0.0568, 0.2301, ..., 0.2281, 0.0539, 0.2011]])"
      ]
     },
     "execution_count": 16,
     "metadata": {},
     "output_type": "execute_result"
    }
   ],
   "source": [
    "X_selected"
   ]
  },
  {
   "cell_type": "code",
   "execution_count": 75,
   "id": "9ac7a444",
   "metadata": {},
   "outputs": [
    {
     "data": {
      "text/plain": [
       "SelectKBest(k=200, score_func=<function mutual_info_classif at 0x7f999254ed30>)"
      ]
     },
     "execution_count": 75,
     "metadata": {},
     "output_type": "execute_result"
    }
   ],
   "source": [
    "# extract columns\n",
    "cols = [words[:-1] for words in fs.get_feature_names_out()]\n",
    "# print(cols)\n",
    "\n",
    "# add columns\n",
    "X_selected = pd.DataFrame(X_selected, columns=cols)\n",
    "\n",
    "fs.fit(X_selected,y)"
   ]
  },
  {
   "cell_type": "code",
   "execution_count": 76,
   "id": "a37a78b0",
   "metadata": {},
   "outputs": [
    {
     "data": {
      "text/plain": [
       "Index(['cg133332', 'cg244856', 'cg014432', 'cg262806', 'cg145572', 'cg238561',\n",
       "       'cg009859', 'cg162095', 'cg003188', 'cg134586',\n",
       "       ...\n",
       "       'cg218153', 'cg276524', 'cg182419', 'cg162484', 'cg243051', 'cg113405',\n",
       "       'cg262427', 'cg080173', 'cg026701', 'cg189711'],\n",
       "      dtype='object', length=200)"
      ]
     },
     "execution_count": 76,
     "metadata": {},
     "output_type": "execute_result"
    }
   ],
   "source": [
    "# view columns\n",
    "X_selected.columns"
   ]
  },
  {
   "cell_type": "code",
   "execution_count": 17,
   "id": "c0b2f041",
   "metadata": {
    "scrolled": false
   },
   "outputs": [
    {
     "data": {
      "text/html": [
       "<div>\n",
       "<style scoped>\n",
       "    .dataframe tbody tr th:only-of-type {\n",
       "        vertical-align: middle;\n",
       "    }\n",
       "\n",
       "    .dataframe tbody tr th {\n",
       "        vertical-align: top;\n",
       "    }\n",
       "\n",
       "    .dataframe thead th {\n",
       "        text-align: right;\n",
       "    }\n",
       "</style>\n",
       "<table border=\"1\" class=\"dataframe\">\n",
       "  <thead>\n",
       "    <tr style=\"text-align: right;\">\n",
       "      <th></th>\n",
       "      <th>cg1333326</th>\n",
       "      <th>cg2448569</th>\n",
       "      <th>cg0144328</th>\n",
       "      <th>cg2628069</th>\n",
       "      <th>cg1455721</th>\n",
       "      <th>cg2385613</th>\n",
       "      <th>cg0098598</th>\n",
       "      <th>cg1620951</th>\n",
       "      <th>cg0031889</th>\n",
       "      <th>cg1345860</th>\n",
       "      <th>...</th>\n",
       "      <th>cg2181533</th>\n",
       "      <th>cg2765249</th>\n",
       "      <th>cg1824196</th>\n",
       "      <th>cg1624843</th>\n",
       "      <th>cg2430515</th>\n",
       "      <th>cg1134053</th>\n",
       "      <th>cg2624275</th>\n",
       "      <th>cg0801732</th>\n",
       "      <th>cg0267012</th>\n",
       "      <th>cg1897117</th>\n",
       "    </tr>\n",
       "  </thead>\n",
       "  <tbody>\n",
       "    <tr>\n",
       "      <th>387</th>\n",
       "      <td>0.7353</td>\n",
       "      <td>0.2570</td>\n",
       "      <td>0.2541</td>\n",
       "      <td>0.5935</td>\n",
       "      <td>0.7758</td>\n",
       "      <td>0.1279</td>\n",
       "      <td>0.5843</td>\n",
       "      <td>0.8192</td>\n",
       "      <td>0.5449</td>\n",
       "      <td>0.7335</td>\n",
       "      <td>...</td>\n",
       "      <td>0.5470</td>\n",
       "      <td>0.7547</td>\n",
       "      <td>0.0202</td>\n",
       "      <td>0.6369</td>\n",
       "      <td>0.3306</td>\n",
       "      <td>0.6317</td>\n",
       "      <td>0.7567</td>\n",
       "      <td>0.4299</td>\n",
       "      <td>0.8031</td>\n",
       "      <td>0.7806</td>\n",
       "    </tr>\n",
       "    <tr>\n",
       "      <th>787</th>\n",
       "      <td>0.8498</td>\n",
       "      <td>0.9071</td>\n",
       "      <td>0.9292</td>\n",
       "      <td>0.9120</td>\n",
       "      <td>0.8821</td>\n",
       "      <td>0.6992</td>\n",
       "      <td>0.7176</td>\n",
       "      <td>0.9481</td>\n",
       "      <td>0.8290</td>\n",
       "      <td>0.9128</td>\n",
       "      <td>...</td>\n",
       "      <td>0.8993</td>\n",
       "      <td>0.9160</td>\n",
       "      <td>0.8797</td>\n",
       "      <td>0.8585</td>\n",
       "      <td>0.8213</td>\n",
       "      <td>0.9515</td>\n",
       "      <td>0.9053</td>\n",
       "      <td>0.9256</td>\n",
       "      <td>0.9678</td>\n",
       "      <td>0.9806</td>\n",
       "    </tr>\n",
       "    <tr>\n",
       "      <th>137</th>\n",
       "      <td>0.7221</td>\n",
       "      <td>0.1230</td>\n",
       "      <td>0.7790</td>\n",
       "      <td>0.8009</td>\n",
       "      <td>0.7303</td>\n",
       "      <td>0.0598</td>\n",
       "      <td>0.6685</td>\n",
       "      <td>0.3119</td>\n",
       "      <td>0.4550</td>\n",
       "      <td>0.5265</td>\n",
       "      <td>...</td>\n",
       "      <td>0.3898</td>\n",
       "      <td>0.7034</td>\n",
       "      <td>0.4351</td>\n",
       "      <td>0.7109</td>\n",
       "      <td>0.5597</td>\n",
       "      <td>0.3748</td>\n",
       "      <td>0.7266</td>\n",
       "      <td>0.5778</td>\n",
       "      <td>0.6013</td>\n",
       "      <td>0.4699</td>\n",
       "    </tr>\n",
       "    <tr>\n",
       "      <th>791</th>\n",
       "      <td>0.7337</td>\n",
       "      <td>0.8348</td>\n",
       "      <td>0.8148</td>\n",
       "      <td>0.7263</td>\n",
       "      <td>0.7560</td>\n",
       "      <td>0.5129</td>\n",
       "      <td>0.7959</td>\n",
       "      <td>0.9036</td>\n",
       "      <td>0.5420</td>\n",
       "      <td>0.8112</td>\n",
       "      <td>...</td>\n",
       "      <td>0.8920</td>\n",
       "      <td>0.7866</td>\n",
       "      <td>0.3966</td>\n",
       "      <td>0.6931</td>\n",
       "      <td>0.6274</td>\n",
       "      <td>0.8839</td>\n",
       "      <td>0.8160</td>\n",
       "      <td>0.8684</td>\n",
       "      <td>0.8899</td>\n",
       "      <td>0.8166</td>\n",
       "    </tr>\n",
       "    <tr>\n",
       "      <th>186</th>\n",
       "      <td>0.7157</td>\n",
       "      <td>0.7525</td>\n",
       "      <td>0.4968</td>\n",
       "      <td>0.7795</td>\n",
       "      <td>0.4900</td>\n",
       "      <td>0.2988</td>\n",
       "      <td>0.6773</td>\n",
       "      <td>0.8308</td>\n",
       "      <td>0.5448</td>\n",
       "      <td>0.7664</td>\n",
       "      <td>...</td>\n",
       "      <td>0.8320</td>\n",
       "      <td>0.8099</td>\n",
       "      <td>0.0490</td>\n",
       "      <td>0.6858</td>\n",
       "      <td>0.4686</td>\n",
       "      <td>0.8403</td>\n",
       "      <td>0.5328</td>\n",
       "      <td>0.6482</td>\n",
       "      <td>0.8385</td>\n",
       "      <td>0.6610</td>\n",
       "    </tr>\n",
       "    <tr>\n",
       "      <th>753</th>\n",
       "      <td>0.8662</td>\n",
       "      <td>0.9269</td>\n",
       "      <td>0.9327</td>\n",
       "      <td>0.9105</td>\n",
       "      <td>0.8838</td>\n",
       "      <td>0.7752</td>\n",
       "      <td>0.8746</td>\n",
       "      <td>0.9508</td>\n",
       "      <td>0.8429</td>\n",
       "      <td>0.9558</td>\n",
       "      <td>...</td>\n",
       "      <td>0.9025</td>\n",
       "      <td>0.9421</td>\n",
       "      <td>0.8590</td>\n",
       "      <td>0.8675</td>\n",
       "      <td>0.8216</td>\n",
       "      <td>0.9580</td>\n",
       "      <td>0.9211</td>\n",
       "      <td>0.9446</td>\n",
       "      <td>0.9621</td>\n",
       "      <td>0.9480</td>\n",
       "    </tr>\n",
       "  </tbody>\n",
       "</table>\n",
       "<p>6 rows × 200 columns</p>\n",
       "</div>"
      ],
      "text/plain": [
       "     cg1333326  cg2448569  cg0144328  cg2628069  cg1455721  cg2385613  \\\n",
       "387     0.7353     0.2570     0.2541     0.5935     0.7758     0.1279   \n",
       "787     0.8498     0.9071     0.9292     0.9120     0.8821     0.6992   \n",
       "137     0.7221     0.1230     0.7790     0.8009     0.7303     0.0598   \n",
       "791     0.7337     0.8348     0.8148     0.7263     0.7560     0.5129   \n",
       "186     0.7157     0.7525     0.4968     0.7795     0.4900     0.2988   \n",
       "753     0.8662     0.9269     0.9327     0.9105     0.8838     0.7752   \n",
       "\n",
       "     cg0098598  cg1620951  cg0031889  cg1345860  ...  cg2181533  cg2765249  \\\n",
       "387     0.5843     0.8192     0.5449     0.7335  ...     0.5470     0.7547   \n",
       "787     0.7176     0.9481     0.8290     0.9128  ...     0.8993     0.9160   \n",
       "137     0.6685     0.3119     0.4550     0.5265  ...     0.3898     0.7034   \n",
       "791     0.7959     0.9036     0.5420     0.8112  ...     0.8920     0.7866   \n",
       "186     0.6773     0.8308     0.5448     0.7664  ...     0.8320     0.8099   \n",
       "753     0.8746     0.9508     0.8429     0.9558  ...     0.9025     0.9421   \n",
       "\n",
       "     cg1824196  cg1624843  cg2430515  cg1134053  cg2624275  cg0801732  \\\n",
       "387     0.0202     0.6369     0.3306     0.6317     0.7567     0.4299   \n",
       "787     0.8797     0.8585     0.8213     0.9515     0.9053     0.9256   \n",
       "137     0.4351     0.7109     0.5597     0.3748     0.7266     0.5778   \n",
       "791     0.3966     0.6931     0.6274     0.8839     0.8160     0.8684   \n",
       "186     0.0490     0.6858     0.4686     0.8403     0.5328     0.6482   \n",
       "753     0.8590     0.8675     0.8216     0.9580     0.9211     0.9446   \n",
       "\n",
       "     cg0267012  cg1897117  \n",
       "387     0.8031     0.7806  \n",
       "787     0.9678     0.9806  \n",
       "137     0.6013     0.4699  \n",
       "791     0.8899     0.8166  \n",
       "186     0.8385     0.6610  \n",
       "753     0.9621     0.9480  \n",
       "\n",
       "[6 rows x 200 columns]"
      ]
     },
     "execution_count": 17,
     "metadata": {},
     "output_type": "execute_result"
    }
   ],
   "source": [
    "# view initial data records\n",
    "X_selected.sample(6)"
   ]
  },
  {
   "cell_type": "code",
   "execution_count": 21,
   "id": "78fc0924",
   "metadata": {},
   "outputs": [],
   "source": [
    "X_selected_backup=X_selected"
   ]
  },
  {
   "cell_type": "code",
   "execution_count": 26,
   "id": "c8dd1c45",
   "metadata": {},
   "outputs": [],
   "source": [
    "X_selected['Subtype']=y.values"
   ]
  },
  {
   "cell_type": "code",
   "execution_count": 31,
   "id": "5842a74b",
   "metadata": {},
   "outputs": [],
   "source": [
    "X_selected_backup=X_selected"
   ]
  },
  {
   "cell_type": "code",
   "execution_count": 38,
   "id": "10d64c91",
   "metadata": {},
   "outputs": [],
   "source": [
    "X_selected.index=df.index"
   ]
  },
  {
   "cell_type": "code",
   "execution_count": 40,
   "id": "ef095afe",
   "metadata": {},
   "outputs": [],
   "source": [
    "# store best 100 features in a seperate file\n",
    "X_selected.to_csv(\"./HumanMethylation450_selected_200.csv\", encoding='utf-8', index=True)"
   ]
  }
 ],
 "metadata": {
  "kernelspec": {
   "display_name": "Python 3",
   "language": "python",
   "name": "python3"
  },
  "language_info": {
   "codemirror_mode": {
    "name": "ipython",
    "version": 3
   },
   "file_extension": ".py",
   "mimetype": "text/x-python",
   "name": "python",
   "nbconvert_exporter": "python",
   "pygments_lexer": "ipython3",
   "version": "3.8.8"
  }
 },
 "nbformat": 4,
 "nbformat_minor": 5
}
