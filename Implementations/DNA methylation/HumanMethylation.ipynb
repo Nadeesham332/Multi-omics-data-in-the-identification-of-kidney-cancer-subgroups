{
 "cells": [
  {
   "cell_type": "markdown",
   "id": "24d5437f",
   "metadata": {},
   "source": [
    "## Dataset initialization"
   ]
  },
  {
   "cell_type": "code",
   "execution_count": 1,
   "id": "72fa5628",
   "metadata": {},
   "outputs": [],
   "source": [
    "import pandas as pd\n",
    "\n",
    "#import data sets in methylation data\n",
    "df=pd.read_csv('HumanMethylation450_selected_200.csv')"
   ]
  },
  {
   "cell_type": "code",
   "execution_count": 2,
   "id": "b9c8cf7b",
   "metadata": {
    "scrolled": true
   },
   "outputs": [
    {
     "data": {
      "text/plain": [
       "(867, 202)"
      ]
     },
     "execution_count": 2,
     "metadata": {},
     "output_type": "execute_result"
    }
   ],
   "source": [
    "df.shape"
   ]
  },
  {
   "cell_type": "code",
   "execution_count": 3,
   "id": "43e47e77",
   "metadata": {},
   "outputs": [],
   "source": [
    "df=df.set_index('Unnamed: 0')"
   ]
  },
  {
   "cell_type": "code",
   "execution_count": 4,
   "id": "320f2938",
   "metadata": {},
   "outputs": [
    {
     "data": {
      "text/plain": [
       "cg1333326    float64\n",
       "cg2448569    float64\n",
       "cg0144328    float64\n",
       "cg2628069    float64\n",
       "cg1455721    float64\n",
       "              ...   \n",
       "cg2624275    float64\n",
       "cg0801732    float64\n",
       "cg0267012    float64\n",
       "cg1897117    float64\n",
       "Subtype      float64\n",
       "Length: 201, dtype: object"
      ]
     },
     "execution_count": 4,
     "metadata": {},
     "output_type": "execute_result"
    }
   ],
   "source": [
    "df.dtypes"
   ]
  },
  {
   "cell_type": "markdown",
   "id": "f306a21c",
   "metadata": {},
   "source": [
    "## Preprocessing"
   ]
  },
  {
   "cell_type": "markdown",
   "id": "57030f39",
   "metadata": {},
   "source": [
    "### 1. Data Cleaning"
   ]
  },
  {
   "cell_type": "code",
   "execution_count": 5,
   "id": "792e3db5",
   "metadata": {},
   "outputs": [
    {
     "data": {
      "text/plain": [
       "0"
      ]
     },
     "execution_count": 5,
     "metadata": {},
     "output_type": "execute_result"
    }
   ],
   "source": [
    "# number of duplicates\n",
    "df.duplicated().sum()"
   ]
  },
  {
   "cell_type": "code",
   "execution_count": 6,
   "id": "7f3e7e4c",
   "metadata": {},
   "outputs": [
    {
     "data": {
      "text/plain": [
       "cg1333326    0\n",
       "cg2448569    0\n",
       "cg0144328    0\n",
       "cg2628069    0\n",
       "cg1455721    0\n",
       "            ..\n",
       "cg2624275    0\n",
       "cg0801732    0\n",
       "cg0267012    0\n",
       "cg1897117    0\n",
       "Subtype      0\n",
       "Length: 201, dtype: int64"
      ]
     },
     "execution_count": 6,
     "metadata": {},
     "output_type": "execute_result"
    }
   ],
   "source": [
    "df.isnull().sum()"
   ]
  },
  {
   "cell_type": "code",
   "execution_count": 7,
   "id": "750c94cb",
   "metadata": {},
   "outputs": [
    {
     "data": {
      "text/plain": [
       "0"
      ]
     },
     "execution_count": 7,
     "metadata": {},
     "output_type": "execute_result"
    }
   ],
   "source": [
    "# Count the null values containing features\n",
    "n=(df.isnull().sum()>0).sum()\n",
    "n"
   ]
  },
  {
   "cell_type": "code",
   "execution_count": 8,
   "id": "e8ed831d",
   "metadata": {},
   "outputs": [
    {
     "name": "stdout",
     "output_type": "stream",
     "text": [
      "Count of zeros\n",
      "\t Subtype  :  480\n"
     ]
    }
   ],
   "source": [
    "print('Count of zeros')\n",
    "for column_name in df.columns:\n",
    "    column = df[column_name]\n",
    "    # Get the count of Zeros in column \n",
    "    count = (column == 0).sum()\n",
    "    if(count>0):\n",
    "        print('\\t', column_name, ' : ', count)"
   ]
  },
  {
   "cell_type": "markdown",
   "id": "eddc63eb",
   "metadata": {},
   "source": [
    "### 2. Feature Selection - Pearson correlation coefficient"
   ]
  },
  {
   "cell_type": "code",
   "execution_count": 9,
   "id": "6213b5a7",
   "metadata": {
    "scrolled": true
   },
   "outputs": [
    {
     "data": {
      "text/html": [
       "<div>\n",
       "<style scoped>\n",
       "    .dataframe tbody tr th:only-of-type {\n",
       "        vertical-align: middle;\n",
       "    }\n",
       "\n",
       "    .dataframe tbody tr th {\n",
       "        vertical-align: top;\n",
       "    }\n",
       "\n",
       "    .dataframe thead th {\n",
       "        text-align: right;\n",
       "    }\n",
       "</style>\n",
       "<table border=\"1\" class=\"dataframe\">\n",
       "  <thead>\n",
       "    <tr style=\"text-align: right;\">\n",
       "      <th></th>\n",
       "      <th>cg1333326</th>\n",
       "      <th>cg2448569</th>\n",
       "      <th>cg0144328</th>\n",
       "      <th>cg2628069</th>\n",
       "      <th>cg1455721</th>\n",
       "      <th>cg2385613</th>\n",
       "      <th>cg0098598</th>\n",
       "      <th>cg1620951</th>\n",
       "      <th>cg0031889</th>\n",
       "      <th>cg1345860</th>\n",
       "      <th>...</th>\n",
       "      <th>cg2765249</th>\n",
       "      <th>cg1824196</th>\n",
       "      <th>cg1624843</th>\n",
       "      <th>cg2430515</th>\n",
       "      <th>cg1134053</th>\n",
       "      <th>cg2624275</th>\n",
       "      <th>cg0801732</th>\n",
       "      <th>cg0267012</th>\n",
       "      <th>cg1897117</th>\n",
       "      <th>Subtype</th>\n",
       "    </tr>\n",
       "  </thead>\n",
       "  <tbody>\n",
       "    <tr>\n",
       "      <th>cg1333326</th>\n",
       "      <td>1.000000</td>\n",
       "      <td>0.703996</td>\n",
       "      <td>0.636627</td>\n",
       "      <td>0.765603</td>\n",
       "      <td>0.883176</td>\n",
       "      <td>0.574947</td>\n",
       "      <td>0.756123</td>\n",
       "      <td>0.807576</td>\n",
       "      <td>0.776835</td>\n",
       "      <td>0.804568</td>\n",
       "      <td>...</td>\n",
       "      <td>0.835735</td>\n",
       "      <td>0.629114</td>\n",
       "      <td>0.852493</td>\n",
       "      <td>0.683310</td>\n",
       "      <td>0.802339</td>\n",
       "      <td>0.754419</td>\n",
       "      <td>0.772093</td>\n",
       "      <td>0.840975</td>\n",
       "      <td>0.753386</td>\n",
       "      <td>-0.280631</td>\n",
       "    </tr>\n",
       "    <tr>\n",
       "      <th>cg2448569</th>\n",
       "      <td>0.703996</td>\n",
       "      <td>1.000000</td>\n",
       "      <td>0.457124</td>\n",
       "      <td>0.591343</td>\n",
       "      <td>0.626119</td>\n",
       "      <td>0.672661</td>\n",
       "      <td>0.677646</td>\n",
       "      <td>0.870636</td>\n",
       "      <td>0.773842</td>\n",
       "      <td>0.837688</td>\n",
       "      <td>...</td>\n",
       "      <td>0.716713</td>\n",
       "      <td>0.577206</td>\n",
       "      <td>0.593996</td>\n",
       "      <td>0.629185</td>\n",
       "      <td>0.805002</td>\n",
       "      <td>0.547733</td>\n",
       "      <td>0.799793</td>\n",
       "      <td>0.746241</td>\n",
       "      <td>0.849790</td>\n",
       "      <td>-0.021518</td>\n",
       "    </tr>\n",
       "    <tr>\n",
       "      <th>cg0144328</th>\n",
       "      <td>0.636627</td>\n",
       "      <td>0.457124</td>\n",
       "      <td>1.000000</td>\n",
       "      <td>0.652570</td>\n",
       "      <td>0.676585</td>\n",
       "      <td>0.659734</td>\n",
       "      <td>0.691846</td>\n",
       "      <td>0.447344</td>\n",
       "      <td>0.608537</td>\n",
       "      <td>0.556172</td>\n",
       "      <td>...</td>\n",
       "      <td>0.611245</td>\n",
       "      <td>0.709990</td>\n",
       "      <td>0.701226</td>\n",
       "      <td>0.712128</td>\n",
       "      <td>0.543317</td>\n",
       "      <td>0.772851</td>\n",
       "      <td>0.572638</td>\n",
       "      <td>0.589133</td>\n",
       "      <td>0.457176</td>\n",
       "      <td>0.035869</td>\n",
       "    </tr>\n",
       "    <tr>\n",
       "      <th>cg2628069</th>\n",
       "      <td>0.765603</td>\n",
       "      <td>0.591343</td>\n",
       "      <td>0.652570</td>\n",
       "      <td>1.000000</td>\n",
       "      <td>0.731752</td>\n",
       "      <td>0.546090</td>\n",
       "      <td>0.730275</td>\n",
       "      <td>0.645708</td>\n",
       "      <td>0.652094</td>\n",
       "      <td>0.673344</td>\n",
       "      <td>...</td>\n",
       "      <td>0.723800</td>\n",
       "      <td>0.600017</td>\n",
       "      <td>0.774070</td>\n",
       "      <td>0.622743</td>\n",
       "      <td>0.687561</td>\n",
       "      <td>0.684567</td>\n",
       "      <td>0.666865</td>\n",
       "      <td>0.678553</td>\n",
       "      <td>0.599050</td>\n",
       "      <td>-0.188500</td>\n",
       "    </tr>\n",
       "    <tr>\n",
       "      <th>cg1455721</th>\n",
       "      <td>0.883176</td>\n",
       "      <td>0.626119</td>\n",
       "      <td>0.676585</td>\n",
       "      <td>0.731752</td>\n",
       "      <td>1.000000</td>\n",
       "      <td>0.534256</td>\n",
       "      <td>0.755094</td>\n",
       "      <td>0.736023</td>\n",
       "      <td>0.739483</td>\n",
       "      <td>0.742300</td>\n",
       "      <td>...</td>\n",
       "      <td>0.784889</td>\n",
       "      <td>0.640885</td>\n",
       "      <td>0.870753</td>\n",
       "      <td>0.619516</td>\n",
       "      <td>0.783804</td>\n",
       "      <td>0.777998</td>\n",
       "      <td>0.745201</td>\n",
       "      <td>0.797417</td>\n",
       "      <td>0.669815</td>\n",
       "      <td>-0.279800</td>\n",
       "    </tr>\n",
       "    <tr>\n",
       "      <th>...</th>\n",
       "      <td>...</td>\n",
       "      <td>...</td>\n",
       "      <td>...</td>\n",
       "      <td>...</td>\n",
       "      <td>...</td>\n",
       "      <td>...</td>\n",
       "      <td>...</td>\n",
       "      <td>...</td>\n",
       "      <td>...</td>\n",
       "      <td>...</td>\n",
       "      <td>...</td>\n",
       "      <td>...</td>\n",
       "      <td>...</td>\n",
       "      <td>...</td>\n",
       "      <td>...</td>\n",
       "      <td>...</td>\n",
       "      <td>...</td>\n",
       "      <td>...</td>\n",
       "      <td>...</td>\n",
       "      <td>...</td>\n",
       "      <td>...</td>\n",
       "    </tr>\n",
       "    <tr>\n",
       "      <th>cg2624275</th>\n",
       "      <td>0.754419</td>\n",
       "      <td>0.547733</td>\n",
       "      <td>0.772851</td>\n",
       "      <td>0.684567</td>\n",
       "      <td>0.777998</td>\n",
       "      <td>0.559682</td>\n",
       "      <td>0.715382</td>\n",
       "      <td>0.594101</td>\n",
       "      <td>0.690947</td>\n",
       "      <td>0.650565</td>\n",
       "      <td>...</td>\n",
       "      <td>0.712306</td>\n",
       "      <td>0.627730</td>\n",
       "      <td>0.758222</td>\n",
       "      <td>0.628401</td>\n",
       "      <td>0.636844</td>\n",
       "      <td>1.000000</td>\n",
       "      <td>0.609362</td>\n",
       "      <td>0.697247</td>\n",
       "      <td>0.570675</td>\n",
       "      <td>-0.085365</td>\n",
       "    </tr>\n",
       "    <tr>\n",
       "      <th>cg0801732</th>\n",
       "      <td>0.772093</td>\n",
       "      <td>0.799793</td>\n",
       "      <td>0.572638</td>\n",
       "      <td>0.666865</td>\n",
       "      <td>0.745201</td>\n",
       "      <td>0.669025</td>\n",
       "      <td>0.744077</td>\n",
       "      <td>0.812835</td>\n",
       "      <td>0.774126</td>\n",
       "      <td>0.821979</td>\n",
       "      <td>...</td>\n",
       "      <td>0.727125</td>\n",
       "      <td>0.693235</td>\n",
       "      <td>0.690976</td>\n",
       "      <td>0.746984</td>\n",
       "      <td>0.814974</td>\n",
       "      <td>0.609362</td>\n",
       "      <td>1.000000</td>\n",
       "      <td>0.727780</td>\n",
       "      <td>0.796535</td>\n",
       "      <td>-0.089278</td>\n",
       "    </tr>\n",
       "    <tr>\n",
       "      <th>cg0267012</th>\n",
       "      <td>0.840975</td>\n",
       "      <td>0.746241</td>\n",
       "      <td>0.589133</td>\n",
       "      <td>0.678553</td>\n",
       "      <td>0.797417</td>\n",
       "      <td>0.584610</td>\n",
       "      <td>0.722429</td>\n",
       "      <td>0.812399</td>\n",
       "      <td>0.799892</td>\n",
       "      <td>0.831294</td>\n",
       "      <td>...</td>\n",
       "      <td>0.787707</td>\n",
       "      <td>0.588205</td>\n",
       "      <td>0.757016</td>\n",
       "      <td>0.600372</td>\n",
       "      <td>0.821957</td>\n",
       "      <td>0.697247</td>\n",
       "      <td>0.727780</td>\n",
       "      <td>1.000000</td>\n",
       "      <td>0.786140</td>\n",
       "      <td>-0.181622</td>\n",
       "    </tr>\n",
       "    <tr>\n",
       "      <th>cg1897117</th>\n",
       "      <td>0.753386</td>\n",
       "      <td>0.849790</td>\n",
       "      <td>0.457176</td>\n",
       "      <td>0.599050</td>\n",
       "      <td>0.669815</td>\n",
       "      <td>0.642906</td>\n",
       "      <td>0.680522</td>\n",
       "      <td>0.872526</td>\n",
       "      <td>0.836749</td>\n",
       "      <td>0.874896</td>\n",
       "      <td>...</td>\n",
       "      <td>0.712454</td>\n",
       "      <td>0.610092</td>\n",
       "      <td>0.597201</td>\n",
       "      <td>0.625921</td>\n",
       "      <td>0.817560</td>\n",
       "      <td>0.570675</td>\n",
       "      <td>0.796535</td>\n",
       "      <td>0.786140</td>\n",
       "      <td>1.000000</td>\n",
       "      <td>-0.045709</td>\n",
       "    </tr>\n",
       "    <tr>\n",
       "      <th>Subtype</th>\n",
       "      <td>-0.280631</td>\n",
       "      <td>-0.021518</td>\n",
       "      <td>0.035869</td>\n",
       "      <td>-0.188500</td>\n",
       "      <td>-0.279800</td>\n",
       "      <td>0.342933</td>\n",
       "      <td>-0.082413</td>\n",
       "      <td>-0.171289</td>\n",
       "      <td>-0.020318</td>\n",
       "      <td>-0.112283</td>\n",
       "      <td>...</td>\n",
       "      <td>-0.111397</td>\n",
       "      <td>0.267623</td>\n",
       "      <td>-0.245171</td>\n",
       "      <td>0.163425</td>\n",
       "      <td>-0.214456</td>\n",
       "      <td>-0.085365</td>\n",
       "      <td>-0.089278</td>\n",
       "      <td>-0.181622</td>\n",
       "      <td>-0.045709</td>\n",
       "      <td>1.000000</td>\n",
       "    </tr>\n",
       "  </tbody>\n",
       "</table>\n",
       "<p>201 rows × 201 columns</p>\n",
       "</div>"
      ],
      "text/plain": [
       "           cg1333326  cg2448569  cg0144328  cg2628069  cg1455721  cg2385613  \\\n",
       "cg1333326   1.000000   0.703996   0.636627   0.765603   0.883176   0.574947   \n",
       "cg2448569   0.703996   1.000000   0.457124   0.591343   0.626119   0.672661   \n",
       "cg0144328   0.636627   0.457124   1.000000   0.652570   0.676585   0.659734   \n",
       "cg2628069   0.765603   0.591343   0.652570   1.000000   0.731752   0.546090   \n",
       "cg1455721   0.883176   0.626119   0.676585   0.731752   1.000000   0.534256   \n",
       "...              ...        ...        ...        ...        ...        ...   \n",
       "cg2624275   0.754419   0.547733   0.772851   0.684567   0.777998   0.559682   \n",
       "cg0801732   0.772093   0.799793   0.572638   0.666865   0.745201   0.669025   \n",
       "cg0267012   0.840975   0.746241   0.589133   0.678553   0.797417   0.584610   \n",
       "cg1897117   0.753386   0.849790   0.457176   0.599050   0.669815   0.642906   \n",
       "Subtype    -0.280631  -0.021518   0.035869  -0.188500  -0.279800   0.342933   \n",
       "\n",
       "           cg0098598  cg1620951  cg0031889  cg1345860  ...  cg2765249  \\\n",
       "cg1333326   0.756123   0.807576   0.776835   0.804568  ...   0.835735   \n",
       "cg2448569   0.677646   0.870636   0.773842   0.837688  ...   0.716713   \n",
       "cg0144328   0.691846   0.447344   0.608537   0.556172  ...   0.611245   \n",
       "cg2628069   0.730275   0.645708   0.652094   0.673344  ...   0.723800   \n",
       "cg1455721   0.755094   0.736023   0.739483   0.742300  ...   0.784889   \n",
       "...              ...        ...        ...        ...  ...        ...   \n",
       "cg2624275   0.715382   0.594101   0.690947   0.650565  ...   0.712306   \n",
       "cg0801732   0.744077   0.812835   0.774126   0.821979  ...   0.727125   \n",
       "cg0267012   0.722429   0.812399   0.799892   0.831294  ...   0.787707   \n",
       "cg1897117   0.680522   0.872526   0.836749   0.874896  ...   0.712454   \n",
       "Subtype    -0.082413  -0.171289  -0.020318  -0.112283  ...  -0.111397   \n",
       "\n",
       "           cg1824196  cg1624843  cg2430515  cg1134053  cg2624275  cg0801732  \\\n",
       "cg1333326   0.629114   0.852493   0.683310   0.802339   0.754419   0.772093   \n",
       "cg2448569   0.577206   0.593996   0.629185   0.805002   0.547733   0.799793   \n",
       "cg0144328   0.709990   0.701226   0.712128   0.543317   0.772851   0.572638   \n",
       "cg2628069   0.600017   0.774070   0.622743   0.687561   0.684567   0.666865   \n",
       "cg1455721   0.640885   0.870753   0.619516   0.783804   0.777998   0.745201   \n",
       "...              ...        ...        ...        ...        ...        ...   \n",
       "cg2624275   0.627730   0.758222   0.628401   0.636844   1.000000   0.609362   \n",
       "cg0801732   0.693235   0.690976   0.746984   0.814974   0.609362   1.000000   \n",
       "cg0267012   0.588205   0.757016   0.600372   0.821957   0.697247   0.727780   \n",
       "cg1897117   0.610092   0.597201   0.625921   0.817560   0.570675   0.796535   \n",
       "Subtype     0.267623  -0.245171   0.163425  -0.214456  -0.085365  -0.089278   \n",
       "\n",
       "           cg0267012  cg1897117   Subtype  \n",
       "cg1333326   0.840975   0.753386 -0.280631  \n",
       "cg2448569   0.746241   0.849790 -0.021518  \n",
       "cg0144328   0.589133   0.457176  0.035869  \n",
       "cg2628069   0.678553   0.599050 -0.188500  \n",
       "cg1455721   0.797417   0.669815 -0.279800  \n",
       "...              ...        ...       ...  \n",
       "cg2624275   0.697247   0.570675 -0.085365  \n",
       "cg0801732   0.727780   0.796535 -0.089278  \n",
       "cg0267012   1.000000   0.786140 -0.181622  \n",
       "cg1897117   0.786140   1.000000 -0.045709  \n",
       "Subtype    -0.181622  -0.045709  1.000000  \n",
       "\n",
       "[201 rows x 201 columns]"
      ]
     },
     "execution_count": 9,
     "metadata": {},
     "output_type": "execute_result"
    }
   ],
   "source": [
    "#  use Pearson correlation coefficient to find the best features\n",
    "cor = df.corr(method='pearson')\n",
    "cor"
   ]
  },
  {
   "cell_type": "code",
   "execution_count": 10,
   "id": "2fa6434c",
   "metadata": {
    "scrolled": false
   },
   "outputs": [
    {
     "data": {
      "text/plain": [
       "cg1468933  cg1260869    0.945757\n",
       "cg2009721  cg1754233    0.943591\n",
       "cg1620951  cg2009721    0.941084\n",
       "cg2466300  cg0253179    0.940532\n",
       "cg2068437  cg1629966    0.937378\n",
       "                          ...   \n",
       "cg1333326  cg1629966    0.900914\n",
       "cg0714598  cg1333326    0.900801\n",
       "cg2009721  cg1165704    0.900596\n",
       "cg2541784  cg1009041    0.900579\n",
       "cg2519589  cg1333326    0.900284\n",
       "Length: 92, dtype: float64"
      ]
     },
     "execution_count": 10,
     "metadata": {},
     "output_type": "execute_result"
    }
   ],
   "source": [
    "c1 = cor.stack().sort_values(ascending=False).drop_duplicates()\n",
    "high_cor = c1[c1.values!=1]    \n",
    "high_cor[high_cor>0.9]"
   ]
  },
  {
   "cell_type": "code",
   "execution_count": 11,
   "id": "1668e54f",
   "metadata": {},
   "outputs": [],
   "source": [
    "# MultiIndex into temp file\n",
    "temp= high_cor[high_cor>0.9].index"
   ]
  },
  {
   "cell_type": "code",
   "execution_count": 12,
   "id": "220ab070",
   "metadata": {},
   "outputs": [],
   "source": [
    "# temp set for store features which are high correlated\n",
    "tset=set()"
   ]
  },
  {
   "cell_type": "code",
   "execution_count": 13,
   "id": "d9c2655a",
   "metadata": {},
   "outputs": [],
   "source": [
    "for i in range(temp.size):\n",
    "    tset.add(temp[i][0])"
   ]
  },
  {
   "cell_type": "code",
   "execution_count": 14,
   "id": "9cfef397",
   "metadata": {
    "scrolled": true
   },
   "outputs": [
    {
     "data": {
      "text/plain": [
       "37"
      ]
     },
     "execution_count": 14,
     "metadata": {},
     "output_type": "execute_result"
    }
   ],
   "source": [
    "len(tset)"
   ]
  },
  {
   "cell_type": "code",
   "execution_count": 15,
   "id": "7b825600",
   "metadata": {},
   "outputs": [
    {
     "data": {
      "text/plain": [
       "{'cg0093751',\n",
       " 'cg0095282',\n",
       " 'cg0103341',\n",
       " 'cg0115714',\n",
       " 'cg0195430',\n",
       " 'cg0663891',\n",
       " 'cg0666533',\n",
       " 'cg0714598',\n",
       " 'cg0733846',\n",
       " 'cg0834842',\n",
       " 'cg0859706',\n",
       " 'cg1009041',\n",
       " 'cg1165704',\n",
       " 'cg1182264',\n",
       " 'cg1333326',\n",
       " 'cg1345860',\n",
       " 'cg1407833',\n",
       " 'cg1468933',\n",
       " 'cg1519962',\n",
       " 'cg1561875',\n",
       " 'cg1612242',\n",
       " 'cg1620951',\n",
       " 'cg1629966',\n",
       " 'cg1715891',\n",
       " 'cg1754233',\n",
       " 'cg1790158',\n",
       " 'cg1897117',\n",
       " 'cg2009721',\n",
       " 'cg2068437',\n",
       " 'cg2181533',\n",
       " 'cg2233076',\n",
       " 'cg2362287',\n",
       " 'cg2391829',\n",
       " 'cg2466300',\n",
       " 'cg2486424',\n",
       " 'cg2519589',\n",
       " 'cg2541784'}"
      ]
     },
     "execution_count": 15,
     "metadata": {},
     "output_type": "execute_result"
    }
   ],
   "source": [
    "tset"
   ]
  },
  {
   "cell_type": "code",
   "execution_count": 16,
   "id": "ebc8c109",
   "metadata": {
    "scrolled": true
   },
   "outputs": [],
   "source": [
    "# drop highly correlated features  \n",
    "df= df.drop(tset,axis=1)"
   ]
  },
  {
   "cell_type": "code",
   "execution_count": 17,
   "id": "6d29bf03",
   "metadata": {},
   "outputs": [
    {
     "data": {
      "text/plain": [
       "(867, 164)"
      ]
     },
     "execution_count": 17,
     "metadata": {},
     "output_type": "execute_result"
    }
   ],
   "source": [
    "# after removing more corelated features\n",
    "df.shape"
   ]
  },
  {
   "cell_type": "code",
   "execution_count": 18,
   "id": "68a81285",
   "metadata": {},
   "outputs": [],
   "source": [
    "cor = df.corr(method='pearson')"
   ]
  },
  {
   "cell_type": "code",
   "execution_count": 19,
   "id": "2e153133",
   "metadata": {},
   "outputs": [
    {
     "data": {
      "text/plain": [
       "cg2448569    0.021518\n",
       "cg0144328    0.035869\n",
       "cg2628069    0.188500\n",
       "cg1455721    0.279800\n",
       "cg2385613    0.342933\n",
       "               ...   \n",
       "cg1134053    0.214456\n",
       "cg2624275    0.085365\n",
       "cg0801732    0.089278\n",
       "cg0267012    0.181622\n",
       "Subtype      1.000000\n",
       "Name: Subtype, Length: 164, dtype: float64"
      ]
     },
     "execution_count": 19,
     "metadata": {},
     "output_type": "execute_result"
    }
   ],
   "source": [
    "#correlation of variables with the target variable\n",
    "cor_target = abs(cor[\"Subtype\"])\n",
    "cor_target"
   ]
  },
  {
   "cell_type": "code",
   "execution_count": 20,
   "id": "51f580b9",
   "metadata": {
    "scrolled": false
   },
   "outputs": [
    {
     "data": {
      "text/plain": [
       "cg2543676    0.085302\n",
       "cg2624275    0.085365\n",
       "cg0819084    0.088844\n",
       "cg0801732    0.089278\n",
       "cg1041959    0.089706\n",
       "               ...   \n",
       "cg1587137    0.401576\n",
       "cg1655166    0.403001\n",
       "cg2178678    0.548097\n",
       "cg0020480    0.609387\n",
       "cg1543165    0.641748\n",
       "Name: Subtype, Length: 100, dtype: float64"
      ]
     },
     "execution_count": 20,
     "metadata": {},
     "output_type": "execute_result"
    }
   ],
   "source": [
    "#first 100 features with high correlation\n",
    "high_cor_100=cor_target.iloc[cor_target.argsort()[-101:-1]]\n",
    "high_cor_100"
   ]
  },
  {
   "cell_type": "code",
   "execution_count": 21,
   "id": "6437fb13",
   "metadata": {
    "scrolled": true
   },
   "outputs": [
    {
     "data": {
      "text/plain": [
       "(867, 100)"
      ]
     },
     "execution_count": 21,
     "metadata": {},
     "output_type": "execute_result"
    }
   ],
   "source": [
    "# select 100 features\n",
    "selected_100_x = df[high_cor_100.index]\n",
    "selected_100_x.shape"
   ]
  },
  {
   "cell_type": "code",
   "execution_count": 22,
   "id": "bdbb2664",
   "metadata": {},
   "outputs": [
    {
     "data": {
      "text/plain": [
       "(867, 50)"
      ]
     },
     "execution_count": 22,
     "metadata": {},
     "output_type": "execute_result"
    }
   ],
   "source": [
    "#first 50 features with high correlation\n",
    "high_cor_50=cor_target.iloc[cor_target.argsort()[-51:-1]]\n",
    "\n",
    "# select 50 features\n",
    "selected_50_x = df[high_cor_50.index]\n",
    "selected_50_x.shape"
   ]
  },
  {
   "cell_type": "code",
   "execution_count": 23,
   "id": "c93e25fa",
   "metadata": {},
   "outputs": [
    {
     "data": {
      "text/plain": [
       "(867, 20)"
      ]
     },
     "execution_count": 23,
     "metadata": {},
     "output_type": "execute_result"
    }
   ],
   "source": [
    "#first 20 features with high correlation\n",
    "high_cor_20=cor_target.iloc[cor_target.argsort()[-21:-1]]\n",
    "\n",
    "# select 20 features\n",
    "selected_20_x = df[high_cor_20.index]\n",
    "selected_20_x.shape"
   ]
  },
  {
   "cell_type": "markdown",
   "id": "474e8fcd",
   "metadata": {},
   "source": [
    "### 3.Dataset balancing"
   ]
  },
  {
   "cell_type": "code",
   "execution_count": 24,
   "id": "a5e6c487",
   "metadata": {
    "scrolled": true
   },
   "outputs": [
    {
     "data": {
      "text/plain": [
       "0.0    480\n",
       "1.0    321\n",
       "2.0     66\n",
       "Name: Subtype, dtype: int64"
      ]
     },
     "execution_count": 24,
     "metadata": {},
     "output_type": "execute_result"
    }
   ],
   "source": [
    "df['Subtype'].value_counts()"
   ]
  },
  {
   "cell_type": "markdown",
   "id": "16d5f474",
   "metadata": {},
   "source": [
    "- Dataset is unbalance"
   ]
  },
  {
   "cell_type": "markdown",
   "id": "d5d354dc",
   "metadata": {},
   "source": [
    "#### Oversampling amd undersampling"
   ]
  },
  {
   "cell_type": "code",
   "execution_count": 25,
   "id": "cdce4e91",
   "metadata": {},
   "outputs": [],
   "source": [
    "from imblearn.under_sampling import RandomUnderSampler\n",
    "from imblearn.over_sampling import RandomOverSampler\n",
    "\n",
    "# Resampling the minority class.\n",
    "ros = RandomOverSampler(sampling_strategy={2: 100}, random_state=42)\n",
    "\n",
    "# Resampling the majority classes.\n",
    "rus = RandomUnderSampler(sampling_strategy={0: 100,1:100}, random_state=42)"
   ]
  },
  {
   "cell_type": "code",
   "execution_count": 26,
   "id": "6dfacef2",
   "metadata": {},
   "outputs": [],
   "source": [
    "Y=df['Subtype']"
   ]
  },
  {
   "cell_type": "code",
   "execution_count": 27,
   "id": "a59fd50d",
   "metadata": {},
   "outputs": [],
   "source": [
    "x=df.drop(['Subtype'], axis=1)"
   ]
  },
  {
   "cell_type": "code",
   "execution_count": 28,
   "id": "fc1158c8",
   "metadata": {},
   "outputs": [],
   "source": [
    "# Fit the model to generate the data with all features dataset\n",
    "oversampled_X, oversampled_Y = ros.fit_resample(x, Y)\n",
    "sampled_X, sampled_Y = rus.fit_resample(oversampled_X, oversampled_Y)"
   ]
  },
  {
   "cell_type": "code",
   "execution_count": 29,
   "id": "86689919",
   "metadata": {},
   "outputs": [],
   "source": [
    "# Fit the model to generate the data with 100 features dataset\n",
    "oversampled_X_100, oversampled_Y = ros.fit_resample(selected_100_x, Y)\n",
    "sampled_X_100, sampled_Y = rus.fit_resample(oversampled_X_100, oversampled_Y)"
   ]
  },
  {
   "cell_type": "code",
   "execution_count": 30,
   "id": "3fa40bf3",
   "metadata": {},
   "outputs": [],
   "source": [
    "# Fit the model to generate the data with 50 features dataset\n",
    "oversampled_X_50, oversampled_Y = ros.fit_resample(selected_50_x, Y)\n",
    "sampled_X_50, sampled_Y = rus.fit_resample(oversampled_X_50, oversampled_Y)"
   ]
  },
  {
   "cell_type": "code",
   "execution_count": 31,
   "id": "a6d6dd9f",
   "metadata": {},
   "outputs": [],
   "source": [
    "# Fit the model to generate the data with 20 features dataset\n",
    "oversampled_X_20, oversampled_Y = ros.fit_resample(selected_20_x, Y)\n",
    "sampled_X_20, sampled_Y = rus.fit_resample(oversampled_X_20, oversampled_Y)"
   ]
  },
  {
   "cell_type": "code",
   "execution_count": 32,
   "id": "ab9ec62a",
   "metadata": {},
   "outputs": [
    {
     "data": {
      "text/plain": [
       "0.0    100\n",
       "2.0    100\n",
       "1.0    100\n",
       "Name: Subtype, dtype: int64"
      ]
     },
     "execution_count": 32,
     "metadata": {},
     "output_type": "execute_result"
    }
   ],
   "source": [
    "sampled_Y.value_counts()"
   ]
  },
  {
   "cell_type": "markdown",
   "id": "3fd59a36",
   "metadata": {},
   "source": [
    "- balanced dataset"
   ]
  },
  {
   "cell_type": "markdown",
   "id": "f97636b0",
   "metadata": {},
   "source": [
    "### 4. Feature Scaling"
   ]
  },
  {
   "cell_type": "code",
   "execution_count": 33,
   "id": "5b8d859f",
   "metadata": {
    "scrolled": false
   },
   "outputs": [
    {
     "data": {
      "text/plain": [
       "cg2448569    0.0400\n",
       "cg0144328    0.0606\n",
       "cg2628069    0.1134\n",
       "cg1455721    0.0912\n",
       "cg2385613    0.0281\n",
       "              ...  \n",
       "cg2430515    0.0777\n",
       "cg1134053    0.0544\n",
       "cg2624275    0.0581\n",
       "cg0801732    0.0813\n",
       "cg0267012    0.0290\n",
       "Length: 163, dtype: float64"
      ]
     },
     "execution_count": 33,
     "metadata": {},
     "output_type": "execute_result"
    }
   ],
   "source": [
    "sampled_X.min(axis=0)"
   ]
  },
  {
   "cell_type": "code",
   "execution_count": 34,
   "id": "da3c0520",
   "metadata": {
    "scrolled": true
   },
   "outputs": [
    {
     "data": {
      "text/plain": [
       "cg2448569    0.9488\n",
       "cg0144328    0.9364\n",
       "cg2628069    0.9368\n",
       "cg1455721    0.9120\n",
       "cg2385613    0.8805\n",
       "              ...  \n",
       "cg2430515    0.8748\n",
       "cg1134053    0.9627\n",
       "cg2624275    0.9507\n",
       "cg0801732    0.9550\n",
       "cg0267012    0.9752\n",
       "Length: 163, dtype: float64"
      ]
     },
     "execution_count": 34,
     "metadata": {},
     "output_type": "execute_result"
    }
   ],
   "source": [
    "sampled_X.max(axis=0)"
   ]
  },
  {
   "cell_type": "markdown",
   "id": "438106ba",
   "metadata": {},
   "source": [
    "## Test SVM model"
   ]
  },
  {
   "cell_type": "code",
   "execution_count": 35,
   "id": "abab92ff",
   "metadata": {},
   "outputs": [],
   "source": [
    "from sklearn import svm\n",
    "from sklearn.model_selection import cross_val_score"
   ]
  },
  {
   "cell_type": "markdown",
   "id": "08606e6d",
   "metadata": {},
   "source": [
    "#### Check the kernels in SVM "
   ]
  },
  {
   "cell_type": "code",
   "execution_count": 36,
   "id": "6f592f99",
   "metadata": {
    "scrolled": true
   },
   "outputs": [
    {
     "name": "stdout",
     "output_type": "stream",
     "text": [
      "Accuracy SVM with rbf kernel: 0.90 (+/- 0.06)\n"
     ]
    }
   ],
   "source": [
    "acc = cross_val_score(svm.SVC(random_state=0), sampled_X, sampled_Y, cv=5)\n",
    "print(\"Accuracy SVM with rbf kernel: %0.2f (+/- %0.2f)\" % (acc.mean(), acc.std() * 2))"
   ]
  },
  {
   "cell_type": "code",
   "execution_count": 37,
   "id": "d0655027",
   "metadata": {},
   "outputs": [
    {
     "name": "stdout",
     "output_type": "stream",
     "text": [
      "Accuracy SVM with poly kernel: 0.92 (+/- 0.08)\n"
     ]
    }
   ],
   "source": [
    "acc = cross_val_score(svm.SVC(kernel='poly',random_state=0), sampled_X, sampled_Y, cv=5)\n",
    "print(\"Accuracy SVM with poly kernel: %0.2f (+/- %0.2f)\" % (acc.mean(), acc.std() * 2))"
   ]
  },
  {
   "cell_type": "code",
   "execution_count": 38,
   "id": "d374c201",
   "metadata": {},
   "outputs": [
    {
     "name": "stdout",
     "output_type": "stream",
     "text": [
      "Accuracy SVM with linear kernel: 0.92 (+/- 0.08)\n"
     ]
    }
   ],
   "source": [
    "acc = cross_val_score(svm.SVC(kernel='linear',random_state=0), sampled_X, sampled_Y, cv=5)\n",
    "print(\"Accuracy SVM with linear kernel: %0.2f (+/- %0.2f)\" % (acc.mean(), acc.std() * 2))"
   ]
  },
  {
   "cell_type": "code",
   "execution_count": 39,
   "id": "1e7fb679",
   "metadata": {},
   "outputs": [
    {
     "name": "stdout",
     "output_type": "stream",
     "text": [
      "Accuracy SVM with sigmoid kernel: 0.18 (+/- 0.12)\n"
     ]
    }
   ],
   "source": [
    "acc = cross_val_score(svm.SVC(kernel='sigmoid',random_state=0), sampled_X, sampled_Y, cv=5)\n",
    "print(\"Accuracy SVM with sigmoid kernel: %0.2f (+/- %0.2f)\" % (acc.mean(), acc.std() * 2))"
   ]
  },
  {
   "cell_type": "markdown",
   "id": "0b372943",
   "metadata": {},
   "source": [
    "- Both poly and linear performed well"
   ]
  },
  {
   "cell_type": "markdown",
   "id": "7bcc6963",
   "metadata": {},
   "source": [
    "#### Check the feature scaling method to SVM"
   ]
  },
  {
   "cell_type": "markdown",
   "id": "fb31ff38",
   "metadata": {},
   "source": [
    "Liner Kernal"
   ]
  },
  {
   "cell_type": "code",
   "execution_count": 40,
   "id": "4ac050e3",
   "metadata": {},
   "outputs": [],
   "source": [
    "from sklearn.pipeline import Pipeline\n",
    "from sklearn.preprocessing import StandardScaler\n",
    "from sklearn import preprocessing"
   ]
  },
  {
   "cell_type": "code",
   "execution_count": 41,
   "id": "7c25dbb3",
   "metadata": {},
   "outputs": [],
   "source": [
    "svc=svm.SVC(kernel='linear', random_state=0)"
   ]
  },
  {
   "cell_type": "code",
   "execution_count": 42,
   "id": "8eb9c5d4",
   "metadata": {},
   "outputs": [
    {
     "name": "stdout",
     "output_type": "stream",
     "text": [
      "Accuracy SVM without transformation: 0.92 (+/- 0.08)\n"
     ]
    }
   ],
   "source": [
    "acc = cross_val_score(svc, sampled_X, sampled_Y, cv=5)\n",
    "print(\"Accuracy SVM without transformation: %0.2f (+/- %0.2f)\" % (acc.mean(), acc.std() * 2))"
   ]
  },
  {
   "cell_type": "code",
   "execution_count": 43,
   "id": "394df196",
   "metadata": {},
   "outputs": [
    {
     "name": "stdout",
     "output_type": "stream",
     "text": [
      "Accuracy SVM with Standardization: 0.93 (+/- 0.08)\n"
     ]
    }
   ],
   "source": [
    "# create pipeline -> Standardization\n",
    "pipeline = Pipeline(steps=[('scaler', StandardScaler()),\n",
    "                   ('model',svc)])\n",
    "\n",
    "# perform cross validation\n",
    "acc = cross_val_score(estimator=pipeline, X=sampled_X, y=sampled_Y, cv=5)\n",
    "\n",
    "print(\"Accuracy SVM with Standardization: %0.2f (+/- %0.2f)\" % (acc.mean(), acc.std() * 2))"
   ]
  },
  {
   "cell_type": "code",
   "execution_count": 44,
   "id": "991d4b4f",
   "metadata": {},
   "outputs": [
    {
     "name": "stdout",
     "output_type": "stream",
     "text": [
      "Accuracy SVM with Normalizaton: 0.92 (+/- 0.07)\n"
     ]
    }
   ],
   "source": [
    "# create pipeline - > Normalizaton\n",
    "pipeline = Pipeline(steps=[('scaler', preprocessing.MinMaxScaler()),\n",
    "                   ('model', svc)])\n",
    "\n",
    "# perform cross validation\n",
    "acc = cross_val_score(estimator=pipeline, X=sampled_X, y=sampled_Y, cv=5)\n",
    "\n",
    "print(\"Accuracy SVM with Normalizaton: %0.2f (+/- %0.2f)\" % (acc.mean(), acc.std() * 2))"
   ]
  },
  {
   "cell_type": "markdown",
   "id": "96d3e926",
   "metadata": {},
   "source": [
    "Poly Kernal"
   ]
  },
  {
   "cell_type": "code",
   "execution_count": 45,
   "id": "7d6df927",
   "metadata": {},
   "outputs": [],
   "source": [
    "svc=svm.SVC(kernel='poly', random_state=0)"
   ]
  },
  {
   "cell_type": "code",
   "execution_count": 46,
   "id": "4fcdcbc3",
   "metadata": {},
   "outputs": [
    {
     "name": "stdout",
     "output_type": "stream",
     "text": [
      "Accuracy SVM without transformation: 0.92 (+/- 0.08)\n"
     ]
    }
   ],
   "source": [
    "acc = cross_val_score(svc, sampled_X, sampled_Y, cv=5)\n",
    "print(\"Accuracy SVM without transformation: %0.2f (+/- %0.2f)\" % (acc.mean(), acc.std() * 2))"
   ]
  },
  {
   "cell_type": "code",
   "execution_count": 47,
   "id": "5b5edfbe",
   "metadata": {},
   "outputs": [
    {
     "name": "stdout",
     "output_type": "stream",
     "text": [
      "Accuracy SVM with Standardization: 0.84 (+/- 0.11)\n"
     ]
    }
   ],
   "source": [
    "# create pipeline -> Standardization\n",
    "pipeline = Pipeline(steps=[('scaler', StandardScaler()),\n",
    "                   ('model',svc)])\n",
    "\n",
    "# perform cross validation\n",
    "acc = cross_val_score(estimator=pipeline, X=sampled_X, y=sampled_Y, cv=5)\n",
    "\n",
    "print(\"Accuracy SVM with Standardization: %0.2f (+/- %0.2f)\" % (acc.mean(), acc.std() * 2))"
   ]
  },
  {
   "cell_type": "code",
   "execution_count": 48,
   "id": "0db04065",
   "metadata": {},
   "outputs": [
    {
     "name": "stdout",
     "output_type": "stream",
     "text": [
      "Accuracy SVM with Normalizaton: 0.92 (+/- 0.07)\n"
     ]
    }
   ],
   "source": [
    "# create pipeline - > Normalizaton\n",
    "pipeline = Pipeline(steps=[('scaler', preprocessing.MinMaxScaler()),\n",
    "                   ('model', svc)])\n",
    "\n",
    "# perform cross validation\n",
    "acc = cross_val_score(estimator=pipeline, X=sampled_X, y=sampled_Y, cv=5)\n",
    "\n",
    "print(\"Accuracy SVM with Normalizaton: %0.2f (+/- %0.2f)\" % (acc.mean(), acc.std() * 2))"
   ]
  },
  {
   "cell_type": "markdown",
   "id": "ddca5d03",
   "metadata": {},
   "source": [
    "- combination of linear kernel and standerdization performs well so linear model is the best one"
   ]
  },
  {
   "cell_type": "code",
   "execution_count": 49,
   "id": "f7bb1575",
   "metadata": {},
   "outputs": [],
   "source": [
    "# choosed kernel\n",
    "svc=svm.SVC(kernel='linear', random_state=0)"
   ]
  },
  {
   "cell_type": "markdown",
   "id": "c688721d",
   "metadata": {},
   "source": [
    "#### Feaure scaling using standerdization and evaluation"
   ]
  },
  {
   "cell_type": "code",
   "execution_count": 50,
   "id": "2068bc59",
   "metadata": {},
   "outputs": [],
   "source": [
    "# create pipeline -> Standardization\n",
    "pipeline = Pipeline(steps=[('scaler', StandardScaler()), ('model',svc)])"
   ]
  },
  {
   "cell_type": "code",
   "execution_count": 51,
   "id": "fcb40a24",
   "metadata": {},
   "outputs": [
    {
     "name": "stdout",
     "output_type": "stream",
     "text": [
      "Accuracy SVM with Standardization: 0.91 (+/- 0.07)\n"
     ]
    }
   ],
   "source": [
    "acc = cross_val_score(estimator=pipeline, X=sampled_X_20, y=sampled_Y, cv=5)\n",
    "\n",
    "print(\"Accuracy SVM with Standardization: %0.2f (+/- %0.2f)\" % (acc.mean(), acc.std() * 2))"
   ]
  },
  {
   "cell_type": "code",
   "execution_count": 52,
   "id": "f3e721ed",
   "metadata": {},
   "outputs": [
    {
     "name": "stdout",
     "output_type": "stream",
     "text": [
      "Accuracy SVM with Standardization: 0.93 (+/- 0.06)\n"
     ]
    }
   ],
   "source": [
    "acc = cross_val_score(estimator=pipeline, X=sampled_X_50, y=sampled_Y, cv=5)\n",
    "\n",
    "print(\"Accuracy SVM with Standardization: %0.2f (+/- %0.2f)\" % (acc.mean(), acc.std() * 2))"
   ]
  },
  {
   "cell_type": "code",
   "execution_count": 53,
   "id": "69c59821",
   "metadata": {},
   "outputs": [
    {
     "name": "stdout",
     "output_type": "stream",
     "text": [
      "Accuracy SVM with Standardization: 0.93 (+/- 0.06)\n"
     ]
    }
   ],
   "source": [
    "acc = cross_val_score(estimator=pipeline, X=sampled_X_100, y=sampled_Y, cv=5)\n",
    "\n",
    "print(\"Accuracy SVM with Standardization: %0.2f (+/- %0.2f)\" % (acc.mean(), acc.std() * 2))"
   ]
  },
  {
   "cell_type": "markdown",
   "id": "1f78cabc",
   "metadata": {},
   "source": [
    "#### Select features amount in between 20 to 100 and check the performance"
   ]
  },
  {
   "cell_type": "code",
   "execution_count": 54,
   "id": "268c93c0",
   "metadata": {},
   "outputs": [
    {
     "name": "stdout",
     "output_type": "stream",
     "text": [
      "Accuracy SVM using best 30 features: 0.93 (+/- 0.06)\n"
     ]
    }
   ],
   "source": [
    "#first 30 features with high correlation\n",
    "high_cor_30=cor_target.iloc[cor_target.argsort()[-31:-1]]\n",
    "\n",
    "# select 30 features\n",
    "selected_30_x = df[high_cor_30.index]\n",
    "selected_30_x.shape\n",
    "\n",
    "# Fit the model to generate the data with 30 features dataset\n",
    "oversampled_X_30, oversampled_Y = ros.fit_resample(selected_30_x, Y)\n",
    "sampled_X_30, sampled_Y = rus.fit_resample(oversampled_X_30, oversampled_Y)\n",
    "\n",
    "# perform cross validation\n",
    "acc = cross_val_score(estimator=pipeline, X=sampled_X_30, y=sampled_Y, cv=5)\n",
    "\n",
    "print(\"Accuracy SVM using best 30 features: %0.2f (+/- %0.2f)\" % (acc.mean(), acc.std() * 2))"
   ]
  },
  {
   "cell_type": "code",
   "execution_count": 55,
   "id": "615dbe35",
   "metadata": {},
   "outputs": [
    {
     "name": "stdout",
     "output_type": "stream",
     "text": [
      "Accuracy SVM using best 60 features: 0.92 (+/- 0.07)\n"
     ]
    }
   ],
   "source": [
    "#first 60 features with high correlation\n",
    "high_cor_60=cor_target.iloc[cor_target.argsort()[-61:-1]]\n",
    "\n",
    "# select 60 features\n",
    "selected_60_x = df[high_cor_60.index]\n",
    "selected_60_x.shape\n",
    "\n",
    "# Fit the model to generate the data with 60 features dataset\n",
    "oversampled_X_60, oversampled_Y = ros.fit_resample(selected_60_x, Y)\n",
    "sampled_X_60, sampled_Y = rus.fit_resample(oversampled_X_60, oversampled_Y)\n",
    "\n",
    "# perform cross validation\n",
    "acc = cross_val_score(estimator=pipeline, X=sampled_X_60, y=sampled_Y, cv=5)\n",
    "\n",
    "print(\"Accuracy SVM using best 60 features: %0.2f (+/- %0.2f)\" % (acc.mean(), acc.std() * 2))"
   ]
  },
  {
   "cell_type": "code",
   "execution_count": 56,
   "id": "3dc84c17",
   "metadata": {},
   "outputs": [
    {
     "name": "stdout",
     "output_type": "stream",
     "text": [
      "Accuracy SVM using best 40 features: 0.93 (+/- 0.07)\n"
     ]
    }
   ],
   "source": [
    "#first 40 features with high correlation\n",
    "high_cor_40=cor_target.iloc[cor_target.argsort()[-41:-1]]\n",
    "\n",
    "# select 40 features\n",
    "selected_40_x = df[high_cor_40.index]\n",
    "selected_40_x.shape\n",
    "\n",
    "# Fit the model to generate the data with 40 features dataset\n",
    "oversampled_X_40, oversampled_Y = ros.fit_resample(selected_40_x, Y)\n",
    "sampled_X_40, sampled_Y = rus.fit_resample(oversampled_X_40, oversampled_Y)\n",
    "\n",
    "# perform cross validation\n",
    "acc = cross_val_score(estimator=pipeline, X=sampled_X_40, y=sampled_Y, cv=5)\n",
    "\n",
    "print(\"Accuracy SVM using best 40 features: %0.2f (+/- %0.2f)\" % (acc.mean(), acc.std() * 2))"
   ]
  },
  {
   "cell_type": "markdown",
   "id": "21b65d26",
   "metadata": {},
   "source": [
    "## Test RF model"
   ]
  },
  {
   "cell_type": "code",
   "execution_count": 57,
   "id": "109fcf28",
   "metadata": {},
   "outputs": [],
   "source": [
    "from sklearn.ensemble import RandomForestClassifier"
   ]
  },
  {
   "cell_type": "markdown",
   "id": "e853f6b5",
   "metadata": {},
   "source": [
    "#### RF Parameter optimization"
   ]
  },
  {
   "cell_type": "code",
   "execution_count": 58,
   "id": "5ba193c8",
   "metadata": {},
   "outputs": [],
   "source": [
    "rfc = RandomForestClassifier()"
   ]
  },
  {
   "cell_type": "code",
   "execution_count": 59,
   "id": "05fc2749",
   "metadata": {},
   "outputs": [],
   "source": [
    "parameters = {\n",
    "    \"n_estimators\":[100,500,1000],\n",
    "    \"max_depth\":[4,8,16,None],\n",
    "    \"criterion\":['gini', 'entropy'],\n",
    "    \"random_state\": [0]\n",
    "}"
   ]
  },
  {
   "cell_type": "code",
   "execution_count": 60,
   "id": "1ee109ac",
   "metadata": {},
   "outputs": [
    {
     "data": {
      "text/html": [
       "<style>#sk-container-id-1 {color: black;background-color: white;}#sk-container-id-1 pre{padding: 0;}#sk-container-id-1 div.sk-toggleable {background-color: white;}#sk-container-id-1 label.sk-toggleable__label {cursor: pointer;display: block;width: 100%;margin-bottom: 0;padding: 0.3em;box-sizing: border-box;text-align: center;}#sk-container-id-1 label.sk-toggleable__label-arrow:before {content: \"▸\";float: left;margin-right: 0.25em;color: #696969;}#sk-container-id-1 label.sk-toggleable__label-arrow:hover:before {color: black;}#sk-container-id-1 div.sk-estimator:hover label.sk-toggleable__label-arrow:before {color: black;}#sk-container-id-1 div.sk-toggleable__content {max-height: 0;max-width: 0;overflow: hidden;text-align: left;background-color: #f0f8ff;}#sk-container-id-1 div.sk-toggleable__content pre {margin: 0.2em;color: black;border-radius: 0.25em;background-color: #f0f8ff;}#sk-container-id-1 input.sk-toggleable__control:checked~div.sk-toggleable__content {max-height: 200px;max-width: 100%;overflow: auto;}#sk-container-id-1 input.sk-toggleable__control:checked~label.sk-toggleable__label-arrow:before {content: \"▾\";}#sk-container-id-1 div.sk-estimator input.sk-toggleable__control:checked~label.sk-toggleable__label {background-color: #d4ebff;}#sk-container-id-1 div.sk-label input.sk-toggleable__control:checked~label.sk-toggleable__label {background-color: #d4ebff;}#sk-container-id-1 input.sk-hidden--visually {border: 0;clip: rect(1px 1px 1px 1px);clip: rect(1px, 1px, 1px, 1px);height: 1px;margin: -1px;overflow: hidden;padding: 0;position: absolute;width: 1px;}#sk-container-id-1 div.sk-estimator {font-family: monospace;background-color: #f0f8ff;border: 1px dotted black;border-radius: 0.25em;box-sizing: border-box;margin-bottom: 0.5em;}#sk-container-id-1 div.sk-estimator:hover {background-color: #d4ebff;}#sk-container-id-1 div.sk-parallel-item::after {content: \"\";width: 100%;border-bottom: 1px solid gray;flex-grow: 1;}#sk-container-id-1 div.sk-label:hover label.sk-toggleable__label {background-color: #d4ebff;}#sk-container-id-1 div.sk-serial::before {content: \"\";position: absolute;border-left: 1px solid gray;box-sizing: border-box;top: 0;bottom: 0;left: 50%;z-index: 0;}#sk-container-id-1 div.sk-serial {display: flex;flex-direction: column;align-items: center;background-color: white;padding-right: 0.2em;padding-left: 0.2em;position: relative;}#sk-container-id-1 div.sk-item {position: relative;z-index: 1;}#sk-container-id-1 div.sk-parallel {display: flex;align-items: stretch;justify-content: center;background-color: white;position: relative;}#sk-container-id-1 div.sk-item::before, #sk-container-id-1 div.sk-parallel-item::before {content: \"\";position: absolute;border-left: 1px solid gray;box-sizing: border-box;top: 0;bottom: 0;left: 50%;z-index: -1;}#sk-container-id-1 div.sk-parallel-item {display: flex;flex-direction: column;z-index: 1;position: relative;background-color: white;}#sk-container-id-1 div.sk-parallel-item:first-child::after {align-self: flex-end;width: 50%;}#sk-container-id-1 div.sk-parallel-item:last-child::after {align-self: flex-start;width: 50%;}#sk-container-id-1 div.sk-parallel-item:only-child::after {width: 0;}#sk-container-id-1 div.sk-dashed-wrapped {border: 1px dashed gray;margin: 0 0.4em 0.5em 0.4em;box-sizing: border-box;padding-bottom: 0.4em;background-color: white;}#sk-container-id-1 div.sk-label label {font-family: monospace;font-weight: bold;display: inline-block;line-height: 1.2em;}#sk-container-id-1 div.sk-label-container {text-align: center;}#sk-container-id-1 div.sk-container {/* jupyter's `normalize.less` sets `[hidden] { display: none; }` but bootstrap.min.css set `[hidden] { display: none !important; }` so we also need the `!important` here to be able to override the default hidden behavior on the sphinx rendered scikit-learn.org. See: https://github.com/scikit-learn/scikit-learn/issues/21755 */display: inline-block !important;position: relative;}#sk-container-id-1 div.sk-text-repr-fallback {display: none;}</style><div id=\"sk-container-id-1\" class=\"sk-top-container\"><div class=\"sk-text-repr-fallback\"><pre>GridSearchCV(cv=5, estimator=RandomForestClassifier(),\n",
       "             param_grid={&#x27;criterion&#x27;: [&#x27;gini&#x27;, &#x27;entropy&#x27;],\n",
       "                         &#x27;max_depth&#x27;: [4, 8, 16, None],\n",
       "                         &#x27;n_estimators&#x27;: [100, 500, 1000],\n",
       "                         &#x27;random_state&#x27;: [0]})</pre><b>In a Jupyter environment, please rerun this cell to show the HTML representation or trust the notebook. <br />On GitHub, the HTML representation is unable to render, please try loading this page with nbviewer.org.</b></div><div class=\"sk-container\" hidden><div class=\"sk-item sk-dashed-wrapped\"><div class=\"sk-label-container\"><div class=\"sk-label sk-toggleable\"><input class=\"sk-toggleable__control sk-hidden--visually\" id=\"sk-estimator-id-1\" type=\"checkbox\" ><label for=\"sk-estimator-id-1\" class=\"sk-toggleable__label sk-toggleable__label-arrow\">GridSearchCV</label><div class=\"sk-toggleable__content\"><pre>GridSearchCV(cv=5, estimator=RandomForestClassifier(),\n",
       "             param_grid={&#x27;criterion&#x27;: [&#x27;gini&#x27;, &#x27;entropy&#x27;],\n",
       "                         &#x27;max_depth&#x27;: [4, 8, 16, None],\n",
       "                         &#x27;n_estimators&#x27;: [100, 500, 1000],\n",
       "                         &#x27;random_state&#x27;: [0]})</pre></div></div></div><div class=\"sk-parallel\"><div class=\"sk-parallel-item\"><div class=\"sk-item\"><div class=\"sk-label-container\"><div class=\"sk-label sk-toggleable\"><input class=\"sk-toggleable__control sk-hidden--visually\" id=\"sk-estimator-id-2\" type=\"checkbox\" ><label for=\"sk-estimator-id-2\" class=\"sk-toggleable__label sk-toggleable__label-arrow\">estimator: RandomForestClassifier</label><div class=\"sk-toggleable__content\"><pre>RandomForestClassifier()</pre></div></div></div><div class=\"sk-serial\"><div class=\"sk-item\"><div class=\"sk-estimator sk-toggleable\"><input class=\"sk-toggleable__control sk-hidden--visually\" id=\"sk-estimator-id-3\" type=\"checkbox\" ><label for=\"sk-estimator-id-3\" class=\"sk-toggleable__label sk-toggleable__label-arrow\">RandomForestClassifier</label><div class=\"sk-toggleable__content\"><pre>RandomForestClassifier()</pre></div></div></div></div></div></div></div></div></div></div>"
      ],
      "text/plain": [
       "GridSearchCV(cv=5, estimator=RandomForestClassifier(),\n",
       "             param_grid={'criterion': ['gini', 'entropy'],\n",
       "                         'max_depth': [4, 8, 16, None],\n",
       "                         'n_estimators': [100, 500, 1000],\n",
       "                         'random_state': [0]})"
      ]
     },
     "execution_count": 60,
     "metadata": {},
     "output_type": "execute_result"
    }
   ],
   "source": [
    "from sklearn.model_selection import GridSearchCV\n",
    "cv = GridSearchCV(rfc,parameters,cv=5)\n",
    "cv.fit(sampled_X,sampled_Y)"
   ]
  },
  {
   "cell_type": "code",
   "execution_count": 61,
   "id": "1997e75f",
   "metadata": {},
   "outputs": [
    {
     "name": "stdout",
     "output_type": "stream",
     "text": [
      "Best parameters are: {'criterion': 'entropy', 'max_depth': 8, 'n_estimators': 1000, 'random_state': 0}\n"
     ]
    }
   ],
   "source": [
    "print(f'Best parameters are: {cv.best_params_}')"
   ]
  },
  {
   "cell_type": "code",
   "execution_count": 62,
   "id": "2a946a97",
   "metadata": {},
   "outputs": [],
   "source": [
    "rf=RandomForestClassifier(criterion= 'entropy', max_depth= 8, n_estimators= 1000, random_state= 0)"
   ]
  },
  {
   "cell_type": "code",
   "execution_count": 63,
   "id": "6fb9e431",
   "metadata": {},
   "outputs": [
    {
     "name": "stdout",
     "output_type": "stream",
     "text": [
      "Accuracy RF with complete features: 0.92 (+/- 0.05)\n"
     ]
    }
   ],
   "source": [
    "acc = cross_val_score(rf, sampled_X, sampled_Y, cv=5)\n",
    "print(\"Accuracy RF with complete features: %0.2f (+/- %0.2f)\" % (acc.mean(), acc.std() * 2))"
   ]
  },
  {
   "cell_type": "markdown",
   "id": "56d91d39",
   "metadata": {},
   "source": [
    "#### Try for features with amount of; 20, 50, 100"
   ]
  },
  {
   "cell_type": "code",
   "execution_count": 64,
   "id": "5a0c57c7",
   "metadata": {},
   "outputs": [
    {
     "name": "stdout",
     "output_type": "stream",
     "text": [
      "Accuracy RF using best 20 features: 0.92 (+/- 0.07)\n"
     ]
    }
   ],
   "source": [
    "acc = cross_val_score(rf, sampled_X_20, sampled_Y, cv=5)\n",
    "print(\"Accuracy RF using best 20 features: %0.2f (+/- %0.2f)\" % (acc.mean(), acc.std() * 2))"
   ]
  },
  {
   "cell_type": "code",
   "execution_count": 65,
   "id": "3322f163",
   "metadata": {},
   "outputs": [
    {
     "name": "stdout",
     "output_type": "stream",
     "text": [
      "Accuracy RF using best 50 features: 0.93 (+/- 0.05)\n"
     ]
    }
   ],
   "source": [
    "acc = cross_val_score(rf, sampled_X_50, sampled_Y, cv=5)\n",
    "print(\"Accuracy RF using best 50 features: %0.2f (+/- %0.2f)\" % (acc.mean(), acc.std() * 2))"
   ]
  },
  {
   "cell_type": "code",
   "execution_count": 66,
   "id": "c978c6a2",
   "metadata": {},
   "outputs": [
    {
     "name": "stdout",
     "output_type": "stream",
     "text": [
      "Accuracy RF using best 100 features: 0.93 (+/- 0.05)\n"
     ]
    }
   ],
   "source": [
    "acc = cross_val_score(rf, sampled_X_100, sampled_Y, cv=5)\n",
    "print(\"Accuracy RF using best 100 features: %0.2f (+/- %0.2f)\" % (acc.mean(), acc.std() * 2))"
   ]
  },
  {
   "cell_type": "markdown",
   "id": "98916014",
   "metadata": {},
   "source": [
    "#### Try for different number of features"
   ]
  },
  {
   "cell_type": "code",
   "execution_count": 67,
   "id": "1115346a",
   "metadata": {},
   "outputs": [
    {
     "name": "stdout",
     "output_type": "stream",
     "text": [
      "Accuracy RF using best 30 features: 0.92 (+/- 0.08)\n"
     ]
    }
   ],
   "source": [
    "acc = cross_val_score(rf, sampled_X_30, sampled_Y, cv=5)\n",
    "print(\"Accuracy RF using best 30 features: %0.2f (+/- %0.2f)\" % (acc.mean(), acc.std() * 2))"
   ]
  },
  {
   "cell_type": "code",
   "execution_count": 68,
   "id": "0ae42e8f",
   "metadata": {},
   "outputs": [
    {
     "name": "stdout",
     "output_type": "stream",
     "text": [
      "Accuracy RF using best 40 features: 0.92 (+/- 0.05)\n"
     ]
    }
   ],
   "source": [
    "acc = cross_val_score(rf, sampled_X_40, sampled_Y, cv=5)\n",
    "print(\"Accuracy RF using best 40 features: %0.2f (+/- %0.2f)\" % (acc.mean(), acc.std() * 2))"
   ]
  },
  {
   "cell_type": "code",
   "execution_count": 69,
   "id": "015aa63f",
   "metadata": {},
   "outputs": [
    {
     "name": "stdout",
     "output_type": "stream",
     "text": [
      "Accuracy RF using best 60 features: 0.92 (+/- 0.05)\n"
     ]
    }
   ],
   "source": [
    "acc = cross_val_score(rf, sampled_X_60, sampled_Y, cv=5)\n",
    "print(\"Accuracy RF using best 60 features: %0.2f (+/- %0.2f)\" % (acc.mean(), acc.std() * 2))"
   ]
  },
  {
   "cell_type": "markdown",
   "id": "49beb0a8",
   "metadata": {},
   "source": [
    "## Test KNN model"
   ]
  },
  {
   "cell_type": "code",
   "execution_count": 70,
   "id": "62d647ac",
   "metadata": {},
   "outputs": [],
   "source": [
    "# K-Nearest Neighbors\n",
    "from sklearn.neighbors import KNeighborsClassifier\n",
    "import matplotlib.pyplot as plt"
   ]
  },
  {
   "cell_type": "markdown",
   "id": "286699e5",
   "metadata": {},
   "source": [
    "#### Find the best k value for KNN "
   ]
  },
  {
   "cell_type": "code",
   "execution_count": 71,
   "id": "fdfd7230",
   "metadata": {
    "scrolled": true
   },
   "outputs": [
    {
     "data": {
      "text/plain": [
       "Text(0, 0.5, 'Accuracy')"
      ]
     },
     "execution_count": 71,
     "metadata": {},
     "output_type": "execute_result"
    },
    {
     "data": {
      "image/png": "[encoded data removed]",
      "text/plain": [
       "<Figure size 576x360 with 1 Axes>"
      ]
     },
     "metadata": {
      "needs_background": "light"
     },
     "output_type": "display_data"
    }
   ],
   "source": [
    "knn_acc = []\n",
    "\n",
    "for i in range(1,10):\n",
    "    knn = KNeighborsClassifier(n_neighbors=i)\n",
    "    acc = cross_val_score(knn, sampled_X, sampled_Y, cv=5)\n",
    "    knn_acc.append(acc.mean())\n",
    "\n",
    "plt.figure(figsize=(8,5))\n",
    "plt.plot(range(1,10),knn_acc, marker='o', markersize=9)\n",
    "plt.xlabel(\"K value\", fontsize=18)\n",
    "plt.ylabel(\"Accuracy\",fontsize=18)"
   ]
  },
  {
   "cell_type": "markdown",
   "id": "78da463d",
   "metadata": {},
   "source": [
    "- k=5 is optimal"
   ]
  },
  {
   "cell_type": "markdown",
   "id": "d5352f0f",
   "metadata": {},
   "source": [
    "#### Check the feature scaling method to KNN"
   ]
  },
  {
   "cell_type": "code",
   "execution_count": 72,
   "id": "f45b1644",
   "metadata": {},
   "outputs": [],
   "source": [
    "knn = KNeighborsClassifier(n_neighbors=5)"
   ]
  },
  {
   "cell_type": "code",
   "execution_count": 73,
   "id": "34584c41",
   "metadata": {
    "scrolled": false
   },
   "outputs": [
    {
     "name": "stdout",
     "output_type": "stream",
     "text": [
      "Accuracy KNN without transformation: 0.94 (+/- 0.05)\n"
     ]
    }
   ],
   "source": [
    "acc = cross_val_score(knn, sampled_X, sampled_Y, cv=5)\n",
    "print(\"Accuracy KNN without transformation: %0.2f (+/- %0.2f)\" % (acc.mean(), acc.std() * 2))"
   ]
  },
  {
   "cell_type": "code",
   "execution_count": 74,
   "id": "c6708724",
   "metadata": {},
   "outputs": [
    {
     "name": "stdout",
     "output_type": "stream",
     "text": [
      "Accuracy KNN with Standardization: 0.94 (+/- 0.05)\n"
     ]
    }
   ],
   "source": [
    "# create pipeline -> Standardization\n",
    "pipeline = Pipeline(steps=[('scaler', StandardScaler()), ('model',knn)])\n",
    "\n",
    "# perform cross validation\n",
    "acc = cross_val_score(estimator=pipeline, X=sampled_X, y=sampled_Y, cv=5)\n",
    "\n",
    "print(\"Accuracy KNN with Standardization: %0.2f (+/- %0.2f)\" % (acc.mean(), acc.std() * 2))"
   ]
  },
  {
   "cell_type": "code",
   "execution_count": 75,
   "id": "48b8e45a",
   "metadata": {},
   "outputs": [
    {
     "name": "stdout",
     "output_type": "stream",
     "text": [
      "Accuracy KNN with Normalizaton: 0.94 (+/- 0.05)\n"
     ]
    }
   ],
   "source": [
    "# create pipeline - > Normalizaton\n",
    "pipeline = Pipeline(steps=[('scaler', preprocessing.MinMaxScaler()), ('model', knn)])\n",
    "\n",
    "# perform cross validation\n",
    "acc = cross_val_score(estimator=pipeline, X=sampled_X, y=sampled_Y, cv=5)\n",
    "\n",
    "print(\"Accuracy KNN with Normalizaton: %0.2f (+/- %0.2f)\" % (acc.mean(), acc.std() * 2))"
   ]
  },
  {
   "cell_type": "markdown",
   "id": "21b2c987",
   "metadata": {},
   "source": [
    "- Without transformation performed well"
   ]
  },
  {
   "cell_type": "markdown",
   "id": "f6cc6a86",
   "metadata": {},
   "source": [
    "#### Try for features with amount of; 20, 50, 100"
   ]
  },
  {
   "cell_type": "code",
   "execution_count": 76,
   "id": "8c873d76",
   "metadata": {},
   "outputs": [
    {
     "name": "stdout",
     "output_type": "stream",
     "text": [
      "Accuracy KNN using best 20 features: 0.92 (+/- 0.08)\n"
     ]
    }
   ],
   "source": [
    "acc = cross_val_score(knn, sampled_X_20, sampled_Y, cv=5)\n",
    "print(\"Accuracy KNN using best 20 features: %0.2f (+/- %0.2f)\" % (acc.mean(), acc.std() * 2))"
   ]
  },
  {
   "cell_type": "code",
   "execution_count": 77,
   "id": "8ec2a13b",
   "metadata": {},
   "outputs": [
    {
     "name": "stdout",
     "output_type": "stream",
     "text": [
      "Accuracy KNN using best 50 features: 0.94 (+/- 0.06)\n"
     ]
    }
   ],
   "source": [
    "acc = cross_val_score(knn, sampled_X_50, sampled_Y, cv=5)\n",
    "print(\"Accuracy KNN using best 50 features: %0.2f (+/- %0.2f)\" % (acc.mean(), acc.std() * 2))"
   ]
  },
  {
   "cell_type": "code",
   "execution_count": 78,
   "id": "6c68928c",
   "metadata": {},
   "outputs": [
    {
     "name": "stdout",
     "output_type": "stream",
     "text": [
      "Accuracy KNN using best 100 features: 0.93 (+/- 0.06)\n"
     ]
    }
   ],
   "source": [
    "acc = cross_val_score(knn, sampled_X_100, sampled_Y, cv=5)\n",
    "print(\"Accuracy KNN using best 100 features: %0.2f (+/- %0.2f)\" % (acc.mean(), acc.std() * 2))"
   ]
  },
  {
   "cell_type": "markdown",
   "id": "23e132ae",
   "metadata": {},
   "source": [
    "#### Try for different number of features"
   ]
  },
  {
   "cell_type": "code",
   "execution_count": 79,
   "id": "8351102d",
   "metadata": {},
   "outputs": [
    {
     "name": "stdout",
     "output_type": "stream",
     "text": [
      "Accuracy KNN using best 30 features: 0.94 (+/- 0.07)\n"
     ]
    }
   ],
   "source": [
    "acc = cross_val_score(knn, sampled_X_30, sampled_Y, cv=5)\n",
    "print(\"Accuracy KNN using best 30 features: %0.2f (+/- %0.2f)\" % (acc.mean(), acc.std() * 2))"
   ]
  },
  {
   "cell_type": "code",
   "execution_count": 80,
   "id": "7da00760",
   "metadata": {},
   "outputs": [
    {
     "name": "stdout",
     "output_type": "stream",
     "text": [
      "Accuracy KNN using best 40 features: 0.94 (+/- 0.07)\n"
     ]
    }
   ],
   "source": [
    "acc = cross_val_score(knn, sampled_X_40, sampled_Y, cv=5)\n",
    "print(\"Accuracy KNN using best 40 features: %0.2f (+/- %0.2f)\" % (acc.mean(), acc.std() * 2))"
   ]
  },
  {
   "cell_type": "code",
   "execution_count": 81,
   "id": "68ae5f2f",
   "metadata": {},
   "outputs": [
    {
     "name": "stdout",
     "output_type": "stream",
     "text": [
      "Accuracy KNN using best 60 features: 0.94 (+/- 0.04)\n"
     ]
    }
   ],
   "source": [
    "acc = cross_val_score(knn, sampled_X_60, sampled_Y, cv=5)\n",
    "print(\"Accuracy KNN using best 60 features: %0.2f (+/- %0.2f)\" % (acc.mean(), acc.std() * 2))"
   ]
  },
  {
   "cell_type": "code",
   "execution_count": 82,
   "id": "826e7dea",
   "metadata": {},
   "outputs": [
    {
     "name": "stdout",
     "output_type": "stream",
     "text": [
      "Accuracy KNN using best 70 features: 0.93 (+/- 0.06)\n"
     ]
    }
   ],
   "source": [
    "#first 70 features with high correlation\n",
    "high_cor_70=cor_target.iloc[cor_target.argsort()[-71:-1]]\n",
    "\n",
    "# select 70 features\n",
    "selected_70_x = df[high_cor_70.index]\n",
    "selected_70_x.shape\n",
    "\n",
    "# Fit the model to generate the data with 70 features dataset\n",
    "oversampled_X_70, oversampled_Y = ros.fit_resample(selected_70_x, Y)\n",
    "sampled_X_70, sampled_Y = rus.fit_resample(oversampled_X_70, oversampled_Y)\n",
    "\n",
    "acc = cross_val_score(knn, sampled_X_70, sampled_Y, cv=5)\n",
    "print(\"Accuracy KNN using best 70 features: %0.2f (+/- %0.2f)\" % (acc.mean(), acc.std() * 2))"
   ]
  },
  {
   "cell_type": "markdown",
   "id": "8c5f883d",
   "metadata": {},
   "source": [
    "Selected Features are impoerted in a csv file"
   ]
  },
  {
   "cell_type": "code",
   "execution_count": null,
   "id": "4e634604",
   "metadata": {},
   "outputs": [],
   "source": [
    "import csv\n",
    "with open('best_60_features.csv', 'w', encoding='UTF8',newline='') as f:\n",
    "    writer = csv.writer(f)\n",
    "    \n",
    "    for i in range(sampled_X_60.shape[1]):\n",
    "        # write the data\n",
    "        writer.writerow([sampled_X_60.columns[i]])"
   ]
  },
  {
   "cell_type": "code",
   "execution_count": null,
   "id": "41aa7807",
   "metadata": {},
   "outputs": [],
   "source": []
  }
 ],
 "metadata": {
  "kernelspec": {
   "display_name": "Python 3",
   "language": "python",
   "name": "python3"
  },
  "language_info": {
   "codemirror_mode": {
    "name": "ipython",
    "version": 3
   },
   "file_extension": ".py",
   "mimetype": "text/x-python",
   "name": "python",
   "nbconvert_exporter": "python",
   "pygments_lexer": "ipython3",
   "version": "3.8.8"
  }
 },
 "nbformat": 4,
 "nbformat_minor": 5
}
