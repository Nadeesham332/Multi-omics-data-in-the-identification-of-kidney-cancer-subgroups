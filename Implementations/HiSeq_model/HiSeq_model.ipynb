{
 "cells": [
  {
   "cell_type": "markdown",
   "id": "f8ef94a0",
   "metadata": {},
   "source": [
    "## Dataset initialization "
   ]
  },
  {
   "cell_type": "code",
   "execution_count": 72,
   "id": "72fa5628",
   "metadata": {},
   "outputs": [],
   "source": [
    "# import required libraries\n",
    "import pandas as pd"
   ]
  },
  {
   "cell_type": "code",
   "execution_count": 73,
   "id": "f15530c6",
   "metadata": {},
   "outputs": [],
   "source": [
    "#import data sets about genomic data\n",
    "df0=pd.read_csv('KIRC_HiSeqV2.data',sep='\\t').set_index('sample').T\n",
    "df1=pd.read_csv('KIRP_HiSeqV2.data',sep='\\t').set_index('sample').T\n",
    "df2=pd.read_csv('KICH_HiSeqV2.data',sep='\\t').set_index('sample').T"
   ]
  },
  {
   "cell_type": "code",
   "execution_count": 74,
   "id": "263a1b88",
   "metadata": {},
   "outputs": [
    {
     "data": {
      "text/plain": [
       "((606, 20531), (323, 20531), (91, 20531))"
      ]
     },
     "execution_count": 74,
     "metadata": {},
     "output_type": "execute_result"
    }
   ],
   "source": [
    "df0.shape, df1.shape, df2.shape"
   ]
  },
  {
   "cell_type": "code",
   "execution_count": 75,
   "id": "4a7be0a1",
   "metadata": {},
   "outputs": [],
   "source": [
    "# concat datasets related to 3 subtypes\n",
    "df=pd.concat([df0, df1, df2])"
   ]
  },
  {
   "cell_type": "code",
   "execution_count": 76,
   "id": "94503cb2",
   "metadata": {},
   "outputs": [
    {
     "data": {
      "text/plain": [
       "(1020, 20531)"
      ]
     },
     "execution_count": 76,
     "metadata": {},
     "output_type": "execute_result"
    }
   ],
   "source": [
    "df.shape"
   ]
  },
  {
   "cell_type": "markdown",
   "id": "0afa6783",
   "metadata": {},
   "source": [
    "## Preprocessing stage"
   ]
  },
  {
   "cell_type": "code",
   "execution_count": 77,
   "id": "7b8cd09e",
   "metadata": {},
   "outputs": [],
   "source": [
    "# drop duplicate rows\n",
    "df=df.drop_duplicates()"
   ]
  },
  {
   "cell_type": "code",
   "execution_count": 78,
   "id": "67edf73d",
   "metadata": {},
   "outputs": [
    {
     "data": {
      "text/plain": [
       "(1020, 20531)"
      ]
     },
     "execution_count": 78,
     "metadata": {},
     "output_type": "execute_result"
    }
   ],
   "source": [
    "# initial shape of cancated dataset\n",
    "df.shape"
   ]
  },
  {
   "cell_type": "markdown",
   "id": "186d3e95",
   "metadata": {},
   "source": [
    "- No duplicates"
   ]
  },
  {
   "cell_type": "code",
   "execution_count": 79,
   "id": "407b4cd4",
   "metadata": {},
   "outputs": [
    {
     "data": {
      "text/plain": [
       "sample\n",
       "ARHGEF10L    0\n",
       "HIF3A        0\n",
       "RNF17        0\n",
       "RNF10        0\n",
       "RNF11        0\n",
       "            ..\n",
       "BCL6B        0\n",
       "GSTK1        0\n",
       "SELP         0\n",
       "SELS         0\n",
       "Subtype      0\n",
       "Length: 20531, dtype: int64"
      ]
     },
     "execution_count": 79,
     "metadata": {},
     "output_type": "execute_result"
    }
   ],
   "source": [
    "df.isnull().sum()"
   ]
  },
  {
   "cell_type": "code",
   "execution_count": 80,
   "id": "8f745a9d",
   "metadata": {},
   "outputs": [
    {
     "data": {
      "text/plain": [
       "0"
      ]
     },
     "execution_count": 80,
     "metadata": {},
     "output_type": "execute_result"
    }
   ],
   "source": [
    "# Count the null values containing features\n",
    "n=(df.isnull().sum()>0).sum()\n",
    "n"
   ]
  },
  {
   "cell_type": "markdown",
   "id": "f70f3fc9",
   "metadata": {},
   "source": [
    "- No null values"
   ]
  },
  {
   "cell_type": "code",
   "execution_count": 81,
   "id": "43a6b54f",
   "metadata": {},
   "outputs": [],
   "source": [
    "# temp set for store features which have more than 20 zero values\n",
    "tset=set()"
   ]
  },
  {
   "cell_type": "code",
   "execution_count": 82,
   "id": "bfe98336",
   "metadata": {},
   "outputs": [
    {
     "name": "stdout",
     "output_type": "stream",
     "text": [
      "Count of zeros\n"
     ]
    }
   ],
   "source": [
    "print('Count of zeros')\n",
    "for column_name in df.columns:\n",
    "    column = df[column_name]\n",
    "    # Get the count of Zeros in column \n",
    "    count = (column == 0).sum()\n",
    "    if(count>20 and column_name!='Subtype'):\n",
    "#         print('\\t', column_name, ' : ', count)\n",
    "        tset.add(column_name)\n",
    "        "
   ]
  },
  {
   "cell_type": "code",
   "execution_count": 83,
   "id": "e86c998b",
   "metadata": {},
   "outputs": [
    {
     "data": {
      "text/plain": [
       "5927"
      ]
     },
     "execution_count": 83,
     "metadata": {},
     "output_type": "execute_result"
    }
   ],
   "source": [
    "len(tset)"
   ]
  },
  {
   "cell_type": "code",
   "execution_count": 84,
   "id": "63bcd6cd",
   "metadata": {},
   "outputs": [],
   "source": [
    "df=df.drop(tset,axis=1)"
   ]
  },
  {
   "cell_type": "code",
   "execution_count": 85,
   "id": "16debb73",
   "metadata": {
    "scrolled": false
   },
   "outputs": [
    {
     "data": {
      "text/plain": [
       "(1020, 14604)"
      ]
     },
     "execution_count": 85,
     "metadata": {},
     "output_type": "execute_result"
    }
   ],
   "source": [
    "df.shape"
   ]
  },
  {
   "cell_type": "code",
   "execution_count": 87,
   "id": "15602350",
   "metadata": {},
   "outputs": [],
   "source": [
    "for column_name in df.columns:\n",
    "    column = df[column_name]\n",
    "    \n",
    "    if(count>0 and column_name!='Subtype'):\n",
    "        df[column_name] = df[column_name].replace(0, df[column_name].mean())"
   ]
  },
  {
   "cell_type": "code",
   "execution_count": 1,
   "id": "c7b9989f",
   "metadata": {},
   "outputs": [],
   "source": [
    "# # import required libraries\n",
    "# import pandas as pd\n",
    "\n",
    "# df=pd.read_csv('zeroFeatureReoved.csv')"
   ]
  },
  {
   "cell_type": "code",
   "execution_count": 88,
   "id": "2b58c4f8",
   "metadata": {
    "scrolled": true
   },
   "outputs": [
    {
     "data": {
      "text/html": [
       "<div>\n",
       "<style scoped>\n",
       "    .dataframe tbody tr th:only-of-type {\n",
       "        vertical-align: middle;\n",
       "    }\n",
       "\n",
       "    .dataframe tbody tr th {\n",
       "        vertical-align: top;\n",
       "    }\n",
       "\n",
       "    .dataframe thead th {\n",
       "        text-align: right;\n",
       "    }\n",
       "</style>\n",
       "<table border=\"1\" class=\"dataframe\">\n",
       "  <thead>\n",
       "    <tr style=\"text-align: right;\">\n",
       "      <th>sample</th>\n",
       "      <th>ARHGEF10L</th>\n",
       "      <th>HIF3A</th>\n",
       "      <th>RNF10</th>\n",
       "      <th>RNF11</th>\n",
       "      <th>RNF13</th>\n",
       "      <th>GTF2IP1</th>\n",
       "      <th>REM1</th>\n",
       "      <th>RTN4RL2</th>\n",
       "      <th>C16orf13</th>\n",
       "      <th>FGFR1OP2</th>\n",
       "      <th>...</th>\n",
       "      <th>PLEKHG5</th>\n",
       "      <th>METTL11A</th>\n",
       "      <th>GNGT2</th>\n",
       "      <th>TULP3</th>\n",
       "      <th>PTRF</th>\n",
       "      <th>BCL6B</th>\n",
       "      <th>GSTK1</th>\n",
       "      <th>SELP</th>\n",
       "      <th>SELS</th>\n",
       "      <th>Subtype</th>\n",
       "    </tr>\n",
       "  </thead>\n",
       "  <tbody>\n",
       "    <tr>\n",
       "      <th>count</th>\n",
       "      <td>1020.000000</td>\n",
       "      <td>1020.000000</td>\n",
       "      <td>1020.000000</td>\n",
       "      <td>1020.000000</td>\n",
       "      <td>1020.000000</td>\n",
       "      <td>1020.000000</td>\n",
       "      <td>1020.000000</td>\n",
       "      <td>1020.000000</td>\n",
       "      <td>1020.000000</td>\n",
       "      <td>1020.000000</td>\n",
       "      <td>...</td>\n",
       "      <td>1020.000000</td>\n",
       "      <td>1020.000000</td>\n",
       "      <td>1020.000000</td>\n",
       "      <td>1020.000000</td>\n",
       "      <td>1020.000000</td>\n",
       "      <td>1020.000000</td>\n",
       "      <td>1020.000000</td>\n",
       "      <td>1020.000000</td>\n",
       "      <td>1020.000000</td>\n",
       "      <td>1020.000000</td>\n",
       "    </tr>\n",
       "    <tr>\n",
       "      <th>mean</th>\n",
       "      <td>10.406845</td>\n",
       "      <td>5.641882</td>\n",
       "      <td>11.852381</td>\n",
       "      <td>11.241800</td>\n",
       "      <td>10.940433</td>\n",
       "      <td>12.595824</td>\n",
       "      <td>4.494032</td>\n",
       "      <td>5.062379</td>\n",
       "      <td>9.818718</td>\n",
       "      <td>9.070804</td>\n",
       "      <td>...</td>\n",
       "      <td>7.847189</td>\n",
       "      <td>8.497319</td>\n",
       "      <td>5.109235</td>\n",
       "      <td>9.646504</td>\n",
       "      <td>12.597406</td>\n",
       "      <td>8.340407</td>\n",
       "      <td>12.006599</td>\n",
       "      <td>6.840705</td>\n",
       "      <td>9.842902</td>\n",
       "      <td>0.495098</td>\n",
       "    </tr>\n",
       "    <tr>\n",
       "      <th>std</th>\n",
       "      <td>0.717188</td>\n",
       "      <td>1.855054</td>\n",
       "      <td>0.418900</td>\n",
       "      <td>0.534098</td>\n",
       "      <td>0.457514</td>\n",
       "      <td>0.565334</td>\n",
       "      <td>1.539517</td>\n",
       "      <td>1.545036</td>\n",
       "      <td>0.953121</td>\n",
       "      <td>0.477915</td>\n",
       "      <td>...</td>\n",
       "      <td>1.081518</td>\n",
       "      <td>0.643082</td>\n",
       "      <td>1.123299</td>\n",
       "      <td>0.690322</td>\n",
       "      <td>1.024740</td>\n",
       "      <td>2.032780</td>\n",
       "      <td>0.743402</td>\n",
       "      <td>1.760950</td>\n",
       "      <td>0.407978</td>\n",
       "      <td>0.654849</td>\n",
       "    </tr>\n",
       "    <tr>\n",
       "      <th>min</th>\n",
       "      <td>5.735500</td>\n",
       "      <td>0.535000</td>\n",
       "      <td>10.541800</td>\n",
       "      <td>8.096000</td>\n",
       "      <td>8.574400</td>\n",
       "      <td>10.841200</td>\n",
       "      <td>0.490800</td>\n",
       "      <td>0.877000</td>\n",
       "      <td>4.854300</td>\n",
       "      <td>6.346000</td>\n",
       "      <td>...</td>\n",
       "      <td>3.178900</td>\n",
       "      <td>4.146200</td>\n",
       "      <td>0.514800</td>\n",
       "      <td>6.034700</td>\n",
       "      <td>8.727800</td>\n",
       "      <td>3.306600</td>\n",
       "      <td>8.967400</td>\n",
       "      <td>0.459700</td>\n",
       "      <td>8.516700</td>\n",
       "      <td>0.000000</td>\n",
       "    </tr>\n",
       "    <tr>\n",
       "      <th>25%</th>\n",
       "      <td>10.007925</td>\n",
       "      <td>4.349125</td>\n",
       "      <td>11.546775</td>\n",
       "      <td>10.944150</td>\n",
       "      <td>10.685450</td>\n",
       "      <td>12.198175</td>\n",
       "      <td>3.344925</td>\n",
       "      <td>4.027650</td>\n",
       "      <td>9.165875</td>\n",
       "      <td>8.835075</td>\n",
       "      <td>...</td>\n",
       "      <td>7.273325</td>\n",
       "      <td>8.090550</td>\n",
       "      <td>4.467000</td>\n",
       "      <td>9.357050</td>\n",
       "      <td>12.130525</td>\n",
       "      <td>6.789200</td>\n",
       "      <td>11.461900</td>\n",
       "      <td>5.655575</td>\n",
       "      <td>9.575125</td>\n",
       "      <td>0.000000</td>\n",
       "    </tr>\n",
       "    <tr>\n",
       "      <th>50%</th>\n",
       "      <td>10.478600</td>\n",
       "      <td>5.780700</td>\n",
       "      <td>11.802500</td>\n",
       "      <td>11.320950</td>\n",
       "      <td>10.954350</td>\n",
       "      <td>12.517700</td>\n",
       "      <td>4.622500</td>\n",
       "      <td>5.125100</td>\n",
       "      <td>9.780550</td>\n",
       "      <td>9.131900</td>\n",
       "      <td>...</td>\n",
       "      <td>7.967800</td>\n",
       "      <td>8.439050</td>\n",
       "      <td>5.289200</td>\n",
       "      <td>9.754650</td>\n",
       "      <td>12.807700</td>\n",
       "      <td>8.836400</td>\n",
       "      <td>11.929050</td>\n",
       "      <td>7.085700</td>\n",
       "      <td>9.806450</td>\n",
       "      <td>0.000000</td>\n",
       "    </tr>\n",
       "    <tr>\n",
       "      <th>75%</th>\n",
       "      <td>10.872800</td>\n",
       "      <td>6.947000</td>\n",
       "      <td>12.129400</td>\n",
       "      <td>11.593450</td>\n",
       "      <td>11.213200</td>\n",
       "      <td>12.923225</td>\n",
       "      <td>5.598825</td>\n",
       "      <td>5.969575</td>\n",
       "      <td>10.386000</td>\n",
       "      <td>9.381650</td>\n",
       "      <td>...</td>\n",
       "      <td>8.541600</td>\n",
       "      <td>8.793725</td>\n",
       "      <td>5.910250</td>\n",
       "      <td>10.064950</td>\n",
       "      <td>13.287400</td>\n",
       "      <td>9.923750</td>\n",
       "      <td>12.511825</td>\n",
       "      <td>8.190575</td>\n",
       "      <td>10.075325</td>\n",
       "      <td>1.000000</td>\n",
       "    </tr>\n",
       "    <tr>\n",
       "      <th>max</th>\n",
       "      <td>13.227300</td>\n",
       "      <td>11.539700</td>\n",
       "      <td>13.327500</td>\n",
       "      <td>13.512500</td>\n",
       "      <td>13.920400</td>\n",
       "      <td>14.704200</td>\n",
       "      <td>9.098100</td>\n",
       "      <td>10.471400</td>\n",
       "      <td>13.503700</td>\n",
       "      <td>10.536100</td>\n",
       "      <td>...</td>\n",
       "      <td>11.538800</td>\n",
       "      <td>11.970900</td>\n",
       "      <td>8.772000</td>\n",
       "      <td>11.555900</td>\n",
       "      <td>16.182000</td>\n",
       "      <td>12.336000</td>\n",
       "      <td>14.845300</td>\n",
       "      <td>10.376200</td>\n",
       "      <td>12.222000</td>\n",
       "      <td>2.000000</td>\n",
       "    </tr>\n",
       "  </tbody>\n",
       "</table>\n",
       "<p>8 rows × 14604 columns</p>\n",
       "</div>"
      ],
      "text/plain": [
       "sample    ARHGEF10L        HIF3A        RNF10        RNF11        RNF13  \\\n",
       "count   1020.000000  1020.000000  1020.000000  1020.000000  1020.000000   \n",
       "mean      10.406845     5.641882    11.852381    11.241800    10.940433   \n",
       "std        0.717188     1.855054     0.418900     0.534098     0.457514   \n",
       "min        5.735500     0.535000    10.541800     8.096000     8.574400   \n",
       "25%       10.007925     4.349125    11.546775    10.944150    10.685450   \n",
       "50%       10.478600     5.780700    11.802500    11.320950    10.954350   \n",
       "75%       10.872800     6.947000    12.129400    11.593450    11.213200   \n",
       "max       13.227300    11.539700    13.327500    13.512500    13.920400   \n",
       "\n",
       "sample      GTF2IP1         REM1      RTN4RL2     C16orf13     FGFR1OP2  ...  \\\n",
       "count   1020.000000  1020.000000  1020.000000  1020.000000  1020.000000  ...   \n",
       "mean      12.595824     4.494032     5.062379     9.818718     9.070804  ...   \n",
       "std        0.565334     1.539517     1.545036     0.953121     0.477915  ...   \n",
       "min       10.841200     0.490800     0.877000     4.854300     6.346000  ...   \n",
       "25%       12.198175     3.344925     4.027650     9.165875     8.835075  ...   \n",
       "50%       12.517700     4.622500     5.125100     9.780550     9.131900  ...   \n",
       "75%       12.923225     5.598825     5.969575    10.386000     9.381650  ...   \n",
       "max       14.704200     9.098100    10.471400    13.503700    10.536100  ...   \n",
       "\n",
       "sample      PLEKHG5     METTL11A        GNGT2        TULP3         PTRF  \\\n",
       "count   1020.000000  1020.000000  1020.000000  1020.000000  1020.000000   \n",
       "mean       7.847189     8.497319     5.109235     9.646504    12.597406   \n",
       "std        1.081518     0.643082     1.123299     0.690322     1.024740   \n",
       "min        3.178900     4.146200     0.514800     6.034700     8.727800   \n",
       "25%        7.273325     8.090550     4.467000     9.357050    12.130525   \n",
       "50%        7.967800     8.439050     5.289200     9.754650    12.807700   \n",
       "75%        8.541600     8.793725     5.910250    10.064950    13.287400   \n",
       "max       11.538800    11.970900     8.772000    11.555900    16.182000   \n",
       "\n",
       "sample        BCL6B        GSTK1         SELP         SELS      Subtype  \n",
       "count   1020.000000  1020.000000  1020.000000  1020.000000  1020.000000  \n",
       "mean       8.340407    12.006599     6.840705     9.842902     0.495098  \n",
       "std        2.032780     0.743402     1.760950     0.407978     0.654849  \n",
       "min        3.306600     8.967400     0.459700     8.516700     0.000000  \n",
       "25%        6.789200    11.461900     5.655575     9.575125     0.000000  \n",
       "50%        8.836400    11.929050     7.085700     9.806450     0.000000  \n",
       "75%        9.923750    12.511825     8.190575    10.075325     1.000000  \n",
       "max       12.336000    14.845300    10.376200    12.222000     2.000000  \n",
       "\n",
       "[8 rows x 14604 columns]"
      ]
     },
     "execution_count": 88,
     "metadata": {},
     "output_type": "execute_result"
    }
   ],
   "source": [
    "df.describe()"
   ]
  },
  {
   "cell_type": "code",
   "execution_count": 89,
   "id": "2945a371",
   "metadata": {},
   "outputs": [
    {
     "data": {
      "text/plain": [
       "(1020, 14604)"
      ]
     },
     "execution_count": 89,
     "metadata": {},
     "output_type": "execute_result"
    }
   ],
   "source": [
    "df.shape"
   ]
  },
  {
   "cell_type": "code",
   "execution_count": 90,
   "id": "fee553fc",
   "metadata": {},
   "outputs": [
    {
     "data": {
      "text/html": [
       "<div>\n",
       "<style scoped>\n",
       "    .dataframe tbody tr th:only-of-type {\n",
       "        vertical-align: middle;\n",
       "    }\n",
       "\n",
       "    .dataframe tbody tr th {\n",
       "        vertical-align: top;\n",
       "    }\n",
       "\n",
       "    .dataframe thead th {\n",
       "        text-align: right;\n",
       "    }\n",
       "</style>\n",
       "<table border=\"1\" class=\"dataframe\">\n",
       "  <thead>\n",
       "    <tr style=\"text-align: right;\">\n",
       "      <th>sample</th>\n",
       "      <th>ARHGEF10L</th>\n",
       "      <th>HIF3A</th>\n",
       "      <th>RNF10</th>\n",
       "      <th>RNF11</th>\n",
       "      <th>RNF13</th>\n",
       "      <th>GTF2IP1</th>\n",
       "      <th>REM1</th>\n",
       "      <th>RTN4RL2</th>\n",
       "      <th>C16orf13</th>\n",
       "      <th>FGFR1OP2</th>\n",
       "      <th>...</th>\n",
       "      <th>PLEKHG5</th>\n",
       "      <th>METTL11A</th>\n",
       "      <th>GNGT2</th>\n",
       "      <th>TULP3</th>\n",
       "      <th>PTRF</th>\n",
       "      <th>BCL6B</th>\n",
       "      <th>GSTK1</th>\n",
       "      <th>SELP</th>\n",
       "      <th>SELS</th>\n",
       "      <th>Subtype</th>\n",
       "    </tr>\n",
       "    <tr>\n",
       "      <th>sample</th>\n",
       "      <th></th>\n",
       "      <th></th>\n",
       "      <th></th>\n",
       "      <th></th>\n",
       "      <th></th>\n",
       "      <th></th>\n",
       "      <th></th>\n",
       "      <th></th>\n",
       "      <th></th>\n",
       "      <th></th>\n",
       "      <th></th>\n",
       "      <th></th>\n",
       "      <th></th>\n",
       "      <th></th>\n",
       "      <th></th>\n",
       "      <th></th>\n",
       "      <th></th>\n",
       "      <th></th>\n",
       "      <th></th>\n",
       "      <th></th>\n",
       "      <th></th>\n",
       "    </tr>\n",
       "  </thead>\n",
       "  <tbody>\n",
       "    <tr>\n",
       "      <th>ARHGEF10L</th>\n",
       "      <td>1.000000</td>\n",
       "      <td>-0.044445</td>\n",
       "      <td>0.179145</td>\n",
       "      <td>-0.249363</td>\n",
       "      <td>-0.221152</td>\n",
       "      <td>0.284912</td>\n",
       "      <td>-0.165209</td>\n",
       "      <td>-0.183334</td>\n",
       "      <td>0.093211</td>\n",
       "      <td>-0.257420</td>\n",
       "      <td>...</td>\n",
       "      <td>0.165054</td>\n",
       "      <td>0.068032</td>\n",
       "      <td>-0.201306</td>\n",
       "      <td>0.084035</td>\n",
       "      <td>-0.158253</td>\n",
       "      <td>-0.314865</td>\n",
       "      <td>0.261985</td>\n",
       "      <td>-0.149132</td>\n",
       "      <td>-0.157872</td>\n",
       "      <td>0.286024</td>\n",
       "    </tr>\n",
       "    <tr>\n",
       "      <th>HIF3A</th>\n",
       "      <td>-0.044445</td>\n",
       "      <td>1.000000</td>\n",
       "      <td>-0.124881</td>\n",
       "      <td>0.158574</td>\n",
       "      <td>-0.137652</td>\n",
       "      <td>-0.182319</td>\n",
       "      <td>0.439664</td>\n",
       "      <td>0.200263</td>\n",
       "      <td>0.029148</td>\n",
       "      <td>0.231746</td>\n",
       "      <td>...</td>\n",
       "      <td>0.408364</td>\n",
       "      <td>-0.297022</td>\n",
       "      <td>0.290151</td>\n",
       "      <td>0.183253</td>\n",
       "      <td>0.314144</td>\n",
       "      <td>0.494194</td>\n",
       "      <td>-0.374078</td>\n",
       "      <td>0.391042</td>\n",
       "      <td>-0.166654</td>\n",
       "      <td>-0.364318</td>\n",
       "    </tr>\n",
       "    <tr>\n",
       "      <th>RNF10</th>\n",
       "      <td>0.179145</td>\n",
       "      <td>-0.124881</td>\n",
       "      <td>1.000000</td>\n",
       "      <td>0.069303</td>\n",
       "      <td>-0.127804</td>\n",
       "      <td>-0.014772</td>\n",
       "      <td>-0.168285</td>\n",
       "      <td>0.074468</td>\n",
       "      <td>-0.152643</td>\n",
       "      <td>0.035507</td>\n",
       "      <td>...</td>\n",
       "      <td>-0.296245</td>\n",
       "      <td>0.474871</td>\n",
       "      <td>-0.249598</td>\n",
       "      <td>-0.348610</td>\n",
       "      <td>-0.398006</td>\n",
       "      <td>-0.173006</td>\n",
       "      <td>0.242310</td>\n",
       "      <td>-0.018560</td>\n",
       "      <td>0.205845</td>\n",
       "      <td>0.442828</td>\n",
       "    </tr>\n",
       "    <tr>\n",
       "      <th>RNF11</th>\n",
       "      <td>-0.249363</td>\n",
       "      <td>0.158574</td>\n",
       "      <td>0.069303</td>\n",
       "      <td>1.000000</td>\n",
       "      <td>0.402193</td>\n",
       "      <td>-0.258238</td>\n",
       "      <td>0.180592</td>\n",
       "      <td>0.147279</td>\n",
       "      <td>-0.505219</td>\n",
       "      <td>0.539867</td>\n",
       "      <td>...</td>\n",
       "      <td>-0.109895</td>\n",
       "      <td>-0.074321</td>\n",
       "      <td>-0.016732</td>\n",
       "      <td>-0.266333</td>\n",
       "      <td>-0.115785</td>\n",
       "      <td>0.398233</td>\n",
       "      <td>-0.382609</td>\n",
       "      <td>0.401362</td>\n",
       "      <td>0.047133</td>\n",
       "      <td>-0.155069</td>\n",
       "    </tr>\n",
       "    <tr>\n",
       "      <th>RNF13</th>\n",
       "      <td>-0.221152</td>\n",
       "      <td>-0.137652</td>\n",
       "      <td>-0.127804</td>\n",
       "      <td>0.402193</td>\n",
       "      <td>1.000000</td>\n",
       "      <td>-0.055859</td>\n",
       "      <td>-0.157791</td>\n",
       "      <td>-0.018438</td>\n",
       "      <td>-0.289225</td>\n",
       "      <td>0.388251</td>\n",
       "      <td>...</td>\n",
       "      <td>-0.359854</td>\n",
       "      <td>-0.050206</td>\n",
       "      <td>-0.073661</td>\n",
       "      <td>-0.163412</td>\n",
       "      <td>-0.229333</td>\n",
       "      <td>0.003877</td>\n",
       "      <td>0.006808</td>\n",
       "      <td>0.024552</td>\n",
       "      <td>0.140533</td>\n",
       "      <td>-0.044802</td>\n",
       "    </tr>\n",
       "    <tr>\n",
       "      <th>...</th>\n",
       "      <td>...</td>\n",
       "      <td>...</td>\n",
       "      <td>...</td>\n",
       "      <td>...</td>\n",
       "      <td>...</td>\n",
       "      <td>...</td>\n",
       "      <td>...</td>\n",
       "      <td>...</td>\n",
       "      <td>...</td>\n",
       "      <td>...</td>\n",
       "      <td>...</td>\n",
       "      <td>...</td>\n",
       "      <td>...</td>\n",
       "      <td>...</td>\n",
       "      <td>...</td>\n",
       "      <td>...</td>\n",
       "      <td>...</td>\n",
       "      <td>...</td>\n",
       "      <td>...</td>\n",
       "      <td>...</td>\n",
       "      <td>...</td>\n",
       "    </tr>\n",
       "    <tr>\n",
       "      <th>BCL6B</th>\n",
       "      <td>-0.314865</td>\n",
       "      <td>0.494194</td>\n",
       "      <td>-0.173006</td>\n",
       "      <td>0.398233</td>\n",
       "      <td>0.003877</td>\n",
       "      <td>-0.536885</td>\n",
       "      <td>0.723028</td>\n",
       "      <td>0.398131</td>\n",
       "      <td>-0.013401</td>\n",
       "      <td>0.433930</td>\n",
       "      <td>...</td>\n",
       "      <td>0.429432</td>\n",
       "      <td>-0.307203</td>\n",
       "      <td>0.569647</td>\n",
       "      <td>0.001985</td>\n",
       "      <td>0.431921</td>\n",
       "      <td>1.000000</td>\n",
       "      <td>-0.557993</td>\n",
       "      <td>0.611653</td>\n",
       "      <td>-0.068570</td>\n",
       "      <td>-0.550064</td>\n",
       "    </tr>\n",
       "    <tr>\n",
       "      <th>GSTK1</th>\n",
       "      <td>0.261985</td>\n",
       "      <td>-0.374078</td>\n",
       "      <td>0.242310</td>\n",
       "      <td>-0.382609</td>\n",
       "      <td>0.006808</td>\n",
       "      <td>0.375453</td>\n",
       "      <td>-0.404440</td>\n",
       "      <td>-0.270159</td>\n",
       "      <td>0.392699</td>\n",
       "      <td>-0.422509</td>\n",
       "      <td>...</td>\n",
       "      <td>-0.379395</td>\n",
       "      <td>0.404323</td>\n",
       "      <td>-0.268244</td>\n",
       "      <td>-0.215159</td>\n",
       "      <td>-0.281217</td>\n",
       "      <td>-0.557993</td>\n",
       "      <td>1.000000</td>\n",
       "      <td>-0.412254</td>\n",
       "      <td>0.303472</td>\n",
       "      <td>0.450171</td>\n",
       "    </tr>\n",
       "    <tr>\n",
       "      <th>SELP</th>\n",
       "      <td>-0.149132</td>\n",
       "      <td>0.391042</td>\n",
       "      <td>-0.018560</td>\n",
       "      <td>0.401362</td>\n",
       "      <td>0.024552</td>\n",
       "      <td>-0.281338</td>\n",
       "      <td>0.558138</td>\n",
       "      <td>0.200524</td>\n",
       "      <td>-0.176959</td>\n",
       "      <td>0.295047</td>\n",
       "      <td>...</td>\n",
       "      <td>0.289129</td>\n",
       "      <td>-0.199583</td>\n",
       "      <td>0.488025</td>\n",
       "      <td>-0.055974</td>\n",
       "      <td>0.319104</td>\n",
       "      <td>0.611653</td>\n",
       "      <td>-0.412254</td>\n",
       "      <td>1.000000</td>\n",
       "      <td>-0.154871</td>\n",
       "      <td>-0.366812</td>\n",
       "    </tr>\n",
       "    <tr>\n",
       "      <th>SELS</th>\n",
       "      <td>-0.157872</td>\n",
       "      <td>-0.166654</td>\n",
       "      <td>0.205845</td>\n",
       "      <td>0.047133</td>\n",
       "      <td>0.140533</td>\n",
       "      <td>-0.129959</td>\n",
       "      <td>-0.113804</td>\n",
       "      <td>0.008727</td>\n",
       "      <td>0.133980</td>\n",
       "      <td>-0.004956</td>\n",
       "      <td>...</td>\n",
       "      <td>-0.281388</td>\n",
       "      <td>0.470373</td>\n",
       "      <td>-0.094524</td>\n",
       "      <td>-0.399089</td>\n",
       "      <td>-0.142316</td>\n",
       "      <td>-0.068570</td>\n",
       "      <td>0.303472</td>\n",
       "      <td>-0.154871</td>\n",
       "      <td>1.000000</td>\n",
       "      <td>0.253846</td>\n",
       "    </tr>\n",
       "    <tr>\n",
       "      <th>Subtype</th>\n",
       "      <td>0.286024</td>\n",
       "      <td>-0.364318</td>\n",
       "      <td>0.442828</td>\n",
       "      <td>-0.155069</td>\n",
       "      <td>-0.044802</td>\n",
       "      <td>0.199277</td>\n",
       "      <td>-0.465270</td>\n",
       "      <td>-0.173478</td>\n",
       "      <td>-0.128084</td>\n",
       "      <td>-0.227694</td>\n",
       "      <td>...</td>\n",
       "      <td>-0.400939</td>\n",
       "      <td>0.517814</td>\n",
       "      <td>-0.513384</td>\n",
       "      <td>-0.383500</td>\n",
       "      <td>-0.484467</td>\n",
       "      <td>-0.550064</td>\n",
       "      <td>0.450171</td>\n",
       "      <td>-0.366812</td>\n",
       "      <td>0.253846</td>\n",
       "      <td>1.000000</td>\n",
       "    </tr>\n",
       "  </tbody>\n",
       "</table>\n",
       "<p>14604 rows × 14604 columns</p>\n",
       "</div>"
      ],
      "text/plain": [
       "sample     ARHGEF10L     HIF3A     RNF10     RNF11     RNF13   GTF2IP1  \\\n",
       "sample                                                                   \n",
       "ARHGEF10L   1.000000 -0.044445  0.179145 -0.249363 -0.221152  0.284912   \n",
       "HIF3A      -0.044445  1.000000 -0.124881  0.158574 -0.137652 -0.182319   \n",
       "RNF10       0.179145 -0.124881  1.000000  0.069303 -0.127804 -0.014772   \n",
       "RNF11      -0.249363  0.158574  0.069303  1.000000  0.402193 -0.258238   \n",
       "RNF13      -0.221152 -0.137652 -0.127804  0.402193  1.000000 -0.055859   \n",
       "...              ...       ...       ...       ...       ...       ...   \n",
       "BCL6B      -0.314865  0.494194 -0.173006  0.398233  0.003877 -0.536885   \n",
       "GSTK1       0.261985 -0.374078  0.242310 -0.382609  0.006808  0.375453   \n",
       "SELP       -0.149132  0.391042 -0.018560  0.401362  0.024552 -0.281338   \n",
       "SELS       -0.157872 -0.166654  0.205845  0.047133  0.140533 -0.129959   \n",
       "Subtype     0.286024 -0.364318  0.442828 -0.155069 -0.044802  0.199277   \n",
       "\n",
       "sample         REM1   RTN4RL2  C16orf13  FGFR1OP2  ...   PLEKHG5  METTL11A  \\\n",
       "sample                                             ...                       \n",
       "ARHGEF10L -0.165209 -0.183334  0.093211 -0.257420  ...  0.165054  0.068032   \n",
       "HIF3A      0.439664  0.200263  0.029148  0.231746  ...  0.408364 -0.297022   \n",
       "RNF10     -0.168285  0.074468 -0.152643  0.035507  ... -0.296245  0.474871   \n",
       "RNF11      0.180592  0.147279 -0.505219  0.539867  ... -0.109895 -0.074321   \n",
       "RNF13     -0.157791 -0.018438 -0.289225  0.388251  ... -0.359854 -0.050206   \n",
       "...             ...       ...       ...       ...  ...       ...       ...   \n",
       "BCL6B      0.723028  0.398131 -0.013401  0.433930  ...  0.429432 -0.307203   \n",
       "GSTK1     -0.404440 -0.270159  0.392699 -0.422509  ... -0.379395  0.404323   \n",
       "SELP       0.558138  0.200524 -0.176959  0.295047  ...  0.289129 -0.199583   \n",
       "SELS      -0.113804  0.008727  0.133980 -0.004956  ... -0.281388  0.470373   \n",
       "Subtype   -0.465270 -0.173478 -0.128084 -0.227694  ... -0.400939  0.517814   \n",
       "\n",
       "sample        GNGT2     TULP3      PTRF     BCL6B     GSTK1      SELP  \\\n",
       "sample                                                                  \n",
       "ARHGEF10L -0.201306  0.084035 -0.158253 -0.314865  0.261985 -0.149132   \n",
       "HIF3A      0.290151  0.183253  0.314144  0.494194 -0.374078  0.391042   \n",
       "RNF10     -0.249598 -0.348610 -0.398006 -0.173006  0.242310 -0.018560   \n",
       "RNF11     -0.016732 -0.266333 -0.115785  0.398233 -0.382609  0.401362   \n",
       "RNF13     -0.073661 -0.163412 -0.229333  0.003877  0.006808  0.024552   \n",
       "...             ...       ...       ...       ...       ...       ...   \n",
       "BCL6B      0.569647  0.001985  0.431921  1.000000 -0.557993  0.611653   \n",
       "GSTK1     -0.268244 -0.215159 -0.281217 -0.557993  1.000000 -0.412254   \n",
       "SELP       0.488025 -0.055974  0.319104  0.611653 -0.412254  1.000000   \n",
       "SELS      -0.094524 -0.399089 -0.142316 -0.068570  0.303472 -0.154871   \n",
       "Subtype   -0.513384 -0.383500 -0.484467 -0.550064  0.450171 -0.366812   \n",
       "\n",
       "sample         SELS   Subtype  \n",
       "sample                         \n",
       "ARHGEF10L -0.157872  0.286024  \n",
       "HIF3A     -0.166654 -0.364318  \n",
       "RNF10      0.205845  0.442828  \n",
       "RNF11      0.047133 -0.155069  \n",
       "RNF13      0.140533 -0.044802  \n",
       "...             ...       ...  \n",
       "BCL6B     -0.068570 -0.550064  \n",
       "GSTK1      0.303472  0.450171  \n",
       "SELP      -0.154871 -0.366812  \n",
       "SELS       1.000000  0.253846  \n",
       "Subtype    0.253846  1.000000  \n",
       "\n",
       "[14604 rows x 14604 columns]"
      ]
     },
     "execution_count": 90,
     "metadata": {},
     "output_type": "execute_result"
    }
   ],
   "source": [
    "# use Pearson correlation to find the correlation between variables\n",
    "cor = df.corr(method='pearson')\n",
    "cor"
   ]
  },
  {
   "cell_type": "code",
   "execution_count": 91,
   "id": "c2941615",
   "metadata": {},
   "outputs": [
    {
     "data": {
      "text/plain": [
       "sample    sample  \n",
       "C1QC      C1QB        0.989658\n",
       "TMEM176B  TMEM176A    0.985748\n",
       "C1QB      C1QA        0.985031\n",
       "CD3E      CD2         0.977448\n",
       "CDH5      CD34        0.976007\n",
       "                        ...   \n",
       "CD6       PLCB2       0.800005\n",
       "CDK5RAP3  C6orf26     0.800005\n",
       "MS4A6A    TREM2       0.800004\n",
       "LCK       IL2RB       0.800002\n",
       "COX8A     SNRNP25     0.800002\n",
       "Length: 45906, dtype: float64"
      ]
     },
     "execution_count": 91,
     "metadata": {},
     "output_type": "execute_result"
    }
   ],
   "source": [
    "c1 = cor.stack().sort_values(ascending=False).drop_duplicates()\n",
    "high_cor = c1[c1.values!=1]    \n",
    "high_cor[high_cor>0.8]"
   ]
  },
  {
   "cell_type": "code",
   "execution_count": 92,
   "id": "7432e20a",
   "metadata": {},
   "outputs": [],
   "source": [
    "# MultiIndex into temp file\n",
    "temp= high_cor[high_cor>0.8].index"
   ]
  },
  {
   "cell_type": "code",
   "execution_count": 93,
   "id": "ab50dd5c",
   "metadata": {},
   "outputs": [],
   "source": [
    "# temp set for store features which are high correlated\n",
    "tset=set()"
   ]
  },
  {
   "cell_type": "code",
   "execution_count": 94,
   "id": "56b7d915",
   "metadata": {},
   "outputs": [],
   "source": [
    "for i in range(temp.size):\n",
    "    tset.add(temp[i][0])"
   ]
  },
  {
   "cell_type": "code",
   "execution_count": 95,
   "id": "10a86f93",
   "metadata": {},
   "outputs": [
    {
     "data": {
      "text/plain": [
       "2804"
      ]
     },
     "execution_count": 95,
     "metadata": {},
     "output_type": "execute_result"
    }
   ],
   "source": [
    "len(tset)"
   ]
  },
  {
   "cell_type": "code",
   "execution_count": 96,
   "id": "e303e99e",
   "metadata": {},
   "outputs": [
    {
     "data": {
      "text/plain": [
       "{'AMICA1',\n",
       " 'HOXB6',\n",
       " 'FLJ45340',\n",
       " 'ADCY4',\n",
       " 'EDNRA',\n",
       " 'FOXO3',\n",
       " 'HEY1',\n",
       " 'C7orf43',\n",
       " 'EOMES',\n",
       " 'GLTSCR2',\n",
       " 'CCDC78',\n",
       " 'PTPRG',\n",
       " 'SLC25A10',\n",
       " 'USP12',\n",
       " 'SH2D1A',\n",
       " 'GOT1',\n",
       " 'MDN1',\n",
       " 'BATF',\n",
       " 'ARRDC1',\n",
       " 'MMGT1',\n",
       " 'RDX',\n",
       " 'CYSLTR1',\n",
       " 'C1QA',\n",
       " 'FAM10A4',\n",
       " 'PPIL2',\n",
       " 'FLI1',\n",
       " 'RNASE2',\n",
       " 'MTF1',\n",
       " 'TTC33',\n",
       " 'CENPF',\n",
       " 'LOC150776',\n",
       " 'ATP6V1B1',\n",
       " 'RASIP1',\n",
       " 'C17orf79',\n",
       " 'PIK3CG',\n",
       " 'WSB1',\n",
       " 'KPNA5',\n",
       " 'MED11',\n",
       " 'ESCO2',\n",
       " 'JMJD1C',\n",
       " 'ZNF704',\n",
       " 'POLRMT',\n",
       " 'SS18L2',\n",
       " 'HBB',\n",
       " 'NAF1',\n",
       " 'MYBL2',\n",
       " 'PIK3C2A',\n",
       " 'SERBP1',\n",
       " 'PIK3CA',\n",
       " 'SYNPO',\n",
       " 'KCNMB1',\n",
       " 'RPS3',\n",
       " 'EPN1',\n",
       " 'C10orf10',\n",
       " 'RPS15',\n",
       " 'CYC1',\n",
       " 'PTGDR',\n",
       " 'PSMB4',\n",
       " 'PRELID1',\n",
       " 'SMEK2',\n",
       " 'LASS6',\n",
       " 'ELMO1',\n",
       " 'XPO4',\n",
       " 'SH3GLB1',\n",
       " 'RRP9',\n",
       " 'AES',\n",
       " 'PSMB3',\n",
       " 'EGFL7',\n",
       " 'TMUB1',\n",
       " 'COX5B',\n",
       " 'MPV17L2',\n",
       " 'ZDHHC21',\n",
       " 'TMEM27',\n",
       " 'OTUB1',\n",
       " 'PGF',\n",
       " 'TMSB10',\n",
       " 'KIF20B',\n",
       " 'HCK',\n",
       " 'TP53I13',\n",
       " 'ADRA2B',\n",
       " 'UHMK1',\n",
       " 'IL12RB1',\n",
       " 'CCNL2',\n",
       " 'CLEC1A',\n",
       " 'RSL24D1',\n",
       " 'RFTN1',\n",
       " 'NPTX2',\n",
       " 'EIF5AL1',\n",
       " 'SLC28A1',\n",
       " 'SPN',\n",
       " 'GGT5',\n",
       " 'MST1P9',\n",
       " 'HCCS',\n",
       " 'HLA-B',\n",
       " 'TEX264',\n",
       " 'MAPK8IP3',\n",
       " 'HSPB7',\n",
       " 'GRASP',\n",
       " 'HSD17B10',\n",
       " 'NCRNA00115',\n",
       " 'C9orf142',\n",
       " 'WDR85',\n",
       " 'TRIP13',\n",
       " 'ZNF366',\n",
       " 'LRP5L',\n",
       " 'TMEM8A',\n",
       " 'PODXL',\n",
       " 'TMEM175',\n",
       " 'PLEKHM3',\n",
       " 'ARL15',\n",
       " 'LST1',\n",
       " 'SPA17',\n",
       " 'CCDC76',\n",
       " 'TSPO',\n",
       " 'IL2RB',\n",
       " 'EIF3D',\n",
       " 'KIAA0895L',\n",
       " 'SULT1A3',\n",
       " 'HHEX',\n",
       " 'FANCI',\n",
       " 'CNOT8',\n",
       " 'TLR2',\n",
       " 'RPSA',\n",
       " 'SHANK3',\n",
       " 'ACSM5',\n",
       " 'TSNAXIP1',\n",
       " 'OSCAR',\n",
       " 'FAM26E',\n",
       " 'NDUFS1',\n",
       " 'KIAA1429',\n",
       " 'KIAA1274',\n",
       " 'PKN2',\n",
       " 'LOC100270804',\n",
       " 'ROCK1',\n",
       " 'C6orf125',\n",
       " 'ZKSCAN1',\n",
       " 'ANGPTL4',\n",
       " 'FBXO28',\n",
       " 'FOXM1',\n",
       " 'PLN',\n",
       " 'A2M',\n",
       " 'NOS1AP',\n",
       " 'SLC27A4',\n",
       " 'FAM27A',\n",
       " 'UHRF1BP1L',\n",
       " 'ZC3H13',\n",
       " 'TRPV1',\n",
       " 'LMBR1L',\n",
       " 'TIMM17B',\n",
       " 'POPDC2',\n",
       " 'MPDU1',\n",
       " 'EXOSC4',\n",
       " 'GOLGA2B',\n",
       " 'ACD',\n",
       " 'MLF1IP',\n",
       " 'TENC1',\n",
       " 'IRF3',\n",
       " 'PYGM',\n",
       " 'TOR1AIP1',\n",
       " 'LSMD1',\n",
       " 'RNF111',\n",
       " 'VWF',\n",
       " 'RRM2',\n",
       " 'C1QB',\n",
       " 'CST7',\n",
       " 'CCDC57',\n",
       " 'PRPF39',\n",
       " 'NDC80',\n",
       " 'C1QTNF6',\n",
       " 'NUF2',\n",
       " 'CEP170',\n",
       " 'FAM195B',\n",
       " 'SH2B1',\n",
       " 'C17orf37',\n",
       " 'GPX4',\n",
       " 'UBR5',\n",
       " 'ERG',\n",
       " 'CC2D1A',\n",
       " 'BIN2',\n",
       " 'PLEKHG1',\n",
       " 'FAM156A',\n",
       " 'HLA-DMB',\n",
       " 'LCP1',\n",
       " 'HEATR1',\n",
       " 'PDE2A',\n",
       " 'SASH3',\n",
       " 'SPG7',\n",
       " 'TYROBP',\n",
       " 'POLDIP2',\n",
       " 'APOC1',\n",
       " 'APLN',\n",
       " 'ZGLP1',\n",
       " 'FAM64A',\n",
       " 'CENPI',\n",
       " 'ITGAM',\n",
       " 'AGER',\n",
       " 'PLXDC1',\n",
       " 'AMY2B',\n",
       " 'NT5C',\n",
       " 'CSF2RA',\n",
       " 'GATA2',\n",
       " 'CYP4X1',\n",
       " 'LATS1',\n",
       " 'TGFBRAP1',\n",
       " 'LDB2',\n",
       " 'RHOH',\n",
       " 'UBR1',\n",
       " 'HLA-DMA',\n",
       " 'BRIP1',\n",
       " 'RFXANK',\n",
       " 'RPL41',\n",
       " 'TROAP',\n",
       " 'VCAM1',\n",
       " 'STAB1',\n",
       " 'SDHAP1',\n",
       " 'CCDC58',\n",
       " 'CTAGE4',\n",
       " 'PRSS23',\n",
       " 'FASLG',\n",
       " 'CD226',\n",
       " 'FER',\n",
       " 'SLC30A5',\n",
       " 'ATP13A1',\n",
       " 'ABHD8',\n",
       " 'INSR',\n",
       " 'C18orf1',\n",
       " 'CD5',\n",
       " 'OXNAD1',\n",
       " 'KIAA0586',\n",
       " 'GNA15',\n",
       " 'NDUFA9',\n",
       " 'PCSK6',\n",
       " 'SUZ12P',\n",
       " 'HSPA12B',\n",
       " 'GTF3C5',\n",
       " 'PTTG1',\n",
       " 'MRPL2',\n",
       " 'TUSC2',\n",
       " 'MGAT5',\n",
       " 'PREPL',\n",
       " 'NME2',\n",
       " 'ANKRD36',\n",
       " 'SLC43A3',\n",
       " 'ZNF581',\n",
       " 'NDUFS3',\n",
       " 'SH2D3C',\n",
       " 'CCDC137',\n",
       " 'SCARF1',\n",
       " 'NCF4',\n",
       " '?|155060',\n",
       " 'LSP1',\n",
       " 'LILRA6',\n",
       " 'NCAPG',\n",
       " 'RPUSD3',\n",
       " 'POLG2',\n",
       " 'TMEM134',\n",
       " 'MED1',\n",
       " 'NPAT',\n",
       " 'ATAD2',\n",
       " 'PRUNE2',\n",
       " 'SERPINE1',\n",
       " 'PNMA2',\n",
       " 'PSMC5',\n",
       " 'SUCLG1',\n",
       " 'SBNO1',\n",
       " 'LEPRE1',\n",
       " 'SPARC',\n",
       " 'GIMAP2',\n",
       " 'HSF1',\n",
       " 'NDUFS2',\n",
       " 'KDR',\n",
       " 'TRIP11',\n",
       " 'DNAH7',\n",
       " 'FH',\n",
       " 'PCNXL3',\n",
       " 'NEURL4',\n",
       " 'S1PR1',\n",
       " 'CXCL11',\n",
       " 'TRIB2',\n",
       " 'KLRB1',\n",
       " 'MFAP3',\n",
       " 'HNF4A',\n",
       " 'ANXA2P1',\n",
       " 'OLFML1',\n",
       " 'SKA1',\n",
       " 'MRPL4',\n",
       " 'FOS',\n",
       " 'MAP4K1',\n",
       " 'ARHGAP25',\n",
       " 'CHKB-CPT1B',\n",
       " 'SHARPIN',\n",
       " 'PDLIM1',\n",
       " 'SETD2',\n",
       " 'MLST8',\n",
       " 'ATP6V1D',\n",
       " 'DHRS4L2',\n",
       " 'MUDENG',\n",
       " 'FBN1',\n",
       " 'C19orf6',\n",
       " 'TAF1C',\n",
       " 'PQLC2',\n",
       " 'LRRC48',\n",
       " 'DOK2',\n",
       " 'DOCK6',\n",
       " 'C14orf106',\n",
       " 'EEF1D',\n",
       " 'S100A11',\n",
       " 'RNF207',\n",
       " 'PHAX',\n",
       " 'CYCS',\n",
       " 'YIF1A',\n",
       " 'HOXA10',\n",
       " 'LPXN',\n",
       " 'SPSB3',\n",
       " 'LMNB1',\n",
       " 'PLK1',\n",
       " 'TBCB',\n",
       " 'HMOX2',\n",
       " 'LPP',\n",
       " 'ITGB2',\n",
       " 'PIP4K2C',\n",
       " 'ODF3B',\n",
       " 'HCFC1R1',\n",
       " 'ANAPC1',\n",
       " 'CD34',\n",
       " 'C20orf7',\n",
       " 'ZBTB17',\n",
       " '4-Sep',\n",
       " 'NCRNA00201',\n",
       " 'MTMR11',\n",
       " 'PLSCR3',\n",
       " 'C7orf55',\n",
       " 'FCN3',\n",
       " 'CD248',\n",
       " 'SETMAR',\n",
       " 'MRPL55',\n",
       " 'PYHIN1',\n",
       " 'UQCRC2',\n",
       " 'C20orf177',\n",
       " 'DNAH1',\n",
       " 'ZNF420',\n",
       " 'ARAP3',\n",
       " 'FOLR2',\n",
       " 'SNRPA',\n",
       " 'NDUFA3',\n",
       " 'CORO1B',\n",
       " 'MPPED2',\n",
       " 'PSMD13',\n",
       " 'EMG1',\n",
       " 'COPS7A',\n",
       " 'PEAR1',\n",
       " 'RASSF7',\n",
       " 'KIF26A',\n",
       " 'RGP1',\n",
       " 'FOLH1',\n",
       " 'SHE',\n",
       " 'KRTCAP2',\n",
       " 'RPL15',\n",
       " 'KCNE3',\n",
       " 'C20orf202',\n",
       " 'ZNF446',\n",
       " 'G3BP2',\n",
       " 'HPCAL1',\n",
       " 'CSRP1',\n",
       " 'C17orf90',\n",
       " 'BRCA2',\n",
       " 'GNA11',\n",
       " 'RCSD1',\n",
       " 'C16orf61',\n",
       " 'ETV3',\n",
       " 'KIF5C',\n",
       " 'COPE',\n",
       " 'THEMIS',\n",
       " 'MELK',\n",
       " 'ARFRP1',\n",
       " 'ARL11',\n",
       " 'MRPL51',\n",
       " 'UBXN7',\n",
       " 'PRAM1',\n",
       " 'PODN',\n",
       " 'NDUFA12',\n",
       " 'MARVELD2',\n",
       " 'FCGR2C',\n",
       " 'TRPM2',\n",
       " 'CENPT',\n",
       " 'FLYWCH1',\n",
       " 'QKI',\n",
       " 'SPTY2D1',\n",
       " 'EXOSC7',\n",
       " 'COX8A',\n",
       " 'MFNG',\n",
       " 'PARP9',\n",
       " 'LOC284441',\n",
       " 'SNX12',\n",
       " 'TAL1',\n",
       " '?|90288',\n",
       " 'CLK1',\n",
       " 'UNC5CL',\n",
       " 'COL15A1',\n",
       " 'USH1C',\n",
       " 'ACAP2',\n",
       " 'BOLA2',\n",
       " 'NPIP',\n",
       " 'PLXNA2',\n",
       " 'GNAI3',\n",
       " 'RFTN2',\n",
       " 'TACO1',\n",
       " 'STX16',\n",
       " 'ARGLU1',\n",
       " 'DCTN6',\n",
       " 'PTGIR',\n",
       " 'NDUFB2',\n",
       " 'C19orf43',\n",
       " 'GUCY1A2',\n",
       " 'C1QTNF2',\n",
       " 'C20orf199',\n",
       " 'SPRY4',\n",
       " 'KDM5A',\n",
       " 'LOC645166',\n",
       " 'LPIN3',\n",
       " 'ELK4',\n",
       " 'GFM1',\n",
       " 'EXOC3L2',\n",
       " 'OAS2',\n",
       " 'PELI1',\n",
       " 'G6PD',\n",
       " 'ZRANB2',\n",
       " 'LYZ',\n",
       " 'SELO',\n",
       " 'VTI1B',\n",
       " 'NOTCH4',\n",
       " 'PLCB2',\n",
       " 'NAT8',\n",
       " 'RNF123',\n",
       " 'SGSM3',\n",
       " 'GTF3C4',\n",
       " 'DNAJC4',\n",
       " 'IPMK',\n",
       " 'PRF1',\n",
       " 'VEGFA',\n",
       " 'SELPLG',\n",
       " 'IL2RG',\n",
       " 'TSTA3',\n",
       " 'NDUFB8',\n",
       " 'MRPL24',\n",
       " 'LOC100129637',\n",
       " 'GPR137',\n",
       " 'ARHGAP5',\n",
       " 'MPEG1',\n",
       " 'SWAP70',\n",
       " 'TCEAL6',\n",
       " 'ISLR',\n",
       " 'CSTA',\n",
       " 'LOC145820',\n",
       " 'NDUFA4L2',\n",
       " 'NID2',\n",
       " 'SIGLEC9',\n",
       " 'KHK',\n",
       " 'RASGRP3',\n",
       " 'LEPROT',\n",
       " 'STK17B',\n",
       " 'FAM71E1',\n",
       " 'OGFOD2',\n",
       " 'LRCH4',\n",
       " 'ARHGAP9',\n",
       " 'NDUFC2',\n",
       " 'ANKRD17',\n",
       " 'HEATR5B',\n",
       " 'NCRNA00105',\n",
       " 'WDR74',\n",
       " 'KIF14',\n",
       " 'RLTPR',\n",
       " 'EPHA3',\n",
       " 'NDUFV1',\n",
       " 'ARL2',\n",
       " 'ARMC1',\n",
       " 'TCTE3',\n",
       " 'LRSAM1',\n",
       " 'GOLIM4',\n",
       " 'LARS2',\n",
       " 'RABEP2',\n",
       " 'ZNF699',\n",
       " 'GZMK',\n",
       " 'ACAP1',\n",
       " 'GPR109B',\n",
       " 'PKMYT1',\n",
       " 'C8orf59',\n",
       " 'PPTC7',\n",
       " 'UPB1',\n",
       " 'C11orf30',\n",
       " 'LOC100128288',\n",
       " 'RPL29',\n",
       " 'PCYT2',\n",
       " 'LOC100288778',\n",
       " 'TMEM141',\n",
       " 'ENTPD1',\n",
       " 'ITGA5',\n",
       " 'GABRD',\n",
       " 'GPIHBP1',\n",
       " 'ALMS1',\n",
       " 'LOC100129034',\n",
       " 'RPL10',\n",
       " 'C17orf49',\n",
       " 'LOC100133161',\n",
       " 'CTSW',\n",
       " 'L3MBTL',\n",
       " 'ATP6V1F',\n",
       " 'C1QC',\n",
       " 'SLC16A9',\n",
       " 'LOC100130557',\n",
       " 'KIAA2018',\n",
       " 'RPL37A',\n",
       " 'TMEM200A',\n",
       " 'DEPDC1',\n",
       " 'ANLN',\n",
       " 'RAMP3',\n",
       " 'RUVBL2',\n",
       " 'FCGR3A',\n",
       " 'ABCB8',\n",
       " 'C11orf51',\n",
       " 'CLEC14A',\n",
       " 'HOXB8',\n",
       " 'GTF2A1',\n",
       " 'POSTN',\n",
       " 'TBX21',\n",
       " 'STUB1',\n",
       " 'SAMHD1',\n",
       " 'NDUFA2',\n",
       " 'RNMTL1',\n",
       " 'NPRL3',\n",
       " 'GTF2I',\n",
       " 'CNST',\n",
       " 'GGTLC2',\n",
       " 'EIF5A',\n",
       " 'THSD1',\n",
       " 'TTBK2',\n",
       " 'PELP1',\n",
       " 'FAIM3',\n",
       " 'SLC16A1',\n",
       " 'FGD2',\n",
       " 'ATG4B',\n",
       " 'NNT',\n",
       " 'CCDC103',\n",
       " 'MRPL41',\n",
       " 'U2AF1L4',\n",
       " 'TLR6',\n",
       " 'EPSTI1',\n",
       " 'CDCA2',\n",
       " 'CENPA',\n",
       " 'MRPL38',\n",
       " 'HVCN1',\n",
       " 'COL3A1',\n",
       " 'COMMD4',\n",
       " 'SPARCL1',\n",
       " 'RPS20',\n",
       " 'ZNF827',\n",
       " 'HMMR',\n",
       " 'TRPC4',\n",
       " 'PARVG',\n",
       " 'SOCS7',\n",
       " 'FOXD4L1',\n",
       " 'RASGRP2',\n",
       " 'FLJ23867',\n",
       " 'CDCA3',\n",
       " 'TMEM93',\n",
       " 'TOMM40',\n",
       " 'SPCS1',\n",
       " 'ZDHHC24',\n",
       " 'NOSIP',\n",
       " 'IGBP1',\n",
       " '8-Mar',\n",
       " 'NBPF9',\n",
       " 'AIF1',\n",
       " 'CYGB',\n",
       " 'NBEAL1',\n",
       " 'LRRC25',\n",
       " 'TIMP1',\n",
       " 'NPIPL3',\n",
       " 'NAA10',\n",
       " 'LUM',\n",
       " 'CYP2D6',\n",
       " 'WDR6',\n",
       " 'DAPP1',\n",
       " 'TAOK1',\n",
       " 'STC2',\n",
       " 'EIF3G',\n",
       " 'S1PR4',\n",
       " 'AQR',\n",
       " 'C22orf30',\n",
       " 'SH3BGRL3',\n",
       " 'TELO2',\n",
       " 'VIM',\n",
       " 'GLYATL1',\n",
       " 'ZNF658',\n",
       " 'PLXNC1',\n",
       " 'SGK196',\n",
       " 'RNF125',\n",
       " 'BTK',\n",
       " 'SLC5A10',\n",
       " 'SIGLEC7',\n",
       " 'GPATCH8',\n",
       " 'AIP',\n",
       " 'ZNF787',\n",
       " 'ZFX',\n",
       " 'KLC2',\n",
       " 'DCI',\n",
       " 'GOLGA8B',\n",
       " 'RPUSD1',\n",
       " 'C8orf30A',\n",
       " 'GK',\n",
       " 'FBXO8',\n",
       " 'GCDH',\n",
       " 'ATP5I',\n",
       " 'ZNF282',\n",
       " 'ENGASE',\n",
       " 'LILRB1',\n",
       " 'SLAMF8',\n",
       " 'SLC25A24',\n",
       " 'C7orf59',\n",
       " 'MRPL34',\n",
       " 'COX6C',\n",
       " 'VAC14',\n",
       " 'ACAP3',\n",
       " 'MNDA',\n",
       " 'CXCL9',\n",
       " 'SNHG11',\n",
       " 'GOLGA6L10',\n",
       " 'RPS13',\n",
       " 'KCTD13',\n",
       " 'RNASE1',\n",
       " 'ZNF205',\n",
       " 'NCOA1',\n",
       " 'SIPA1',\n",
       " 'TMEM91',\n",
       " 'UNC119',\n",
       " 'CEP97',\n",
       " 'GET4',\n",
       " 'CXCR6',\n",
       " 'SYNJ2BP',\n",
       " 'PHF3',\n",
       " 'EMR2',\n",
       " 'ZNF831',\n",
       " 'RAPGEF4',\n",
       " 'CHM',\n",
       " 'FAM72B',\n",
       " 'SKIL',\n",
       " 'GAK',\n",
       " 'CX3CR1',\n",
       " 'TSSC4',\n",
       " 'PGLS',\n",
       " 'REEP3',\n",
       " 'GPS2',\n",
       " 'RPL27A',\n",
       " 'SLC39A3',\n",
       " 'ZBTB41',\n",
       " 'TBC1D1',\n",
       " 'LOC100133331',\n",
       " 'ZNF678',\n",
       " 'GPR84',\n",
       " 'HLA-DRB1',\n",
       " 'FAM78A',\n",
       " 'DDX60',\n",
       " 'RBM39',\n",
       " 'MRPL48',\n",
       " 'PLIN2',\n",
       " 'C2orf81',\n",
       " 'TIE1',\n",
       " 'LIMD2',\n",
       " 'C10orf79',\n",
       " 'PPP2R5E',\n",
       " 'ACAN',\n",
       " 'SOX18',\n",
       " 'POLQ',\n",
       " 'NKG7',\n",
       " 'HOXA11',\n",
       " 'CPNE5',\n",
       " 'C7orf27',\n",
       " 'SAP30',\n",
       " 'ATG16L2',\n",
       " 'EIF2AK2',\n",
       " 'C17orf60',\n",
       " 'TLR10',\n",
       " 'BAG4',\n",
       " 'TAZ',\n",
       " 'PDZK1IP1',\n",
       " 'ADM',\n",
       " 'FLYWCH2',\n",
       " 'MRPS18A',\n",
       " 'ZAP70',\n",
       " 'MFGE8',\n",
       " 'CSGALNACT2',\n",
       " 'DMTF1',\n",
       " 'CENPK',\n",
       " 'TUFM',\n",
       " 'HLA-DOB',\n",
       " 'ZNF304',\n",
       " 'PCCB',\n",
       " 'PLA2G6',\n",
       " 'S1PR3',\n",
       " 'MTX1',\n",
       " 'GNB2L1',\n",
       " 'LCK',\n",
       " 'LOC100272228',\n",
       " 'ATP5A1',\n",
       " 'SFRS16',\n",
       " 'LOC338799',\n",
       " 'COL5A2',\n",
       " 'RASAL3',\n",
       " 'SF3B5',\n",
       " 'PSMB6',\n",
       " 'KIF18A',\n",
       " 'FOXS1',\n",
       " 'ARID4B',\n",
       " 'DDX21',\n",
       " 'LNPEP',\n",
       " 'PCDHB10',\n",
       " 'IMMT',\n",
       " 'KIAA1462',\n",
       " 'HLA-DQA1',\n",
       " 'KCNAB1',\n",
       " 'RPL32',\n",
       " 'NETO2',\n",
       " 'P2RX7',\n",
       " 'OIP5',\n",
       " 'JAG2',\n",
       " 'SENP6',\n",
       " 'ATP5B',\n",
       " 'SFI1',\n",
       " 'TIMM50',\n",
       " 'GSTK1',\n",
       " 'NME3',\n",
       " 'CDK18',\n",
       " 'AKAP11',\n",
       " 'FCER1G',\n",
       " 'RPL23',\n",
       " 'MS4A7',\n",
       " 'HIST1H2BD',\n",
       " 'CDC45',\n",
       " 'GTF2H3',\n",
       " 'CCNB1',\n",
       " 'GIPC1',\n",
       " 'USP37',\n",
       " 'SLFN11',\n",
       " 'PRDM16',\n",
       " 'DOCK2',\n",
       " 'SF3A2',\n",
       " 'SMAD4',\n",
       " 'COX4I1',\n",
       " 'NCKAP1',\n",
       " 'B3GAT3',\n",
       " 'CENPE',\n",
       " 'ACRC',\n",
       " 'C19orf51',\n",
       " 'CXCR4',\n",
       " 'PTPN23',\n",
       " 'RAC2',\n",
       " 'MYST3',\n",
       " 'VGLL3',\n",
       " 'ARFGEF2',\n",
       " 'GRAP',\n",
       " 'RPL23A',\n",
       " 'RSPRY1',\n",
       " 'PDZK1',\n",
       " 'BMS1P5',\n",
       " 'GPS1',\n",
       " 'CYTH4',\n",
       " 'GPR82',\n",
       " 'CLSPN',\n",
       " 'ADORA3',\n",
       " 'NAT9',\n",
       " 'SMARCA5',\n",
       " 'SPTBN2',\n",
       " 'CCL5',\n",
       " 'FAM124B',\n",
       " 'LRWD1',\n",
       " 'DNHD1',\n",
       " 'PCNX',\n",
       " 'RPP14',\n",
       " 'KIF21B',\n",
       " 'DPYSL2',\n",
       " 'IL6ST',\n",
       " 'CXCR3',\n",
       " 'C3orf70',\n",
       " 'C16orf48',\n",
       " 'CSNK2A1P',\n",
       " 'PDK1',\n",
       " 'C7orf50',\n",
       " 'IQUB',\n",
       " 'C3orf35',\n",
       " 'CLDN2',\n",
       " 'GPR171',\n",
       " 'APOOL',\n",
       " 'TMED9',\n",
       " 'FCGR2A',\n",
       " 'SPDYE1',\n",
       " 'ZNF767',\n",
       " 'POU2F2',\n",
       " 'C16orf79',\n",
       " 'LSM4',\n",
       " 'RPL28',\n",
       " 'FCRL6',\n",
       " 'LAIR1',\n",
       " 'ZNF668',\n",
       " 'AOAH',\n",
       " 'GPR18',\n",
       " 'COPS6',\n",
       " 'RPL35',\n",
       " 'GNRH1',\n",
       " 'RPS2',\n",
       " 'CLEC18A',\n",
       " 'RPL24',\n",
       " 'MACROD1',\n",
       " 'WDR27',\n",
       " 'SRFBP1',\n",
       " 'WASH7P',\n",
       " 'GOT2',\n",
       " 'COPB1',\n",
       " 'AAAS',\n",
       " 'TOX2',\n",
       " 'MKKS',\n",
       " 'JMJD7-PLA2G4B',\n",
       " 'WIPF1',\n",
       " 'LOC643008',\n",
       " 'TRMT2A',\n",
       " 'EEF1A1P9',\n",
       " 'ANGPT1',\n",
       " 'MX2',\n",
       " 'CLTB',\n",
       " 'CCNT1',\n",
       " 'FKTN',\n",
       " 'PPP1R14B',\n",
       " 'CORO6',\n",
       " 'S100A9',\n",
       " 'ASNSD1',\n",
       " 'TREM2',\n",
       " 'AP1G2',\n",
       " 'HDGFRP2',\n",
       " 'YIPF5',\n",
       " 'CD28',\n",
       " 'DPP8',\n",
       " 'ATF3',\n",
       " 'FKBP2',\n",
       " 'GJA5',\n",
       " 'HTR7',\n",
       " 'SPC25',\n",
       " 'ARF5',\n",
       " 'FCGR1A',\n",
       " 'NDUFAF3',\n",
       " 'C15orf42',\n",
       " 'DRAP1',\n",
       " 'PJA2',\n",
       " 'ZFP91',\n",
       " 'MPG',\n",
       " 'LUC7L',\n",
       " 'KIF15',\n",
       " 'C11orf21',\n",
       " 'SNRNP25',\n",
       " 'EYA3',\n",
       " 'C4orf21',\n",
       " 'EBI3',\n",
       " 'ATP6V1H',\n",
       " 'ITGA4',\n",
       " 'CD163',\n",
       " 'SOS1',\n",
       " 'SNF8',\n",
       " 'LOC646851',\n",
       " 'TSEN54',\n",
       " 'RPS23',\n",
       " 'AIMP2',\n",
       " 'ZNF395',\n",
       " 'SSNA1',\n",
       " 'HLA-A',\n",
       " 'C1RL',\n",
       " 'DDX3X',\n",
       " 'MYO1F',\n",
       " 'POLK',\n",
       " 'ABHD14B',\n",
       " 'PRR14',\n",
       " 'SGK269',\n",
       " 'ZNF529',\n",
       " 'LYL1',\n",
       " 'PET112L',\n",
       " 'IPP',\n",
       " 'SCAF1',\n",
       " 'GGTA1',\n",
       " 'RAP2A',\n",
       " 'SARS2',\n",
       " 'CDC6',\n",
       " 'SIRPB1',\n",
       " 'CCNT2',\n",
       " 'INPP5D',\n",
       " 'SCML4',\n",
       " 'NIT2',\n",
       " 'HMBS',\n",
       " 'NHLRC4',\n",
       " 'FAM35B',\n",
       " 'NDUFA13',\n",
       " 'FAM167B',\n",
       " 'SGTA',\n",
       " 'PPDPF',\n",
       " 'LOC221442',\n",
       " 'CD84',\n",
       " 'NDUFB4',\n",
       " 'WAC',\n",
       " 'GMFG',\n",
       " 'THAP7',\n",
       " 'ZNF137',\n",
       " 'LGI4',\n",
       " 'SLC16A4',\n",
       " 'KIF2C',\n",
       " 'API5',\n",
       " 'IKZF1',\n",
       " 'S1PR5',\n",
       " 'ARHGAP33',\n",
       " 'PPP1CA',\n",
       " 'UQCRQ',\n",
       " 'RNF126',\n",
       " 'CCDC71',\n",
       " 'WDR78',\n",
       " 'TTK',\n",
       " 'RPS10',\n",
       " 'TPX2',\n",
       " 'EMR1',\n",
       " 'GUCY1B3',\n",
       " 'CDCA8',\n",
       " 'CHCHD10',\n",
       " 'ZNF585A',\n",
       " 'SBF2',\n",
       " 'NTN1',\n",
       " 'IDE',\n",
       " 'EFHC1',\n",
       " 'SLC2A3',\n",
       " 'MRPS15',\n",
       " 'PIGQ',\n",
       " 'KLHL5',\n",
       " 'ACTA2',\n",
       " 'DRG2',\n",
       " 'PDCD1LG2',\n",
       " 'ATP5H',\n",
       " 'GTSE1',\n",
       " 'PNPO',\n",
       " 'CARD16',\n",
       " 'MGC29506',\n",
       " 'NGF',\n",
       " 'HLA-DOA',\n",
       " 'NKIRAS2',\n",
       " 'RGS18',\n",
       " 'LCAT',\n",
       " 'PBK',\n",
       " 'C19orf62',\n",
       " 'PDIA3',\n",
       " 'COL4A2',\n",
       " 'C17orf65',\n",
       " 'PTPN22',\n",
       " 'DOK4',\n",
       " 'CCDC124',\n",
       " 'FAHD2A',\n",
       " 'CDK5RAP3',\n",
       " 'NEURL1B',\n",
       " 'COL14A1',\n",
       " 'G3BP1',\n",
       " 'GMCL1',\n",
       " 'NDUFA6',\n",
       " 'DHX37',\n",
       " 'SNRNP70',\n",
       " 'C7orf58',\n",
       " 'ZFPL1',\n",
       " 'NOS3',\n",
       " 'PPAP2B',\n",
       " 'P2RY1',\n",
       " 'CD69',\n",
       " 'SLK',\n",
       " 'LYSMD3',\n",
       " 'RPL18A',\n",
       " 'C12orf35',\n",
       " 'KLHL28',\n",
       " 'SPDYE5',\n",
       " 'CD8B',\n",
       " 'SCYL1',\n",
       " 'DDX17',\n",
       " 'NIPBL',\n",
       " 'PLXND1',\n",
       " 'STEAP4',\n",
       " 'C6orf1',\n",
       " 'ADAMTS4',\n",
       " 'DAAM2',\n",
       " 'IL18BP',\n",
       " 'CCDC45',\n",
       " 'RPSAP58',\n",
       " 'ACY3',\n",
       " 'WDR52',\n",
       " 'CLEC7A',\n",
       " 'PRPF3',\n",
       " 'TUBGCP4',\n",
       " 'BDH1',\n",
       " 'CCDC84',\n",
       " 'SNHG6',\n",
       " 'C16orf42',\n",
       " 'AHSA2',\n",
       " 'BAP1',\n",
       " ...}"
      ]
     },
     "execution_count": 96,
     "metadata": {},
     "output_type": "execute_result"
    }
   ],
   "source": [
    "tset"
   ]
  },
  {
   "cell_type": "code",
   "execution_count": 97,
   "id": "d5e489ea",
   "metadata": {},
   "outputs": [],
   "source": [
    "# drop high correlated features  \n",
    "df= df.drop(tset,axis=1)"
   ]
  },
  {
   "cell_type": "code",
   "execution_count": 98,
   "id": "1beca50b",
   "metadata": {},
   "outputs": [
    {
     "data": {
      "text/plain": [
       "(1020, 11800)"
      ]
     },
     "execution_count": 98,
     "metadata": {},
     "output_type": "execute_result"
    }
   ],
   "source": [
    "df.shape"
   ]
  },
  {
   "cell_type": "code",
   "execution_count": 99,
   "id": "4bb69975",
   "metadata": {},
   "outputs": [],
   "source": [
    "whole_df=df"
   ]
  },
  {
   "cell_type": "code",
   "execution_count": null,
   "id": "73b54955",
   "metadata": {},
   "outputs": [],
   "source": []
  },
  {
   "cell_type": "code",
   "execution_count": 100,
   "id": "5027f4eb",
   "metadata": {},
   "outputs": [],
   "source": [
    "cor = df.corr(method='pearson')"
   ]
  },
  {
   "cell_type": "code",
   "execution_count": 126,
   "id": "0b5a78b2",
   "metadata": {},
   "outputs": [
    {
     "data": {
      "text/plain": [
       "sample\n",
       "ARHGEF10L    0.286024\n",
       "HIF3A        0.364318\n",
       "RNF10        0.442828\n",
       "RNF11        0.155069\n",
       "RNF13        0.044802\n",
       "               ...   \n",
       "METTL11A     0.517814\n",
       "TULP3        0.383500\n",
       "SELP         0.366812\n",
       "SELS         0.253846\n",
       "Subtype      1.000000\n",
       "Name: Subtype, Length: 11800, dtype: float64"
      ]
     },
     "execution_count": 126,
     "metadata": {},
     "output_type": "execute_result"
    }
   ],
   "source": [
    "# correlation of variables with the target variable\n",
    "cor_target = abs(cor[\"Subtype\"])\n",
    "cor_target"
   ]
  },
  {
   "cell_type": "code",
   "execution_count": 359,
   "id": "e0785cee",
   "metadata": {},
   "outputs": [
    {
     "data": {
      "text/plain": [
       "sample\n",
       "P4HA2      0.558442\n",
       "LAYN       0.558456\n",
       "DIRAS1     0.558460\n",
       "PAM        0.558639\n",
       "PNRC1      0.558685\n",
       "             ...   \n",
       "PAK4       0.675372\n",
       "CYP2J2     0.683767\n",
       "CP         0.694543\n",
       "BNIP3L     0.699032\n",
       "Subtype    1.000000\n",
       "Name: Subtype, Length: 301, dtype: float64"
      ]
     },
     "execution_count": 359,
     "metadata": {},
     "output_type": "execute_result"
    }
   ],
   "source": [
    "# first 300 features with high correlation\n",
    "high_cor_300=cor_target.iloc[cor_target.argsort()[-301:]]\n",
    "high_cor_300"
   ]
  },
  {
   "cell_type": "code",
   "execution_count": 360,
   "id": "ae7e9449",
   "metadata": {},
   "outputs": [
    {
     "data": {
      "text/plain": [
       "(1020, 301)"
      ]
     },
     "execution_count": 360,
     "metadata": {},
     "output_type": "execute_result"
    }
   ],
   "source": [
    "# select 300 features\n",
    "selected_300_x = df[high_cor_300.index]\n",
    "selected_300_x.shape"
   ]
  },
  {
   "cell_type": "code",
   "execution_count": 361,
   "id": "d0fb5d7b",
   "metadata": {},
   "outputs": [],
   "source": [
    "selected_300_x.index=df.index"
   ]
  },
  {
   "cell_type": "code",
   "execution_count": 363,
   "id": "1f71e201",
   "metadata": {},
   "outputs": [],
   "source": [
    "# # store best 300 features in a seperate file\n",
    "# selected_300_x.to_csv(\"./HiSeq_selected_300.csv\", encoding='utf-8', index=True)"
   ]
  },
  {
   "cell_type": "code",
   "execution_count": 368,
   "id": "61bfc3da",
   "metadata": {},
   "outputs": [],
   "source": [
    "# import required libraries\n",
    "import pandas as pd\n",
    "\n",
    "df=pd.read_csv('HiSeq_selected_300.csv')"
   ]
  },
  {
   "cell_type": "code",
   "execution_count": 369,
   "id": "0cb93bb1",
   "metadata": {
    "scrolled": true
   },
   "outputs": [],
   "source": [
    "# df=whole_df"
   ]
  },
  {
   "cell_type": "code",
   "execution_count": 370,
   "id": "3f45774b",
   "metadata": {},
   "outputs": [
    {
     "data": {
      "text/plain": [
       "(1020, 302)"
      ]
     },
     "execution_count": 370,
     "metadata": {},
     "output_type": "execute_result"
    }
   ],
   "source": [
    "df.shape"
   ]
  },
  {
   "cell_type": "code",
   "execution_count": 371,
   "id": "a1632954",
   "metadata": {},
   "outputs": [],
   "source": [
    "df=df.set_index('Unnamed: 0')"
   ]
  },
  {
   "cell_type": "code",
   "execution_count": 373,
   "id": "c75de599",
   "metadata": {},
   "outputs": [
    {
     "data": {
      "text/html": [
       "<div>\n",
       "<style scoped>\n",
       "    .dataframe tbody tr th:only-of-type {\n",
       "        vertical-align: middle;\n",
       "    }\n",
       "\n",
       "    .dataframe tbody tr th {\n",
       "        vertical-align: top;\n",
       "    }\n",
       "\n",
       "    .dataframe thead th {\n",
       "        text-align: right;\n",
       "    }\n",
       "</style>\n",
       "<table border=\"1\" class=\"dataframe\">\n",
       "  <thead>\n",
       "    <tr style=\"text-align: right;\">\n",
       "      <th></th>\n",
       "      <th>P4HA2</th>\n",
       "      <th>LAYN</th>\n",
       "      <th>DIRAS1</th>\n",
       "      <th>PAM</th>\n",
       "      <th>PNRC1</th>\n",
       "      <th>BAIAP2L1</th>\n",
       "      <th>C9orf89</th>\n",
       "      <th>IFI44</th>\n",
       "      <th>HMGA1</th>\n",
       "      <th>SAMD12</th>\n",
       "      <th>...</th>\n",
       "      <th>MSN</th>\n",
       "      <th>MXI1</th>\n",
       "      <th>PYGB</th>\n",
       "      <th>CDK19</th>\n",
       "      <th>TLR3</th>\n",
       "      <th>PAK4</th>\n",
       "      <th>CYP2J2</th>\n",
       "      <th>CP</th>\n",
       "      <th>BNIP3L</th>\n",
       "      <th>Subtype</th>\n",
       "    </tr>\n",
       "    <tr>\n",
       "      <th>Unnamed: 0</th>\n",
       "      <th></th>\n",
       "      <th></th>\n",
       "      <th></th>\n",
       "      <th></th>\n",
       "      <th></th>\n",
       "      <th></th>\n",
       "      <th></th>\n",
       "      <th></th>\n",
       "      <th></th>\n",
       "      <th></th>\n",
       "      <th></th>\n",
       "      <th></th>\n",
       "      <th></th>\n",
       "      <th></th>\n",
       "      <th></th>\n",
       "      <th></th>\n",
       "      <th></th>\n",
       "      <th></th>\n",
       "      <th></th>\n",
       "      <th></th>\n",
       "      <th></th>\n",
       "    </tr>\n",
       "  </thead>\n",
       "  <tbody>\n",
       "    <tr>\n",
       "      <th>TCGA-BP-4162-01</th>\n",
       "      <td>11.4785</td>\n",
       "      <td>7.7430</td>\n",
       "      <td>1.8806</td>\n",
       "      <td>13.3153</td>\n",
       "      <td>11.6967</td>\n",
       "      <td>6.2328</td>\n",
       "      <td>7.3978</td>\n",
       "      <td>9.1425</td>\n",
       "      <td>7.7919</td>\n",
       "      <td>6.6409</td>\n",
       "      <td>...</td>\n",
       "      <td>14.0251</td>\n",
       "      <td>10.9306</td>\n",
       "      <td>10.8972</td>\n",
       "      <td>10.6103</td>\n",
       "      <td>11.4866</td>\n",
       "      <td>9.5058</td>\n",
       "      <td>12.685500</td>\n",
       "      <td>9.9631</td>\n",
       "      <td>12.6306</td>\n",
       "      <td>0.0</td>\n",
       "    </tr>\n",
       "    <tr>\n",
       "      <th>TCGA-CJ-5677-11</th>\n",
       "      <td>10.2855</td>\n",
       "      <td>6.0072</td>\n",
       "      <td>7.7431</td>\n",
       "      <td>12.2068</td>\n",
       "      <td>10.8914</td>\n",
       "      <td>8.6301</td>\n",
       "      <td>7.4951</td>\n",
       "      <td>7.4357</td>\n",
       "      <td>9.6495</td>\n",
       "      <td>9.5436</td>\n",
       "      <td>...</td>\n",
       "      <td>13.7918</td>\n",
       "      <td>10.0293</td>\n",
       "      <td>11.5001</td>\n",
       "      <td>9.3821</td>\n",
       "      <td>8.8116</td>\n",
       "      <td>10.5192</td>\n",
       "      <td>6.601000</td>\n",
       "      <td>7.8735</td>\n",
       "      <td>11.4449</td>\n",
       "      <td>0.0</td>\n",
       "    </tr>\n",
       "    <tr>\n",
       "      <th>TCGA-DV-5566-01</th>\n",
       "      <td>10.5787</td>\n",
       "      <td>7.3012</td>\n",
       "      <td>2.4839</td>\n",
       "      <td>12.3738</td>\n",
       "      <td>11.9386</td>\n",
       "      <td>7.8784</td>\n",
       "      <td>8.4602</td>\n",
       "      <td>8.7509</td>\n",
       "      <td>8.4788</td>\n",
       "      <td>7.0012</td>\n",
       "      <td>...</td>\n",
       "      <td>14.1990</td>\n",
       "      <td>10.3841</td>\n",
       "      <td>11.5909</td>\n",
       "      <td>9.6508</td>\n",
       "      <td>10.9106</td>\n",
       "      <td>10.2908</td>\n",
       "      <td>10.918200</td>\n",
       "      <td>11.6266</td>\n",
       "      <td>12.6756</td>\n",
       "      <td>0.0</td>\n",
       "    </tr>\n",
       "    <tr>\n",
       "      <th>TCGA-BP-5191-01</th>\n",
       "      <td>12.0561</td>\n",
       "      <td>8.4121</td>\n",
       "      <td>3.1644</td>\n",
       "      <td>13.5392</td>\n",
       "      <td>11.9505</td>\n",
       "      <td>7.6605</td>\n",
       "      <td>8.7078</td>\n",
       "      <td>9.5490</td>\n",
       "      <td>8.9055</td>\n",
       "      <td>8.9297</td>\n",
       "      <td>...</td>\n",
       "      <td>14.0064</td>\n",
       "      <td>10.8784</td>\n",
       "      <td>11.2642</td>\n",
       "      <td>9.0538</td>\n",
       "      <td>9.9953</td>\n",
       "      <td>10.5198</td>\n",
       "      <td>13.394500</td>\n",
       "      <td>14.6721</td>\n",
       "      <td>13.5792</td>\n",
       "      <td>0.0</td>\n",
       "    </tr>\n",
       "    <tr>\n",
       "      <th>TCGA-BP-5200-01</th>\n",
       "      <td>11.1080</td>\n",
       "      <td>8.7075</td>\n",
       "      <td>2.8376</td>\n",
       "      <td>12.4071</td>\n",
       "      <td>11.9871</td>\n",
       "      <td>5.7673</td>\n",
       "      <td>7.8019</td>\n",
       "      <td>8.3240</td>\n",
       "      <td>8.7962</td>\n",
       "      <td>5.3036</td>\n",
       "      <td>...</td>\n",
       "      <td>14.4586</td>\n",
       "      <td>10.4881</td>\n",
       "      <td>11.0421</td>\n",
       "      <td>10.2477</td>\n",
       "      <td>11.4003</td>\n",
       "      <td>9.8556</td>\n",
       "      <td>11.688700</td>\n",
       "      <td>10.0496</td>\n",
       "      <td>11.8021</td>\n",
       "      <td>0.0</td>\n",
       "    </tr>\n",
       "    <tr>\n",
       "      <th>...</th>\n",
       "      <td>...</td>\n",
       "      <td>...</td>\n",
       "      <td>...</td>\n",
       "      <td>...</td>\n",
       "      <td>...</td>\n",
       "      <td>...</td>\n",
       "      <td>...</td>\n",
       "      <td>...</td>\n",
       "      <td>...</td>\n",
       "      <td>...</td>\n",
       "      <td>...</td>\n",
       "      <td>...</td>\n",
       "      <td>...</td>\n",
       "      <td>...</td>\n",
       "      <td>...</td>\n",
       "      <td>...</td>\n",
       "      <td>...</td>\n",
       "      <td>...</td>\n",
       "      <td>...</td>\n",
       "      <td>...</td>\n",
       "      <td>...</td>\n",
       "    </tr>\n",
       "    <tr>\n",
       "      <th>TCGA-KO-8408-01</th>\n",
       "      <td>10.0683</td>\n",
       "      <td>5.3598</td>\n",
       "      <td>10.9761</td>\n",
       "      <td>11.9206</td>\n",
       "      <td>9.8070</td>\n",
       "      <td>12.2957</td>\n",
       "      <td>9.3979</td>\n",
       "      <td>6.7018</td>\n",
       "      <td>9.6166</td>\n",
       "      <td>9.9115</td>\n",
       "      <td>...</td>\n",
       "      <td>12.1722</td>\n",
       "      <td>9.6652</td>\n",
       "      <td>13.8269</td>\n",
       "      <td>7.4655</td>\n",
       "      <td>4.7064</td>\n",
       "      <td>12.1872</td>\n",
       "      <td>2.398800</td>\n",
       "      <td>3.8648</td>\n",
       "      <td>10.5100</td>\n",
       "      <td>2.0</td>\n",
       "    </tr>\n",
       "    <tr>\n",
       "      <th>TCGA-KM-8443-01</th>\n",
       "      <td>9.1959</td>\n",
       "      <td>4.6477</td>\n",
       "      <td>10.1496</td>\n",
       "      <td>8.1433</td>\n",
       "      <td>10.5821</td>\n",
       "      <td>11.1547</td>\n",
       "      <td>9.0690</td>\n",
       "      <td>5.0054</td>\n",
       "      <td>9.9427</td>\n",
       "      <td>10.3514</td>\n",
       "      <td>...</td>\n",
       "      <td>11.9313</td>\n",
       "      <td>8.8256</td>\n",
       "      <td>13.5962</td>\n",
       "      <td>7.4527</td>\n",
       "      <td>6.4063</td>\n",
       "      <td>12.5805</td>\n",
       "      <td>7.813736</td>\n",
       "      <td>0.9009</td>\n",
       "      <td>8.5598</td>\n",
       "      <td>2.0</td>\n",
       "    </tr>\n",
       "    <tr>\n",
       "      <th>TCGA-KM-8442-01</th>\n",
       "      <td>8.7076</td>\n",
       "      <td>5.8321</td>\n",
       "      <td>9.2769</td>\n",
       "      <td>9.5504</td>\n",
       "      <td>10.8684</td>\n",
       "      <td>11.0731</td>\n",
       "      <td>9.3718</td>\n",
       "      <td>6.5861</td>\n",
       "      <td>10.2551</td>\n",
       "      <td>10.0622</td>\n",
       "      <td>...</td>\n",
       "      <td>12.0316</td>\n",
       "      <td>9.5216</td>\n",
       "      <td>13.1908</td>\n",
       "      <td>7.5970</td>\n",
       "      <td>7.6038</td>\n",
       "      <td>11.9058</td>\n",
       "      <td>1.008300</td>\n",
       "      <td>1.6481</td>\n",
       "      <td>10.1306</td>\n",
       "      <td>2.0</td>\n",
       "    </tr>\n",
       "    <tr>\n",
       "      <th>TCGA-KL-8332-11</th>\n",
       "      <td>10.4612</td>\n",
       "      <td>7.0081</td>\n",
       "      <td>7.4945</td>\n",
       "      <td>12.0251</td>\n",
       "      <td>11.4367</td>\n",
       "      <td>8.3676</td>\n",
       "      <td>9.2362</td>\n",
       "      <td>7.6131</td>\n",
       "      <td>9.4171</td>\n",
       "      <td>7.8052</td>\n",
       "      <td>...</td>\n",
       "      <td>12.9988</td>\n",
       "      <td>10.6724</td>\n",
       "      <td>11.0942</td>\n",
       "      <td>8.4431</td>\n",
       "      <td>7.9573</td>\n",
       "      <td>10.6624</td>\n",
       "      <td>8.466200</td>\n",
       "      <td>4.6462</td>\n",
       "      <td>11.9615</td>\n",
       "      <td>2.0</td>\n",
       "    </tr>\n",
       "    <tr>\n",
       "      <th>TCGA-KL-8327-01</th>\n",
       "      <td>7.5746</td>\n",
       "      <td>5.5027</td>\n",
       "      <td>8.9329</td>\n",
       "      <td>10.1364</td>\n",
       "      <td>11.1138</td>\n",
       "      <td>10.9894</td>\n",
       "      <td>9.8032</td>\n",
       "      <td>6.7111</td>\n",
       "      <td>8.9725</td>\n",
       "      <td>9.2061</td>\n",
       "      <td>...</td>\n",
       "      <td>11.2031</td>\n",
       "      <td>9.3148</td>\n",
       "      <td>12.8361</td>\n",
       "      <td>6.9692</td>\n",
       "      <td>3.3832</td>\n",
       "      <td>12.4672</td>\n",
       "      <td>0.958600</td>\n",
       "      <td>2.0923</td>\n",
       "      <td>8.5744</td>\n",
       "      <td>2.0</td>\n",
       "    </tr>\n",
       "  </tbody>\n",
       "</table>\n",
       "<p>1020 rows × 301 columns</p>\n",
       "</div>"
      ],
      "text/plain": [
       "                   P4HA2    LAYN   DIRAS1      PAM    PNRC1  BAIAP2L1  \\\n",
       "Unnamed: 0                                                              \n",
       "TCGA-BP-4162-01  11.4785  7.7430   1.8806  13.3153  11.6967    6.2328   \n",
       "TCGA-CJ-5677-11  10.2855  6.0072   7.7431  12.2068  10.8914    8.6301   \n",
       "TCGA-DV-5566-01  10.5787  7.3012   2.4839  12.3738  11.9386    7.8784   \n",
       "TCGA-BP-5191-01  12.0561  8.4121   3.1644  13.5392  11.9505    7.6605   \n",
       "TCGA-BP-5200-01  11.1080  8.7075   2.8376  12.4071  11.9871    5.7673   \n",
       "...                  ...     ...      ...      ...      ...       ...   \n",
       "TCGA-KO-8408-01  10.0683  5.3598  10.9761  11.9206   9.8070   12.2957   \n",
       "TCGA-KM-8443-01   9.1959  4.6477  10.1496   8.1433  10.5821   11.1547   \n",
       "TCGA-KM-8442-01   8.7076  5.8321   9.2769   9.5504  10.8684   11.0731   \n",
       "TCGA-KL-8332-11  10.4612  7.0081   7.4945  12.0251  11.4367    8.3676   \n",
       "TCGA-KL-8327-01   7.5746  5.5027   8.9329  10.1364  11.1138   10.9894   \n",
       "\n",
       "                 C9orf89   IFI44    HMGA1   SAMD12  ...      MSN     MXI1  \\\n",
       "Unnamed: 0                                          ...                     \n",
       "TCGA-BP-4162-01   7.3978  9.1425   7.7919   6.6409  ...  14.0251  10.9306   \n",
       "TCGA-CJ-5677-11   7.4951  7.4357   9.6495   9.5436  ...  13.7918  10.0293   \n",
       "TCGA-DV-5566-01   8.4602  8.7509   8.4788   7.0012  ...  14.1990  10.3841   \n",
       "TCGA-BP-5191-01   8.7078  9.5490   8.9055   8.9297  ...  14.0064  10.8784   \n",
       "TCGA-BP-5200-01   7.8019  8.3240   8.7962   5.3036  ...  14.4586  10.4881   \n",
       "...                  ...     ...      ...      ...  ...      ...      ...   \n",
       "TCGA-KO-8408-01   9.3979  6.7018   9.6166   9.9115  ...  12.1722   9.6652   \n",
       "TCGA-KM-8443-01   9.0690  5.0054   9.9427  10.3514  ...  11.9313   8.8256   \n",
       "TCGA-KM-8442-01   9.3718  6.5861  10.2551  10.0622  ...  12.0316   9.5216   \n",
       "TCGA-KL-8332-11   9.2362  7.6131   9.4171   7.8052  ...  12.9988  10.6724   \n",
       "TCGA-KL-8327-01   9.8032  6.7111   8.9725   9.2061  ...  11.2031   9.3148   \n",
       "\n",
       "                    PYGB    CDK19     TLR3     PAK4     CYP2J2       CP  \\\n",
       "Unnamed: 0                                                                \n",
       "TCGA-BP-4162-01  10.8972  10.6103  11.4866   9.5058  12.685500   9.9631   \n",
       "TCGA-CJ-5677-11  11.5001   9.3821   8.8116  10.5192   6.601000   7.8735   \n",
       "TCGA-DV-5566-01  11.5909   9.6508  10.9106  10.2908  10.918200  11.6266   \n",
       "TCGA-BP-5191-01  11.2642   9.0538   9.9953  10.5198  13.394500  14.6721   \n",
       "TCGA-BP-5200-01  11.0421  10.2477  11.4003   9.8556  11.688700  10.0496   \n",
       "...                  ...      ...      ...      ...        ...      ...   \n",
       "TCGA-KO-8408-01  13.8269   7.4655   4.7064  12.1872   2.398800   3.8648   \n",
       "TCGA-KM-8443-01  13.5962   7.4527   6.4063  12.5805   7.813736   0.9009   \n",
       "TCGA-KM-8442-01  13.1908   7.5970   7.6038  11.9058   1.008300   1.6481   \n",
       "TCGA-KL-8332-11  11.0942   8.4431   7.9573  10.6624   8.466200   4.6462   \n",
       "TCGA-KL-8327-01  12.8361   6.9692   3.3832  12.4672   0.958600   2.0923   \n",
       "\n",
       "                  BNIP3L  Subtype  \n",
       "Unnamed: 0                         \n",
       "TCGA-BP-4162-01  12.6306      0.0  \n",
       "TCGA-CJ-5677-11  11.4449      0.0  \n",
       "TCGA-DV-5566-01  12.6756      0.0  \n",
       "TCGA-BP-5191-01  13.5792      0.0  \n",
       "TCGA-BP-5200-01  11.8021      0.0  \n",
       "...                  ...      ...  \n",
       "TCGA-KO-8408-01  10.5100      2.0  \n",
       "TCGA-KM-8443-01   8.5598      2.0  \n",
       "TCGA-KM-8442-01  10.1306      2.0  \n",
       "TCGA-KL-8332-11  11.9615      2.0  \n",
       "TCGA-KL-8327-01   8.5744      2.0  \n",
       "\n",
       "[1020 rows x 301 columns]"
      ]
     },
     "execution_count": 373,
     "metadata": {},
     "output_type": "execute_result"
    }
   ],
   "source": [
    "df"
   ]
  },
  {
   "cell_type": "code",
   "execution_count": 374,
   "id": "d4309d1b",
   "metadata": {},
   "outputs": [
    {
     "data": {
      "text/plain": [
       "(1020, 20)"
      ]
     },
     "execution_count": 374,
     "metadata": {},
     "output_type": "execute_result"
    }
   ],
   "source": [
    "#first 20 features with high correlation\n",
    "high_cor_20=cor_target.iloc[cor_target.argsort()[-21:-1]]\n",
    "\n",
    "# select 20 features\n",
    "selected_20_x = df[high_cor_20.index]\n",
    "selected_20_x.shape"
   ]
  },
  {
   "cell_type": "code",
   "execution_count": 375,
   "id": "e62c0fca",
   "metadata": {},
   "outputs": [
    {
     "data": {
      "text/plain": [
       "(1020, 50)"
      ]
     },
     "execution_count": 375,
     "metadata": {},
     "output_type": "execute_result"
    }
   ],
   "source": [
    "#first 50 features with high correlation\n",
    "high_cor_50=cor_target.iloc[cor_target.argsort()[-51:-1]]\n",
    "\n",
    "# select 50 features\n",
    "selected_50_x = df[high_cor_50.index]\n",
    "selected_50_x.shape"
   ]
  },
  {
   "cell_type": "code",
   "execution_count": 376,
   "id": "3fbc1310",
   "metadata": {},
   "outputs": [
    {
     "data": {
      "text/plain": [
       "(1020, 100)"
      ]
     },
     "execution_count": 376,
     "metadata": {},
     "output_type": "execute_result"
    }
   ],
   "source": [
    "#first 100 features with high correlation\n",
    "high_cor_100=cor_target.iloc[cor_target.argsort()[-101:-1]]\n",
    "\n",
    "# select 100 features\n",
    "selected_100_x = df[high_cor_100.index]\n",
    "selected_100_x.shape"
   ]
  },
  {
   "cell_type": "markdown",
   "id": "faa2ed81",
   "metadata": {},
   "source": [
    "## Dataset balancing "
   ]
  },
  {
   "cell_type": "code",
   "execution_count": 377,
   "id": "07a54e9c",
   "metadata": {},
   "outputs": [
    {
     "data": {
      "text/plain": [
       "0.0    606\n",
       "1.0    323\n",
       "2.0     91\n",
       "Name: Subtype, dtype: int64"
      ]
     },
     "execution_count": 377,
     "metadata": {},
     "output_type": "execute_result"
    }
   ],
   "source": [
    "df['Subtype'].value_counts()"
   ]
  },
  {
   "cell_type": "markdown",
   "id": "66861b67",
   "metadata": {},
   "source": [
    "- Dataset unbalanced"
   ]
  },
  {
   "cell_type": "markdown",
   "id": "93978e94",
   "metadata": {},
   "source": [
    "### Oversampling & Undersampling "
   ]
  },
  {
   "cell_type": "code",
   "execution_count": 378,
   "id": "1f14aee5",
   "metadata": {},
   "outputs": [],
   "source": [
    "from imblearn.under_sampling import RandomUnderSampler\n",
    "from imblearn.over_sampling import RandomOverSampler\n",
    "\n",
    "req_f=130\n",
    "\n",
    "# Resampling the minority class. The strategy can be changed as required.\n",
    "ros = RandomOverSampler(sampling_strategy={2: req_f}, random_state=42)\n",
    "\n",
    "# Resampling the majority classes. The strategy can be changed as required.\n",
    "rus = RandomUnderSampler(sampling_strategy={0: req_f,1:req_f}, random_state=42)"
   ]
  },
  {
   "cell_type": "code",
   "execution_count": 379,
   "id": "1064923a",
   "metadata": {},
   "outputs": [],
   "source": [
    "Y=df['Subtype']"
   ]
  },
  {
   "cell_type": "code",
   "execution_count": 380,
   "id": "79c18328",
   "metadata": {},
   "outputs": [],
   "source": [
    "x=df.drop(['Subtype'], axis=1)"
   ]
  },
  {
   "cell_type": "code",
   "execution_count": 381,
   "id": "6ac5c55e",
   "metadata": {},
   "outputs": [],
   "source": [
    "# x.shape"
   ]
  },
  {
   "cell_type": "code",
   "execution_count": 382,
   "id": "f2dd6b03",
   "metadata": {},
   "outputs": [],
   "source": [
    "# Fit the model to generate the data with all features dataset\n",
    "oversampled_X, oversampled_Y = ros.fit_resample(x, Y)\n",
    "sampled_X, sampled_Y = rus.fit_resample(oversampled_X, oversampled_Y)"
   ]
  },
  {
   "cell_type": "code",
   "execution_count": 383,
   "id": "6255f87c",
   "metadata": {},
   "outputs": [],
   "source": [
    "# Fit the model to generate the data with 100 features dataset\n",
    "oversampled_X_100, oversampled_Y = ros.fit_resample(selected_100_x, Y)\n",
    "sampled_X_100, sampled_Y = rus.fit_resample(oversampled_X_100, oversampled_Y)"
   ]
  },
  {
   "cell_type": "code",
   "execution_count": 384,
   "id": "a7615626",
   "metadata": {},
   "outputs": [],
   "source": [
    "# Fit the model to generate the data with 50 features dataset\n",
    "oversampled_X_50, oversampled_Y = ros.fit_resample(selected_50_x, Y)\n",
    "sampled_X_50, sampled_Y = rus.fit_resample(oversampled_X_50, oversampled_Y)"
   ]
  },
  {
   "cell_type": "code",
   "execution_count": 385,
   "id": "4e80a680",
   "metadata": {},
   "outputs": [],
   "source": [
    "# Fit the model to generate the data with 20 features dataset\n",
    "oversampled_X_20, oversampled_Y = ros.fit_resample(selected_20_x, Y)\n",
    "sampled_X_20, sampled_Y = rus.fit_resample(oversampled_X_20, oversampled_Y)"
   ]
  },
  {
   "cell_type": "code",
   "execution_count": 386,
   "id": "17ef1aed",
   "metadata": {},
   "outputs": [
    {
     "data": {
      "text/plain": [
       "0.0    130\n",
       "2.0    130\n",
       "1.0    130\n",
       "Name: Subtype, dtype: int64"
      ]
     },
     "execution_count": 386,
     "metadata": {},
     "output_type": "execute_result"
    }
   ],
   "source": [
    "sampled_Y.value_counts()"
   ]
  },
  {
   "cell_type": "markdown",
   "id": "84e591b5",
   "metadata": {},
   "source": [
    "## Test the models "
   ]
  },
  {
   "cell_type": "code",
   "execution_count": 387,
   "id": "aebf88f0",
   "metadata": {},
   "outputs": [],
   "source": [
    "from sklearn import svm\n",
    "from sklearn.model_selection import cross_val_score"
   ]
  },
  {
   "cell_type": "markdown",
   "id": "2043a5b7",
   "metadata": {},
   "source": [
    "#### Check the kernels in SVM "
   ]
  },
  {
   "cell_type": "code",
   "execution_count": 471,
   "id": "03605805",
   "metadata": {},
   "outputs": [
    {
     "name": "stdout",
     "output_type": "stream",
     "text": [
      "Accuracy SVM with rbf kernel: 0.87 (+/- 0.07)\n"
     ]
    }
   ],
   "source": [
    "# for 300 features\n",
    "acc = cross_val_score(svm.SVC(random_state=0), sampled_X, sampled_Y, cv=5)\n",
    "print(\"Accuracy SVM with rbf kernel: %0.2f (+/- %0.2f)\" % (acc.mean(), acc.std() * 2))"
   ]
  },
  {
   "cell_type": "code",
   "execution_count": 472,
   "id": "bc2142ec",
   "metadata": {},
   "outputs": [
    {
     "name": "stdout",
     "output_type": "stream",
     "text": [
      "Accuracy SVM with linear kernel: 0.93 (+/- 0.05)\n"
     ]
    }
   ],
   "source": [
    "acc = cross_val_score(svm.SVC(kernel='poly',random_state=0), sampled_X, sampled_Y, cv=5)\n",
    "print(\"Accuracy SVM with linear kernel: %0.2f (+/- %0.2f)\" % (acc.mean(), acc.std() * 2))"
   ]
  },
  {
   "cell_type": "code",
   "execution_count": 473,
   "id": "f15ce10f",
   "metadata": {},
   "outputs": [
    {
     "name": "stdout",
     "output_type": "stream",
     "text": [
      "Accuracy SVM with linear kernel: 0.93 (+/- 0.06)\n"
     ]
    }
   ],
   "source": [
    "acc = cross_val_score(svm.SVC(kernel='linear',random_state=0), sampled_X, sampled_Y, cv=5)\n",
    "print(\"Accuracy SVM with linear kernel: %0.2f (+/- %0.2f)\" % (acc.mean(), acc.std() * 2))"
   ]
  },
  {
   "cell_type": "code",
   "execution_count": 474,
   "id": "7b9e157c",
   "metadata": {},
   "outputs": [
    {
     "name": "stdout",
     "output_type": "stream",
     "text": [
      "Accuracy SVM with sigmoid kernel: 0.55 (+/- 0.08)\n"
     ]
    }
   ],
   "source": [
    "acc = cross_val_score(svm.SVC(kernel='sigmoid',random_state=0), sampled_X, sampled_Y, cv=5)\n",
    "print(\"Accuracy SVM with sigmoid kernel: %0.2f (+/- %0.2f)\" % (acc.mean(), acc.std() * 2))"
   ]
  },
  {
   "cell_type": "markdown",
   "id": "070a1498",
   "metadata": {},
   "source": [
    "* poly performed well"
   ]
  },
  {
   "cell_type": "markdown",
   "id": "bc4970e3",
   "metadata": {},
   "source": [
    "#### Check the feature scaling method to SVM"
   ]
  },
  {
   "cell_type": "code",
   "execution_count": 475,
   "id": "90bbdf56",
   "metadata": {},
   "outputs": [],
   "source": [
    "svc=svm.SVC(kernel='poly', random_state=0)"
   ]
  },
  {
   "cell_type": "code",
   "execution_count": 476,
   "id": "84e95060",
   "metadata": {},
   "outputs": [
    {
     "name": "stdout",
     "output_type": "stream",
     "text": [
      "Accuracy SVM without transformation: 0.93 (+/- 0.05)\n"
     ]
    }
   ],
   "source": [
    "acc = cross_val_score(svc, sampled_X, sampled_Y, cv=5)\n",
    "print(\"Accuracy SVM without transformation: %0.2f (+/- %0.2f)\" % (acc.mean(), acc.std() * 2))"
   ]
  },
  {
   "cell_type": "code",
   "execution_count": 477,
   "id": "a523a875",
   "metadata": {},
   "outputs": [],
   "source": [
    "from sklearn.pipeline import Pipeline\n",
    "from sklearn.preprocessing import StandardScaler\n",
    "from sklearn import preprocessing"
   ]
  },
  {
   "cell_type": "code",
   "execution_count": 478,
   "id": "fe721d70",
   "metadata": {},
   "outputs": [
    {
     "name": "stdout",
     "output_type": "stream",
     "text": [
      "Accuracy SVM with Standardization: 0.82 (+/- 0.11)\n"
     ]
    }
   ],
   "source": [
    "# create pipeline -> Standardization\n",
    "pipeline = Pipeline(steps=[('scaler', StandardScaler()),\n",
    "                   ('model',svc)])\n",
    "\n",
    "# perform cross validation\n",
    "acc = cross_val_score(estimator=pipeline, \n",
    "                         X=sampled_X, \n",
    "                         y=sampled_Y, \n",
    "                         cv=5\n",
    "                        )\n",
    "\n",
    "print(\"Accuracy SVM with Standardization: %0.2f (+/- %0.2f)\" % (acc.mean(), acc.std() * 2))"
   ]
  },
  {
   "cell_type": "code",
   "execution_count": 479,
   "id": "f3fb48c7",
   "metadata": {},
   "outputs": [
    {
     "name": "stdout",
     "output_type": "stream",
     "text": [
      "Accuracy SVM with Normalizaton: 0.93 (+/- 0.06)\n"
     ]
    }
   ],
   "source": [
    "# create pipeline - > Normalizaton\n",
    "pipeline = Pipeline(steps=[('scaler', preprocessing.MinMaxScaler()),\n",
    "                   ('model', svc)])\n",
    "\n",
    "# perform cross validation\n",
    "acc = cross_val_score(estimator=pipeline, \n",
    "                         X=sampled_X, \n",
    "                         y=sampled_Y, \n",
    "                         cv=5\n",
    "                        )\n",
    "\n",
    "print(\"Accuracy SVM with Normalizaton: %0.2f (+/- %0.2f)\" % (acc.mean(), acc.std() * 2))"
   ]
  },
  {
   "cell_type": "markdown",
   "id": "ebb84aa2",
   "metadata": {},
   "source": [
    "- Without transformation performs well"
   ]
  },
  {
   "cell_type": "markdown",
   "id": "e7b323ce",
   "metadata": {},
   "source": [
    "#### Evaluation Without Feaure scaling"
   ]
  },
  {
   "cell_type": "code",
   "execution_count": 480,
   "id": "e8006c16",
   "metadata": {},
   "outputs": [
    {
     "name": "stdout",
     "output_type": "stream",
     "text": [
      "Accuracy RF using best 20 features: 0.86 (+/- 0.05)\n"
     ]
    }
   ],
   "source": [
    "acc = cross_val_score(svc, sampled_X_20, sampled_Y, cv=5)\n",
    "print(\"Accuracy SVM using best 20 features: %0.2f (+/- %0.2f)\" % (acc.mean(), acc.std() * 2))"
   ]
  },
  {
   "cell_type": "code",
   "execution_count": 481,
   "id": "21b6f9f7",
   "metadata": {},
   "outputs": [
    {
     "name": "stdout",
     "output_type": "stream",
     "text": [
      "Accuracy RF using best 50 features: 0.88 (+/- 0.03)\n"
     ]
    }
   ],
   "source": [
    "acc = cross_val_score(svc, sampled_X_50, sampled_Y, cv=5)\n",
    "print(\"Accuracy SVM using best 50 features: %0.2f (+/- %0.2f)\" % (acc.mean(), acc.std() * 2))"
   ]
  },
  {
   "cell_type": "code",
   "execution_count": 482,
   "id": "e7ec3efc",
   "metadata": {
    "scrolled": true
   },
   "outputs": [
    {
     "name": "stdout",
     "output_type": "stream",
     "text": [
      "Accuracy RF using best 100 features: 0.88 (+/- 0.06)\n"
     ]
    }
   ],
   "source": [
    "acc = cross_val_score(svc, sampled_X_100, sampled_Y, cv=5)\n",
    "print(\"Accuracy SVM using best 100 features: %0.2f (+/- %0.2f)\" % (acc.mean(), acc.std() * 2))"
   ]
  },
  {
   "cell_type": "markdown",
   "id": "1628e12f",
   "metadata": {},
   "source": [
    "#### Select features amount larger than 100"
   ]
  },
  {
   "cell_type": "code",
   "execution_count": 483,
   "id": "78abbace",
   "metadata": {},
   "outputs": [
    {
     "name": "stdout",
     "output_type": "stream",
     "text": [
      "Accuracy RF using best 150 features: 0.91 (+/- 0.04)\n"
     ]
    }
   ],
   "source": [
    "#first 150 atures with high correlation\n",
    "high_cor_150=cor_target.iloc[cor_target.argsort()[-151:-1]]\n",
    "\n",
    "# select 150 features\n",
    "selected_150_x = df[high_cor_150.index]\n",
    "selected_150_x.shape\n",
    "\n",
    "\n",
    "# Fit the model to generate the data with 150 features dataset\n",
    "oversampled_X_150, oversampled_Y = ros.fit_resample(selected_150_x, Y)\n",
    "sampled_X_150, sampled_Y = rus.fit_resample(oversampled_X_150, oversampled_Y)\n",
    "\n",
    "\n",
    "acc = cross_val_score(svc, sampled_X_150, sampled_Y, cv=5)\n",
    "print(\"Accuracy SVM using best 150 features: %0.2f (+/- %0.2f)\" % (acc.mean(), acc.std() * 2))"
   ]
  },
  {
   "cell_type": "code",
   "execution_count": 484,
   "id": "4e110315",
   "metadata": {},
   "outputs": [
    {
     "name": "stdout",
     "output_type": "stream",
     "text": [
      "Accuracy RF using best 200 features: 0.92 (+/- 0.04)\n"
     ]
    }
   ],
   "source": [
    "#first 200 features with high correlation\n",
    "high_cor_200=cor_target.iloc[cor_target.argsort()[-201:-1]]\n",
    "\n",
    "# select 200 features\n",
    "selected_200_x = df[high_cor_200.index]\n",
    "selected_200_x.shape\n",
    "\n",
    "\n",
    "# Fit the model to generate the data with 200 features dataset\n",
    "oversampled_X_200, oversampled_Y = ros.fit_resample(selected_200_x, Y)\n",
    "sampled_X_200, sampled_Y = rus.fit_resample(oversampled_X_200, oversampled_Y)\n",
    "\n",
    "\n",
    "acc = cross_val_score(svc, sampled_X_200, sampled_Y, cv=5)\n",
    "print(\"Accuracy SVM using best 200 features: %0.2f (+/- %0.2f)\" % (acc.mean(), acc.std() * 2))"
   ]
  },
  {
   "cell_type": "code",
   "execution_count": 489,
   "id": "2a9b74f0",
   "metadata": {},
   "outputs": [
    {
     "name": "stdout",
     "output_type": "stream",
     "text": [
      "Accuracy SVM using best 250 features: 0.93 (+/- 0.05)\n"
     ]
    }
   ],
   "source": [
    "#first 250 atures with high correlation\n",
    "high_cor_250=cor_target.iloc[cor_target.argsort()[-251:-1]]\n",
    "\n",
    "# select 250 features\n",
    "selected_250_x = df[high_cor_250.index]\n",
    "selected_250_x.shape\n",
    "\n",
    "\n",
    "# Fit the model to generate the data with 250 features dataset\n",
    "oversampled_X_250, oversampled_Y = ros.fit_resample(selected_250_x, Y)\n",
    "sampled_X_250, sampled_Y = rus.fit_resample(oversampled_X_250, oversampled_Y)\n",
    "\n",
    "\n",
    "acc = cross_val_score(svc, sampled_X_250, sampled_Y, cv=5)\n",
    "print(\"Accuracy SVM using best 250 features: %0.2f (+/- %0.2f)\" % (acc.mean(), acc.std() * 2))"
   ]
  },
  {
   "cell_type": "code",
   "execution_count": 490,
   "id": "99c79900",
   "metadata": {},
   "outputs": [
    {
     "name": "stdout",
     "output_type": "stream",
     "text": [
      "Accuracy SVM using best 290 features: 0.94 (+/- 0.06)\n"
     ]
    }
   ],
   "source": [
    "#first 290 atures with high correlation\n",
    "high_cor_290=cor_target.iloc[cor_target.argsort()[-291:-1]]\n",
    "\n",
    "# select 290 features\n",
    "selected_290_x = df[high_cor_290.index]\n",
    "selected_290_x.shape\n",
    "\n",
    "\n",
    "# Fit the model to generate the data with 290 features dataset\n",
    "oversampled_X_290, oversampled_Y = ros.fit_resample(selected_290_x, Y)\n",
    "sampled_X_290, sampled_Y = rus.fit_resample(oversampled_X_290, oversampled_Y)\n",
    "\n",
    "\n",
    "acc = cross_val_score(svc, sampled_X_290, sampled_Y, cv=5)\n",
    "print(\"Accuracy SVM using best 290 features: %0.2f (+/- %0.2f)\" % (acc.mean(), acc.std() * 2))"
   ]
  },
  {
   "cell_type": "code",
   "execution_count": 491,
   "id": "ad15a858",
   "metadata": {},
   "outputs": [
    {
     "name": "stdout",
     "output_type": "stream",
     "text": [
      "Accuracy SVM using best 280 features: 0.93 (+/- 0.05)\n"
     ]
    }
   ],
   "source": [
    "#first 280 atures with high correlation\n",
    "high_cor_280=cor_target.iloc[cor_target.argsort()[-281:-1]]\n",
    "\n",
    "# select 280 features\n",
    "selected_280_x = df[high_cor_280.index]\n",
    "selected_280_x.shape\n",
    "\n",
    "\n",
    "# Fit the model to generate the data with 280 features dataset\n",
    "oversampled_X_280, oversampled_Y = ros.fit_resample(selected_280_x, Y)\n",
    "sampled_X_280, sampled_Y = rus.fit_resample(oversampled_X_280, oversampled_Y)\n",
    "\n",
    "\n",
    "acc = cross_val_score(svc, sampled_X_280, sampled_Y, cv=5)\n",
    "print(\"Accuracy SVM using best 280 features: %0.2f (+/- %0.2f)\" % (acc.mean(), acc.std() * 2))"
   ]
  },
  {
   "cell_type": "code",
   "execution_count": 492,
   "id": "4422b30a",
   "metadata": {},
   "outputs": [
    {
     "name": "stdout",
     "output_type": "stream",
     "text": [
      "Accuracy SVM using best 230 features: 0.93 (+/- 0.04)\n"
     ]
    }
   ],
   "source": [
    "#first 230 atures with high correlation\n",
    "high_cor_230=cor_target.iloc[cor_target.argsort()[-231:-1]]\n",
    "\n",
    "# select 230 features\n",
    "selected_230_x = df[high_cor_230.index]\n",
    "selected_230_x.shape\n",
    "\n",
    "\n",
    "# Fit the model to generate the data with 230 features dataset\n",
    "oversampled_X_230, oversampled_Y = ros.fit_resample(selected_230_x, Y)\n",
    "sampled_X_230, sampled_Y = rus.fit_resample(oversampled_X_230, oversampled_Y)\n",
    "\n",
    "\n",
    "acc = cross_val_score(svc, sampled_X_230, sampled_Y, cv=5)\n",
    "print(\"Accuracy SVM using best 230 features: %0.2f (+/- %0.2f)\" % (acc.mean(), acc.std() * 2))"
   ]
  },
  {
   "cell_type": "markdown",
   "id": "b7625430",
   "metadata": {},
   "source": [
    "## Random Forest"
   ]
  },
  {
   "cell_type": "code",
   "execution_count": 493,
   "id": "5c7f64da",
   "metadata": {},
   "outputs": [],
   "source": [
    "from sklearn.ensemble import RandomForestClassifier"
   ]
  },
  {
   "cell_type": "markdown",
   "id": "89cc93c5",
   "metadata": {},
   "source": [
    "#### RF Parameter optimization"
   ]
  },
  {
   "cell_type": "code",
   "execution_count": 494,
   "id": "b2d2cc64",
   "metadata": {},
   "outputs": [],
   "source": [
    "rfc = RandomForestClassifier()"
   ]
  },
  {
   "cell_type": "code",
   "execution_count": 495,
   "id": "be9b282e",
   "metadata": {},
   "outputs": [],
   "source": [
    "parameters = {\n",
    "    \"n_estimators\":[100,500,1000],\n",
    "    \"max_depth\":[4,8,16,None],\n",
    "    \"criterion\":['gini', 'entropy'],\n",
    "    \"random_state\": [0]\n",
    "}"
   ]
  },
  {
   "cell_type": "code",
   "execution_count": 496,
   "id": "836d571c",
   "metadata": {},
   "outputs": [
    {
     "data": {
      "text/html": [
       "<style>#sk-container-id-4 {color: black;background-color: white;}#sk-container-id-4 pre{padding: 0;}#sk-container-id-4 div.sk-toggleable {background-color: white;}#sk-container-id-4 label.sk-toggleable__label {cursor: pointer;display: block;width: 100%;margin-bottom: 0;padding: 0.3em;box-sizing: border-box;text-align: center;}#sk-container-id-4 label.sk-toggleable__label-arrow:before {content: \"▸\";float: left;margin-right: 0.25em;color: #696969;}#sk-container-id-4 label.sk-toggleable__label-arrow:hover:before {color: black;}#sk-container-id-4 div.sk-estimator:hover label.sk-toggleable__label-arrow:before {color: black;}#sk-container-id-4 div.sk-toggleable__content {max-height: 0;max-width: 0;overflow: hidden;text-align: left;background-color: #f0f8ff;}#sk-container-id-4 div.sk-toggleable__content pre {margin: 0.2em;color: black;border-radius: 0.25em;background-color: #f0f8ff;}#sk-container-id-4 input.sk-toggleable__control:checked~div.sk-toggleable__content {max-height: 200px;max-width: 100%;overflow: auto;}#sk-container-id-4 input.sk-toggleable__control:checked~label.sk-toggleable__label-arrow:before {content: \"▾\";}#sk-container-id-4 div.sk-estimator input.sk-toggleable__control:checked~label.sk-toggleable__label {background-color: #d4ebff;}#sk-container-id-4 div.sk-label input.sk-toggleable__control:checked~label.sk-toggleable__label {background-color: #d4ebff;}#sk-container-id-4 input.sk-hidden--visually {border: 0;clip: rect(1px 1px 1px 1px);clip: rect(1px, 1px, 1px, 1px);height: 1px;margin: -1px;overflow: hidden;padding: 0;position: absolute;width: 1px;}#sk-container-id-4 div.sk-estimator {font-family: monospace;background-color: #f0f8ff;border: 1px dotted black;border-radius: 0.25em;box-sizing: border-box;margin-bottom: 0.5em;}#sk-container-id-4 div.sk-estimator:hover {background-color: #d4ebff;}#sk-container-id-4 div.sk-parallel-item::after {content: \"\";width: 100%;border-bottom: 1px solid gray;flex-grow: 1;}#sk-container-id-4 div.sk-label:hover label.sk-toggleable__label {background-color: #d4ebff;}#sk-container-id-4 div.sk-serial::before {content: \"\";position: absolute;border-left: 1px solid gray;box-sizing: border-box;top: 0;bottom: 0;left: 50%;z-index: 0;}#sk-container-id-4 div.sk-serial {display: flex;flex-direction: column;align-items: center;background-color: white;padding-right: 0.2em;padding-left: 0.2em;position: relative;}#sk-container-id-4 div.sk-item {position: relative;z-index: 1;}#sk-container-id-4 div.sk-parallel {display: flex;align-items: stretch;justify-content: center;background-color: white;position: relative;}#sk-container-id-4 div.sk-item::before, #sk-container-id-4 div.sk-parallel-item::before {content: \"\";position: absolute;border-left: 1px solid gray;box-sizing: border-box;top: 0;bottom: 0;left: 50%;z-index: -1;}#sk-container-id-4 div.sk-parallel-item {display: flex;flex-direction: column;z-index: 1;position: relative;background-color: white;}#sk-container-id-4 div.sk-parallel-item:first-child::after {align-self: flex-end;width: 50%;}#sk-container-id-4 div.sk-parallel-item:last-child::after {align-self: flex-start;width: 50%;}#sk-container-id-4 div.sk-parallel-item:only-child::after {width: 0;}#sk-container-id-4 div.sk-dashed-wrapped {border: 1px dashed gray;margin: 0 0.4em 0.5em 0.4em;box-sizing: border-box;padding-bottom: 0.4em;background-color: white;}#sk-container-id-4 div.sk-label label {font-family: monospace;font-weight: bold;display: inline-block;line-height: 1.2em;}#sk-container-id-4 div.sk-label-container {text-align: center;}#sk-container-id-4 div.sk-container {/* jupyter's `normalize.less` sets `[hidden] { display: none; }` but bootstrap.min.css set `[hidden] { display: none !important; }` so we also need the `!important` here to be able to override the default hidden behavior on the sphinx rendered scikit-learn.org. See: https://github.com/scikit-learn/scikit-learn/issues/21755 */display: inline-block !important;position: relative;}#sk-container-id-4 div.sk-text-repr-fallback {display: none;}</style><div id=\"sk-container-id-4\" class=\"sk-top-container\"><div class=\"sk-text-repr-fallback\"><pre>GridSearchCV(cv=5, estimator=RandomForestClassifier(),\n",
       "             param_grid={&#x27;criterion&#x27;: [&#x27;gini&#x27;, &#x27;entropy&#x27;],\n",
       "                         &#x27;max_depth&#x27;: [4, 8, 16, None],\n",
       "                         &#x27;n_estimators&#x27;: [100, 500, 1000],\n",
       "                         &#x27;random_state&#x27;: [0]})</pre><b>In a Jupyter environment, please rerun this cell to show the HTML representation or trust the notebook. <br />On GitHub, the HTML representation is unable to render, please try loading this page with nbviewer.org.</b></div><div class=\"sk-container\" hidden><div class=\"sk-item sk-dashed-wrapped\"><div class=\"sk-label-container\"><div class=\"sk-label sk-toggleable\"><input class=\"sk-toggleable__control sk-hidden--visually\" id=\"sk-estimator-id-10\" type=\"checkbox\" ><label for=\"sk-estimator-id-10\" class=\"sk-toggleable__label sk-toggleable__label-arrow\">GridSearchCV</label><div class=\"sk-toggleable__content\"><pre>GridSearchCV(cv=5, estimator=RandomForestClassifier(),\n",
       "             param_grid={&#x27;criterion&#x27;: [&#x27;gini&#x27;, &#x27;entropy&#x27;],\n",
       "                         &#x27;max_depth&#x27;: [4, 8, 16, None],\n",
       "                         &#x27;n_estimators&#x27;: [100, 500, 1000],\n",
       "                         &#x27;random_state&#x27;: [0]})</pre></div></div></div><div class=\"sk-parallel\"><div class=\"sk-parallel-item\"><div class=\"sk-item\"><div class=\"sk-label-container\"><div class=\"sk-label sk-toggleable\"><input class=\"sk-toggleable__control sk-hidden--visually\" id=\"sk-estimator-id-11\" type=\"checkbox\" ><label for=\"sk-estimator-id-11\" class=\"sk-toggleable__label sk-toggleable__label-arrow\">estimator: RandomForestClassifier</label><div class=\"sk-toggleable__content\"><pre>RandomForestClassifier()</pre></div></div></div><div class=\"sk-serial\"><div class=\"sk-item\"><div class=\"sk-estimator sk-toggleable\"><input class=\"sk-toggleable__control sk-hidden--visually\" id=\"sk-estimator-id-12\" type=\"checkbox\" ><label for=\"sk-estimator-id-12\" class=\"sk-toggleable__label sk-toggleable__label-arrow\">RandomForestClassifier</label><div class=\"sk-toggleable__content\"><pre>RandomForestClassifier()</pre></div></div></div></div></div></div></div></div></div></div>"
      ],
      "text/plain": [
       "GridSearchCV(cv=5, estimator=RandomForestClassifier(),\n",
       "             param_grid={'criterion': ['gini', 'entropy'],\n",
       "                         'max_depth': [4, 8, 16, None],\n",
       "                         'n_estimators': [100, 500, 1000],\n",
       "                         'random_state': [0]})"
      ]
     },
     "execution_count": 496,
     "metadata": {},
     "output_type": "execute_result"
    }
   ],
   "source": [
    "from sklearn.model_selection import GridSearchCV\n",
    "cv = GridSearchCV(rfc,parameters,cv=5)\n",
    "cv.fit(sampled_X,sampled_Y)"
   ]
  },
  {
   "cell_type": "code",
   "execution_count": 497,
   "id": "4787c174",
   "metadata": {},
   "outputs": [
    {
     "name": "stdout",
     "output_type": "stream",
     "text": [
      "Best parameters are: {'criterion': 'entropy', 'max_depth': 8, 'n_estimators': 500, 'random_state': 0}\n"
     ]
    }
   ],
   "source": [
    "print(f'Best parameters are: {cv.best_params_}')"
   ]
  },
  {
   "cell_type": "code",
   "execution_count": 498,
   "id": "341e26cb",
   "metadata": {},
   "outputs": [],
   "source": [
    "rf=RandomForestClassifier(criterion= 'entropy', max_depth= 8, n_estimators= 500,random_state= 0)"
   ]
  },
  {
   "cell_type": "code",
   "execution_count": 499,
   "id": "50b44bd8",
   "metadata": {},
   "outputs": [
    {
     "name": "stdout",
     "output_type": "stream",
     "text": [
      "Accuracy RF with best_params: 0.91 (+/- 0.07)\n"
     ]
    }
   ],
   "source": [
    "acc = cross_val_score(rf, sampled_X, sampled_Y, cv=5)\n",
    "print(\"Accuracy RF with best_params: %0.2f (+/- %0.2f)\" % (acc.mean(), acc.std() * 2))"
   ]
  },
  {
   "cell_type": "markdown",
   "id": "5b1d704a",
   "metadata": {},
   "source": [
    "#### Try for different number of features"
   ]
  },
  {
   "cell_type": "code",
   "execution_count": 500,
   "id": "90b8a638",
   "metadata": {},
   "outputs": [
    {
     "name": "stdout",
     "output_type": "stream",
     "text": [
      "Accuracy RF using best 20 features: 0.88 (+/- 0.06)\n"
     ]
    }
   ],
   "source": [
    "acc = cross_val_score(rf, sampled_X_20, sampled_Y, cv=5)\n",
    "print(\"Accuracy RF using best 20 features: %0.2f (+/- %0.2f)\" % (acc.mean(), acc.std() * 2))"
   ]
  },
  {
   "cell_type": "code",
   "execution_count": 501,
   "id": "2246ada8",
   "metadata": {},
   "outputs": [
    {
     "name": "stdout",
     "output_type": "stream",
     "text": [
      "Accuracy RF using best 50 features: 0.91 (+/- 0.07)\n"
     ]
    }
   ],
   "source": [
    "acc = cross_val_score(rf, sampled_X_50, sampled_Y, cv=5)\n",
    "print(\"Accuracy RF using best 50 features: %0.2f (+/- %0.2f)\" % (acc.mean(), acc.std() * 2))"
   ]
  },
  {
   "cell_type": "code",
   "execution_count": 502,
   "id": "a5f6ef67",
   "metadata": {},
   "outputs": [
    {
     "name": "stdout",
     "output_type": "stream",
     "text": [
      "Accuracy RF using best 100 features: 0.90 (+/- 0.08)\n"
     ]
    }
   ],
   "source": [
    "acc = cross_val_score(rf, sampled_X_100, sampled_Y, cv=5)\n",
    "print(\"Accuracy RF using best 100 features: %0.2f (+/- %0.2f)\" % (acc.mean(), acc.std() * 2))"
   ]
  },
  {
   "cell_type": "markdown",
   "id": "49ce7fb6",
   "metadata": {},
   "source": [
    "#### Select features amount larger than 100"
   ]
  },
  {
   "cell_type": "code",
   "execution_count": 503,
   "id": "e50c49f7",
   "metadata": {},
   "outputs": [
    {
     "name": "stdout",
     "output_type": "stream",
     "text": [
      "Accuracy RF using best 150 features: 0.91 (+/- 0.07)\n"
     ]
    }
   ],
   "source": [
    "acc = cross_val_score(rf, sampled_X_150, sampled_Y, cv=5)\n",
    "print(\"Accuracy RF using best 150 features: %0.2f (+/- %0.2f)\" % (acc.mean(), acc.std() * 2))"
   ]
  },
  {
   "cell_type": "code",
   "execution_count": 504,
   "id": "2407c7a5",
   "metadata": {},
   "outputs": [
    {
     "name": "stdout",
     "output_type": "stream",
     "text": [
      "Accuracy RF using best 200 features: 0.91 (+/- 0.07)\n"
     ]
    }
   ],
   "source": [
    "acc = cross_val_score(rf, sampled_X_200, sampled_Y, cv=5)\n",
    "print(\"Accuracy RF using best 200 features: %0.2f (+/- %0.2f)\" % (acc.mean(), acc.std() * 2))"
   ]
  },
  {
   "cell_type": "code",
   "execution_count": 505,
   "id": "c5e90d75",
   "metadata": {},
   "outputs": [
    {
     "name": "stdout",
     "output_type": "stream",
     "text": [
      "Accuracy RF using best 250 features: 0.91 (+/- 0.07)\n"
     ]
    }
   ],
   "source": [
    "acc = cross_val_score(rf, sampled_X_250, sampled_Y, cv=5)\n",
    "print(\"Accuracy RF using best 250 features: %0.2f (+/- %0.2f)\" % (acc.mean(), acc.std() * 2))"
   ]
  },
  {
   "cell_type": "code",
   "execution_count": 506,
   "id": "5e53a7c9",
   "metadata": {},
   "outputs": [
    {
     "name": "stdout",
     "output_type": "stream",
     "text": [
      "Accuracy RF using best 260 features: 0.93 (+/- 0.05)\n"
     ]
    }
   ],
   "source": [
    "#first 260 atures with high correlation\n",
    "high_cor_260=cor_target.iloc[cor_target.argsort()[-261:-1]]\n",
    "\n",
    "# select 260 features\n",
    "selected_260_x = df[high_cor_260.index]\n",
    "selected_260_x.shape\n",
    "\n",
    "\n",
    "# Fit the model to generate the data with 270 features dataset\n",
    "oversampled_X_260, oversampled_Y = ros.fit_resample(selected_260_x, Y)\n",
    "sampled_X_260, sampled_Y = rus.fit_resample(oversampled_X_260, oversampled_Y)\n",
    "\n",
    "\n",
    "acc = cross_val_score(svc, sampled_X_260, sampled_Y, cv=5)\n",
    "print(\"Accuracy RF using best 260 features: %0.2f (+/- %0.2f)\" % (acc.mean(), acc.std() * 2))"
   ]
  },
  {
   "cell_type": "code",
   "execution_count": 507,
   "id": "1605fe0c",
   "metadata": {},
   "outputs": [
    {
     "name": "stdout",
     "output_type": "stream",
     "text": [
      "Accuracy RF using best 270 features: 0.93 (+/- 0.05)\n"
     ]
    }
   ],
   "source": [
    "#first 270 atures with high correlation\n",
    "high_cor_270=cor_target.iloc[cor_target.argsort()[-271:-1]]\n",
    "\n",
    "# select 270 features\n",
    "selected_270_x = df[high_cor_270.index]\n",
    "selected_270_x.shape\n",
    "\n",
    "\n",
    "# Fit the model to generate the data with 270 features dataset\n",
    "oversampled_X_270, oversampled_Y = ros.fit_resample(selected_270_x, Y)\n",
    "sampled_X_270, sampled_Y = rus.fit_resample(oversampled_X_270, oversampled_Y)\n",
    "\n",
    "\n",
    "acc = cross_val_score(svc, sampled_X_270, sampled_Y, cv=5)\n",
    "print(\"Accuracy RF using best 270 features: %0.2f (+/- %0.2f)\" % (acc.mean(), acc.std() * 2))"
   ]
  },
  {
   "cell_type": "code",
   "execution_count": 508,
   "id": "501cbbed",
   "metadata": {},
   "outputs": [
    {
     "name": "stdout",
     "output_type": "stream",
     "text": [
      "Accuracy RF using best 280 features: 0.91 (+/- 0.06)\n"
     ]
    }
   ],
   "source": [
    "acc = cross_val_score(rf, sampled_X_280, sampled_Y, cv=5)\n",
    "print(\"Accuracy RF using best 280 features: %0.2f (+/- %0.2f)\" % (acc.mean(), acc.std() * 2))"
   ]
  },
  {
   "cell_type": "code",
   "execution_count": 509,
   "id": "b8f73e74",
   "metadata": {},
   "outputs": [
    {
     "name": "stdout",
     "output_type": "stream",
     "text": [
      "Accuracy RF using best 290 features: 0.91 (+/- 0.07)\n"
     ]
    }
   ],
   "source": [
    "acc = cross_val_score(rf, sampled_X_290, sampled_Y, cv=5)\n",
    "print(\"Accuracy RF using best 290 features: %0.2f (+/- %0.2f)\" % (acc.mean(), acc.std() * 2))"
   ]
  },
  {
   "cell_type": "markdown",
   "id": "e6e67d57",
   "metadata": {},
   "source": [
    "## Test KNN model"
   ]
  },
  {
   "cell_type": "code",
   "execution_count": 510,
   "id": "0c628795",
   "metadata": {},
   "outputs": [],
   "source": [
    "# K-Nearest Neighbors\n",
    "from sklearn.neighbors import KNeighborsClassifier\n",
    "import matplotlib.pyplot as plt\n",
    "from sklearn.model_selection import cross_val_score\n",
    "from sklearn.pipeline import Pipeline\n",
    "from sklearn.preprocessing import StandardScaler\n",
    "from sklearn import preprocessing"
   ]
  },
  {
   "cell_type": "markdown",
   "id": "2f1948e8",
   "metadata": {},
   "source": [
    "#### Find the best k value for KNN "
   ]
  },
  {
   "cell_type": "code",
   "execution_count": 511,
   "id": "852a42e8",
   "metadata": {},
   "outputs": [
    {
     "data": {
      "text/plain": [
       "Text(0, 0.5, 'Accuracy')"
      ]
     },
     "execution_count": 511,
     "metadata": {},
     "output_type": "execute_result"
    },
    {
     "data": {
      "image/png": "[encoded data removed]",
      "text/plain": [
       "<Figure size 576x360 with 1 Axes>"
      ]
     },
     "metadata": {
      "needs_background": "light"
     },
     "output_type": "display_data"
    }
   ],
   "source": [
    "knn_acc = []\n",
    "\n",
    "for i in range(1,10):\n",
    "    knn = KNeighborsClassifier(n_neighbors=i)\n",
    "    acc = cross_val_score(knn, sampled_X, sampled_Y, cv=5)\n",
    "    knn_acc.append(acc.mean())\n",
    "\n",
    "plt.figure(figsize=(8,5))\n",
    "plt.plot(range(1,10),knn_acc, marker='o', markersize=9)\n",
    "plt.xlabel(\"K value\", fontsize=18)\n",
    "plt.ylabel(\"Accuracy\",fontsize=18)"
   ]
  },
  {
   "cell_type": "markdown",
   "id": "47b76a50",
   "metadata": {},
   "source": [
    "- k=7 is optimal"
   ]
  },
  {
   "cell_type": "markdown",
   "id": "3d40a2de",
   "metadata": {},
   "source": [
    "#### Check the feature scaling method to KNN"
   ]
  },
  {
   "cell_type": "markdown",
   "id": "5d1d5ab3",
   "metadata": {},
   "source": [
    "#### for k=7"
   ]
  },
  {
   "cell_type": "code",
   "execution_count": 512,
   "id": "e136946a",
   "metadata": {},
   "outputs": [],
   "source": [
    "knn = KNeighborsClassifier(n_neighbors=7)"
   ]
  },
  {
   "cell_type": "code",
   "execution_count": 513,
   "id": "16398656",
   "metadata": {},
   "outputs": [
    {
     "name": "stdout",
     "output_type": "stream",
     "text": [
      "Accuracy KNN without transformation: 0.89 (+/- 0.05)\n"
     ]
    }
   ],
   "source": [
    "acc = cross_val_score(knn, sampled_X, sampled_Y, cv=5)\n",
    "print(\"Accuracy KNN without transformation: %0.2f (+/- %0.2f)\" % (acc.mean(), acc.std() * 2))"
   ]
  },
  {
   "cell_type": "code",
   "execution_count": 514,
   "id": "5fe24a97",
   "metadata": {},
   "outputs": [
    {
     "name": "stdout",
     "output_type": "stream",
     "text": [
      "Accuracy KNN with Standardization: 0.91 (+/- 0.05)\n"
     ]
    }
   ],
   "source": [
    "# create pipeline -> Standardization\n",
    "pipeline = Pipeline(steps=[('scaler', StandardScaler()),\n",
    "                   ('model',knn)])\n",
    "\n",
    "# perform cross validation\n",
    "acc = cross_val_score(estimator=pipeline, \n",
    "                         X=sampled_X, \n",
    "                         y=sampled_Y, \n",
    "                         cv=5\n",
    "                        )\n",
    "\n",
    "print(\"Accuracy KNN with Standardization: %0.2f (+/- %0.2f)\" % (acc.mean(), acc.std() * 2))"
   ]
  },
  {
   "cell_type": "code",
   "execution_count": 516,
   "id": "5616167e",
   "metadata": {},
   "outputs": [
    {
     "name": "stdout",
     "output_type": "stream",
     "text": [
      "Accuracy KNN with Normalizaton: 0.90 (+/- 0.05)\n"
     ]
    }
   ],
   "source": [
    "# create pipeline - > Normalizaton\n",
    "pipeline = Pipeline(steps=[('scaler', preprocessing.MinMaxScaler()),\n",
    "                   ('model', knn)])\n",
    "\n",
    "# perform cross validation\n",
    "acc = cross_val_score(estimator=pipeline, \n",
    "                         X=sampled_X, \n",
    "                         y=sampled_Y, \n",
    "                         cv=5\n",
    "                        )\n",
    "\n",
    "print(\"Accuracy KNN with Normalizaton: %0.2f (+/- %0.2f)\" % (acc.mean(), acc.std() * 2))"
   ]
  },
  {
   "cell_type": "markdown",
   "id": "c3c2b24b",
   "metadata": {},
   "source": [
    "- Standerdization performed well"
   ]
  },
  {
   "cell_type": "markdown",
   "id": "19e94ac9",
   "metadata": {},
   "source": [
    "#### Evaluation without Feaure scaling"
   ]
  },
  {
   "cell_type": "code",
   "execution_count": 517,
   "id": "b61fa778",
   "metadata": {},
   "outputs": [],
   "source": [
    "# create pipeline -> Standardization\n",
    "pipeline = Pipeline(steps=[('scaler', StandardScaler()), ('model',knn)])"
   ]
  },
  {
   "cell_type": "code",
   "execution_count": 525,
   "id": "b802f9ef",
   "metadata": {},
   "outputs": [
    {
     "name": "stdout",
     "output_type": "stream",
     "text": [
      "Accuracy KNN using best 20 features: 0.87 (+/- 0.08)\n"
     ]
    }
   ],
   "source": [
    "# perform cross validation\n",
    "acc = cross_val_score(estimator=pipeline, X=sampled_X_20, y=sampled_Y, cv=5)\n",
    "print(\"Accuracy KNN using best 20 features: %0.2f (+/- %0.2f)\" % (acc.mean(), acc.std() * 2))"
   ]
  },
  {
   "cell_type": "code",
   "execution_count": 519,
   "id": "478d78d7",
   "metadata": {},
   "outputs": [
    {
     "name": "stdout",
     "output_type": "stream",
     "text": [
      "Accuracy RF using best 50 features: 0.89 (+/- 0.06)\n"
     ]
    }
   ],
   "source": [
    "# perform cross validation\n",
    "acc = cross_val_score(estimator=pipeline, X=sampled_X_50, y=sampled_Y, cv=5)\n",
    "print(\"Accuracy KNN using best 50 features: %0.2f (+/- %0.2f)\" % (acc.mean(), acc.std() * 2))"
   ]
  },
  {
   "cell_type": "code",
   "execution_count": 520,
   "id": "f8323114",
   "metadata": {},
   "outputs": [
    {
     "name": "stdout",
     "output_type": "stream",
     "text": [
      "Accuracy RF using best 100 features: 0.91 (+/- 0.07)\n"
     ]
    }
   ],
   "source": [
    "# perform cross validation\n",
    "acc = cross_val_score(estimator=pipeline, X=sampled_X_100, y=sampled_Y, cv=5)\n",
    "print(\"Accuracy KNN using best 100 features: %0.2f (+/- %0.2f)\" % (acc.mean(), acc.std() * 2))"
   ]
  },
  {
   "cell_type": "markdown",
   "id": "b75d098a",
   "metadata": {},
   "source": [
    "#### Select features amount larger than 100"
   ]
  },
  {
   "cell_type": "code",
   "execution_count": 526,
   "id": "5de87cd2",
   "metadata": {},
   "outputs": [
    {
     "name": "stdout",
     "output_type": "stream",
     "text": [
      "Accuracy KNN using best 150 features: 0.91 (+/- 0.03)\n"
     ]
    }
   ],
   "source": [
    "# perform cross validation\n",
    "acc = cross_val_score(estimator=pipeline, X=sampled_X_150, y=sampled_Y, cv=5)\n",
    "print(\"Accuracy KNN using best 150 features: %0.2f (+/- %0.2f)\" % (acc.mean(), acc.std() * 2))"
   ]
  },
  {
   "cell_type": "code",
   "execution_count": 527,
   "id": "c7b31df7",
   "metadata": {},
   "outputs": [
    {
     "name": "stdout",
     "output_type": "stream",
     "text": [
      "Accuracy KNN using best 200 features: 0.91 (+/- 0.07)\n"
     ]
    }
   ],
   "source": [
    "# perform cross validation\n",
    "acc = cross_val_score(estimator=pipeline, X=sampled_X_200, y=sampled_Y, cv=5)\n",
    "print(\"Accuracy KNN using best 200 features: %0.2f (+/- %0.2f)\" % (acc.mean(), acc.std() * 2))"
   ]
  },
  {
   "cell_type": "code",
   "execution_count": 528,
   "id": "64b6656b",
   "metadata": {},
   "outputs": [
    {
     "name": "stdout",
     "output_type": "stream",
     "text": [
      "Accuracy KNN using best 250 features: 0.91 (+/- 0.06)\n"
     ]
    }
   ],
   "source": [
    "# perform cross validation\n",
    "acc = cross_val_score(estimator=pipeline, X=sampled_X_250, y=sampled_Y, cv=5)\n",
    "print(\"Accuracy KNN using best 250 features: %0.2f (+/- %0.2f)\" % (acc.mean(), acc.std() * 2))"
   ]
  },
  {
   "cell_type": "code",
   "execution_count": 529,
   "id": "68ee4d68",
   "metadata": {},
   "outputs": [
    {
     "name": "stdout",
     "output_type": "stream",
     "text": [
      "Accuracy KNN using best 270 features: 0.89 (+/- 0.05)\n"
     ]
    }
   ],
   "source": [
    "# perform cross validation\n",
    "acc = cross_val_score(estimator=pipeline, X=sampled_X_270, y=sampled_Y, cv=5)\n",
    "print(\"Accuracy KNN using best 270 features: %0.2f (+/- %0.2f)\" % (acc.mean(), acc.std() * 2))"
   ]
  },
  {
   "cell_type": "code",
   "execution_count": 530,
   "id": "45ca9e92",
   "metadata": {},
   "outputs": [
    {
     "name": "stdout",
     "output_type": "stream",
     "text": [
      "Accuracy KNN using best 280 features: 0.89 (+/- 0.06)\n"
     ]
    }
   ],
   "source": [
    "# perform cross validation\n",
    "acc = cross_val_score(estimator=pipeline, X=sampled_X_280, y=sampled_Y, cv=5)\n",
    "print(\"Accuracy KNN using best 280 features: %0.2f (+/- %0.2f)\" % (acc.mean(), acc.std() * 2))"
   ]
  },
  {
   "cell_type": "code",
   "execution_count": 531,
   "id": "bc667f39",
   "metadata": {},
   "outputs": [
    {
     "name": "stdout",
     "output_type": "stream",
     "text": [
      "Accuracy KNN using best 290 features: 0.90 (+/- 0.05)\n"
     ]
    }
   ],
   "source": [
    "# perform cross validation\n",
    "acc = cross_val_score(estimator=pipeline, X=sampled_X_290, y=sampled_Y, cv=5)\n",
    "print(\"Accuracy KNN using best 290 features: %0.2f (+/- %0.2f)\" % (acc.mean(), acc.std() * 2))"
   ]
  },
  {
   "cell_type": "code",
   "execution_count": 532,
   "id": "491f2eb0",
   "metadata": {},
   "outputs": [
    {
     "name": "stdout",
     "output_type": "stream",
     "text": [
      "Accuracy KNN using best 230 features: 0.91 (+/- 0.06)\n"
     ]
    }
   ],
   "source": [
    "# perform cross validation\n",
    "acc = cross_val_score(estimator=pipeline, X=sampled_X_230, y=sampled_Y, cv=5)\n",
    "print(\"Accuracy KNN using best 230 features: %0.2f (+/- %0.2f)\" % (acc.mean(), acc.std() * 2))"
   ]
  },
  {
   "cell_type": "code",
   "execution_count": null,
   "id": "b8327ecf",
   "metadata": {},
   "outputs": [],
   "source": [
    "import csv\n",
    "with open('selected_125_features.csv', 'w', encoding='UTF8',newline='') as f:\n",
    "    writer = csv.writer(f)\n",
    "    \n",
    "    for i in range(sampled_X_125.shape[1]):\n",
    "        # write the data\n",
    "        writer.writerow([sampled_X_125.columns[i]])"
   ]
  },
  {
   "cell_type": "code",
   "execution_count": null,
   "id": "d8fc1788",
   "metadata": {},
   "outputs": [],
   "source": []
  },
  {
   "cell_type": "code",
   "execution_count": null,
   "id": "290c72bf",
   "metadata": {},
   "outputs": [],
   "source": []
  },
  {
   "cell_type": "code",
   "execution_count": null,
   "id": "aa1fb05b",
   "metadata": {},
   "outputs": [],
   "source": []
  },
  {
   "cell_type": "code",
   "execution_count": null,
   "id": "f3e5d88c",
   "metadata": {},
   "outputs": [],
   "source": []
  },
  {
   "cell_type": "code",
   "execution_count": null,
   "id": "108fbcd6",
   "metadata": {},
   "outputs": [],
   "source": []
  },
  {
   "cell_type": "code",
   "execution_count": null,
   "id": "5eea8b60",
   "metadata": {},
   "outputs": [],
   "source": []
  },
  {
   "cell_type": "code",
   "execution_count": null,
   "id": "4b3f7dc6",
   "metadata": {},
   "outputs": [],
   "source": []
  },
  {
   "cell_type": "code",
   "execution_count": null,
   "id": "6cf1b4ba",
   "metadata": {},
   "outputs": [],
   "source": []
  }
 ],
 "metadata": {
  "kernelspec": {
   "display_name": "Python 3",
   "language": "python",
   "name": "python3"
  },
  "language_info": {
   "codemirror_mode": {
    "name": "ipython",
    "version": 3
   },
   "file_extension": ".py",
   "mimetype": "text/x-python",
   "name": "python",
   "nbconvert_exporter": "python",
   "pygments_lexer": "ipython3",
   "version": "3.8.8"
  }
 },
 "nbformat": 4,
 "nbformat_minor": 5
}
