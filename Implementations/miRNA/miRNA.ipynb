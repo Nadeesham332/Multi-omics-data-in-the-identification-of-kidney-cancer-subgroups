{
 "cells": [
  {
   "cell_type": "markdown",
   "id": "f8ef94a0",
   "metadata": {},
   "source": [
    "## Dataset initialization "
   ]
  },
  {
   "cell_type": "code",
   "execution_count": 1,
   "id": "72fa5628",
   "metadata": {},
   "outputs": [],
   "source": [
    "# import required libraries\n",
    "import pandas as pd"
   ]
  },
  {
   "cell_type": "code",
   "execution_count": 2,
   "id": "f15530c6",
   "metadata": {},
   "outputs": [],
   "source": [
    "#import data sets about genomic data\n",
    "df0=pd.read_csv('KIRC_miRNA_HiSeq_gene.data',sep='\\t').set_index('sample').T\n",
    "df1=pd.read_csv('KIRP_miRNA_HiSeq_gene.data',sep='\\t').set_index('sample').T\n",
    "df2=pd.read_csv('KICH_miRNA_HiSeq_gene.data',sep='\\t').set_index('sample').T"
   ]
  },
  {
   "cell_type": "code",
   "execution_count": 3,
   "id": "263a1b88",
   "metadata": {},
   "outputs": [
    {
     "data": {
      "text/plain": [
       "((311, 2049), (321, 2115), (89, 1918))"
      ]
     },
     "execution_count": 3,
     "metadata": {},
     "output_type": "execute_result"
    }
   ],
   "source": [
    "df0.shape, df1.shape, df2.shape"
   ]
  },
  {
   "cell_type": "code",
   "execution_count": 4,
   "id": "4a7be0a1",
   "metadata": {},
   "outputs": [],
   "source": [
    "# concat datasets related to 3 subtypes\n",
    "df=pd.concat([df0, df1, df2])"
   ]
  },
  {
   "cell_type": "code",
   "execution_count": 5,
   "id": "94503cb2",
   "metadata": {},
   "outputs": [
    {
     "data": {
      "text/plain": [
       "(721, 2185)"
      ]
     },
     "execution_count": 5,
     "metadata": {},
     "output_type": "execute_result"
    }
   ],
   "source": [
    "df.shape"
   ]
  },
  {
   "cell_type": "markdown",
   "id": "0afa6783",
   "metadata": {},
   "source": [
    "## Preprocessing stage"
   ]
  },
  {
   "cell_type": "code",
   "execution_count": 6,
   "id": "7b8cd09e",
   "metadata": {},
   "outputs": [],
   "source": [
    "# drop duplicate rows\n",
    "df=df.drop_duplicates()"
   ]
  },
  {
   "cell_type": "code",
   "execution_count": 7,
   "id": "67edf73d",
   "metadata": {},
   "outputs": [
    {
     "data": {
      "text/plain": [
       "(721, 2185)"
      ]
     },
     "execution_count": 7,
     "metadata": {},
     "output_type": "execute_result"
    }
   ],
   "source": [
    "df.shape"
   ]
  },
  {
   "cell_type": "markdown",
   "id": "186d3e95",
   "metadata": {},
   "source": [
    "- No duplicates"
   ]
  },
  {
   "cell_type": "code",
   "execution_count": 8,
   "id": "407b4cd4",
   "metadata": {},
   "outputs": [
    {
     "data": {
      "text/plain": [
       "sample\n",
       "MIMAT0019868    615\n",
       "MIMAT0019869    634\n",
       "MIMAT0019860    620\n",
       "MIMAT0019861    720\n",
       "MIMAT0019862    642\n",
       "               ... \n",
       "MIMAT0022480    719\n",
       "MIMAT0021128    720\n",
       "MIMAT0021127    720\n",
       "MIMAT0004685    720\n",
       "MIMAT0022493    720\n",
       "Length: 2185, dtype: int64"
      ]
     },
     "execution_count": 8,
     "metadata": {},
     "output_type": "execute_result"
    }
   ],
   "source": [
    "df.isnull().sum()"
   ]
  },
  {
   "cell_type": "markdown",
   "id": "f70f3fc9",
   "metadata": {},
   "source": [
    "- Lots of null valued features exist"
   ]
  },
  {
   "cell_type": "code",
   "execution_count": 9,
   "id": "69e50a8f",
   "metadata": {},
   "outputs": [
    {
     "data": {
      "text/plain": [
       "1958"
      ]
     },
     "execution_count": 9,
     "metadata": {},
     "output_type": "execute_result"
    }
   ],
   "source": [
    "# Count the null values containing features\n",
    "n=(df.isnull().sum()>0).sum()\n",
    "n"
   ]
  },
  {
   "cell_type": "code",
   "execution_count": 10,
   "id": "97352311",
   "metadata": {},
   "outputs": [
    {
     "data": {
      "text/plain": [
       "sample\n",
       "MIMAT0022493    720\n",
       "MIMAT0005940    720\n",
       "MIMAT0027480    720\n",
       "MIMAT0028227    720\n",
       "MIMAT0022479    720\n",
       "               ... \n",
       "MIMAT0004604      1\n",
       "MIMAT0004518      1\n",
       "MIMAT0000688      1\n",
       "MIMAT0000691      1\n",
       "MIMAT0019208      1\n",
       "Length: 1958, dtype: int64"
      ]
     },
     "execution_count": 10,
     "metadata": {},
     "output_type": "execute_result"
    }
   ],
   "source": [
    "# Check the null values\n",
    "df.isnull().sum().sort_values(ascending = False).head(n)"
   ]
  },
  {
   "cell_type": "code",
   "execution_count": 11,
   "id": "b4f27072",
   "metadata": {},
   "outputs": [],
   "source": [
    "# drop the null values\n",
    "df=df.dropna(axis=1)"
   ]
  },
  {
   "cell_type": "code",
   "execution_count": 12,
   "id": "adced9c7",
   "metadata": {},
   "outputs": [
    {
     "data": {
      "text/plain": [
       "(721, 227)"
      ]
     },
     "execution_count": 12,
     "metadata": {},
     "output_type": "execute_result"
    }
   ],
   "source": [
    "df.shape"
   ]
  },
  {
   "cell_type": "code",
   "execution_count": 13,
   "id": "42133fbb",
   "metadata": {},
   "outputs": [
    {
     "name": "stdout",
     "output_type": "stream",
     "text": [
      "Features which have zero values:\t 0\n"
     ]
    }
   ],
   "source": [
    "# count the features which have more zero values \n",
    "i=1\n",
    "exceed=0\n",
    "\n",
    "for column_name in df.columns:\n",
    "    column = df[column_name]\n",
    "    \n",
    "    # avoid removing the 'Subtype' column\n",
    "    if i == len(df.columns):\n",
    "        continue\n",
    "        \n",
    "    # Get the count of Zeros in column \n",
    "    count = (column == 0).sum()\n",
    "\n",
    "    if count>0:\n",
    "        exceed+=1\n",
    "\n",
    "    i+=1\n",
    "    \n",
    "print('Features which have zero values:\\t', exceed)"
   ]
  },
  {
   "cell_type": "markdown",
   "id": "c07ea734",
   "metadata": {},
   "source": [
    "* No zero values"
   ]
  },
  {
   "cell_type": "code",
   "execution_count": 14,
   "id": "fee553fc",
   "metadata": {},
   "outputs": [
    {
     "data": {
      "text/html": [
       "<div>\n",
       "<style scoped>\n",
       "    .dataframe tbody tr th:only-of-type {\n",
       "        vertical-align: middle;\n",
       "    }\n",
       "\n",
       "    .dataframe tbody tr th {\n",
       "        vertical-align: top;\n",
       "    }\n",
       "\n",
       "    .dataframe thead th {\n",
       "        text-align: right;\n",
       "    }\n",
       "</style>\n",
       "<table border=\"1\" class=\"dataframe\">\n",
       "  <thead>\n",
       "    <tr style=\"text-align: right;\">\n",
       "      <th>sample</th>\n",
       "      <th>MIMAT0000764</th>\n",
       "      <th>MIMAT0000761</th>\n",
       "      <th>MIMAT0000760</th>\n",
       "      <th>MIMAT0000763</th>\n",
       "      <th>MIMAT0026738</th>\n",
       "      <th>MIMAT0004946</th>\n",
       "      <th>MIMAT0004766</th>\n",
       "      <th>MIMAT0004808</th>\n",
       "      <th>MIMAT0004809</th>\n",
       "      <th>MIMAT0004481</th>\n",
       "      <th>...</th>\n",
       "      <th>MIMAT0004693</th>\n",
       "      <th>MIMAT0004692</th>\n",
       "      <th>MIMAT0004694</th>\n",
       "      <th>MIMAT0004697</th>\n",
       "      <th>MIMAT0004673</th>\n",
       "      <th>MIMAT0004672</th>\n",
       "      <th>MIMAT0004588</th>\n",
       "      <th>MIMAT0004585</th>\n",
       "      <th>MIMAT0004584</th>\n",
       "      <th>Subtype</th>\n",
       "    </tr>\n",
       "    <tr>\n",
       "      <th>sample</th>\n",
       "      <th></th>\n",
       "      <th></th>\n",
       "      <th></th>\n",
       "      <th></th>\n",
       "      <th></th>\n",
       "      <th></th>\n",
       "      <th></th>\n",
       "      <th></th>\n",
       "      <th></th>\n",
       "      <th></th>\n",
       "      <th></th>\n",
       "      <th></th>\n",
       "      <th></th>\n",
       "      <th></th>\n",
       "      <th></th>\n",
       "      <th></th>\n",
       "      <th></th>\n",
       "      <th></th>\n",
       "      <th></th>\n",
       "      <th></th>\n",
       "      <th></th>\n",
       "    </tr>\n",
       "  </thead>\n",
       "  <tbody>\n",
       "    <tr>\n",
       "      <th>MIMAT0000764</th>\n",
       "      <td>1.000000</td>\n",
       "      <td>0.575622</td>\n",
       "      <td>0.274550</td>\n",
       "      <td>0.206451</td>\n",
       "      <td>0.318641</td>\n",
       "      <td>0.236725</td>\n",
       "      <td>0.332800</td>\n",
       "      <td>0.403895</td>\n",
       "      <td>0.219344</td>\n",
       "      <td>0.376799</td>\n",
       "      <td>...</td>\n",
       "      <td>0.144628</td>\n",
       "      <td>0.170372</td>\n",
       "      <td>0.482700</td>\n",
       "      <td>0.441069</td>\n",
       "      <td>0.197624</td>\n",
       "      <td>0.224624</td>\n",
       "      <td>0.197188</td>\n",
       "      <td>0.313105</td>\n",
       "      <td>0.086577</td>\n",
       "      <td>-0.313749</td>\n",
       "    </tr>\n",
       "    <tr>\n",
       "      <th>MIMAT0000761</th>\n",
       "      <td>0.575622</td>\n",
       "      <td>1.000000</td>\n",
       "      <td>0.460793</td>\n",
       "      <td>0.157569</td>\n",
       "      <td>0.506188</td>\n",
       "      <td>0.595911</td>\n",
       "      <td>0.273757</td>\n",
       "      <td>0.207331</td>\n",
       "      <td>0.322729</td>\n",
       "      <td>0.425234</td>\n",
       "      <td>...</td>\n",
       "      <td>0.194837</td>\n",
       "      <td>0.069802</td>\n",
       "      <td>0.416174</td>\n",
       "      <td>0.492820</td>\n",
       "      <td>0.401965</td>\n",
       "      <td>0.021674</td>\n",
       "      <td>0.317303</td>\n",
       "      <td>0.326724</td>\n",
       "      <td>0.251785</td>\n",
       "      <td>-0.239759</td>\n",
       "    </tr>\n",
       "    <tr>\n",
       "      <th>MIMAT0000760</th>\n",
       "      <td>0.274550</td>\n",
       "      <td>0.460793</td>\n",
       "      <td>1.000000</td>\n",
       "      <td>0.105361</td>\n",
       "      <td>0.560225</td>\n",
       "      <td>0.620914</td>\n",
       "      <td>0.217476</td>\n",
       "      <td>0.130900</td>\n",
       "      <td>0.493675</td>\n",
       "      <td>0.203962</td>\n",
       "      <td>...</td>\n",
       "      <td>0.445706</td>\n",
       "      <td>0.040861</td>\n",
       "      <td>0.488525</td>\n",
       "      <td>0.420006</td>\n",
       "      <td>0.440483</td>\n",
       "      <td>0.440122</td>\n",
       "      <td>0.071068</td>\n",
       "      <td>0.603689</td>\n",
       "      <td>0.637904</td>\n",
       "      <td>-0.167696</td>\n",
       "    </tr>\n",
       "    <tr>\n",
       "      <th>MIMAT0000763</th>\n",
       "      <td>0.206451</td>\n",
       "      <td>0.157569</td>\n",
       "      <td>0.105361</td>\n",
       "      <td>1.000000</td>\n",
       "      <td>0.196045</td>\n",
       "      <td>0.114390</td>\n",
       "      <td>0.088145</td>\n",
       "      <td>-0.214972</td>\n",
       "      <td>0.384986</td>\n",
       "      <td>0.286159</td>\n",
       "      <td>...</td>\n",
       "      <td>0.366652</td>\n",
       "      <td>0.098905</td>\n",
       "      <td>0.329808</td>\n",
       "      <td>0.410150</td>\n",
       "      <td>0.425131</td>\n",
       "      <td>-0.002952</td>\n",
       "      <td>0.243657</td>\n",
       "      <td>0.390222</td>\n",
       "      <td>-0.035060</td>\n",
       "      <td>-0.479382</td>\n",
       "    </tr>\n",
       "    <tr>\n",
       "      <th>MIMAT0026738</th>\n",
       "      <td>0.318641</td>\n",
       "      <td>0.506188</td>\n",
       "      <td>0.560225</td>\n",
       "      <td>0.196045</td>\n",
       "      <td>1.000000</td>\n",
       "      <td>0.661090</td>\n",
       "      <td>0.212275</td>\n",
       "      <td>0.163877</td>\n",
       "      <td>0.504458</td>\n",
       "      <td>0.139670</td>\n",
       "      <td>...</td>\n",
       "      <td>0.283628</td>\n",
       "      <td>0.060915</td>\n",
       "      <td>0.431503</td>\n",
       "      <td>0.546108</td>\n",
       "      <td>0.381477</td>\n",
       "      <td>0.209275</td>\n",
       "      <td>0.250869</td>\n",
       "      <td>0.339440</td>\n",
       "      <td>0.438152</td>\n",
       "      <td>-0.318077</td>\n",
       "    </tr>\n",
       "    <tr>\n",
       "      <th>...</th>\n",
       "      <td>...</td>\n",
       "      <td>...</td>\n",
       "      <td>...</td>\n",
       "      <td>...</td>\n",
       "      <td>...</td>\n",
       "      <td>...</td>\n",
       "      <td>...</td>\n",
       "      <td>...</td>\n",
       "      <td>...</td>\n",
       "      <td>...</td>\n",
       "      <td>...</td>\n",
       "      <td>...</td>\n",
       "      <td>...</td>\n",
       "      <td>...</td>\n",
       "      <td>...</td>\n",
       "      <td>...</td>\n",
       "      <td>...</td>\n",
       "      <td>...</td>\n",
       "      <td>...</td>\n",
       "      <td>...</td>\n",
       "      <td>...</td>\n",
       "    </tr>\n",
       "    <tr>\n",
       "      <th>MIMAT0004672</th>\n",
       "      <td>0.224624</td>\n",
       "      <td>0.021674</td>\n",
       "      <td>0.440122</td>\n",
       "      <td>-0.002952</td>\n",
       "      <td>0.209275</td>\n",
       "      <td>0.216505</td>\n",
       "      <td>0.365676</td>\n",
       "      <td>0.454639</td>\n",
       "      <td>0.092271</td>\n",
       "      <td>0.039477</td>\n",
       "      <td>...</td>\n",
       "      <td>0.514139</td>\n",
       "      <td>0.224127</td>\n",
       "      <td>0.437199</td>\n",
       "      <td>0.199487</td>\n",
       "      <td>-0.203465</td>\n",
       "      <td>1.000000</td>\n",
       "      <td>-0.196994</td>\n",
       "      <td>0.361705</td>\n",
       "      <td>0.238658</td>\n",
       "      <td>-0.048213</td>\n",
       "    </tr>\n",
       "    <tr>\n",
       "      <th>MIMAT0004588</th>\n",
       "      <td>0.197188</td>\n",
       "      <td>0.317303</td>\n",
       "      <td>0.071068</td>\n",
       "      <td>0.243657</td>\n",
       "      <td>0.250869</td>\n",
       "      <td>0.243495</td>\n",
       "      <td>-0.079882</td>\n",
       "      <td>-0.173010</td>\n",
       "      <td>0.367393</td>\n",
       "      <td>0.387716</td>\n",
       "      <td>...</td>\n",
       "      <td>-0.034922</td>\n",
       "      <td>-0.072999</td>\n",
       "      <td>0.117220</td>\n",
       "      <td>0.342549</td>\n",
       "      <td>0.403038</td>\n",
       "      <td>-0.196994</td>\n",
       "      <td>1.000000</td>\n",
       "      <td>0.141548</td>\n",
       "      <td>0.080174</td>\n",
       "      <td>-0.292413</td>\n",
       "    </tr>\n",
       "    <tr>\n",
       "      <th>MIMAT0004585</th>\n",
       "      <td>0.313105</td>\n",
       "      <td>0.326724</td>\n",
       "      <td>0.603689</td>\n",
       "      <td>0.390222</td>\n",
       "      <td>0.339440</td>\n",
       "      <td>0.403603</td>\n",
       "      <td>0.246541</td>\n",
       "      <td>0.019324</td>\n",
       "      <td>0.547993</td>\n",
       "      <td>0.382497</td>\n",
       "      <td>...</td>\n",
       "      <td>0.619747</td>\n",
       "      <td>-0.009230</td>\n",
       "      <td>0.513820</td>\n",
       "      <td>0.318076</td>\n",
       "      <td>0.469191</td>\n",
       "      <td>0.361705</td>\n",
       "      <td>0.141548</td>\n",
       "      <td>1.000000</td>\n",
       "      <td>0.436113</td>\n",
       "      <td>-0.375321</td>\n",
       "    </tr>\n",
       "    <tr>\n",
       "      <th>MIMAT0004584</th>\n",
       "      <td>0.086577</td>\n",
       "      <td>0.251785</td>\n",
       "      <td>0.637904</td>\n",
       "      <td>-0.035060</td>\n",
       "      <td>0.438152</td>\n",
       "      <td>0.512306</td>\n",
       "      <td>-0.048337</td>\n",
       "      <td>-0.086841</td>\n",
       "      <td>0.335562</td>\n",
       "      <td>0.135401</td>\n",
       "      <td>...</td>\n",
       "      <td>0.127695</td>\n",
       "      <td>-0.168841</td>\n",
       "      <td>0.195589</td>\n",
       "      <td>0.217380</td>\n",
       "      <td>0.485227</td>\n",
       "      <td>0.238658</td>\n",
       "      <td>0.080174</td>\n",
       "      <td>0.436113</td>\n",
       "      <td>1.000000</td>\n",
       "      <td>0.166288</td>\n",
       "    </tr>\n",
       "    <tr>\n",
       "      <th>Subtype</th>\n",
       "      <td>-0.313749</td>\n",
       "      <td>-0.239759</td>\n",
       "      <td>-0.167696</td>\n",
       "      <td>-0.479382</td>\n",
       "      <td>-0.318077</td>\n",
       "      <td>-0.238591</td>\n",
       "      <td>-0.197868</td>\n",
       "      <td>0.004620</td>\n",
       "      <td>-0.655117</td>\n",
       "      <td>-0.144144</td>\n",
       "      <td>...</td>\n",
       "      <td>-0.392486</td>\n",
       "      <td>-0.202864</td>\n",
       "      <td>-0.432947</td>\n",
       "      <td>-0.427225</td>\n",
       "      <td>-0.310299</td>\n",
       "      <td>-0.048213</td>\n",
       "      <td>-0.292413</td>\n",
       "      <td>-0.375321</td>\n",
       "      <td>0.166288</td>\n",
       "      <td>1.000000</td>\n",
       "    </tr>\n",
       "  </tbody>\n",
       "</table>\n",
       "<p>227 rows × 227 columns</p>\n",
       "</div>"
      ],
      "text/plain": [
       "sample        MIMAT0000764  MIMAT0000761  MIMAT0000760  MIMAT0000763  \\\n",
       "sample                                                                 \n",
       "MIMAT0000764      1.000000      0.575622      0.274550      0.206451   \n",
       "MIMAT0000761      0.575622      1.000000      0.460793      0.157569   \n",
       "MIMAT0000760      0.274550      0.460793      1.000000      0.105361   \n",
       "MIMAT0000763      0.206451      0.157569      0.105361      1.000000   \n",
       "MIMAT0026738      0.318641      0.506188      0.560225      0.196045   \n",
       "...                    ...           ...           ...           ...   \n",
       "MIMAT0004672      0.224624      0.021674      0.440122     -0.002952   \n",
       "MIMAT0004588      0.197188      0.317303      0.071068      0.243657   \n",
       "MIMAT0004585      0.313105      0.326724      0.603689      0.390222   \n",
       "MIMAT0004584      0.086577      0.251785      0.637904     -0.035060   \n",
       "Subtype          -0.313749     -0.239759     -0.167696     -0.479382   \n",
       "\n",
       "sample        MIMAT0026738  MIMAT0004946  MIMAT0004766  MIMAT0004808  \\\n",
       "sample                                                                 \n",
       "MIMAT0000764      0.318641      0.236725      0.332800      0.403895   \n",
       "MIMAT0000761      0.506188      0.595911      0.273757      0.207331   \n",
       "MIMAT0000760      0.560225      0.620914      0.217476      0.130900   \n",
       "MIMAT0000763      0.196045      0.114390      0.088145     -0.214972   \n",
       "MIMAT0026738      1.000000      0.661090      0.212275      0.163877   \n",
       "...                    ...           ...           ...           ...   \n",
       "MIMAT0004672      0.209275      0.216505      0.365676      0.454639   \n",
       "MIMAT0004588      0.250869      0.243495     -0.079882     -0.173010   \n",
       "MIMAT0004585      0.339440      0.403603      0.246541      0.019324   \n",
       "MIMAT0004584      0.438152      0.512306     -0.048337     -0.086841   \n",
       "Subtype          -0.318077     -0.238591     -0.197868      0.004620   \n",
       "\n",
       "sample        MIMAT0004809  MIMAT0004481  ...  MIMAT0004693  MIMAT0004692  \\\n",
       "sample                                    ...                               \n",
       "MIMAT0000764      0.219344      0.376799  ...      0.144628      0.170372   \n",
       "MIMAT0000761      0.322729      0.425234  ...      0.194837      0.069802   \n",
       "MIMAT0000760      0.493675      0.203962  ...      0.445706      0.040861   \n",
       "MIMAT0000763      0.384986      0.286159  ...      0.366652      0.098905   \n",
       "MIMAT0026738      0.504458      0.139670  ...      0.283628      0.060915   \n",
       "...                    ...           ...  ...           ...           ...   \n",
       "MIMAT0004672      0.092271      0.039477  ...      0.514139      0.224127   \n",
       "MIMAT0004588      0.367393      0.387716  ...     -0.034922     -0.072999   \n",
       "MIMAT0004585      0.547993      0.382497  ...      0.619747     -0.009230   \n",
       "MIMAT0004584      0.335562      0.135401  ...      0.127695     -0.168841   \n",
       "Subtype          -0.655117     -0.144144  ...     -0.392486     -0.202864   \n",
       "\n",
       "sample        MIMAT0004694  MIMAT0004697  MIMAT0004673  MIMAT0004672  \\\n",
       "sample                                                                 \n",
       "MIMAT0000764      0.482700      0.441069      0.197624      0.224624   \n",
       "MIMAT0000761      0.416174      0.492820      0.401965      0.021674   \n",
       "MIMAT0000760      0.488525      0.420006      0.440483      0.440122   \n",
       "MIMAT0000763      0.329808      0.410150      0.425131     -0.002952   \n",
       "MIMAT0026738      0.431503      0.546108      0.381477      0.209275   \n",
       "...                    ...           ...           ...           ...   \n",
       "MIMAT0004672      0.437199      0.199487     -0.203465      1.000000   \n",
       "MIMAT0004588      0.117220      0.342549      0.403038     -0.196994   \n",
       "MIMAT0004585      0.513820      0.318076      0.469191      0.361705   \n",
       "MIMAT0004584      0.195589      0.217380      0.485227      0.238658   \n",
       "Subtype          -0.432947     -0.427225     -0.310299     -0.048213   \n",
       "\n",
       "sample        MIMAT0004588  MIMAT0004585  MIMAT0004584   Subtype  \n",
       "sample                                                            \n",
       "MIMAT0000764      0.197188      0.313105      0.086577 -0.313749  \n",
       "MIMAT0000761      0.317303      0.326724      0.251785 -0.239759  \n",
       "MIMAT0000760      0.071068      0.603689      0.637904 -0.167696  \n",
       "MIMAT0000763      0.243657      0.390222     -0.035060 -0.479382  \n",
       "MIMAT0026738      0.250869      0.339440      0.438152 -0.318077  \n",
       "...                    ...           ...           ...       ...  \n",
       "MIMAT0004672     -0.196994      0.361705      0.238658 -0.048213  \n",
       "MIMAT0004588      1.000000      0.141548      0.080174 -0.292413  \n",
       "MIMAT0004585      0.141548      1.000000      0.436113 -0.375321  \n",
       "MIMAT0004584      0.080174      0.436113      1.000000  0.166288  \n",
       "Subtype          -0.292413     -0.375321      0.166288  1.000000  \n",
       "\n",
       "[227 rows x 227 columns]"
      ]
     },
     "execution_count": 14,
     "metadata": {},
     "output_type": "execute_result"
    }
   ],
   "source": [
    "# use Pearson correlation to find the correlation between variables\n",
    "cor = df.corr(method='pearson')\n",
    "cor"
   ]
  },
  {
   "cell_type": "code",
   "execution_count": 15,
   "id": "67c24e48",
   "metadata": {},
   "outputs": [
    {
     "data": {
      "text/plain": [
       "sample        sample      \n",
       "MIMAT0022834  MIMAT0000710    0.999994\n",
       "MIMAT0000232  MIMAT0004563    0.999974\n",
       "MIMAT0000460  MIMAT0000222    0.974252\n",
       "MIMAT0000261  MIMAT0000259    0.970452\n",
       "MIMAT0000445  MIMAT0000444    0.950033\n",
       "MIMAT0001631  MIMAT0004600    0.949885\n",
       "MIMAT0000437  MIMAT0004601    0.946854\n",
       "MIMAT0000446  MIMAT0000733    0.941053\n",
       "MIMAT0000231  MIMAT0000232    0.938827\n",
       "MIMAT0004563  MIMAT0000231    0.938267\n",
       "MIMAT0000318  MIMAT0000682    0.932302\n",
       "MIMAT0004600  MIMAT0002177    0.927663\n",
       "MIMAT0004559  MIMAT0000258    0.927155\n",
       "MIMAT0001631  MIMAT0002177    0.916373\n",
       "MIMAT0000256  MIMAT0000257    0.908278\n",
       "MIMAT0004909  MIMAT0003389    0.907634\n",
       "MIMAT0000318  MIMAT0001536    0.905601\n",
       "MIMAT0000433  MIMAT0000434    0.901821\n",
       "MIMAT0001536  MIMAT0000682    0.901741\n",
       "MIMAT0004766  MIMAT0002809    0.901619\n",
       "MIMAT0000461  MIMAT0002820    0.901088\n",
       "dtype: float64"
      ]
     },
     "execution_count": 15,
     "metadata": {},
     "output_type": "execute_result"
    }
   ],
   "source": [
    "c1 = cor.stack().sort_values(ascending=False).drop_duplicates()\n",
    "high_cor = c1[c1.values!=1]    \n",
    "high_cor[high_cor>0.9]"
   ]
  },
  {
   "cell_type": "code",
   "execution_count": 16,
   "id": "e86679c4",
   "metadata": {},
   "outputs": [],
   "source": [
    "# MultiIndex into temp file\n",
    "temp= high_cor[high_cor>0.9].index"
   ]
  },
  {
   "cell_type": "code",
   "execution_count": 17,
   "id": "10ef791c",
   "metadata": {},
   "outputs": [],
   "source": [
    "# temp set for store features which are high correlated\n",
    "tset=set()"
   ]
  },
  {
   "cell_type": "code",
   "execution_count": 18,
   "id": "37cdc8b0",
   "metadata": {},
   "outputs": [],
   "source": [
    "for i in range(temp.size):\n",
    "    tset.add(temp[i][0])"
   ]
  },
  {
   "cell_type": "code",
   "execution_count": 19,
   "id": "b6a94252",
   "metadata": {},
   "outputs": [
    {
     "data": {
      "text/plain": [
       "19"
      ]
     },
     "execution_count": 19,
     "metadata": {},
     "output_type": "execute_result"
    }
   ],
   "source": [
    "len(tset)"
   ]
  },
  {
   "cell_type": "code",
   "execution_count": 20,
   "id": "3b325cd9",
   "metadata": {},
   "outputs": [
    {
     "data": {
      "text/plain": [
       "{'MIMAT0000231',\n",
       " 'MIMAT0000232',\n",
       " 'MIMAT0000256',\n",
       " 'MIMAT0000261',\n",
       " 'MIMAT0000318',\n",
       " 'MIMAT0000433',\n",
       " 'MIMAT0000437',\n",
       " 'MIMAT0000445',\n",
       " 'MIMAT0000446',\n",
       " 'MIMAT0000460',\n",
       " 'MIMAT0000461',\n",
       " 'MIMAT0001536',\n",
       " 'MIMAT0001631',\n",
       " 'MIMAT0004559',\n",
       " 'MIMAT0004563',\n",
       " 'MIMAT0004600',\n",
       " 'MIMAT0004766',\n",
       " 'MIMAT0004909',\n",
       " 'MIMAT0022834'}"
      ]
     },
     "execution_count": 20,
     "metadata": {},
     "output_type": "execute_result"
    }
   ],
   "source": [
    "tset"
   ]
  },
  {
   "cell_type": "code",
   "execution_count": 21,
   "id": "d154863a",
   "metadata": {},
   "outputs": [],
   "source": [
    "# drop high correlated features  \n",
    "df= df.drop(tset,axis=1)"
   ]
  },
  {
   "cell_type": "code",
   "execution_count": 22,
   "id": "89757dfe",
   "metadata": {},
   "outputs": [
    {
     "data": {
      "text/plain": [
       "(721, 208)"
      ]
     },
     "execution_count": 22,
     "metadata": {},
     "output_type": "execute_result"
    }
   ],
   "source": [
    "# after removing more corelated features\n",
    "df.shape"
   ]
  },
  {
   "cell_type": "code",
   "execution_count": 23,
   "id": "84838cdc",
   "metadata": {},
   "outputs": [],
   "source": [
    "cor = df.corr(method='pearson')"
   ]
  },
  {
   "cell_type": "code",
   "execution_count": 24,
   "id": "0b5a78b2",
   "metadata": {},
   "outputs": [
    {
     "data": {
      "text/plain": [
       "sample\n",
       "MIMAT0000764    0.313749\n",
       "MIMAT0000761    0.239759\n",
       "MIMAT0000760    0.167696\n",
       "MIMAT0000763    0.479382\n",
       "MIMAT0026738    0.318077\n",
       "                  ...   \n",
       "MIMAT0004672    0.048213\n",
       "MIMAT0004588    0.292413\n",
       "MIMAT0004585    0.375321\n",
       "MIMAT0004584    0.166288\n",
       "Subtype         1.000000\n",
       "Name: Subtype, Length: 208, dtype: float64"
      ]
     },
     "execution_count": 24,
     "metadata": {},
     "output_type": "execute_result"
    }
   ],
   "source": [
    "# correlation of variables with the target variable\n",
    "cor_target = abs(cor[\"Subtype\"])\n",
    "cor_target"
   ]
  },
  {
   "cell_type": "code",
   "execution_count": 25,
   "id": "e0785cee",
   "metadata": {},
   "outputs": [
    {
     "data": {
      "text/plain": [
       "sample\n",
       "MIMAT0000728    0.252584\n",
       "MIMAT0004688    0.252808\n",
       "MIMAT0000426    0.262397\n",
       "MIMAT0002872    0.265972\n",
       "MIMAT0004927    0.271971\n",
       "                  ...   \n",
       "MIMAT0000245    0.584633\n",
       "MIMAT0000753    0.585266\n",
       "MIMAT0000083    0.604919\n",
       "MIMAT0004809    0.655117\n",
       "MIMAT0000278    0.660964\n",
       "Name: Subtype, Length: 100, dtype: float64"
      ]
     },
     "execution_count": 25,
     "metadata": {},
     "output_type": "execute_result"
    }
   ],
   "source": [
    "# first 100 features with high correlation\n",
    "high_cor_100=cor_target.iloc[cor_target.argsort()[-101:-1]]\n",
    "high_cor_100"
   ]
  },
  {
   "cell_type": "code",
   "execution_count": 26,
   "id": "ae7e9449",
   "metadata": {},
   "outputs": [
    {
     "data": {
      "text/plain": [
       "(721, 100)"
      ]
     },
     "execution_count": 26,
     "metadata": {},
     "output_type": "execute_result"
    }
   ],
   "source": [
    "# select 100 features\n",
    "selected_100_x = df[high_cor_100.index]\n",
    "selected_100_x.shape"
   ]
  },
  {
   "cell_type": "code",
   "execution_count": 27,
   "id": "e62c0fca",
   "metadata": {},
   "outputs": [
    {
     "data": {
      "text/plain": [
       "(721, 50)"
      ]
     },
     "execution_count": 27,
     "metadata": {},
     "output_type": "execute_result"
    }
   ],
   "source": [
    "#first 50 features with high correlation\n",
    "high_cor_50=cor_target.iloc[cor_target.argsort()[-51:-1]]\n",
    "\n",
    "# select 50 features\n",
    "selected_50_x = df[high_cor_50.index]\n",
    "selected_50_x.shape"
   ]
  },
  {
   "cell_type": "code",
   "execution_count": 28,
   "id": "423e980c",
   "metadata": {},
   "outputs": [
    {
     "data": {
      "text/plain": [
       "(721, 150)"
      ]
     },
     "execution_count": 28,
     "metadata": {},
     "output_type": "execute_result"
    }
   ],
   "source": [
    "#first 150 features with high correlation\n",
    "high_cor_150=cor_target.iloc[cor_target.argsort()[-151:-1]]\n",
    "\n",
    "# select 150 features\n",
    "selected_150_x = df[high_cor_150.index]\n",
    "selected_150_x.shape"
   ]
  },
  {
   "cell_type": "code",
   "execution_count": 29,
   "id": "eeab2a70",
   "metadata": {},
   "outputs": [
    {
     "data": {
      "text/plain": [
       "(721, 200)"
      ]
     },
     "execution_count": 29,
     "metadata": {},
     "output_type": "execute_result"
    }
   ],
   "source": [
    "#first 200 features with high correlation\n",
    "high_cor_200=cor_target.iloc[cor_target.argsort()[-201:-1]]\n",
    "\n",
    "# select 200 features\n",
    "selected_200_x = df[high_cor_200.index]\n",
    "selected_200_x.shape"
   ]
  },
  {
   "cell_type": "markdown",
   "id": "faa2ed81",
   "metadata": {},
   "source": [
    "## Dataset balancing "
   ]
  },
  {
   "cell_type": "code",
   "execution_count": 30,
   "id": "07a54e9c",
   "metadata": {},
   "outputs": [
    {
     "data": {
      "text/plain": [
       "1.0    321\n",
       "0.0    311\n",
       "2.0     89\n",
       "Name: Subtype, dtype: int64"
      ]
     },
     "execution_count": 30,
     "metadata": {},
     "output_type": "execute_result"
    }
   ],
   "source": [
    "df['Subtype'].value_counts()"
   ]
  },
  {
   "cell_type": "markdown",
   "id": "66861b67",
   "metadata": {},
   "source": [
    "- Dataset unbalanced"
   ]
  },
  {
   "cell_type": "markdown",
   "id": "93978e94",
   "metadata": {},
   "source": [
    "### Oversampling & Undersampling "
   ]
  },
  {
   "cell_type": "code",
   "execution_count": 31,
   "id": "1f14aee5",
   "metadata": {},
   "outputs": [],
   "source": [
    "from imblearn.under_sampling import RandomUnderSampler\n",
    "from imblearn.over_sampling import RandomOverSampler\n",
    "\n",
    "req_f=100\n",
    "\n",
    "# Resampling the minority class. The strategy can be changed as required.\n",
    "ros = RandomOverSampler(sampling_strategy={2: req_f}, random_state=42)\n",
    "\n",
    "# Resampling the majority classes. The strategy can be changed as required.\n",
    "rus = RandomUnderSampler(sampling_strategy={0: req_f,1:req_f}, random_state=42)"
   ]
  },
  {
   "cell_type": "code",
   "execution_count": 32,
   "id": "1064923a",
   "metadata": {},
   "outputs": [],
   "source": [
    "Y=df['Subtype']"
   ]
  },
  {
   "cell_type": "code",
   "execution_count": 33,
   "id": "79c18328",
   "metadata": {},
   "outputs": [],
   "source": [
    "x=df.drop(['Subtype'], axis=1)"
   ]
  },
  {
   "cell_type": "code",
   "execution_count": 34,
   "id": "6ac5c55e",
   "metadata": {},
   "outputs": [
    {
     "data": {
      "text/plain": [
       "(721, 207)"
      ]
     },
     "execution_count": 34,
     "metadata": {},
     "output_type": "execute_result"
    }
   ],
   "source": [
    "x.shape"
   ]
  },
  {
   "cell_type": "code",
   "execution_count": 35,
   "id": "f2dd6b03",
   "metadata": {},
   "outputs": [],
   "source": [
    "# Fit the model to generate the data with all features dataset\n",
    "oversampled_X, oversampled_Y = ros.fit_resample(x, Y)\n",
    "sampled_X, sampled_Y = rus.fit_resample(oversampled_X, oversampled_Y)"
   ]
  },
  {
   "cell_type": "code",
   "execution_count": 36,
   "id": "ab24681e",
   "metadata": {},
   "outputs": [],
   "source": [
    "# Fit the model to generate the data with 200 features dataset\n",
    "oversampled_X_200, oversampled_Y = ros.fit_resample(selected_200_x, Y)\n",
    "sampled_X_200, sampled_Y = rus.fit_resample(oversampled_X_200, oversampled_Y)"
   ]
  },
  {
   "cell_type": "code",
   "execution_count": 37,
   "id": "ce76b85e",
   "metadata": {},
   "outputs": [],
   "source": [
    "# Fit the model to generate the data with 150 features dataset\n",
    "oversampled_X_150, oversampled_Y = ros.fit_resample(selected_150_x, Y)\n",
    "sampled_X_150, sampled_Y = rus.fit_resample(oversampled_X_150, oversampled_Y)"
   ]
  },
  {
   "cell_type": "code",
   "execution_count": 38,
   "id": "6255f87c",
   "metadata": {},
   "outputs": [],
   "source": [
    "# Fit the model to generate the data with 100 features dataset\n",
    "oversampled_X_100, oversampled_Y = ros.fit_resample(selected_100_x, Y)\n",
    "sampled_X_100, sampled_Y = rus.fit_resample(oversampled_X_100, oversampled_Y)"
   ]
  },
  {
   "cell_type": "code",
   "execution_count": 39,
   "id": "a7615626",
   "metadata": {},
   "outputs": [],
   "source": [
    "# Fit the model to generate the data with 50 features dataset\n",
    "oversampled_X_50, oversampled_Y = ros.fit_resample(selected_50_x, Y)\n",
    "sampled_X_50, sampled_Y = rus.fit_resample(oversampled_X_50, oversampled_Y)"
   ]
  },
  {
   "cell_type": "code",
   "execution_count": 40,
   "id": "17ef1aed",
   "metadata": {},
   "outputs": [
    {
     "data": {
      "text/plain": [
       "0.0    100\n",
       "2.0    100\n",
       "1.0    100\n",
       "Name: Subtype, dtype: int64"
      ]
     },
     "execution_count": 40,
     "metadata": {},
     "output_type": "execute_result"
    }
   ],
   "source": [
    "sampled_Y.value_counts()"
   ]
  },
  {
   "cell_type": "markdown",
   "id": "d18cddfd",
   "metadata": {},
   "source": [
    "### 5. Feature Scaling"
   ]
  },
  {
   "cell_type": "code",
   "execution_count": null,
   "id": "32c7236e",
   "metadata": {},
   "outputs": [],
   "source": [
    "sampled_X.min(axis=0)"
   ]
  },
  {
   "cell_type": "code",
   "execution_count": null,
   "id": "e22422f0",
   "metadata": {},
   "outputs": [],
   "source": [
    "sampled_X.max(axis=0)"
   ]
  },
  {
   "cell_type": "markdown",
   "id": "84e591b5",
   "metadata": {},
   "source": [
    "## Test the models "
   ]
  },
  {
   "cell_type": "code",
   "execution_count": 41,
   "id": "aebf88f0",
   "metadata": {},
   "outputs": [],
   "source": [
    "from sklearn import svm\n",
    "from sklearn.model_selection import cross_val_score"
   ]
  },
  {
   "cell_type": "markdown",
   "id": "2043a5b7",
   "metadata": {},
   "source": [
    "#### Check the kernels in SVM "
   ]
  },
  {
   "cell_type": "code",
   "execution_count": 42,
   "id": "03605805",
   "metadata": {},
   "outputs": [
    {
     "name": "stdout",
     "output_type": "stream",
     "text": [
      "Accuracy SVM with rbf kernel: 0.91 (+/- 0.06)\n"
     ]
    }
   ],
   "source": [
    "acc = cross_val_score(svm.SVC(random_state=0), sampled_X, sampled_Y, cv=5)\n",
    "print(\"Accuracy SVM with rbf kernel: %0.2f (+/- %0.2f)\" % (acc.mean(), acc.std() * 2))"
   ]
  },
  {
   "cell_type": "code",
   "execution_count": 43,
   "id": "bc2142ec",
   "metadata": {},
   "outputs": [
    {
     "name": "stdout",
     "output_type": "stream",
     "text": [
      "Accuracy SVM with poly kernel: 0.96 (+/- 0.03)\n"
     ]
    }
   ],
   "source": [
    "acc = cross_val_score(svm.SVC(kernel='poly',random_state=0), sampled_X, sampled_Y, cv=5)\n",
    "print(\"Accuracy SVM with poly kernel: %0.2f (+/- %0.2f)\" % (acc.mean(), acc.std() * 2))"
   ]
  },
  {
   "cell_type": "code",
   "execution_count": 44,
   "id": "f15ce10f",
   "metadata": {},
   "outputs": [
    {
     "name": "stdout",
     "output_type": "stream",
     "text": [
      "Accuracy SVM with linear kernel: 0.95 (+/- 0.04)\n"
     ]
    }
   ],
   "source": [
    "acc = cross_val_score(svm.SVC(kernel='linear',random_state=0), sampled_X, sampled_Y, cv=5)\n",
    "print(\"Accuracy SVM with linear kernel: %0.2f (+/- %0.2f)\" % (acc.mean(), acc.std() * 2))"
   ]
  },
  {
   "cell_type": "code",
   "execution_count": 45,
   "id": "7b9e157c",
   "metadata": {},
   "outputs": [
    {
     "name": "stdout",
     "output_type": "stream",
     "text": [
      "Accuracy SVM with sigmoid kernel: 0.58 (+/- 0.09)\n"
     ]
    }
   ],
   "source": [
    "acc = cross_val_score(svm.SVC(kernel='sigmoid',random_state=0), sampled_X, sampled_Y, cv=5)\n",
    "print(\"Accuracy SVM with sigmoid kernel: %0.2f (+/- %0.2f)\" % (acc.mean(), acc.std() * 2))"
   ]
  },
  {
   "cell_type": "markdown",
   "id": "070a1498",
   "metadata": {},
   "source": [
    "* poly performed well"
   ]
  },
  {
   "cell_type": "markdown",
   "id": "bc4970e3",
   "metadata": {},
   "source": [
    "#### Check the feature scaling method to SVM"
   ]
  },
  {
   "cell_type": "code",
   "execution_count": 46,
   "id": "90bbdf56",
   "metadata": {},
   "outputs": [],
   "source": [
    "svc=svm.SVC(kernel='poly', random_state=0)"
   ]
  },
  {
   "cell_type": "code",
   "execution_count": 47,
   "id": "84e95060",
   "metadata": {},
   "outputs": [
    {
     "name": "stdout",
     "output_type": "stream",
     "text": [
      "Accuracy SVM without transformation: 0.96 (+/- 0.03)\n"
     ]
    }
   ],
   "source": [
    "acc = cross_val_score(svc, sampled_X, sampled_Y, cv=5)\n",
    "print(\"Accuracy SVM without transformation: %0.2f (+/- %0.2f)\" % (acc.mean(), acc.std() * 2))"
   ]
  },
  {
   "cell_type": "code",
   "execution_count": 48,
   "id": "a523a875",
   "metadata": {},
   "outputs": [],
   "source": [
    "from sklearn.pipeline import Pipeline\n",
    "from sklearn.preprocessing import StandardScaler\n",
    "from sklearn import preprocessing"
   ]
  },
  {
   "cell_type": "code",
   "execution_count": 49,
   "id": "fe721d70",
   "metadata": {},
   "outputs": [
    {
     "name": "stdout",
     "output_type": "stream",
     "text": [
      "Accuracy SVM with Standardization: 0.95 (+/- 0.06)\n"
     ]
    }
   ],
   "source": [
    "# create pipeline -> Standardization\n",
    "pipeline = Pipeline(steps=[('scaler', StandardScaler()),\n",
    "                   ('model',svc)])\n",
    "\n",
    "# perform cross validation\n",
    "acc = cross_val_score(estimator=pipeline, \n",
    "                         X=sampled_X, \n",
    "                         y=sampled_Y, \n",
    "                         cv=5\n",
    "                        )\n",
    "\n",
    "print(\"Accuracy SVM with Standardization: %0.2f (+/- %0.2f)\" % (acc.mean(), acc.std() * 2))"
   ]
  },
  {
   "cell_type": "code",
   "execution_count": 50,
   "id": "f3fb48c7",
   "metadata": {},
   "outputs": [
    {
     "name": "stdout",
     "output_type": "stream",
     "text": [
      "Accuracy SVM with Normalizaton: 0.95 (+/- 0.04)\n"
     ]
    }
   ],
   "source": [
    "# create pipeline - > Normalizaton\n",
    "pipeline = Pipeline(steps=[('scaler', preprocessing.MinMaxScaler()),\n",
    "                   ('model', svc)])\n",
    "\n",
    "# perform cross validation\n",
    "acc = cross_val_score(estimator=pipeline, \n",
    "                         X=sampled_X, \n",
    "                         y=sampled_Y, \n",
    "                         cv=5\n",
    "                        )\n",
    "\n",
    "print(\"Accuracy SVM with Normalizaton: %0.2f (+/- %0.2f)\" % (acc.mean(), acc.std() * 2))"
   ]
  },
  {
   "cell_type": "markdown",
   "id": "ebb84aa2",
   "metadata": {},
   "source": [
    "- Standerdization performs well"
   ]
  },
  {
   "cell_type": "markdown",
   "id": "e7b323ce",
   "metadata": {},
   "source": [
    "#### Evaluation using standerdization"
   ]
  },
  {
   "cell_type": "code",
   "execution_count": 52,
   "id": "d6706be8",
   "metadata": {},
   "outputs": [
    {
     "name": "stdout",
     "output_type": "stream",
     "text": [
      "Accuracy SVM without transformation: 0.93 (+/- 0.07)\n"
     ]
    }
   ],
   "source": [
    "acc = cross_val_score(svc, sampled_X_50, sampled_Y, cv=5)\n",
    "print(\"Accuracy SVM without transformation: %0.2f (+/- %0.2f)\" % (acc.mean(), acc.std() * 2))"
   ]
  },
  {
   "cell_type": "code",
   "execution_count": 53,
   "id": "b63eebc7",
   "metadata": {},
   "outputs": [
    {
     "name": "stdout",
     "output_type": "stream",
     "text": [
      "Accuracy SVM without transformation: 0.95 (+/- 0.06)\n"
     ]
    }
   ],
   "source": [
    "acc = cross_val_score(svc, sampled_X_100, sampled_Y, cv=5)\n",
    "print(\"Accuracy SVM without transformation: %0.2f (+/- %0.2f)\" % (acc.mean(), acc.std() * 2))"
   ]
  },
  {
   "cell_type": "code",
   "execution_count": 54,
   "id": "39ea99f7",
   "metadata": {},
   "outputs": [
    {
     "name": "stdout",
     "output_type": "stream",
     "text": [
      "Accuracy SVM without transformation: 0.95 (+/- 0.03)\n"
     ]
    }
   ],
   "source": [
    "acc = cross_val_score(svc, sampled_X_150, sampled_Y, cv=5)\n",
    "print(\"Accuracy SVM without transformation: %0.2f (+/- %0.2f)\" % (acc.mean(), acc.std() * 2))"
   ]
  },
  {
   "cell_type": "code",
   "execution_count": 55,
   "id": "c33e64a0",
   "metadata": {},
   "outputs": [
    {
     "name": "stdout",
     "output_type": "stream",
     "text": [
      "Accuracy SVM without transformation: 0.96 (+/- 0.03)\n"
     ]
    }
   ],
   "source": [
    "acc = cross_val_score(svc, sampled_X_200, sampled_Y, cv=5)\n",
    "print(\"Accuracy SVM without transformation: %0.2f (+/- %0.2f)\" % (acc.mean(), acc.std() * 2))"
   ]
  },
  {
   "cell_type": "markdown",
   "id": "1628e12f",
   "metadata": {},
   "source": [
    "#### Select features with the range of 150 to 200"
   ]
  },
  {
   "cell_type": "code",
   "execution_count": 56,
   "id": "344df4b7",
   "metadata": {},
   "outputs": [
    {
     "name": "stdout",
     "output_type": "stream",
     "text": [
      "Accuracy SVM without transformation: 0.95 (+/- 0.02)\n"
     ]
    }
   ],
   "source": [
    "#first 170 atures with high correlation\n",
    "high_cor_170=cor_target.iloc[cor_target.argsort()[-171:-1]]\n",
    "\n",
    "# select 170 features\n",
    "selected_170_x = df[high_cor_170.index]\n",
    "selected_170_x.shape\n",
    "\n",
    "\n",
    "# Fit the model to generate the data with 170 features dataset\n",
    "oversampled_X_170, oversampled_Y = ros.fit_resample(selected_170_x, Y)\n",
    "sampled_X_170, sampled_Y = rus.fit_resample(oversampled_X_170, oversampled_Y)\n",
    "\n",
    "\n",
    "acc = cross_val_score(svc, sampled_X_170, sampled_Y, cv=5)\n",
    "print(\"Accuracy SVM without transformation: %0.2f (+/- %0.2f)\" % (acc.mean(), acc.std() * 2))"
   ]
  },
  {
   "cell_type": "code",
   "execution_count": 57,
   "id": "9a195cf1",
   "metadata": {},
   "outputs": [
    {
     "name": "stdout",
     "output_type": "stream",
     "text": [
      "Accuracy SVM without transformation: 0.95 (+/- 0.02)\n"
     ]
    }
   ],
   "source": [
    "#first 180 atures with high correlation\n",
    "high_cor_180=cor_target.iloc[cor_target.argsort()[-181:-1]]\n",
    "\n",
    "# select 180 features\n",
    "selected_180_x = df[high_cor_180.index]\n",
    "selected_180_x.shape\n",
    "\n",
    "\n",
    "# Fit the model to generate the data with 180 features dataset\n",
    "oversampled_X_180, oversampled_Y = ros.fit_resample(selected_180_x, Y)\n",
    "sampled_X_180, sampled_Y = rus.fit_resample(oversampled_X_180, oversampled_Y)\n",
    "\n",
    "\n",
    "acc = cross_val_score(svc, sampled_X_180, sampled_Y, cv=5)\n",
    "print(\"Accuracy SVM without transformation: %0.2f (+/- %0.2f)\" % (acc.mean(), acc.std() * 2))"
   ]
  },
  {
   "cell_type": "code",
   "execution_count": 58,
   "id": "4c90e385",
   "metadata": {},
   "outputs": [
    {
     "name": "stdout",
     "output_type": "stream",
     "text": [
      "Accuracy SVM without transformation: 0.96 (+/- 0.03)\n"
     ]
    }
   ],
   "source": [
    "#first 190 atures with high correlation\n",
    "high_cor_190=cor_target.iloc[cor_target.argsort()[-191:-1]]\n",
    "\n",
    "# select 190 features\n",
    "selected_190_x = df[high_cor_190.index]\n",
    "selected_190_x.shape\n",
    "\n",
    "\n",
    "# Fit the model to generate the data with 190 features dataset\n",
    "oversampled_X_190, oversampled_Y = ros.fit_resample(selected_190_x, Y)\n",
    "sampled_X_190, sampled_Y = rus.fit_resample(oversampled_X_190, oversampled_Y)\n",
    "\n",
    "\n",
    "acc = cross_val_score(svc, sampled_X_190, sampled_Y, cv=5)\n",
    "print(\"Accuracy SVM without transformation: %0.2f (+/- %0.2f)\" % (acc.mean(), acc.std() * 2))"
   ]
  },
  {
   "cell_type": "markdown",
   "id": "b7625430",
   "metadata": {},
   "source": [
    "## Random Forest"
   ]
  },
  {
   "cell_type": "code",
   "execution_count": 59,
   "id": "5c7f64da",
   "metadata": {},
   "outputs": [],
   "source": [
    "from sklearn.ensemble import RandomForestClassifier"
   ]
  },
  {
   "cell_type": "markdown",
   "id": "89cc93c5",
   "metadata": {},
   "source": [
    "#### RF Parameter optimization"
   ]
  },
  {
   "cell_type": "code",
   "execution_count": 60,
   "id": "b2d2cc64",
   "metadata": {},
   "outputs": [],
   "source": [
    "rfc = RandomForestClassifier()"
   ]
  },
  {
   "cell_type": "code",
   "execution_count": 61,
   "id": "be9b282e",
   "metadata": {},
   "outputs": [],
   "source": [
    "parameters = {\n",
    "    \"n_estimators\":[100,500,1000],\n",
    "    \"max_depth\":[4,8,16,None],\n",
    "    \"criterion\":['gini', 'entropy'],\n",
    "    \"random_state\": [0]\n",
    "}"
   ]
  },
  {
   "cell_type": "code",
   "execution_count": 62,
   "id": "836d571c",
   "metadata": {},
   "outputs": [
    {
     "data": {
      "text/html": [
       "<style>#sk-container-id-1 {color: black;background-color: white;}#sk-container-id-1 pre{padding: 0;}#sk-container-id-1 div.sk-toggleable {background-color: white;}#sk-container-id-1 label.sk-toggleable__label {cursor: pointer;display: block;width: 100%;margin-bottom: 0;padding: 0.3em;box-sizing: border-box;text-align: center;}#sk-container-id-1 label.sk-toggleable__label-arrow:before {content: \"▸\";float: left;margin-right: 0.25em;color: #696969;}#sk-container-id-1 label.sk-toggleable__label-arrow:hover:before {color: black;}#sk-container-id-1 div.sk-estimator:hover label.sk-toggleable__label-arrow:before {color: black;}#sk-container-id-1 div.sk-toggleable__content {max-height: 0;max-width: 0;overflow: hidden;text-align: left;background-color: #f0f8ff;}#sk-container-id-1 div.sk-toggleable__content pre {margin: 0.2em;color: black;border-radius: 0.25em;background-color: #f0f8ff;}#sk-container-id-1 input.sk-toggleable__control:checked~div.sk-toggleable__content {max-height: 200px;max-width: 100%;overflow: auto;}#sk-container-id-1 input.sk-toggleable__control:checked~label.sk-toggleable__label-arrow:before {content: \"▾\";}#sk-container-id-1 div.sk-estimator input.sk-toggleable__control:checked~label.sk-toggleable__label {background-color: #d4ebff;}#sk-container-id-1 div.sk-label input.sk-toggleable__control:checked~label.sk-toggleable__label {background-color: #d4ebff;}#sk-container-id-1 input.sk-hidden--visually {border: 0;clip: rect(1px 1px 1px 1px);clip: rect(1px, 1px, 1px, 1px);height: 1px;margin: -1px;overflow: hidden;padding: 0;position: absolute;width: 1px;}#sk-container-id-1 div.sk-estimator {font-family: monospace;background-color: #f0f8ff;border: 1px dotted black;border-radius: 0.25em;box-sizing: border-box;margin-bottom: 0.5em;}#sk-container-id-1 div.sk-estimator:hover {background-color: #d4ebff;}#sk-container-id-1 div.sk-parallel-item::after {content: \"\";width: 100%;border-bottom: 1px solid gray;flex-grow: 1;}#sk-container-id-1 div.sk-label:hover label.sk-toggleable__label {background-color: #d4ebff;}#sk-container-id-1 div.sk-serial::before {content: \"\";position: absolute;border-left: 1px solid gray;box-sizing: border-box;top: 0;bottom: 0;left: 50%;z-index: 0;}#sk-container-id-1 div.sk-serial {display: flex;flex-direction: column;align-items: center;background-color: white;padding-right: 0.2em;padding-left: 0.2em;position: relative;}#sk-container-id-1 div.sk-item {position: relative;z-index: 1;}#sk-container-id-1 div.sk-parallel {display: flex;align-items: stretch;justify-content: center;background-color: white;position: relative;}#sk-container-id-1 div.sk-item::before, #sk-container-id-1 div.sk-parallel-item::before {content: \"\";position: absolute;border-left: 1px solid gray;box-sizing: border-box;top: 0;bottom: 0;left: 50%;z-index: -1;}#sk-container-id-1 div.sk-parallel-item {display: flex;flex-direction: column;z-index: 1;position: relative;background-color: white;}#sk-container-id-1 div.sk-parallel-item:first-child::after {align-self: flex-end;width: 50%;}#sk-container-id-1 div.sk-parallel-item:last-child::after {align-self: flex-start;width: 50%;}#sk-container-id-1 div.sk-parallel-item:only-child::after {width: 0;}#sk-container-id-1 div.sk-dashed-wrapped {border: 1px dashed gray;margin: 0 0.4em 0.5em 0.4em;box-sizing: border-box;padding-bottom: 0.4em;background-color: white;}#sk-container-id-1 div.sk-label label {font-family: monospace;font-weight: bold;display: inline-block;line-height: 1.2em;}#sk-container-id-1 div.sk-label-container {text-align: center;}#sk-container-id-1 div.sk-container {/* jupyter's `normalize.less` sets `[hidden] { display: none; }` but bootstrap.min.css set `[hidden] { display: none !important; }` so we also need the `!important` here to be able to override the default hidden behavior on the sphinx rendered scikit-learn.org. See: https://github.com/scikit-learn/scikit-learn/issues/21755 */display: inline-block !important;position: relative;}#sk-container-id-1 div.sk-text-repr-fallback {display: none;}</style><div id=\"sk-container-id-1\" class=\"sk-top-container\"><div class=\"sk-text-repr-fallback\"><pre>GridSearchCV(cv=5, estimator=RandomForestClassifier(),\n",
       "             param_grid={&#x27;criterion&#x27;: [&#x27;gini&#x27;, &#x27;entropy&#x27;],\n",
       "                         &#x27;max_depth&#x27;: [4, 8, 16, None],\n",
       "                         &#x27;n_estimators&#x27;: [100, 500, 1000],\n",
       "                         &#x27;random_state&#x27;: [0]})</pre><b>In a Jupyter environment, please rerun this cell to show the HTML representation or trust the notebook. <br />On GitHub, the HTML representation is unable to render, please try loading this page with nbviewer.org.</b></div><div class=\"sk-container\" hidden><div class=\"sk-item sk-dashed-wrapped\"><div class=\"sk-label-container\"><div class=\"sk-label sk-toggleable\"><input class=\"sk-toggleable__control sk-hidden--visually\" id=\"sk-estimator-id-1\" type=\"checkbox\" ><label for=\"sk-estimator-id-1\" class=\"sk-toggleable__label sk-toggleable__label-arrow\">GridSearchCV</label><div class=\"sk-toggleable__content\"><pre>GridSearchCV(cv=5, estimator=RandomForestClassifier(),\n",
       "             param_grid={&#x27;criterion&#x27;: [&#x27;gini&#x27;, &#x27;entropy&#x27;],\n",
       "                         &#x27;max_depth&#x27;: [4, 8, 16, None],\n",
       "                         &#x27;n_estimators&#x27;: [100, 500, 1000],\n",
       "                         &#x27;random_state&#x27;: [0]})</pre></div></div></div><div class=\"sk-parallel\"><div class=\"sk-parallel-item\"><div class=\"sk-item\"><div class=\"sk-label-container\"><div class=\"sk-label sk-toggleable\"><input class=\"sk-toggleable__control sk-hidden--visually\" id=\"sk-estimator-id-2\" type=\"checkbox\" ><label for=\"sk-estimator-id-2\" class=\"sk-toggleable__label sk-toggleable__label-arrow\">estimator: RandomForestClassifier</label><div class=\"sk-toggleable__content\"><pre>RandomForestClassifier()</pre></div></div></div><div class=\"sk-serial\"><div class=\"sk-item\"><div class=\"sk-estimator sk-toggleable\"><input class=\"sk-toggleable__control sk-hidden--visually\" id=\"sk-estimator-id-3\" type=\"checkbox\" ><label for=\"sk-estimator-id-3\" class=\"sk-toggleable__label sk-toggleable__label-arrow\">RandomForestClassifier</label><div class=\"sk-toggleable__content\"><pre>RandomForestClassifier()</pre></div></div></div></div></div></div></div></div></div></div>"
      ],
      "text/plain": [
       "GridSearchCV(cv=5, estimator=RandomForestClassifier(),\n",
       "             param_grid={'criterion': ['gini', 'entropy'],\n",
       "                         'max_depth': [4, 8, 16, None],\n",
       "                         'n_estimators': [100, 500, 1000],\n",
       "                         'random_state': [0]})"
      ]
     },
     "execution_count": 62,
     "metadata": {},
     "output_type": "execute_result"
    }
   ],
   "source": [
    "from sklearn.model_selection import GridSearchCV\n",
    "cv = GridSearchCV(rfc,parameters,cv=5)\n",
    "cv.fit(sampled_X,sampled_Y)"
   ]
  },
  {
   "cell_type": "code",
   "execution_count": 63,
   "id": "4787c174",
   "metadata": {},
   "outputs": [
    {
     "name": "stdout",
     "output_type": "stream",
     "text": [
      "Best parameters are: {'criterion': 'gini', 'max_depth': 8, 'n_estimators': 100, 'random_state': 0}\n"
     ]
    }
   ],
   "source": [
    "print(f'Best parameters are: {cv.best_params_}')"
   ]
  },
  {
   "cell_type": "code",
   "execution_count": 64,
   "id": "341e26cb",
   "metadata": {},
   "outputs": [],
   "source": [
    "rf=RandomForestClassifier(criterion= 'gini', max_depth= 8, n_estimators= 100,random_state= 0)"
   ]
  },
  {
   "cell_type": "code",
   "execution_count": 66,
   "id": "50b44bd8",
   "metadata": {},
   "outputs": [
    {
     "name": "stdout",
     "output_type": "stream",
     "text": [
      "Accuracy RF with best_params: 0.94 (+/- 0.05)\n"
     ]
    }
   ],
   "source": [
    "acc = cross_val_score(rf, sampled_X, sampled_Y, cv=5)\n",
    "print(\"Accuracy RF with best_params: %0.2f (+/- %0.2f)\" % (acc.mean(), acc.std() * 2))"
   ]
  },
  {
   "cell_type": "markdown",
   "id": "12df5fc6",
   "metadata": {},
   "source": [
    "#### Check the feature scaling method to RF"
   ]
  },
  {
   "cell_type": "code",
   "execution_count": 67,
   "id": "8c7fb1ef",
   "metadata": {},
   "outputs": [
    {
     "name": "stdout",
     "output_type": "stream",
     "text": [
      "Accuracy RF without transformation: 0.94 (+/- 0.05)\n"
     ]
    }
   ],
   "source": [
    "acc = cross_val_score(rf, sampled_X, sampled_Y, cv=5)\n",
    "print(\"Accuracy RF without transformation: %0.2f (+/- %0.2f)\" % (acc.mean(), acc.std() * 2))"
   ]
  },
  {
   "cell_type": "code",
   "execution_count": 68,
   "id": "28615679",
   "metadata": {},
   "outputs": [
    {
     "name": "stdout",
     "output_type": "stream",
     "text": [
      "Accuracy RF with Standardization: 0.94 (+/- 0.05)\n"
     ]
    }
   ],
   "source": [
    "# create pipeline -> Standardization\n",
    "pipeline = Pipeline(steps=[('scaler', StandardScaler()),\n",
    "                   ('model', rf)])\n",
    "\n",
    "# perform cross validation\n",
    "acc = cross_val_score(estimator=pipeline, \n",
    "                         X=sampled_X, \n",
    "                         y=sampled_Y, \n",
    "                         cv=5\n",
    "                        )\n",
    "\n",
    "print(\"Accuracy RF with Standardization: %0.2f (+/- %0.2f)\" % (acc.mean(), acc.std() * 2))"
   ]
  },
  {
   "cell_type": "code",
   "execution_count": 69,
   "id": "c4b80973",
   "metadata": {},
   "outputs": [
    {
     "name": "stdout",
     "output_type": "stream",
     "text": [
      "Accuracy SVM with Normalization: 0.94 (+/- 0.05)\n"
     ]
    }
   ],
   "source": [
    "# create pipeline - > Normalizaton\n",
    "pipeline = Pipeline(steps=[('scaler', preprocessing.MinMaxScaler()),\n",
    "                   ('model', rf)])\n",
    "\n",
    "# perform cross validation\n",
    "acc = cross_val_score(estimator=pipeline, \n",
    "                         X=sampled_X, \n",
    "                         y=sampled_Y, \n",
    "                         cv=5\n",
    "                        )\n",
    "\n",
    "print(\"Accuracy SVM with Normalization: %0.2f (+/- %0.2f)\" % (acc.mean(), acc.std() * 2))"
   ]
  },
  {
   "cell_type": "markdown",
   "id": "5b1d704a",
   "metadata": {},
   "source": [
    "#### Try for different number of features"
   ]
  },
  {
   "cell_type": "code",
   "execution_count": 72,
   "id": "2246ada8",
   "metadata": {},
   "outputs": [
    {
     "name": "stdout",
     "output_type": "stream",
     "text": [
      "Accuracy RF using best 50 features: 0.93 (+/- 0.03)\n"
     ]
    }
   ],
   "source": [
    "acc = cross_val_score(rf, sampled_X_50, sampled_Y, cv=5)\n",
    "print(\"Accuracy RF using best 50 features: %0.2f (+/- %0.2f)\" % (acc.mean(), acc.std() * 2))"
   ]
  },
  {
   "cell_type": "code",
   "execution_count": 73,
   "id": "a5f6ef67",
   "metadata": {},
   "outputs": [
    {
     "name": "stdout",
     "output_type": "stream",
     "text": [
      "Accuracy RF using best 100 features: 0.94 (+/- 0.03)\n"
     ]
    }
   ],
   "source": [
    "acc = cross_val_score(rf, sampled_X_100, sampled_Y, cv=5)\n",
    "print(\"Accuracy RF using best 100 features: %0.2f (+/- %0.2f)\" % (acc.mean(), acc.std() * 2))"
   ]
  },
  {
   "cell_type": "code",
   "execution_count": 74,
   "id": "e50c49f7",
   "metadata": {},
   "outputs": [
    {
     "name": "stdout",
     "output_type": "stream",
     "text": [
      "Accuracy RF using best 150 features: 0.94 (+/- 0.05)\n"
     ]
    }
   ],
   "source": [
    "acc = cross_val_score(rf, sampled_X_150, sampled_Y, cv=5)\n",
    "print(\"Accuracy RF using best 150 features: %0.2f (+/- %0.2f)\" % (acc.mean(), acc.std() * 2))"
   ]
  },
  {
   "cell_type": "code",
   "execution_count": 75,
   "id": "2407c7a5",
   "metadata": {},
   "outputs": [
    {
     "name": "stdout",
     "output_type": "stream",
     "text": [
      "Accuracy RF using best 200 features: 0.94 (+/- 0.06)\n"
     ]
    }
   ],
   "source": [
    "acc = cross_val_score(rf, sampled_X_200, sampled_Y, cv=5)\n",
    "print(\"Accuracy RF using best 200 features: %0.2f (+/- %0.2f)\" % (acc.mean(), acc.std() * 2))"
   ]
  },
  {
   "cell_type": "code",
   "execution_count": null,
   "id": "7f239196",
   "metadata": {},
   "outputs": [],
   "source": []
  },
  {
   "cell_type": "code",
   "execution_count": 76,
   "id": "46e4d36b",
   "metadata": {},
   "outputs": [
    {
     "name": "stdout",
     "output_type": "stream",
     "text": [
      "Accuracy RF using best 150 features: 0.95 (+/- 0.05)\n"
     ]
    }
   ],
   "source": [
    "acc = cross_val_score(rf, sampled_X_170, sampled_Y, cv=5)\n",
    "print(\"Accuracy RF using best 170 features: %0.2f (+/- %0.2f)\" % (acc.mean(), acc.std() * 2))"
   ]
  },
  {
   "cell_type": "code",
   "execution_count": 77,
   "id": "27c87d3d",
   "metadata": {},
   "outputs": [
    {
     "name": "stdout",
     "output_type": "stream",
     "text": [
      "Accuracy RF using best 150 features: 0.95 (+/- 0.06)\n"
     ]
    }
   ],
   "source": [
    "acc = cross_val_score(rf, sampled_X_180, sampled_Y, cv=5)\n",
    "print(\"Accuracy RF using best 180 features: %0.2f (+/- %0.2f)\" % (acc.mean(), acc.std() * 2))"
   ]
  },
  {
   "cell_type": "code",
   "execution_count": 78,
   "id": "4ddb33bd",
   "metadata": {},
   "outputs": [
    {
     "name": "stdout",
     "output_type": "stream",
     "text": [
      "Accuracy RF using best 150 features: 0.94 (+/- 0.05)\n"
     ]
    }
   ],
   "source": [
    "acc = cross_val_score(rf, sampled_X_190, sampled_Y, cv=5)\n",
    "print(\"Accuracy RF using best 190 features: %0.2f (+/- %0.2f)\" % (acc.mean(), acc.std() * 2))"
   ]
  },
  {
   "cell_type": "code",
   "execution_count": 79,
   "id": "4ee7e55f",
   "metadata": {},
   "outputs": [
    {
     "name": "stdout",
     "output_type": "stream",
     "text": [
      "Accuracy SVM without transformation: 0.95 (+/- 0.02)\n"
     ]
    }
   ],
   "source": [
    "#first 160 atures with high correlation\n",
    "high_cor_160=cor_target.iloc[cor_target.argsort()[-161:-1]]\n",
    "\n",
    "# select 160 features\n",
    "selected_160_x = df[high_cor_160.index]\n",
    "selected_160_x.shape\n",
    "\n",
    "\n",
    "# Fit the model to generate the data with 160 features dataset\n",
    "oversampled_X_160, oversampled_Y = ros.fit_resample(selected_160_x, Y)\n",
    "sampled_X_160, sampled_Y = rus.fit_resample(oversampled_X_160, oversampled_Y)\n",
    "\n",
    "\n",
    "acc = cross_val_score(svc, sampled_X_160, sampled_Y, cv=5)\n",
    "print(\"Accuracy SVM without transformation: %0.2f (+/- %0.2f)\" % (acc.mean(), acc.std() * 2))"
   ]
  },
  {
   "cell_type": "markdown",
   "id": "e6e67d57",
   "metadata": {},
   "source": [
    "## Test KNN model"
   ]
  },
  {
   "cell_type": "code",
   "execution_count": 80,
   "id": "0c628795",
   "metadata": {},
   "outputs": [],
   "source": [
    "# K-Nearest Neighbors\n",
    "from sklearn.neighbors import KNeighborsClassifier\n",
    "import matplotlib.pyplot as plt\n",
    "from sklearn.model_selection import cross_val_score\n",
    "from sklearn.pipeline import Pipeline\n",
    "from sklearn.preprocessing import StandardScaler\n",
    "from sklearn import preprocessing"
   ]
  },
  {
   "cell_type": "markdown",
   "id": "2f1948e8",
   "metadata": {},
   "source": [
    "#### Find the best k value for KNN "
   ]
  },
  {
   "cell_type": "code",
   "execution_count": 81,
   "id": "852a42e8",
   "metadata": {},
   "outputs": [
    {
     "data": {
      "text/plain": [
       "Text(0, 0.5, 'Accuracy')"
      ]
     },
     "execution_count": 81,
     "metadata": {},
     "output_type": "execute_result"
    },
    {
     "data": {
      "image/png": "[encoded data removed]",
      "text/plain": [
       "<Figure size 576x360 with 1 Axes>"
      ]
     },
     "metadata": {
      "needs_background": "light"
     },
     "output_type": "display_data"
    }
   ],
   "source": [
    "knn_acc = []\n",
    "\n",
    "for i in range(1,10):\n",
    "    knn = KNeighborsClassifier(n_neighbors=i)\n",
    "    acc = cross_val_score(knn, sampled_X, sampled_Y, cv=10)\n",
    "    knn_acc.append(acc.mean())\n",
    "\n",
    "plt.figure(figsize=(8,5))\n",
    "plt.plot(range(1,10),knn_acc, marker='o', markersize=9)\n",
    "plt.xlabel(\"K value\", fontsize=18)\n",
    "plt.ylabel(\"Accuracy\",fontsize=18)"
   ]
  },
  {
   "cell_type": "markdown",
   "id": "47b76a50",
   "metadata": {},
   "source": [
    "- k=4 is optimal"
   ]
  },
  {
   "cell_type": "markdown",
   "id": "3d40a2de",
   "metadata": {},
   "source": [
    "#### Check the feature scaling method to KNN"
   ]
  },
  {
   "cell_type": "markdown",
   "id": "5d1d5ab3",
   "metadata": {},
   "source": [
    "#### for k=4"
   ]
  },
  {
   "cell_type": "code",
   "execution_count": 82,
   "id": "e136946a",
   "metadata": {},
   "outputs": [],
   "source": [
    "knn = KNeighborsClassifier(n_neighbors=4)"
   ]
  },
  {
   "cell_type": "code",
   "execution_count": 83,
   "id": "16398656",
   "metadata": {},
   "outputs": [
    {
     "name": "stdout",
     "output_type": "stream",
     "text": [
      "Accuracy KNN without transformation: 0.93 (+/- 0.08)\n"
     ]
    }
   ],
   "source": [
    "acc = cross_val_score(knn, sampled_X, sampled_Y, cv=10)\n",
    "print(\"Accuracy KNN without transformation: %0.2f (+/- %0.2f)\" % (acc.mean(), acc.std() * 2))"
   ]
  },
  {
   "cell_type": "code",
   "execution_count": 84,
   "id": "5fe24a97",
   "metadata": {},
   "outputs": [
    {
     "name": "stdout",
     "output_type": "stream",
     "text": [
      "Accuracy KNN with Standardization: 0.94 (+/- 0.07)\n"
     ]
    }
   ],
   "source": [
    "# create pipeline -> Standardization\n",
    "pipeline = Pipeline(steps=[('scaler', StandardScaler()),\n",
    "                   ('model',knn)])\n",
    "\n",
    "# perform cross validation\n",
    "acc = cross_val_score(estimator=pipeline, \n",
    "                         X=sampled_X, \n",
    "                         y=sampled_Y, \n",
    "                         cv=10\n",
    "                        )\n",
    "\n",
    "print(\"Accuracy KNN with Standardization: %0.2f (+/- %0.2f)\" % (acc.mean(), acc.std() * 2))"
   ]
  },
  {
   "cell_type": "code",
   "execution_count": 85,
   "id": "5616167e",
   "metadata": {},
   "outputs": [
    {
     "name": "stdout",
     "output_type": "stream",
     "text": [
      "Accuracy KNN with Normalizaton: 0.94 (+/- 0.07)\n"
     ]
    }
   ],
   "source": [
    "# create pipeline - > Normalizaton\n",
    "pipeline = Pipeline(steps=[('scaler', preprocessing.MinMaxScaler()),\n",
    "                   ('model', knn)])\n",
    "\n",
    "# perform cross validation\n",
    "acc = cross_val_score(estimator=pipeline, \n",
    "                         X=sampled_X, \n",
    "                         y=sampled_Y, \n",
    "                         cv=10\n",
    "                        )\n",
    "\n",
    "print(\"Accuracy KNN with Normalizaton: %0.2f (+/- %0.2f)\" % (acc.mean(), acc.std() * 2))"
   ]
  },
  {
   "cell_type": "markdown",
   "id": "c3c2b24b",
   "metadata": {},
   "source": [
    "- Without transformation performed well"
   ]
  },
  {
   "cell_type": "markdown",
   "id": "19e94ac9",
   "metadata": {},
   "source": [
    "#### Evaluation without Feaure scaling"
   ]
  },
  {
   "cell_type": "code",
   "execution_count": 117,
   "id": "8e4c2ef1",
   "metadata": {},
   "outputs": [],
   "source": [
    "# create pipeline -> Standardization\n",
    "pipeline = Pipeline(steps=[('scaler', StandardScaler()), ('model',knn)])"
   ]
  },
  {
   "cell_type": "code",
   "execution_count": 124,
   "id": "d63f8676",
   "metadata": {},
   "outputs": [],
   "source": [
    "pipeline = Pipeline(steps=[('scaler', preprocessing.MinMaxScaler()), ('model', knn)])"
   ]
  },
  {
   "cell_type": "code",
   "execution_count": 125,
   "id": "979b41c0",
   "metadata": {},
   "outputs": [
    {
     "name": "stdout",
     "output_type": "stream",
     "text": [
      "Accuracy KNN with Normalizaton: 0.92 (+/- 0.09)\n"
     ]
    }
   ],
   "source": [
    "# perform cross validation\n",
    "acc = cross_val_score(estimator=pipeline, X=sampled_X_50, y=sampled_Y, cv=10)\n",
    "\n",
    "print(\"Accuracy KNN with Normalizaton: %0.2f (+/- %0.2f)\" % (acc.mean(), acc.std() * 2))"
   ]
  },
  {
   "cell_type": "code",
   "execution_count": 126,
   "id": "b802f9ef",
   "metadata": {},
   "outputs": [
    {
     "name": "stdout",
     "output_type": "stream",
     "text": [
      "Accuracy KNN with Normalizaton: 0.94 (+/- 0.08)\n"
     ]
    }
   ],
   "source": [
    "# perform cross validation\n",
    "acc = cross_val_score(estimator=pipeline, X=sampled_X_100, y=sampled_Y, cv=10)\n",
    "\n",
    "print(\"Accuracy KNN with Normalizaton: %0.2f (+/- %0.2f)\" % (acc.mean(), acc.std() * 2))"
   ]
  },
  {
   "cell_type": "code",
   "execution_count": 127,
   "id": "478d78d7",
   "metadata": {},
   "outputs": [
    {
     "name": "stdout",
     "output_type": "stream",
     "text": [
      "Accuracy KNN with Normalizaton: 0.94 (+/- 0.07)\n"
     ]
    }
   ],
   "source": [
    "# perform cross validation\n",
    "acc = cross_val_score(estimator=pipeline, X=sampled_X_150, y=sampled_Y, cv=10)\n",
    "\n",
    "print(\"Accuracy KNN with Normalizaton: %0.2f (+/- %0.2f)\" % (acc.mean(), acc.std() * 2))"
   ]
  },
  {
   "cell_type": "code",
   "execution_count": 128,
   "id": "f8323114",
   "metadata": {},
   "outputs": [
    {
     "name": "stdout",
     "output_type": "stream",
     "text": [
      "Accuracy KNN with Normalizaton: 0.94 (+/- 0.07)\n"
     ]
    }
   ],
   "source": [
    "# perform cross validation\n",
    "acc = cross_val_score(estimator=pipeline, X=sampled_X_200, y=sampled_Y, cv=10)\n",
    "\n",
    "print(\"Accuracy KNN with Normalizaton: %0.2f (+/- %0.2f)\" % (acc.mean(), acc.std() * 2))"
   ]
  },
  {
   "cell_type": "markdown",
   "id": "c2d6d8e0",
   "metadata": {},
   "source": [
    "#### Select features between 100 to 200"
   ]
  },
  {
   "cell_type": "code",
   "execution_count": 129,
   "id": "5708f28d",
   "metadata": {},
   "outputs": [
    {
     "name": "stdout",
     "output_type": "stream",
     "text": [
      "Accuracy KNN with Normalizaton: 0.94 (+/- 0.07)\n"
     ]
    }
   ],
   "source": [
    "#first 110 atures with high correlation\n",
    "high_cor_110=cor_target.iloc[cor_target.argsort()[-111:-1]]\n",
    "\n",
    "# select 110 features\n",
    "selected_110_x = df[high_cor_110.index]\n",
    "selected_110_x.shape\n",
    "\n",
    "\n",
    "# Fit the model to generate the data with 110 features dataset\n",
    "oversampled_X_110, oversampled_Y = ros.fit_resample(selected_110_x, Y)\n",
    "sampled_X_110, sampled_Y = rus.fit_resample(oversampled_X_110, oversampled_Y)\n",
    "\n",
    "\n",
    "# perform cross validation\n",
    "acc = cross_val_score(estimator=pipeline, X=sampled_X_110, y=sampled_Y, cv=10)\n",
    "\n",
    "print(\"Accuracy KNN with Normalizaton: %0.2f (+/- %0.2f)\" % (acc.mean(), acc.std() * 2))"
   ]
  },
  {
   "cell_type": "code",
   "execution_count": 130,
   "id": "50afa0d6",
   "metadata": {},
   "outputs": [
    {
     "name": "stdout",
     "output_type": "stream",
     "text": [
      "Accuracy KNN with Normalizaton: 0.94 (+/- 0.09)\n"
     ]
    }
   ],
   "source": [
    "#first 130 atures with high correlation\n",
    "high_cor_130=cor_target.iloc[cor_target.argsort()[-131:-1]]\n",
    "\n",
    "# select 130 features\n",
    "selected_130_x = df[high_cor_130.index]\n",
    "selected_130_x.shape\n",
    "\n",
    "\n",
    "# Fit the model to generate the data with 130 features dataset\n",
    "oversampled_X_130, oversampled_Y = ros.fit_resample(selected_130_x, Y)\n",
    "sampled_X_130, sampled_Y = rus.fit_resample(oversampled_X_130, oversampled_Y)\n",
    "\n",
    "\n",
    "# perform cross validation\n",
    "acc = cross_val_score(estimator=pipeline, X=sampled_X_130, y=sampled_Y, cv=10)\n",
    "\n",
    "print(\"Accuracy KNN with Normalizaton: %0.2f (+/- %0.2f)\" % (acc.mean(), acc.std() * 2))"
   ]
  },
  {
   "cell_type": "code",
   "execution_count": 108,
   "id": "ea537db2",
   "metadata": {},
   "outputs": [
    {
     "name": "stdout",
     "output_type": "stream",
     "text": [
      "Accuracy KNN with Normalizaton: 0.94 (+/- 0.07)\n"
     ]
    }
   ],
   "source": [
    "# perform cross validation\n",
    "acc = cross_val_score(estimator=pipeline, X=sampled_X_160, y=sampled_Y, cv=10)\n",
    "\n",
    "print(\"Accuracy KNN with Normalizaton: %0.2f (+/- %0.2f)\" % (acc.mean(), acc.std() * 2))"
   ]
  },
  {
   "cell_type": "code",
   "execution_count": 109,
   "id": "407784dc",
   "metadata": {},
   "outputs": [
    {
     "name": "stdout",
     "output_type": "stream",
     "text": [
      "Accuracy KNN with Normalizaton: 0.94 (+/- 0.08)\n"
     ]
    }
   ],
   "source": [
    "# perform cross validation\n",
    "acc = cross_val_score(estimator=pipeline, X=sampled_X_170, y=sampled_Y, cv=10)\n",
    "\n",
    "print(\"Accuracy KNN with Normalizaton: %0.2f (+/- %0.2f)\" % (acc.mean(), acc.std() * 2))"
   ]
  },
  {
   "cell_type": "code",
   "execution_count": 110,
   "id": "a68b8841",
   "metadata": {},
   "outputs": [
    {
     "name": "stdout",
     "output_type": "stream",
     "text": [
      "Accuracy KNN with Normalizaton: 0.94 (+/- 0.08)\n"
     ]
    }
   ],
   "source": [
    "# perform cross validation\n",
    "acc = cross_val_score(estimator=pipeline, X=sampled_X_180, y=sampled_Y, cv=10)\n",
    "\n",
    "print(\"Accuracy KNN with Normalizaton: %0.2f (+/- %0.2f)\" % (acc.mean(), acc.std() * 2))"
   ]
  },
  {
   "cell_type": "code",
   "execution_count": 111,
   "id": "fde37fa5",
   "metadata": {},
   "outputs": [
    {
     "name": "stdout",
     "output_type": "stream",
     "text": [
      "Accuracy KNN with Normalizaton: 0.94 (+/- 0.07)\n"
     ]
    }
   ],
   "source": [
    "# perform cross validation\n",
    "acc = cross_val_score(estimator=pipeline, X=sampled_X_190, y=sampled_Y, cv=10)\n",
    "\n",
    "print(\"Accuracy KNN with Normalizaton: %0.2f (+/- %0.2f)\" % (acc.mean(), acc.std() * 2))"
   ]
  },
  {
   "cell_type": "code",
   "execution_count": null,
   "id": "77bc5205",
   "metadata": {},
   "outputs": [],
   "source": []
  },
  {
   "cell_type": "code",
   "execution_count": 131,
   "id": "b6e47c4b",
   "metadata": {},
   "outputs": [],
   "source": [
    "import csv\n",
    "with open('best_200_features.csv', 'w', encoding='UTF8',newline='') as f:\n",
    "    writer = csv.writer(f)\n",
    "    \n",
    "    for i in range(sampled_X_200.shape[1]):\n",
    "        # write the data\n",
    "        writer.writerow([sampled_X_200.columns[i]])"
   ]
  },
  {
   "cell_type": "code",
   "execution_count": null,
   "id": "3d24f0a5",
   "metadata": {},
   "outputs": [],
   "source": []
  },
  {
   "cell_type": "code",
   "execution_count": null,
   "id": "9b418a68",
   "metadata": {},
   "outputs": [],
   "source": []
  },
  {
   "cell_type": "code",
   "execution_count": null,
   "id": "c20d2d88",
   "metadata": {},
   "outputs": [],
   "source": []
  },
  {
   "cell_type": "code",
   "execution_count": null,
   "id": "f1bd5ee6",
   "metadata": {},
   "outputs": [],
   "source": []
  }
 ],
 "metadata": {
  "kernelspec": {
   "display_name": "Python 3",
   "language": "python",
   "name": "python3"
  },
  "language_info": {
   "codemirror_mode": {
    "name": "ipython",
    "version": 3
   },
   "file_extension": ".py",
   "mimetype": "text/x-python",
   "name": "python",
   "nbconvert_exporter": "python",
   "pygments_lexer": "ipython3",
   "version": "3.8.8"
  }
 },
 "nbformat": 4,
 "nbformat_minor": 5
}
