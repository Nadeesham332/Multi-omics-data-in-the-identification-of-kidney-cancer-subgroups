{
 "cells": [
  {
   "cell_type": "markdown",
   "id": "24d5437f",
   "metadata": {},
   "source": [
    "## Dataset initialization"
   ]
  },
  {
   "cell_type": "code",
   "execution_count": 1,
   "id": "72fa5628",
   "metadata": {},
   "outputs": [],
   "source": [
    "import pandas as pd\n",
    "\n",
    "#import data sets\n",
    "df0=pd.read_csv('genomic.csv',sep='\\t').set_index('Unnamed: 0').T\n",
    "df1=pd.read_csv('methylation.csv',sep='\\t').set_index('Unnamed: 0').T\n",
    "df2=pd.read_csv('miRNA.csv',sep='\\t').set_index('Unnamed: 0').T\n",
    "df3=pd.read_csv('protein.csv',sep='\\t').set_index('Unnamed: 0').T\n"
   ]
  },
  {
   "cell_type": "code",
   "execution_count": 2,
   "id": "b9c8cf7b",
   "metadata": {
    "scrolled": false
   },
   "outputs": [
    {
     "data": {
      "text/plain": [
       "((291, 1020), (61, 867), (309, 721), (171, 757))"
      ]
     },
     "execution_count": 2,
     "metadata": {},
     "output_type": "execute_result"
    }
   ],
   "source": [
    "df0.shape, df1.shape, df2.shape, df3.shape"
   ]
  },
  {
   "cell_type": "markdown",
   "id": "f306a21c",
   "metadata": {},
   "source": [
    "## Preprocessing"
   ]
  },
  {
   "cell_type": "markdown",
   "id": "ef6827f8",
   "metadata": {},
   "source": [
    "### 1. Data Integration"
   ]
  },
  {
   "cell_type": "code",
   "execution_count": 3,
   "id": "4fe0adf4",
   "metadata": {},
   "outputs": [],
   "source": [
    "df=pd.concat([df0, df1, df2, df3]).T"
   ]
  },
  {
   "cell_type": "code",
   "execution_count": 4,
   "id": "90da65d0",
   "metadata": {},
   "outputs": [
    {
     "data": {
      "text/plain": [
       "(1183, 832)"
      ]
     },
     "execution_count": 4,
     "metadata": {},
     "output_type": "execute_result"
    }
   ],
   "source": [
    "df.shape"
   ]
  },
  {
   "cell_type": "code",
   "execution_count": 5,
   "id": "38f66a8c",
   "metadata": {},
   "outputs": [],
   "source": [
    "label=df['Subtype']"
   ]
  },
  {
   "cell_type": "code",
   "execution_count": 6,
   "id": "0918d564",
   "metadata": {},
   "outputs": [
    {
     "data": {
      "text/html": [
       "<div>\n",
       "<style scoped>\n",
       "    .dataframe tbody tr th:only-of-type {\n",
       "        vertical-align: middle;\n",
       "    }\n",
       "\n",
       "    .dataframe tbody tr th {\n",
       "        vertical-align: top;\n",
       "    }\n",
       "\n",
       "    .dataframe thead th {\n",
       "        text-align: right;\n",
       "    }\n",
       "</style>\n",
       "<table border=\"1\" class=\"dataframe\">\n",
       "  <thead>\n",
       "    <tr style=\"text-align: right;\">\n",
       "      <th></th>\n",
       "      <th>Subtype</th>\n",
       "      <th>Subtype</th>\n",
       "      <th>Subtype</th>\n",
       "      <th>Subtype</th>\n",
       "    </tr>\n",
       "    <tr>\n",
       "      <th>Unnamed: 0</th>\n",
       "      <th></th>\n",
       "      <th></th>\n",
       "      <th></th>\n",
       "      <th></th>\n",
       "    </tr>\n",
       "  </thead>\n",
       "  <tbody>\n",
       "    <tr>\n",
       "      <th>TCGA-BP-4162-01</th>\n",
       "      <td>0.0</td>\n",
       "      <td>NaN</td>\n",
       "      <td>NaN</td>\n",
       "      <td>NaN</td>\n",
       "    </tr>\n",
       "    <tr>\n",
       "      <th>TCGA-CJ-5677-11</th>\n",
       "      <td>0.0</td>\n",
       "      <td>NaN</td>\n",
       "      <td>0.0</td>\n",
       "      <td>NaN</td>\n",
       "    </tr>\n",
       "    <tr>\n",
       "      <th>TCGA-DV-5566-01</th>\n",
       "      <td>0.0</td>\n",
       "      <td>0.0</td>\n",
       "      <td>0.0</td>\n",
       "      <td>0.0</td>\n",
       "    </tr>\n",
       "    <tr>\n",
       "      <th>TCGA-BP-5191-01</th>\n",
       "      <td>0.0</td>\n",
       "      <td>0.0</td>\n",
       "      <td>NaN</td>\n",
       "      <td>0.0</td>\n",
       "    </tr>\n",
       "    <tr>\n",
       "      <th>TCGA-BP-5200-01</th>\n",
       "      <td>0.0</td>\n",
       "      <td>0.0</td>\n",
       "      <td>NaN</td>\n",
       "      <td>0.0</td>\n",
       "    </tr>\n",
       "    <tr>\n",
       "      <th>...</th>\n",
       "      <td>...</td>\n",
       "      <td>...</td>\n",
       "      <td>...</td>\n",
       "      <td>...</td>\n",
       "    </tr>\n",
       "    <tr>\n",
       "      <th>TCGA-A4-7732-11</th>\n",
       "      <td>NaN</td>\n",
       "      <td>1.0</td>\n",
       "      <td>NaN</td>\n",
       "      <td>NaN</td>\n",
       "    </tr>\n",
       "    <tr>\n",
       "      <th>TCGA-A4-7585-11</th>\n",
       "      <td>NaN</td>\n",
       "      <td>1.0</td>\n",
       "      <td>NaN</td>\n",
       "      <td>NaN</td>\n",
       "    </tr>\n",
       "    <tr>\n",
       "      <th>TCGA-A4-A5Y1-11</th>\n",
       "      <td>NaN</td>\n",
       "      <td>NaN</td>\n",
       "      <td>1.0</td>\n",
       "      <td>NaN</td>\n",
       "    </tr>\n",
       "    <tr>\n",
       "      <th>TCGA-A3-3336-01</th>\n",
       "      <td>NaN</td>\n",
       "      <td>NaN</td>\n",
       "      <td>NaN</td>\n",
       "      <td>0.0</td>\n",
       "    </tr>\n",
       "    <tr>\n",
       "      <th>TCGA-CW-6096-01</th>\n",
       "      <td>NaN</td>\n",
       "      <td>NaN</td>\n",
       "      <td>NaN</td>\n",
       "      <td>0.0</td>\n",
       "    </tr>\n",
       "  </tbody>\n",
       "</table>\n",
       "<p>1183 rows × 4 columns</p>\n",
       "</div>"
      ],
      "text/plain": [
       "                 Subtype  Subtype  Subtype  Subtype\n",
       "Unnamed: 0                                         \n",
       "TCGA-BP-4162-01      0.0      NaN      NaN      NaN\n",
       "TCGA-CJ-5677-11      0.0      NaN      0.0      NaN\n",
       "TCGA-DV-5566-01      0.0      0.0      0.0      0.0\n",
       "TCGA-BP-5191-01      0.0      0.0      NaN      0.0\n",
       "TCGA-BP-5200-01      0.0      0.0      NaN      0.0\n",
       "...                  ...      ...      ...      ...\n",
       "TCGA-A4-7732-11      NaN      1.0      NaN      NaN\n",
       "TCGA-A4-7585-11      NaN      1.0      NaN      NaN\n",
       "TCGA-A4-A5Y1-11      NaN      NaN      1.0      NaN\n",
       "TCGA-A3-3336-01      NaN      NaN      NaN      0.0\n",
       "TCGA-CW-6096-01      NaN      NaN      NaN      0.0\n",
       "\n",
       "[1183 rows x 4 columns]"
      ]
     },
     "execution_count": 6,
     "metadata": {},
     "output_type": "execute_result"
    }
   ],
   "source": [
    "label"
   ]
  },
  {
   "cell_type": "code",
   "execution_count": 7,
   "id": "e80a079d",
   "metadata": {},
   "outputs": [],
   "source": [
    "df=df.drop(['Subtype'], axis=1)"
   ]
  },
  {
   "cell_type": "code",
   "execution_count": 8,
   "id": "4383318b",
   "metadata": {},
   "outputs": [
    {
     "data": {
      "text/plain": [
       "(1183, 828)"
      ]
     },
     "execution_count": 8,
     "metadata": {},
     "output_type": "execute_result"
    }
   ],
   "source": [
    "df.shape"
   ]
  },
  {
   "cell_type": "code",
   "execution_count": 9,
   "id": "fc1878cf",
   "metadata": {},
   "outputs": [],
   "source": [
    "label_a=label.iloc[:,[0]]"
   ]
  },
  {
   "cell_type": "code",
   "execution_count": 10,
   "id": "1e337852",
   "metadata": {},
   "outputs": [
    {
     "data": {
      "text/html": [
       "<div>\n",
       "<style scoped>\n",
       "    .dataframe tbody tr th:only-of-type {\n",
       "        vertical-align: middle;\n",
       "    }\n",
       "\n",
       "    .dataframe tbody tr th {\n",
       "        vertical-align: top;\n",
       "    }\n",
       "\n",
       "    .dataframe thead th {\n",
       "        text-align: right;\n",
       "    }\n",
       "</style>\n",
       "<table border=\"1\" class=\"dataframe\">\n",
       "  <thead>\n",
       "    <tr style=\"text-align: right;\">\n",
       "      <th></th>\n",
       "      <th>Subtype</th>\n",
       "    </tr>\n",
       "    <tr>\n",
       "      <th>Unnamed: 0</th>\n",
       "      <th></th>\n",
       "    </tr>\n",
       "  </thead>\n",
       "  <tbody>\n",
       "    <tr>\n",
       "      <th>TCGA-BP-4162-01</th>\n",
       "      <td>0.0</td>\n",
       "    </tr>\n",
       "    <tr>\n",
       "      <th>TCGA-CJ-5677-11</th>\n",
       "      <td>0.0</td>\n",
       "    </tr>\n",
       "    <tr>\n",
       "      <th>TCGA-DV-5566-01</th>\n",
       "      <td>0.0</td>\n",
       "    </tr>\n",
       "    <tr>\n",
       "      <th>TCGA-BP-5191-01</th>\n",
       "      <td>0.0</td>\n",
       "    </tr>\n",
       "    <tr>\n",
       "      <th>TCGA-BP-5200-01</th>\n",
       "      <td>0.0</td>\n",
       "    </tr>\n",
       "    <tr>\n",
       "      <th>...</th>\n",
       "      <td>...</td>\n",
       "    </tr>\n",
       "    <tr>\n",
       "      <th>TCGA-A4-7732-11</th>\n",
       "      <td>NaN</td>\n",
       "    </tr>\n",
       "    <tr>\n",
       "      <th>TCGA-A4-7585-11</th>\n",
       "      <td>NaN</td>\n",
       "    </tr>\n",
       "    <tr>\n",
       "      <th>TCGA-A4-A5Y1-11</th>\n",
       "      <td>NaN</td>\n",
       "    </tr>\n",
       "    <tr>\n",
       "      <th>TCGA-A3-3336-01</th>\n",
       "      <td>NaN</td>\n",
       "    </tr>\n",
       "    <tr>\n",
       "      <th>TCGA-CW-6096-01</th>\n",
       "      <td>NaN</td>\n",
       "    </tr>\n",
       "  </tbody>\n",
       "</table>\n",
       "<p>1183 rows × 1 columns</p>\n",
       "</div>"
      ],
      "text/plain": [
       "                 Subtype\n",
       "Unnamed: 0              \n",
       "TCGA-BP-4162-01      0.0\n",
       "TCGA-CJ-5677-11      0.0\n",
       "TCGA-DV-5566-01      0.0\n",
       "TCGA-BP-5191-01      0.0\n",
       "TCGA-BP-5200-01      0.0\n",
       "...                  ...\n",
       "TCGA-A4-7732-11      NaN\n",
       "TCGA-A4-7585-11      NaN\n",
       "TCGA-A4-A5Y1-11      NaN\n",
       "TCGA-A3-3336-01      NaN\n",
       "TCGA-CW-6096-01      NaN\n",
       "\n",
       "[1183 rows x 1 columns]"
      ]
     },
     "execution_count": 10,
     "metadata": {},
     "output_type": "execute_result"
    }
   ],
   "source": [
    "label_a"
   ]
  },
  {
   "cell_type": "code",
   "execution_count": 11,
   "id": "91bb8a2b",
   "metadata": {},
   "outputs": [
    {
     "data": {
      "text/plain": [
       "Subtype    163\n",
       "dtype: int64"
      ]
     },
     "execution_count": 11,
     "metadata": {},
     "output_type": "execute_result"
    }
   ],
   "source": [
    "label_a.isnull().sum()"
   ]
  },
  {
   "cell_type": "code",
   "execution_count": 12,
   "id": "e8c66ec0",
   "metadata": {},
   "outputs": [],
   "source": [
    "label_b=label.iloc[:,[1]]"
   ]
  },
  {
   "cell_type": "code",
   "execution_count": 13,
   "id": "dc068c59",
   "metadata": {},
   "outputs": [],
   "source": [
    "label_c=label.iloc[:,[2]]"
   ]
  },
  {
   "cell_type": "code",
   "execution_count": 14,
   "id": "fccb9727",
   "metadata": {},
   "outputs": [],
   "source": [
    "label_d=label.iloc[:,[3]]"
   ]
  },
  {
   "cell_type": "code",
   "execution_count": 15,
   "id": "423e496f",
   "metadata": {
    "scrolled": true
   },
   "outputs": [
    {
     "name": "stderr",
     "output_type": "stream",
     "text": [
      "C:\\Users\\DELL\\AppData\\Local\\Temp\\ipykernel_17172\\477130424.py:1: SettingWithCopyWarning: \n",
      "A value is trying to be set on a copy of a slice from a DataFrame.\n",
      "Try using .loc[row_indexer,col_indexer] = value instead\n",
      "\n",
      "See the caveats in the documentation: https://pandas.pydata.org/pandas-docs/stable/user_guide/indexing.html#returning-a-view-versus-a-copy\n",
      "  label_a['Subtype'] = label_a['Subtype'].fillna(label_b['Subtype'])\n"
     ]
    }
   ],
   "source": [
    "label_a['Subtype'] = label_a['Subtype'].fillna(label_b['Subtype'])"
   ]
  },
  {
   "cell_type": "code",
   "execution_count": 16,
   "id": "9160dc50",
   "metadata": {},
   "outputs": [
    {
     "data": {
      "text/plain": [
       "Subtype    3\n",
       "dtype: int64"
      ]
     },
     "execution_count": 16,
     "metadata": {},
     "output_type": "execute_result"
    }
   ],
   "source": [
    "label_a.isnull().sum()"
   ]
  },
  {
   "cell_type": "code",
   "execution_count": 17,
   "id": "be7011e6",
   "metadata": {},
   "outputs": [
    {
     "name": "stderr",
     "output_type": "stream",
     "text": [
      "C:\\Users\\DELL\\AppData\\Local\\Temp\\ipykernel_17172\\941420977.py:1: SettingWithCopyWarning: \n",
      "A value is trying to be set on a copy of a slice from a DataFrame.\n",
      "Try using .loc[row_indexer,col_indexer] = value instead\n",
      "\n",
      "See the caveats in the documentation: https://pandas.pydata.org/pandas-docs/stable/user_guide/indexing.html#returning-a-view-versus-a-copy\n",
      "  label_a['Subtype'] = label_a['Subtype'].fillna(label_c['Subtype'])\n"
     ]
    }
   ],
   "source": [
    "label_a['Subtype'] = label_a['Subtype'].fillna(label_c['Subtype'])"
   ]
  },
  {
   "cell_type": "code",
   "execution_count": 18,
   "id": "91318bec",
   "metadata": {},
   "outputs": [
    {
     "data": {
      "text/plain": [
       "Subtype    2\n",
       "dtype: int64"
      ]
     },
     "execution_count": 18,
     "metadata": {},
     "output_type": "execute_result"
    }
   ],
   "source": [
    "label_a.isnull().sum()"
   ]
  },
  {
   "cell_type": "code",
   "execution_count": 19,
   "id": "a746a7b7",
   "metadata": {},
   "outputs": [
    {
     "name": "stderr",
     "output_type": "stream",
     "text": [
      "C:\\Users\\DELL\\AppData\\Local\\Temp\\ipykernel_17172\\964960565.py:1: SettingWithCopyWarning: \n",
      "A value is trying to be set on a copy of a slice from a DataFrame.\n",
      "Try using .loc[row_indexer,col_indexer] = value instead\n",
      "\n",
      "See the caveats in the documentation: https://pandas.pydata.org/pandas-docs/stable/user_guide/indexing.html#returning-a-view-versus-a-copy\n",
      "  label_a['Subtype'] = label_a['Subtype'].fillna(label_d['Subtype'])\n"
     ]
    }
   ],
   "source": [
    "label_a['Subtype'] = label_a['Subtype'].fillna(label_d['Subtype'])"
   ]
  },
  {
   "cell_type": "code",
   "execution_count": 20,
   "id": "f4e4be7c",
   "metadata": {},
   "outputs": [
    {
     "data": {
      "text/plain": [
       "Subtype    0\n",
       "dtype: int64"
      ]
     },
     "execution_count": 20,
     "metadata": {},
     "output_type": "execute_result"
    }
   ],
   "source": [
    "label_a.isnull().sum()"
   ]
  },
  {
   "cell_type": "code",
   "execution_count": 21,
   "id": "038604d5",
   "metadata": {},
   "outputs": [],
   "source": [
    "df['Subtype']=label_a['Subtype']"
   ]
  },
  {
   "cell_type": "code",
   "execution_count": 22,
   "id": "b1e29b91",
   "metadata": {},
   "outputs": [
    {
     "data": {
      "text/html": [
       "<div>\n",
       "<style scoped>\n",
       "    .dataframe tbody tr th:only-of-type {\n",
       "        vertical-align: middle;\n",
       "    }\n",
       "\n",
       "    .dataframe tbody tr th {\n",
       "        vertical-align: top;\n",
       "    }\n",
       "\n",
       "    .dataframe thead th {\n",
       "        text-align: right;\n",
       "    }\n",
       "</style>\n",
       "<table border=\"1\" class=\"dataframe\">\n",
       "  <thead>\n",
       "    <tr style=\"text-align: right;\">\n",
       "      <th></th>\n",
       "      <th>RHBDD2</th>\n",
       "      <th>MPI</th>\n",
       "      <th>IL18R1</th>\n",
       "      <th>ARNT</th>\n",
       "      <th>PHF7</th>\n",
       "      <th>C6orf150</th>\n",
       "      <th>TTC27</th>\n",
       "      <th>SPHK2</th>\n",
       "      <th>SLC25A26</th>\n",
       "      <th>PNCK</th>\n",
       "      <th>...</th>\n",
       "      <th>COG3-R-V</th>\n",
       "      <th>DUSP4-R-V</th>\n",
       "      <th>ERCC5-R-C</th>\n",
       "      <th>IGF1R_pY1135_Y1136-R-V</th>\n",
       "      <th>IRF-1-R-C</th>\n",
       "      <th>Jak2-R-V</th>\n",
       "      <th>p16_INK4a-R-V</th>\n",
       "      <th>SHP-2_pY542-R-C</th>\n",
       "      <th>CDK1_pY15-R-C</th>\n",
       "      <th>Subtype</th>\n",
       "    </tr>\n",
       "    <tr>\n",
       "      <th>Unnamed: 0</th>\n",
       "      <th></th>\n",
       "      <th></th>\n",
       "      <th></th>\n",
       "      <th></th>\n",
       "      <th></th>\n",
       "      <th></th>\n",
       "      <th></th>\n",
       "      <th></th>\n",
       "      <th></th>\n",
       "      <th></th>\n",
       "      <th></th>\n",
       "      <th></th>\n",
       "      <th></th>\n",
       "      <th></th>\n",
       "      <th></th>\n",
       "      <th></th>\n",
       "      <th></th>\n",
       "      <th></th>\n",
       "      <th></th>\n",
       "      <th></th>\n",
       "      <th></th>\n",
       "    </tr>\n",
       "  </thead>\n",
       "  <tbody>\n",
       "    <tr>\n",
       "      <th>TCGA-BP-4162-01</th>\n",
       "      <td>10.7023</td>\n",
       "      <td>10.1549</td>\n",
       "      <td>7.4466</td>\n",
       "      <td>10.3299</td>\n",
       "      <td>4.9930</td>\n",
       "      <td>6.1074</td>\n",
       "      <td>8.7442</td>\n",
       "      <td>7.8615</td>\n",
       "      <td>8.1425</td>\n",
       "      <td>8.2140</td>\n",
       "      <td>...</td>\n",
       "      <td>NaN</td>\n",
       "      <td>NaN</td>\n",
       "      <td>NaN</td>\n",
       "      <td>NaN</td>\n",
       "      <td>NaN</td>\n",
       "      <td>NaN</td>\n",
       "      <td>NaN</td>\n",
       "      <td>NaN</td>\n",
       "      <td>NaN</td>\n",
       "      <td>0.0</td>\n",
       "    </tr>\n",
       "    <tr>\n",
       "      <th>TCGA-CJ-5677-11</th>\n",
       "      <td>11.1547</td>\n",
       "      <td>9.6382</td>\n",
       "      <td>6.4649</td>\n",
       "      <td>10.5242</td>\n",
       "      <td>5.7872</td>\n",
       "      <td>4.9123</td>\n",
       "      <td>8.3176</td>\n",
       "      <td>9.6421</td>\n",
       "      <td>8.4646</td>\n",
       "      <td>1.9676</td>\n",
       "      <td>...</td>\n",
       "      <td>NaN</td>\n",
       "      <td>NaN</td>\n",
       "      <td>NaN</td>\n",
       "      <td>NaN</td>\n",
       "      <td>NaN</td>\n",
       "      <td>NaN</td>\n",
       "      <td>NaN</td>\n",
       "      <td>NaN</td>\n",
       "      <td>NaN</td>\n",
       "      <td>0.0</td>\n",
       "    </tr>\n",
       "    <tr>\n",
       "      <th>TCGA-DV-5566-01</th>\n",
       "      <td>11.1627</td>\n",
       "      <td>11.1023</td>\n",
       "      <td>8.7830</td>\n",
       "      <td>9.8761</td>\n",
       "      <td>4.7292</td>\n",
       "      <td>6.0847</td>\n",
       "      <td>8.5690</td>\n",
       "      <td>8.1878</td>\n",
       "      <td>7.7083</td>\n",
       "      <td>5.4886</td>\n",
       "      <td>...</td>\n",
       "      <td>-0.111725</td>\n",
       "      <td>-0.032286</td>\n",
       "      <td>-0.040738</td>\n",
       "      <td>0.156872</td>\n",
       "      <td>-0.035060</td>\n",
       "      <td>0.125141</td>\n",
       "      <td>-0.258801</td>\n",
       "      <td>0.338766</td>\n",
       "      <td>-0.247438</td>\n",
       "      <td>0.0</td>\n",
       "    </tr>\n",
       "    <tr>\n",
       "      <th>TCGA-BP-5191-01</th>\n",
       "      <td>11.2398</td>\n",
       "      <td>11.1530</td>\n",
       "      <td>8.5961</td>\n",
       "      <td>10.1723</td>\n",
       "      <td>5.4504</td>\n",
       "      <td>5.0699</td>\n",
       "      <td>8.5411</td>\n",
       "      <td>7.4039</td>\n",
       "      <td>7.6929</td>\n",
       "      <td>8.0036</td>\n",
       "      <td>...</td>\n",
       "      <td>-0.118774</td>\n",
       "      <td>0.121318</td>\n",
       "      <td>-0.121445</td>\n",
       "      <td>0.101740</td>\n",
       "      <td>0.112219</td>\n",
       "      <td>-0.013924</td>\n",
       "      <td>-0.958410</td>\n",
       "      <td>0.401281</td>\n",
       "      <td>0.215692</td>\n",
       "      <td>0.0</td>\n",
       "    </tr>\n",
       "    <tr>\n",
       "      <th>TCGA-BP-5200-01</th>\n",
       "      <td>10.3478</td>\n",
       "      <td>9.2373</td>\n",
       "      <td>8.3455</td>\n",
       "      <td>10.4199</td>\n",
       "      <td>5.5039</td>\n",
       "      <td>6.1064</td>\n",
       "      <td>9.1813</td>\n",
       "      <td>7.6040</td>\n",
       "      <td>7.7859</td>\n",
       "      <td>10.8164</td>\n",
       "      <td>...</td>\n",
       "      <td>-0.158658</td>\n",
       "      <td>-0.111396</td>\n",
       "      <td>-0.154295</td>\n",
       "      <td>0.336304</td>\n",
       "      <td>-0.107209</td>\n",
       "      <td>-0.147531</td>\n",
       "      <td>0.554614</td>\n",
       "      <td>0.260955</td>\n",
       "      <td>0.080711</td>\n",
       "      <td>0.0</td>\n",
       "    </tr>\n",
       "    <tr>\n",
       "      <th>...</th>\n",
       "      <td>...</td>\n",
       "      <td>...</td>\n",
       "      <td>...</td>\n",
       "      <td>...</td>\n",
       "      <td>...</td>\n",
       "      <td>...</td>\n",
       "      <td>...</td>\n",
       "      <td>...</td>\n",
       "      <td>...</td>\n",
       "      <td>...</td>\n",
       "      <td>...</td>\n",
       "      <td>...</td>\n",
       "      <td>...</td>\n",
       "      <td>...</td>\n",
       "      <td>...</td>\n",
       "      <td>...</td>\n",
       "      <td>...</td>\n",
       "      <td>...</td>\n",
       "      <td>...</td>\n",
       "      <td>...</td>\n",
       "      <td>...</td>\n",
       "    </tr>\n",
       "    <tr>\n",
       "      <th>TCGA-A4-7732-11</th>\n",
       "      <td>NaN</td>\n",
       "      <td>NaN</td>\n",
       "      <td>NaN</td>\n",
       "      <td>NaN</td>\n",
       "      <td>NaN</td>\n",
       "      <td>NaN</td>\n",
       "      <td>NaN</td>\n",
       "      <td>NaN</td>\n",
       "      <td>NaN</td>\n",
       "      <td>NaN</td>\n",
       "      <td>...</td>\n",
       "      <td>NaN</td>\n",
       "      <td>NaN</td>\n",
       "      <td>NaN</td>\n",
       "      <td>NaN</td>\n",
       "      <td>NaN</td>\n",
       "      <td>NaN</td>\n",
       "      <td>NaN</td>\n",
       "      <td>NaN</td>\n",
       "      <td>NaN</td>\n",
       "      <td>1.0</td>\n",
       "    </tr>\n",
       "    <tr>\n",
       "      <th>TCGA-A4-7585-11</th>\n",
       "      <td>NaN</td>\n",
       "      <td>NaN</td>\n",
       "      <td>NaN</td>\n",
       "      <td>NaN</td>\n",
       "      <td>NaN</td>\n",
       "      <td>NaN</td>\n",
       "      <td>NaN</td>\n",
       "      <td>NaN</td>\n",
       "      <td>NaN</td>\n",
       "      <td>NaN</td>\n",
       "      <td>...</td>\n",
       "      <td>NaN</td>\n",
       "      <td>NaN</td>\n",
       "      <td>NaN</td>\n",
       "      <td>NaN</td>\n",
       "      <td>NaN</td>\n",
       "      <td>NaN</td>\n",
       "      <td>NaN</td>\n",
       "      <td>NaN</td>\n",
       "      <td>NaN</td>\n",
       "      <td>1.0</td>\n",
       "    </tr>\n",
       "    <tr>\n",
       "      <th>TCGA-A4-A5Y1-11</th>\n",
       "      <td>NaN</td>\n",
       "      <td>NaN</td>\n",
       "      <td>NaN</td>\n",
       "      <td>NaN</td>\n",
       "      <td>NaN</td>\n",
       "      <td>NaN</td>\n",
       "      <td>NaN</td>\n",
       "      <td>NaN</td>\n",
       "      <td>NaN</td>\n",
       "      <td>NaN</td>\n",
       "      <td>...</td>\n",
       "      <td>NaN</td>\n",
       "      <td>NaN</td>\n",
       "      <td>NaN</td>\n",
       "      <td>NaN</td>\n",
       "      <td>NaN</td>\n",
       "      <td>NaN</td>\n",
       "      <td>NaN</td>\n",
       "      <td>NaN</td>\n",
       "      <td>NaN</td>\n",
       "      <td>1.0</td>\n",
       "    </tr>\n",
       "    <tr>\n",
       "      <th>TCGA-A3-3336-01</th>\n",
       "      <td>NaN</td>\n",
       "      <td>NaN</td>\n",
       "      <td>NaN</td>\n",
       "      <td>NaN</td>\n",
       "      <td>NaN</td>\n",
       "      <td>NaN</td>\n",
       "      <td>NaN</td>\n",
       "      <td>NaN</td>\n",
       "      <td>NaN</td>\n",
       "      <td>NaN</td>\n",
       "      <td>...</td>\n",
       "      <td>0.482300</td>\n",
       "      <td>0.010288</td>\n",
       "      <td>0.416904</td>\n",
       "      <td>-0.292654</td>\n",
       "      <td>0.454423</td>\n",
       "      <td>0.116049</td>\n",
       "      <td>0.219781</td>\n",
       "      <td>-0.404239</td>\n",
       "      <td>-0.045730</td>\n",
       "      <td>0.0</td>\n",
       "    </tr>\n",
       "    <tr>\n",
       "      <th>TCGA-CW-6096-01</th>\n",
       "      <td>NaN</td>\n",
       "      <td>NaN</td>\n",
       "      <td>NaN</td>\n",
       "      <td>NaN</td>\n",
       "      <td>NaN</td>\n",
       "      <td>NaN</td>\n",
       "      <td>NaN</td>\n",
       "      <td>NaN</td>\n",
       "      <td>NaN</td>\n",
       "      <td>NaN</td>\n",
       "      <td>...</td>\n",
       "      <td>0.516424</td>\n",
       "      <td>0.228364</td>\n",
       "      <td>0.153544</td>\n",
       "      <td>-0.135533</td>\n",
       "      <td>-0.190863</td>\n",
       "      <td>-0.162879</td>\n",
       "      <td>-0.104353</td>\n",
       "      <td>0.286391</td>\n",
       "      <td>0.272282</td>\n",
       "      <td>0.0</td>\n",
       "    </tr>\n",
       "  </tbody>\n",
       "</table>\n",
       "<p>1183 rows × 829 columns</p>\n",
       "</div>"
      ],
      "text/plain": [
       "                  RHBDD2      MPI  IL18R1     ARNT    PHF7  C6orf150   TTC27  \\\n",
       "Unnamed: 0                                                                     \n",
       "TCGA-BP-4162-01  10.7023  10.1549  7.4466  10.3299  4.9930    6.1074  8.7442   \n",
       "TCGA-CJ-5677-11  11.1547   9.6382  6.4649  10.5242  5.7872    4.9123  8.3176   \n",
       "TCGA-DV-5566-01  11.1627  11.1023  8.7830   9.8761  4.7292    6.0847  8.5690   \n",
       "TCGA-BP-5191-01  11.2398  11.1530  8.5961  10.1723  5.4504    5.0699  8.5411   \n",
       "TCGA-BP-5200-01  10.3478   9.2373  8.3455  10.4199  5.5039    6.1064  9.1813   \n",
       "...                  ...      ...     ...      ...     ...       ...     ...   \n",
       "TCGA-A4-7732-11      NaN      NaN     NaN      NaN     NaN       NaN     NaN   \n",
       "TCGA-A4-7585-11      NaN      NaN     NaN      NaN     NaN       NaN     NaN   \n",
       "TCGA-A4-A5Y1-11      NaN      NaN     NaN      NaN     NaN       NaN     NaN   \n",
       "TCGA-A3-3336-01      NaN      NaN     NaN      NaN     NaN       NaN     NaN   \n",
       "TCGA-CW-6096-01      NaN      NaN     NaN      NaN     NaN       NaN     NaN   \n",
       "\n",
       "                  SPHK2  SLC25A26     PNCK  ...  COG3-R-V  DUSP4-R-V  \\\n",
       "Unnamed: 0                                  ...                        \n",
       "TCGA-BP-4162-01  7.8615    8.1425   8.2140  ...       NaN        NaN   \n",
       "TCGA-CJ-5677-11  9.6421    8.4646   1.9676  ...       NaN        NaN   \n",
       "TCGA-DV-5566-01  8.1878    7.7083   5.4886  ... -0.111725  -0.032286   \n",
       "TCGA-BP-5191-01  7.4039    7.6929   8.0036  ... -0.118774   0.121318   \n",
       "TCGA-BP-5200-01  7.6040    7.7859  10.8164  ... -0.158658  -0.111396   \n",
       "...                 ...       ...      ...  ...       ...        ...   \n",
       "TCGA-A4-7732-11     NaN       NaN      NaN  ...       NaN        NaN   \n",
       "TCGA-A4-7585-11     NaN       NaN      NaN  ...       NaN        NaN   \n",
       "TCGA-A4-A5Y1-11     NaN       NaN      NaN  ...       NaN        NaN   \n",
       "TCGA-A3-3336-01     NaN       NaN      NaN  ...  0.482300   0.010288   \n",
       "TCGA-CW-6096-01     NaN       NaN      NaN  ...  0.516424   0.228364   \n",
       "\n",
       "                 ERCC5-R-C  IGF1R_pY1135_Y1136-R-V  IRF-1-R-C  Jak2-R-V  \\\n",
       "Unnamed: 0                                                                \n",
       "TCGA-BP-4162-01        NaN                     NaN        NaN       NaN   \n",
       "TCGA-CJ-5677-11        NaN                     NaN        NaN       NaN   \n",
       "TCGA-DV-5566-01  -0.040738                0.156872  -0.035060  0.125141   \n",
       "TCGA-BP-5191-01  -0.121445                0.101740   0.112219 -0.013924   \n",
       "TCGA-BP-5200-01  -0.154295                0.336304  -0.107209 -0.147531   \n",
       "...                    ...                     ...        ...       ...   \n",
       "TCGA-A4-7732-11        NaN                     NaN        NaN       NaN   \n",
       "TCGA-A4-7585-11        NaN                     NaN        NaN       NaN   \n",
       "TCGA-A4-A5Y1-11        NaN                     NaN        NaN       NaN   \n",
       "TCGA-A3-3336-01   0.416904               -0.292654   0.454423  0.116049   \n",
       "TCGA-CW-6096-01   0.153544               -0.135533  -0.190863 -0.162879   \n",
       "\n",
       "                 p16_INK4a-R-V  SHP-2_pY542-R-C  CDK1_pY15-R-C  Subtype  \n",
       "Unnamed: 0                                                               \n",
       "TCGA-BP-4162-01            NaN              NaN            NaN      0.0  \n",
       "TCGA-CJ-5677-11            NaN              NaN            NaN      0.0  \n",
       "TCGA-DV-5566-01      -0.258801         0.338766      -0.247438      0.0  \n",
       "TCGA-BP-5191-01      -0.958410         0.401281       0.215692      0.0  \n",
       "TCGA-BP-5200-01       0.554614         0.260955       0.080711      0.0  \n",
       "...                        ...              ...            ...      ...  \n",
       "TCGA-A4-7732-11            NaN              NaN            NaN      1.0  \n",
       "TCGA-A4-7585-11            NaN              NaN            NaN      1.0  \n",
       "TCGA-A4-A5Y1-11            NaN              NaN            NaN      1.0  \n",
       "TCGA-A3-3336-01       0.219781        -0.404239      -0.045730      0.0  \n",
       "TCGA-CW-6096-01      -0.104353         0.286391       0.272282      0.0  \n",
       "\n",
       "[1183 rows x 829 columns]"
      ]
     },
     "execution_count": 22,
     "metadata": {},
     "output_type": "execute_result"
    }
   ],
   "source": [
    "df"
   ]
  },
  {
   "cell_type": "markdown",
   "id": "57030f39",
   "metadata": {},
   "source": [
    "### 2. Data Cleaning"
   ]
  },
  {
   "cell_type": "code",
   "execution_count": 23,
   "id": "792e3db5",
   "metadata": {},
   "outputs": [
    {
     "data": {
      "text/plain": [
       "0"
      ]
     },
     "execution_count": 23,
     "metadata": {},
     "output_type": "execute_result"
    }
   ],
   "source": [
    "# number of duplicates\n",
    "df.duplicated().sum()"
   ]
  },
  {
   "cell_type": "code",
   "execution_count": 24,
   "id": "95de604d",
   "metadata": {
    "scrolled": true
   },
   "outputs": [
    {
     "data": {
      "text/plain": [
       "RHBDD2             163\n",
       "MPI                163\n",
       "IL18R1             163\n",
       "ARNT               163\n",
       "PHF7               163\n",
       "                  ... \n",
       "Jak2-R-V           426\n",
       "p16_INK4a-R-V      426\n",
       "SHP-2_pY542-R-C    426\n",
       "CDK1_pY15-R-C      426\n",
       "Subtype              0\n",
       "Length: 829, dtype: int64"
      ]
     },
     "execution_count": 24,
     "metadata": {},
     "output_type": "execute_result"
    }
   ],
   "source": [
    "# Check the null values\n",
    "df.isnull().sum()"
   ]
  },
  {
   "cell_type": "code",
   "execution_count": 25,
   "id": "f4abddb3",
   "metadata": {
    "scrolled": false
   },
   "outputs": [
    {
     "data": {
      "text/plain": [
       "MIMAT0000737    482\n",
       "MIMAT0004555    481\n",
       "MIMAT0004814    481\n",
       "MIMAT0004921    481\n",
       "MIMAT0004749    480\n",
       "               ... \n",
       "TMEM8B          163\n",
       "DDR1            163\n",
       "ABLIM3          163\n",
       "FYN             163\n",
       "Subtype           0\n",
       "Length: 829, dtype: int64"
      ]
     },
     "execution_count": 25,
     "metadata": {},
     "output_type": "execute_result"
    }
   ],
   "source": [
    "df.isnull().sum().sort_values(ascending = False)"
   ]
  },
  {
   "cell_type": "code",
   "execution_count": 26,
   "id": "c3bf8389",
   "metadata": {},
   "outputs": [
    {
     "data": {
      "text/plain": [
       "Subtype\n",
       "0.0    745\n",
       "1.0    347\n",
       "2.0     91\n",
       "Name: count, dtype: int64"
      ]
     },
     "execution_count": 26,
     "metadata": {},
     "output_type": "execute_result"
    }
   ],
   "source": [
    "# check how much of patients in each subtype\n",
    "df['Subtype'].value_counts()"
   ]
  },
  {
   "cell_type": "code",
   "execution_count": 27,
   "id": "e56a0af6",
   "metadata": {},
   "outputs": [],
   "source": [
    "# get the transpose to remove patients who have not enough features \n",
    "dfa=df.T"
   ]
  },
  {
   "cell_type": "code",
   "execution_count": 28,
   "id": "7f3e7e4c",
   "metadata": {},
   "outputs": [
    {
     "data": {
      "text/plain": [
       "Unnamed: 0\n",
       "TCGA-BP-5181-11    768\n",
       "TCGA-CZ-5459-11    768\n",
       "TCGA-BP-5196-11    768\n",
       "TCGA-BP-5183-11    768\n",
       "TCGA-BP-5185-11    768\n",
       "                  ... \n",
       "TCGA-2Z-A9JO-01      0\n",
       "TCGA-UZ-A9PL-01      0\n",
       "TCGA-SX-A7SP-01      0\n",
       "TCGA-5P-A9KE-01      0\n",
       "TCGA-HE-7128-01      0\n",
       "Length: 1183, dtype: int64"
      ]
     },
     "execution_count": 28,
     "metadata": {},
     "output_type": "execute_result"
    }
   ],
   "source": [
    "dfa.isnull().sum().sort_values(ascending = False)"
   ]
  },
  {
   "cell_type": "code",
   "execution_count": 29,
   "id": "750c94cb",
   "metadata": {},
   "outputs": [
    {
     "data": {
      "text/plain": [
       "464"
      ]
     },
     "execution_count": 29,
     "metadata": {},
     "output_type": "execute_result"
    }
   ],
   "source": [
    "# Count the null values containing features\n",
    "n=(dfa.isnull().sum()>300).sum()\n",
    "n"
   ]
  },
  {
   "cell_type": "code",
   "execution_count": 30,
   "id": "243215e3",
   "metadata": {},
   "outputs": [
    {
     "data": {
      "text/plain": [
       "Unnamed: 0\n",
       "TCGA-BP-5181-11    768\n",
       "TCGA-CZ-5459-11    768\n",
       "TCGA-BP-5196-11    768\n",
       "TCGA-BP-5183-11    768\n",
       "TCGA-BP-5185-11    768\n",
       "                  ... \n",
       "TCGA-B0-5107-01    308\n",
       "TCGA-B0-5094-01    308\n",
       "TCGA-BP-5175-01    308\n",
       "TCGA-BP-5174-01    308\n",
       "TCGA-B0-5106-01    308\n",
       "Length: 464, dtype: int64"
      ]
     },
     "execution_count": 30,
     "metadata": {},
     "output_type": "execute_result"
    }
   ],
   "source": [
    "# null values in ascending order\n",
    "dfa.isnull().sum().sort_values(ascending = False).head(n)"
   ]
  },
  {
   "cell_type": "code",
   "execution_count": 31,
   "id": "be08d922",
   "metadata": {},
   "outputs": [],
   "source": [
    "# List of features which contains more than 300 reccords of null values\n",
    "nonConsiderablePatients=dfa.isnull().sum().sort_values(ascending = False).head(n).index"
   ]
  },
  {
   "cell_type": "code",
   "execution_count": 32,
   "id": "6625d01c",
   "metadata": {},
   "outputs": [],
   "source": [
    "# drop high correlated features  \n",
    "dfa= dfa.drop(nonConsiderablePatients, axis=1)"
   ]
  },
  {
   "cell_type": "code",
   "execution_count": 33,
   "id": "1fc2440e",
   "metadata": {},
   "outputs": [],
   "source": [
    "df=dfa.T"
   ]
  },
  {
   "cell_type": "code",
   "execution_count": 34,
   "id": "c69695de",
   "metadata": {},
   "outputs": [
    {
     "data": {
      "text/plain": [
       "Subtype\n",
       "1.0    319\n",
       "0.0    311\n",
       "2.0     89\n",
       "Name: count, dtype: int64"
      ]
     },
     "execution_count": 34,
     "metadata": {},
     "output_type": "execute_result"
    }
   ],
   "source": [
    "# check affect for patients in each subtype\n",
    "df['Subtype'].value_counts()"
   ]
  },
  {
   "cell_type": "code",
   "execution_count": 35,
   "id": "f8899418",
   "metadata": {},
   "outputs": [
    {
     "data": {
      "text/plain": [
       "RHBDD2               1\n",
       "MPI                  1\n",
       "IL18R1               1\n",
       "ARNT                 1\n",
       "PHF7                 1\n",
       "                  ... \n",
       "Jak2-R-V           219\n",
       "p16_INK4a-R-V      219\n",
       "SHP-2_pY542-R-C    219\n",
       "CDK1_pY15-R-C      219\n",
       "Subtype              0\n",
       "Length: 829, dtype: int64"
      ]
     },
     "execution_count": 35,
     "metadata": {},
     "output_type": "execute_result"
    }
   ],
   "source": [
    "df.isnull().sum()"
   ]
  },
  {
   "cell_type": "code",
   "execution_count": 36,
   "id": "23d8dbb8",
   "metadata": {},
   "outputs": [
    {
     "data": {
      "text/plain": [
       "p70S6K_pT389-R-V          219\n",
       "IGF1R_pY1135_Y1136-R-V    219\n",
       "SHP-2_pY542-R-C           219\n",
       "mTOR_pS2448-R-C           219\n",
       "p16_INK4a-R-V             219\n",
       "                         ... \n",
       "MIMAT0002876                0\n",
       "MIMAT0002871                0\n",
       "MIMAT0002872                0\n",
       "MIMAT0005825                0\n",
       "Subtype                     0\n",
       "Length: 829, dtype: int64"
      ]
     },
     "execution_count": 36,
     "metadata": {},
     "output_type": "execute_result"
    }
   ],
   "source": [
    "# Check the null values\n",
    "df.isnull().sum().sort_values(ascending = False)"
   ]
  },
  {
   "cell_type": "code",
   "execution_count": 37,
   "id": "9ff94f56",
   "metadata": {},
   "outputs": [
    {
     "data": {
      "text/plain": [
       "256"
      ]
     },
     "execution_count": 37,
     "metadata": {},
     "output_type": "execute_result"
    }
   ],
   "source": [
    "# Count the null values containing features more than 10\n",
    "n=(df.isnull().sum()>10).sum()\n",
    "n"
   ]
  },
  {
   "cell_type": "code",
   "execution_count": 38,
   "id": "31c317b6",
   "metadata": {},
   "outputs": [
    {
     "data": {
      "text/plain": [
       "p70S6K_pT389-R-V          219\n",
       "IGF1R_pY1135_Y1136-R-V    219\n",
       "SHP-2_pY542-R-C           219\n",
       "mTOR_pS2448-R-C           219\n",
       "p16_INK4a-R-V             219\n",
       "                         ... \n",
       "MIMAT0004951               12\n",
       "MIMAT0004819               12\n",
       "MIMAT0006790               12\n",
       "MIMAT0019927               12\n",
       "MIMAT0000765               11\n",
       "Length: 256, dtype: int64"
      ]
     },
     "execution_count": 38,
     "metadata": {},
     "output_type": "execute_result"
    }
   ],
   "source": [
    "df.isnull().sum().sort_values(ascending = False).head(n)"
   ]
  },
  {
   "cell_type": "code",
   "execution_count": 39,
   "id": "bebe8348",
   "metadata": {},
   "outputs": [],
   "source": [
    "# List of features which contains more than 10 reccords of null values\n",
    "nullFeatures=df.isnull().sum().sort_values(ascending = False).head(n).index"
   ]
  },
  {
   "cell_type": "code",
   "execution_count": 40,
   "id": "5ecc195e",
   "metadata": {},
   "outputs": [],
   "source": [
    "# drop features which have more null values  \n",
    "df= df.drop(nullFeatures, axis=1)"
   ]
  },
  {
   "cell_type": "code",
   "execution_count": 41,
   "id": "a978a244",
   "metadata": {},
   "outputs": [
    {
     "data": {
      "text/html": [
       "<div>\n",
       "<style scoped>\n",
       "    .dataframe tbody tr th:only-of-type {\n",
       "        vertical-align: middle;\n",
       "    }\n",
       "\n",
       "    .dataframe tbody tr th {\n",
       "        vertical-align: top;\n",
       "    }\n",
       "\n",
       "    .dataframe thead th {\n",
       "        text-align: right;\n",
       "    }\n",
       "</style>\n",
       "<table border=\"1\" class=\"dataframe\">\n",
       "  <thead>\n",
       "    <tr style=\"text-align: right;\">\n",
       "      <th></th>\n",
       "      <th>RHBDD2</th>\n",
       "      <th>MPI</th>\n",
       "      <th>IL18R1</th>\n",
       "      <th>ARNT</th>\n",
       "      <th>PHF7</th>\n",
       "      <th>C6orf150</th>\n",
       "      <th>TTC27</th>\n",
       "      <th>SPHK2</th>\n",
       "      <th>SLC25A26</th>\n",
       "      <th>PNCK</th>\n",
       "      <th>...</th>\n",
       "      <th>MIMAT0004672</th>\n",
       "      <th>MIMAT0025848</th>\n",
       "      <th>MIMAT0004589</th>\n",
       "      <th>MIMAT0004588</th>\n",
       "      <th>MIMAT0004585</th>\n",
       "      <th>MIMAT0004584</th>\n",
       "      <th>MIMAT0004586</th>\n",
       "      <th>MIMAT0003298</th>\n",
       "      <th>MIMAT0017950</th>\n",
       "      <th>Subtype</th>\n",
       "    </tr>\n",
       "    <tr>\n",
       "      <th>Unnamed: 0</th>\n",
       "      <th></th>\n",
       "      <th></th>\n",
       "      <th></th>\n",
       "      <th></th>\n",
       "      <th></th>\n",
       "      <th></th>\n",
       "      <th></th>\n",
       "      <th></th>\n",
       "      <th></th>\n",
       "      <th></th>\n",
       "      <th></th>\n",
       "      <th></th>\n",
       "      <th></th>\n",
       "      <th></th>\n",
       "      <th></th>\n",
       "      <th></th>\n",
       "      <th></th>\n",
       "      <th></th>\n",
       "      <th></th>\n",
       "      <th></th>\n",
       "      <th></th>\n",
       "    </tr>\n",
       "  </thead>\n",
       "  <tbody>\n",
       "    <tr>\n",
       "      <th>TCGA-CJ-5677-11</th>\n",
       "      <td>11.1547</td>\n",
       "      <td>9.6382</td>\n",
       "      <td>6.4649</td>\n",
       "      <td>10.5242</td>\n",
       "      <td>5.7872</td>\n",
       "      <td>4.9123</td>\n",
       "      <td>8.3176</td>\n",
       "      <td>9.6421</td>\n",
       "      <td>8.4646</td>\n",
       "      <td>1.9676</td>\n",
       "      <td>...</td>\n",
       "      <td>5.888767</td>\n",
       "      <td>1.597446</td>\n",
       "      <td>3.772212</td>\n",
       "      <td>4.572534</td>\n",
       "      <td>5.732577</td>\n",
       "      <td>5.588137</td>\n",
       "      <td>3.103999</td>\n",
       "      <td>1.820764</td>\n",
       "      <td>2.014023</td>\n",
       "      <td>0.0</td>\n",
       "    </tr>\n",
       "    <tr>\n",
       "      <th>TCGA-DV-5566-01</th>\n",
       "      <td>11.1627</td>\n",
       "      <td>11.1023</td>\n",
       "      <td>8.7830</td>\n",
       "      <td>9.8761</td>\n",
       "      <td>4.7292</td>\n",
       "      <td>6.0847</td>\n",
       "      <td>8.5690</td>\n",
       "      <td>8.1878</td>\n",
       "      <td>7.7083</td>\n",
       "      <td>5.4886</td>\n",
       "      <td>...</td>\n",
       "      <td>7.974370</td>\n",
       "      <td>2.538657</td>\n",
       "      <td>2.912411</td>\n",
       "      <td>5.315757</td>\n",
       "      <td>6.913859</td>\n",
       "      <td>6.012793</td>\n",
       "      <td>5.144128</td>\n",
       "      <td>2.357108</td>\n",
       "      <td>3.584439</td>\n",
       "      <td>0.0</td>\n",
       "    </tr>\n",
       "    <tr>\n",
       "      <th>TCGA-BP-4770-01</th>\n",
       "      <td>11.6968</td>\n",
       "      <td>10.6997</td>\n",
       "      <td>6.7179</td>\n",
       "      <td>11.0735</td>\n",
       "      <td>4.8411</td>\n",
       "      <td>6.8345</td>\n",
       "      <td>8.7687</td>\n",
       "      <td>8.1480</td>\n",
       "      <td>8.6299</td>\n",
       "      <td>6.2105</td>\n",
       "      <td>...</td>\n",
       "      <td>7.865401</td>\n",
       "      <td>2.965808</td>\n",
       "      <td>NaN</td>\n",
       "      <td>4.029286</td>\n",
       "      <td>7.425229</td>\n",
       "      <td>6.564837</td>\n",
       "      <td>3.626918</td>\n",
       "      <td>3.066958</td>\n",
       "      <td>2.314399</td>\n",
       "      <td>0.0</td>\n",
       "    </tr>\n",
       "    <tr>\n",
       "      <th>TCGA-B0-5696-11</th>\n",
       "      <td>11.1896</td>\n",
       "      <td>9.9579</td>\n",
       "      <td>5.6440</td>\n",
       "      <td>10.4559</td>\n",
       "      <td>6.4592</td>\n",
       "      <td>3.9728</td>\n",
       "      <td>8.4383</td>\n",
       "      <td>9.9574</td>\n",
       "      <td>8.9493</td>\n",
       "      <td>3.1308</td>\n",
       "      <td>...</td>\n",
       "      <td>5.742204</td>\n",
       "      <td>1.894211</td>\n",
       "      <td>4.112828</td>\n",
       "      <td>4.387111</td>\n",
       "      <td>5.252929</td>\n",
       "      <td>5.336151</td>\n",
       "      <td>3.120679</td>\n",
       "      <td>1.894050</td>\n",
       "      <td>0.930343</td>\n",
       "      <td>0.0</td>\n",
       "    </tr>\n",
       "    <tr>\n",
       "      <th>TCGA-CJ-4887-01</th>\n",
       "      <td>11.3564</td>\n",
       "      <td>11.2841</td>\n",
       "      <td>8.2675</td>\n",
       "      <td>10.0420</td>\n",
       "      <td>5.8533</td>\n",
       "      <td>5.7853</td>\n",
       "      <td>8.4939</td>\n",
       "      <td>8.2063</td>\n",
       "      <td>7.9860</td>\n",
       "      <td>11.9505</td>\n",
       "      <td>...</td>\n",
       "      <td>7.746573</td>\n",
       "      <td>2.059027</td>\n",
       "      <td>2.355290</td>\n",
       "      <td>4.431934</td>\n",
       "      <td>6.021754</td>\n",
       "      <td>5.285518</td>\n",
       "      <td>3.517366</td>\n",
       "      <td>2.441931</td>\n",
       "      <td>1.369263</td>\n",
       "      <td>0.0</td>\n",
       "    </tr>\n",
       "    <tr>\n",
       "      <th>...</th>\n",
       "      <td>...</td>\n",
       "      <td>...</td>\n",
       "      <td>...</td>\n",
       "      <td>...</td>\n",
       "      <td>...</td>\n",
       "      <td>...</td>\n",
       "      <td>...</td>\n",
       "      <td>...</td>\n",
       "      <td>...</td>\n",
       "      <td>...</td>\n",
       "      <td>...</td>\n",
       "      <td>...</td>\n",
       "      <td>...</td>\n",
       "      <td>...</td>\n",
       "      <td>...</td>\n",
       "      <td>...</td>\n",
       "      <td>...</td>\n",
       "      <td>...</td>\n",
       "      <td>...</td>\n",
       "      <td>...</td>\n",
       "      <td>...</td>\n",
       "    </tr>\n",
       "    <tr>\n",
       "      <th>TCGA-KM-8443-01</th>\n",
       "      <td>12.3828</td>\n",
       "      <td>9.5249</td>\n",
       "      <td>1.6204</td>\n",
       "      <td>8.4252</td>\n",
       "      <td>7.8484</td>\n",
       "      <td>0.5007</td>\n",
       "      <td>7.1880</td>\n",
       "      <td>10.1381</td>\n",
       "      <td>9.6681</td>\n",
       "      <td>4.8687</td>\n",
       "      <td>...</td>\n",
       "      <td>6.941236</td>\n",
       "      <td>0.612974</td>\n",
       "      <td>4.546392</td>\n",
       "      <td>2.313344</td>\n",
       "      <td>3.844714</td>\n",
       "      <td>6.181857</td>\n",
       "      <td>3.804264</td>\n",
       "      <td>2.852081</td>\n",
       "      <td>0.482372</td>\n",
       "      <td>2.0</td>\n",
       "    </tr>\n",
       "    <tr>\n",
       "      <th>TCGA-KM-8442-01</th>\n",
       "      <td>11.4283</td>\n",
       "      <td>9.6452</td>\n",
       "      <td>3.4300</td>\n",
       "      <td>8.7157</td>\n",
       "      <td>7.2611</td>\n",
       "      <td>3.8226</td>\n",
       "      <td>7.4426</td>\n",
       "      <td>9.0326</td>\n",
       "      <td>9.1427</td>\n",
       "      <td>5.7710</td>\n",
       "      <td>...</td>\n",
       "      <td>7.523361</td>\n",
       "      <td>0.481061</td>\n",
       "      <td>5.108858</td>\n",
       "      <td>4.413817</td>\n",
       "      <td>5.017791</td>\n",
       "      <td>5.877302</td>\n",
       "      <td>3.298455</td>\n",
       "      <td>2.189626</td>\n",
       "      <td>1.440993</td>\n",
       "      <td>2.0</td>\n",
       "    </tr>\n",
       "    <tr>\n",
       "      <th>TCGA-KL-8332-11</th>\n",
       "      <td>11.5641</td>\n",
       "      <td>10.5319</td>\n",
       "      <td>6.4413</td>\n",
       "      <td>9.7850</td>\n",
       "      <td>6.8616</td>\n",
       "      <td>4.3373</td>\n",
       "      <td>8.5912</td>\n",
       "      <td>9.8132</td>\n",
       "      <td>9.5073</td>\n",
       "      <td>2.0051</td>\n",
       "      <td>...</td>\n",
       "      <td>5.119446</td>\n",
       "      <td>0.815846</td>\n",
       "      <td>2.589448</td>\n",
       "      <td>4.045461</td>\n",
       "      <td>4.872187</td>\n",
       "      <td>5.445662</td>\n",
       "      <td>2.660585</td>\n",
       "      <td>1.244184</td>\n",
       "      <td>0.935332</td>\n",
       "      <td>2.0</td>\n",
       "    </tr>\n",
       "    <tr>\n",
       "      <th>TCGA-KL-8327-01</th>\n",
       "      <td>12.8350</td>\n",
       "      <td>9.9481</td>\n",
       "      <td>0.0000</td>\n",
       "      <td>8.8586</td>\n",
       "      <td>7.3922</td>\n",
       "      <td>3.7295</td>\n",
       "      <td>7.1739</td>\n",
       "      <td>9.7145</td>\n",
       "      <td>8.5857</td>\n",
       "      <td>6.2920</td>\n",
       "      <td>...</td>\n",
       "      <td>7.479505</td>\n",
       "      <td>0.868758</td>\n",
       "      <td>3.688944</td>\n",
       "      <td>3.076451</td>\n",
       "      <td>5.425230</td>\n",
       "      <td>6.771239</td>\n",
       "      <td>5.046859</td>\n",
       "      <td>4.018092</td>\n",
       "      <td>1.215251</td>\n",
       "      <td>2.0</td>\n",
       "    </tr>\n",
       "    <tr>\n",
       "      <th>TCGA-PJ-A8JU-01</th>\n",
       "      <td>NaN</td>\n",
       "      <td>NaN</td>\n",
       "      <td>NaN</td>\n",
       "      <td>NaN</td>\n",
       "      <td>NaN</td>\n",
       "      <td>NaN</td>\n",
       "      <td>NaN</td>\n",
       "      <td>NaN</td>\n",
       "      <td>NaN</td>\n",
       "      <td>NaN</td>\n",
       "      <td>...</td>\n",
       "      <td>7.388167</td>\n",
       "      <td>3.653503</td>\n",
       "      <td>3.906594</td>\n",
       "      <td>3.124748</td>\n",
       "      <td>5.426000</td>\n",
       "      <td>5.844748</td>\n",
       "      <td>5.535124</td>\n",
       "      <td>NaN</td>\n",
       "      <td>1.291614</td>\n",
       "      <td>1.0</td>\n",
       "    </tr>\n",
       "  </tbody>\n",
       "</table>\n",
       "<p>719 rows × 573 columns</p>\n",
       "</div>"
      ],
      "text/plain": [
       "                  RHBDD2      MPI  IL18R1     ARNT    PHF7  C6orf150   TTC27  \\\n",
       "Unnamed: 0                                                                     \n",
       "TCGA-CJ-5677-11  11.1547   9.6382  6.4649  10.5242  5.7872    4.9123  8.3176   \n",
       "TCGA-DV-5566-01  11.1627  11.1023  8.7830   9.8761  4.7292    6.0847  8.5690   \n",
       "TCGA-BP-4770-01  11.6968  10.6997  6.7179  11.0735  4.8411    6.8345  8.7687   \n",
       "TCGA-B0-5696-11  11.1896   9.9579  5.6440  10.4559  6.4592    3.9728  8.4383   \n",
       "TCGA-CJ-4887-01  11.3564  11.2841  8.2675  10.0420  5.8533    5.7853  8.4939   \n",
       "...                  ...      ...     ...      ...     ...       ...     ...   \n",
       "TCGA-KM-8443-01  12.3828   9.5249  1.6204   8.4252  7.8484    0.5007  7.1880   \n",
       "TCGA-KM-8442-01  11.4283   9.6452  3.4300   8.7157  7.2611    3.8226  7.4426   \n",
       "TCGA-KL-8332-11  11.5641  10.5319  6.4413   9.7850  6.8616    4.3373  8.5912   \n",
       "TCGA-KL-8327-01  12.8350   9.9481  0.0000   8.8586  7.3922    3.7295  7.1739   \n",
       "TCGA-PJ-A8JU-01      NaN      NaN     NaN      NaN     NaN       NaN     NaN   \n",
       "\n",
       "                   SPHK2  SLC25A26     PNCK  ...  MIMAT0004672  MIMAT0025848  \\\n",
       "Unnamed: 0                                   ...                               \n",
       "TCGA-CJ-5677-11   9.6421    8.4646   1.9676  ...      5.888767      1.597446   \n",
       "TCGA-DV-5566-01   8.1878    7.7083   5.4886  ...      7.974370      2.538657   \n",
       "TCGA-BP-4770-01   8.1480    8.6299   6.2105  ...      7.865401      2.965808   \n",
       "TCGA-B0-5696-11   9.9574    8.9493   3.1308  ...      5.742204      1.894211   \n",
       "TCGA-CJ-4887-01   8.2063    7.9860  11.9505  ...      7.746573      2.059027   \n",
       "...                  ...       ...      ...  ...           ...           ...   \n",
       "TCGA-KM-8443-01  10.1381    9.6681   4.8687  ...      6.941236      0.612974   \n",
       "TCGA-KM-8442-01   9.0326    9.1427   5.7710  ...      7.523361      0.481061   \n",
       "TCGA-KL-8332-11   9.8132    9.5073   2.0051  ...      5.119446      0.815846   \n",
       "TCGA-KL-8327-01   9.7145    8.5857   6.2920  ...      7.479505      0.868758   \n",
       "TCGA-PJ-A8JU-01      NaN       NaN      NaN  ...      7.388167      3.653503   \n",
       "\n",
       "                 MIMAT0004589  MIMAT0004588  MIMAT0004585  MIMAT0004584  \\\n",
       "Unnamed: 0                                                                \n",
       "TCGA-CJ-5677-11      3.772212      4.572534      5.732577      5.588137   \n",
       "TCGA-DV-5566-01      2.912411      5.315757      6.913859      6.012793   \n",
       "TCGA-BP-4770-01           NaN      4.029286      7.425229      6.564837   \n",
       "TCGA-B0-5696-11      4.112828      4.387111      5.252929      5.336151   \n",
       "TCGA-CJ-4887-01      2.355290      4.431934      6.021754      5.285518   \n",
       "...                       ...           ...           ...           ...   \n",
       "TCGA-KM-8443-01      4.546392      2.313344      3.844714      6.181857   \n",
       "TCGA-KM-8442-01      5.108858      4.413817      5.017791      5.877302   \n",
       "TCGA-KL-8332-11      2.589448      4.045461      4.872187      5.445662   \n",
       "TCGA-KL-8327-01      3.688944      3.076451      5.425230      6.771239   \n",
       "TCGA-PJ-A8JU-01      3.906594      3.124748      5.426000      5.844748   \n",
       "\n",
       "                 MIMAT0004586  MIMAT0003298  MIMAT0017950  Subtype  \n",
       "Unnamed: 0                                                          \n",
       "TCGA-CJ-5677-11      3.103999      1.820764      2.014023      0.0  \n",
       "TCGA-DV-5566-01      5.144128      2.357108      3.584439      0.0  \n",
       "TCGA-BP-4770-01      3.626918      3.066958      2.314399      0.0  \n",
       "TCGA-B0-5696-11      3.120679      1.894050      0.930343      0.0  \n",
       "TCGA-CJ-4887-01      3.517366      2.441931      1.369263      0.0  \n",
       "...                       ...           ...           ...      ...  \n",
       "TCGA-KM-8443-01      3.804264      2.852081      0.482372      2.0  \n",
       "TCGA-KM-8442-01      3.298455      2.189626      1.440993      2.0  \n",
       "TCGA-KL-8332-11      2.660585      1.244184      0.935332      2.0  \n",
       "TCGA-KL-8327-01      5.046859      4.018092      1.215251      2.0  \n",
       "TCGA-PJ-A8JU-01      5.535124           NaN      1.291614      1.0  \n",
       "\n",
       "[719 rows x 573 columns]"
      ]
     },
     "execution_count": 41,
     "metadata": {},
     "output_type": "execute_result"
    }
   ],
   "source": [
    "df"
   ]
  },
  {
   "cell_type": "code",
   "execution_count": 42,
   "id": "f4a660ed",
   "metadata": {},
   "outputs": [
    {
     "data": {
      "text/plain": [
       "(719, 573)"
      ]
     },
     "execution_count": 42,
     "metadata": {},
     "output_type": "execute_result"
    }
   ],
   "source": [
    "df.shape"
   ]
  },
  {
   "cell_type": "code",
   "execution_count": 43,
   "id": "8ee3455e",
   "metadata": {},
   "outputs": [],
   "source": [
    "# fill null values by mean\n",
    "df=df.fillna(df.mean())"
   ]
  },
  {
   "cell_type": "code",
   "execution_count": 44,
   "id": "40bb5891",
   "metadata": {},
   "outputs": [
    {
     "data": {
      "text/plain": [
       "RHBDD2          0\n",
       "MPI             0\n",
       "IL18R1          0\n",
       "ARNT            0\n",
       "PHF7            0\n",
       "               ..\n",
       "MIMAT0004584    0\n",
       "MIMAT0004586    0\n",
       "MIMAT0003298    0\n",
       "MIMAT0017950    0\n",
       "Subtype         0\n",
       "Length: 573, dtype: int64"
      ]
     },
     "execution_count": 44,
     "metadata": {},
     "output_type": "execute_result"
    }
   ],
   "source": [
    "df.isnull().sum()"
   ]
  },
  {
   "cell_type": "code",
   "execution_count": 45,
   "id": "e8ed831d",
   "metadata": {},
   "outputs": [
    {
     "name": "stdout",
     "output_type": "stream",
     "text": [
      "Count of zeros\n",
      "\t IL18R1  :  1\n",
      "\t C6orf150  :  1\n",
      "\t PNCK  :  15\n",
      "\t DIRC3  :  13\n",
      "\t ARHGAP8  :  1\n",
      "\t FAM186B  :  1\n",
      "\t FOXL1  :  6\n",
      "\t CXorf57  :  1\n",
      "\t CAMK4  :  11\n",
      "\t LMTK3  :  2\n",
      "\t NMUR1  :  1\n",
      "\t C5orf36  :  1\n",
      "\t KLC3  :  1\n",
      "\t BIK  :  5\n",
      "\t C19orf26  :  13\n",
      "\t ALPK2  :  8\n",
      "\t C22orf45  :  8\n",
      "\t GPR85  :  1\n",
      "\t FBXO2  :  1\n",
      "\t BCO2  :  1\n",
      "\t DOK7  :  7\n",
      "\t DIRAS2  :  2\n",
      "\t RBMS3  :  1\n",
      "\t C15orf59  :  3\n",
      "\t HAGHL  :  1\n",
      "\t KCNK3  :  4\n",
      "\t SLC2A5  :  2\n",
      "\t C19orf73  :  5\n",
      "\t TMEM26  :  2\n",
      "\t ENPP3  :  9\n",
      "\t C1orf53  :  1\n",
      "\t SYNGR3  :  1\n",
      "\t FAM155B  :  3\n",
      "\t CYP2J2  :  17\n",
      "\t CP  :  7\n",
      "\t Subtype  :  311\n"
     ]
    }
   ],
   "source": [
    "# check for zero values\n",
    "print('Count of zeros')\n",
    "for column_name in df.columns:\n",
    "    column = df[column_name]\n",
    "    # Get the count of Zeros in column \n",
    "    count = (column == 0).sum()\n",
    "    if(count>0):\n",
    "        print('\\t', column_name, ' : ', count)"
   ]
  },
  {
   "cell_type": "code",
   "execution_count": 46,
   "id": "64c54b39",
   "metadata": {},
   "outputs": [
    {
     "data": {
      "text/html": [
       "<div>\n",
       "<style scoped>\n",
       "    .dataframe tbody tr th:only-of-type {\n",
       "        vertical-align: middle;\n",
       "    }\n",
       "\n",
       "    .dataframe tbody tr th {\n",
       "        vertical-align: top;\n",
       "    }\n",
       "\n",
       "    .dataframe thead th {\n",
       "        text-align: right;\n",
       "    }\n",
       "</style>\n",
       "<table border=\"1\" class=\"dataframe\">\n",
       "  <thead>\n",
       "    <tr style=\"text-align: right;\">\n",
       "      <th></th>\n",
       "      <th>RHBDD2</th>\n",
       "      <th>MPI</th>\n",
       "      <th>IL18R1</th>\n",
       "      <th>ARNT</th>\n",
       "      <th>PHF7</th>\n",
       "      <th>C6orf150</th>\n",
       "      <th>TTC27</th>\n",
       "      <th>SPHK2</th>\n",
       "      <th>SLC25A26</th>\n",
       "      <th>PNCK</th>\n",
       "      <th>...</th>\n",
       "      <th>MIMAT0004672</th>\n",
       "      <th>MIMAT0025848</th>\n",
       "      <th>MIMAT0004589</th>\n",
       "      <th>MIMAT0004588</th>\n",
       "      <th>MIMAT0004585</th>\n",
       "      <th>MIMAT0004584</th>\n",
       "      <th>MIMAT0004586</th>\n",
       "      <th>MIMAT0003298</th>\n",
       "      <th>MIMAT0017950</th>\n",
       "      <th>Subtype</th>\n",
       "    </tr>\n",
       "  </thead>\n",
       "  <tbody>\n",
       "    <tr>\n",
       "      <th>count</th>\n",
       "      <td>719.000000</td>\n",
       "      <td>719.000000</td>\n",
       "      <td>719.000000</td>\n",
       "      <td>719.000000</td>\n",
       "      <td>719.000000</td>\n",
       "      <td>719.000000</td>\n",
       "      <td>719.000000</td>\n",
       "      <td>719.000000</td>\n",
       "      <td>719.000000</td>\n",
       "      <td>719.000000</td>\n",
       "      <td>...</td>\n",
       "      <td>719.000000</td>\n",
       "      <td>719.000000</td>\n",
       "      <td>719.000000</td>\n",
       "      <td>719.000000</td>\n",
       "      <td>719.000000</td>\n",
       "      <td>719.000000</td>\n",
       "      <td>719.000000</td>\n",
       "      <td>719.000000</td>\n",
       "      <td>719.000000</td>\n",
       "      <td>719.000000</td>\n",
       "    </tr>\n",
       "    <tr>\n",
       "      <th>mean</th>\n",
       "      <td>11.303513</td>\n",
       "      <td>9.929650</td>\n",
       "      <td>6.406863</td>\n",
       "      <td>10.083518</td>\n",
       "      <td>6.030384</td>\n",
       "      <td>4.857694</td>\n",
       "      <td>8.419164</td>\n",
       "      <td>8.700577</td>\n",
       "      <td>8.671537</td>\n",
       "      <td>5.574269</td>\n",
       "      <td>...</td>\n",
       "      <td>7.013895</td>\n",
       "      <td>1.624020</td>\n",
       "      <td>2.547007</td>\n",
       "      <td>3.778401</td>\n",
       "      <td>5.387792</td>\n",
       "      <td>4.917655</td>\n",
       "      <td>3.395682</td>\n",
       "      <td>1.750965</td>\n",
       "      <td>1.589804</td>\n",
       "      <td>0.691238</td>\n",
       "    </tr>\n",
       "    <tr>\n",
       "      <th>std</th>\n",
       "      <td>0.759032</td>\n",
       "      <td>0.684615</td>\n",
       "      <td>1.545412</td>\n",
       "      <td>0.531206</td>\n",
       "      <td>0.826030</td>\n",
       "      <td>1.267236</td>\n",
       "      <td>0.527320</td>\n",
       "      <td>0.838418</td>\n",
       "      <td>0.591991</td>\n",
       "      <td>3.647527</td>\n",
       "      <td>...</td>\n",
       "      <td>0.876589</td>\n",
       "      <td>0.625010</td>\n",
       "      <td>1.070664</td>\n",
       "      <td>0.718832</td>\n",
       "      <td>0.967108</td>\n",
       "      <td>0.918023</td>\n",
       "      <td>0.974198</td>\n",
       "      <td>0.840097</td>\n",
       "      <td>0.709584</td>\n",
       "      <td>0.679438</td>\n",
       "    </tr>\n",
       "    <tr>\n",
       "      <th>min</th>\n",
       "      <td>7.676300</td>\n",
       "      <td>7.452300</td>\n",
       "      <td>0.000000</td>\n",
       "      <td>7.865900</td>\n",
       "      <td>3.361400</td>\n",
       "      <td>0.000000</td>\n",
       "      <td>6.268000</td>\n",
       "      <td>2.671400</td>\n",
       "      <td>6.889700</td>\n",
       "      <td>0.000000</td>\n",
       "      <td>...</td>\n",
       "      <td>4.139830</td>\n",
       "      <td>0.207500</td>\n",
       "      <td>0.279500</td>\n",
       "      <td>0.753800</td>\n",
       "      <td>2.584810</td>\n",
       "      <td>0.929298</td>\n",
       "      <td>0.821400</td>\n",
       "      <td>0.162700</td>\n",
       "      <td>0.163500</td>\n",
       "      <td>0.000000</td>\n",
       "    </tr>\n",
       "    <tr>\n",
       "      <th>25%</th>\n",
       "      <td>10.808650</td>\n",
       "      <td>9.437050</td>\n",
       "      <td>5.629750</td>\n",
       "      <td>9.895000</td>\n",
       "      <td>5.481400</td>\n",
       "      <td>4.074350</td>\n",
       "      <td>8.205100</td>\n",
       "      <td>8.123100</td>\n",
       "      <td>8.233850</td>\n",
       "      <td>2.781000</td>\n",
       "      <td>...</td>\n",
       "      <td>6.512973</td>\n",
       "      <td>1.177583</td>\n",
       "      <td>1.813721</td>\n",
       "      <td>3.311101</td>\n",
       "      <td>4.723367</td>\n",
       "      <td>4.448355</td>\n",
       "      <td>2.703913</td>\n",
       "      <td>1.137487</td>\n",
       "      <td>1.078166</td>\n",
       "      <td>0.000000</td>\n",
       "    </tr>\n",
       "    <tr>\n",
       "      <th>50%</th>\n",
       "      <td>11.354600</td>\n",
       "      <td>9.876500</td>\n",
       "      <td>6.635300</td>\n",
       "      <td>10.193700</td>\n",
       "      <td>5.991100</td>\n",
       "      <td>4.909500</td>\n",
       "      <td>8.485100</td>\n",
       "      <td>8.676900</td>\n",
       "      <td>8.683900</td>\n",
       "      <td>4.621300</td>\n",
       "      <td>...</td>\n",
       "      <td>7.133463</td>\n",
       "      <td>1.617372</td>\n",
       "      <td>2.433817</td>\n",
       "      <td>3.846314</td>\n",
       "      <td>5.425299</td>\n",
       "      <td>5.066575</td>\n",
       "      <td>3.308611</td>\n",
       "      <td>1.631790</td>\n",
       "      <td>1.536892</td>\n",
       "      <td>1.000000</td>\n",
       "    </tr>\n",
       "    <tr>\n",
       "      <th>75%</th>\n",
       "      <td>11.798050</td>\n",
       "      <td>10.395750</td>\n",
       "      <td>7.502600</td>\n",
       "      <td>10.423400</td>\n",
       "      <td>6.499000</td>\n",
       "      <td>5.817850</td>\n",
       "      <td>8.752500</td>\n",
       "      <td>9.274200</td>\n",
       "      <td>9.051450</td>\n",
       "      <td>8.144100</td>\n",
       "      <td>...</td>\n",
       "      <td>7.626978</td>\n",
       "      <td>2.057574</td>\n",
       "      <td>3.182690</td>\n",
       "      <td>4.323578</td>\n",
       "      <td>6.011979</td>\n",
       "      <td>5.523194</td>\n",
       "      <td>3.988153</td>\n",
       "      <td>2.247397</td>\n",
       "      <td>2.029877</td>\n",
       "      <td>1.000000</td>\n",
       "    </tr>\n",
       "    <tr>\n",
       "      <th>max</th>\n",
       "      <td>13.643200</td>\n",
       "      <td>12.364200</td>\n",
       "      <td>10.339600</td>\n",
       "      <td>11.216800</td>\n",
       "      <td>8.704400</td>\n",
       "      <td>7.956100</td>\n",
       "      <td>10.591200</td>\n",
       "      <td>10.854400</td>\n",
       "      <td>11.072200</td>\n",
       "      <td>14.266700</td>\n",
       "      <td>...</td>\n",
       "      <td>9.601243</td>\n",
       "      <td>3.653503</td>\n",
       "      <td>6.226002</td>\n",
       "      <td>5.826352</td>\n",
       "      <td>8.159555</td>\n",
       "      <td>7.337233</td>\n",
       "      <td>6.655354</td>\n",
       "      <td>4.485311</td>\n",
       "      <td>5.092007</td>\n",
       "      <td>2.000000</td>\n",
       "    </tr>\n",
       "  </tbody>\n",
       "</table>\n",
       "<p>8 rows × 573 columns</p>\n",
       "</div>"
      ],
      "text/plain": [
       "           RHBDD2         MPI      IL18R1        ARNT        PHF7    C6orf150  \\\n",
       "count  719.000000  719.000000  719.000000  719.000000  719.000000  719.000000   \n",
       "mean    11.303513    9.929650    6.406863   10.083518    6.030384    4.857694   \n",
       "std      0.759032    0.684615    1.545412    0.531206    0.826030    1.267236   \n",
       "min      7.676300    7.452300    0.000000    7.865900    3.361400    0.000000   \n",
       "25%     10.808650    9.437050    5.629750    9.895000    5.481400    4.074350   \n",
       "50%     11.354600    9.876500    6.635300   10.193700    5.991100    4.909500   \n",
       "75%     11.798050   10.395750    7.502600   10.423400    6.499000    5.817850   \n",
       "max     13.643200   12.364200   10.339600   11.216800    8.704400    7.956100   \n",
       "\n",
       "            TTC27       SPHK2    SLC25A26        PNCK  ...  MIMAT0004672  \\\n",
       "count  719.000000  719.000000  719.000000  719.000000  ...    719.000000   \n",
       "mean     8.419164    8.700577    8.671537    5.574269  ...      7.013895   \n",
       "std      0.527320    0.838418    0.591991    3.647527  ...      0.876589   \n",
       "min      6.268000    2.671400    6.889700    0.000000  ...      4.139830   \n",
       "25%      8.205100    8.123100    8.233850    2.781000  ...      6.512973   \n",
       "50%      8.485100    8.676900    8.683900    4.621300  ...      7.133463   \n",
       "75%      8.752500    9.274200    9.051450    8.144100  ...      7.626978   \n",
       "max     10.591200   10.854400   11.072200   14.266700  ...      9.601243   \n",
       "\n",
       "       MIMAT0025848  MIMAT0004589  MIMAT0004588  MIMAT0004585  MIMAT0004584  \\\n",
       "count    719.000000    719.000000    719.000000    719.000000    719.000000   \n",
       "mean       1.624020      2.547007      3.778401      5.387792      4.917655   \n",
       "std        0.625010      1.070664      0.718832      0.967108      0.918023   \n",
       "min        0.207500      0.279500      0.753800      2.584810      0.929298   \n",
       "25%        1.177583      1.813721      3.311101      4.723367      4.448355   \n",
       "50%        1.617372      2.433817      3.846314      5.425299      5.066575   \n",
       "75%        2.057574      3.182690      4.323578      6.011979      5.523194   \n",
       "max        3.653503      6.226002      5.826352      8.159555      7.337233   \n",
       "\n",
       "       MIMAT0004586  MIMAT0003298  MIMAT0017950     Subtype  \n",
       "count    719.000000    719.000000    719.000000  719.000000  \n",
       "mean       3.395682      1.750965      1.589804    0.691238  \n",
       "std        0.974198      0.840097      0.709584    0.679438  \n",
       "min        0.821400      0.162700      0.163500    0.000000  \n",
       "25%        2.703913      1.137487      1.078166    0.000000  \n",
       "50%        3.308611      1.631790      1.536892    1.000000  \n",
       "75%        3.988153      2.247397      2.029877    1.000000  \n",
       "max        6.655354      4.485311      5.092007    2.000000  \n",
       "\n",
       "[8 rows x 573 columns]"
      ]
     },
     "execution_count": 46,
     "metadata": {},
     "output_type": "execute_result"
    }
   ],
   "source": [
    "# check min max valus for understand the distribution\n",
    "df.describe()"
   ]
  },
  {
   "cell_type": "code",
   "execution_count": 47,
   "id": "e883e72b",
   "metadata": {},
   "outputs": [],
   "source": [
    "# temp set for store features which have more than 5 zero values\n",
    "tset=set()"
   ]
  },
  {
   "cell_type": "code",
   "execution_count": 48,
   "id": "7b65d3e7",
   "metadata": {},
   "outputs": [],
   "source": [
    "for column_name in df.columns:\n",
    "    column = df[column_name]\n",
    "    # Get the count of Zeros in column \n",
    "    count = (column == 0).sum()\n",
    "    if(count>5 and column_name!='Subtype'):\n",
    "        tset.add(column_name)"
   ]
  },
  {
   "cell_type": "code",
   "execution_count": 49,
   "id": "6206e123",
   "metadata": {},
   "outputs": [
    {
     "data": {
      "text/plain": [
       "11"
      ]
     },
     "execution_count": 49,
     "metadata": {},
     "output_type": "execute_result"
    }
   ],
   "source": [
    "len(tset)"
   ]
  },
  {
   "cell_type": "code",
   "execution_count": 50,
   "id": "f00d0083",
   "metadata": {},
   "outputs": [],
   "source": [
    "# drop more zero values containing features\n",
    "df=df.drop(tset,axis=1)"
   ]
  },
  {
   "cell_type": "markdown",
   "id": "eddc63eb",
   "metadata": {},
   "source": [
    "### 3. Feature Selection - Pearson correlation coefficient"
   ]
  },
  {
   "cell_type": "code",
   "execution_count": 51,
   "id": "01a392a0",
   "metadata": {},
   "outputs": [
    {
     "data": {
      "text/plain": [
       "(719, 562)"
      ]
     },
     "execution_count": 51,
     "metadata": {},
     "output_type": "execute_result"
    }
   ],
   "source": [
    "df.shape"
   ]
  },
  {
   "cell_type": "code",
   "execution_count": 52,
   "id": "6213b5a7",
   "metadata": {
    "scrolled": false
   },
   "outputs": [
    {
     "data": {
      "text/html": [
       "<div>\n",
       "<style scoped>\n",
       "    .dataframe tbody tr th:only-of-type {\n",
       "        vertical-align: middle;\n",
       "    }\n",
       "\n",
       "    .dataframe tbody tr th {\n",
       "        vertical-align: top;\n",
       "    }\n",
       "\n",
       "    .dataframe thead th {\n",
       "        text-align: right;\n",
       "    }\n",
       "</style>\n",
       "<table border=\"1\" class=\"dataframe\">\n",
       "  <thead>\n",
       "    <tr style=\"text-align: right;\">\n",
       "      <th></th>\n",
       "      <th>RHBDD2</th>\n",
       "      <th>MPI</th>\n",
       "      <th>IL18R1</th>\n",
       "      <th>ARNT</th>\n",
       "      <th>PHF7</th>\n",
       "      <th>C6orf150</th>\n",
       "      <th>TTC27</th>\n",
       "      <th>SPHK2</th>\n",
       "      <th>SLC25A26</th>\n",
       "      <th>ABTB2</th>\n",
       "      <th>...</th>\n",
       "      <th>MIMAT0004672</th>\n",
       "      <th>MIMAT0025848</th>\n",
       "      <th>MIMAT0004589</th>\n",
       "      <th>MIMAT0004588</th>\n",
       "      <th>MIMAT0004585</th>\n",
       "      <th>MIMAT0004584</th>\n",
       "      <th>MIMAT0004586</th>\n",
       "      <th>MIMAT0003298</th>\n",
       "      <th>MIMAT0017950</th>\n",
       "      <th>Subtype</th>\n",
       "    </tr>\n",
       "  </thead>\n",
       "  <tbody>\n",
       "    <tr>\n",
       "      <th>RHBDD2</th>\n",
       "      <td>1.000000</td>\n",
       "      <td>-0.313561</td>\n",
       "      <td>-0.381674</td>\n",
       "      <td>-0.414082</td>\n",
       "      <td>0.457613</td>\n",
       "      <td>-0.550983</td>\n",
       "      <td>-0.459739</td>\n",
       "      <td>0.561031</td>\n",
       "      <td>0.593353</td>\n",
       "      <td>0.418830</td>\n",
       "      <td>...</td>\n",
       "      <td>-0.082796</td>\n",
       "      <td>-0.291813</td>\n",
       "      <td>0.279432</td>\n",
       "      <td>-0.139883</td>\n",
       "      <td>-0.375300</td>\n",
       "      <td>0.032184</td>\n",
       "      <td>-0.137915</td>\n",
       "      <td>-0.266116</td>\n",
       "      <td>-0.152266</td>\n",
       "      <td>0.521815</td>\n",
       "    </tr>\n",
       "    <tr>\n",
       "      <th>MPI</th>\n",
       "      <td>-0.313561</td>\n",
       "      <td>1.000000</td>\n",
       "      <td>0.330266</td>\n",
       "      <td>0.202835</td>\n",
       "      <td>-0.337546</td>\n",
       "      <td>0.248556</td>\n",
       "      <td>0.298907</td>\n",
       "      <td>-0.193317</td>\n",
       "      <td>-0.335859</td>\n",
       "      <td>-0.409544</td>\n",
       "      <td>...</td>\n",
       "      <td>0.168849</td>\n",
       "      <td>0.389861</td>\n",
       "      <td>-0.255877</td>\n",
       "      <td>0.158554</td>\n",
       "      <td>0.342481</td>\n",
       "      <td>-0.024023</td>\n",
       "      <td>0.156126</td>\n",
       "      <td>0.285576</td>\n",
       "      <td>0.256459</td>\n",
       "      <td>-0.530426</td>\n",
       "    </tr>\n",
       "    <tr>\n",
       "      <th>IL18R1</th>\n",
       "      <td>-0.381674</td>\n",
       "      <td>0.330266</td>\n",
       "      <td>1.000000</td>\n",
       "      <td>0.468337</td>\n",
       "      <td>-0.593153</td>\n",
       "      <td>0.616802</td>\n",
       "      <td>0.522893</td>\n",
       "      <td>-0.495382</td>\n",
       "      <td>-0.532284</td>\n",
       "      <td>-0.483753</td>\n",
       "      <td>...</td>\n",
       "      <td>0.235325</td>\n",
       "      <td>0.255029</td>\n",
       "      <td>-0.605810</td>\n",
       "      <td>0.156353</td>\n",
       "      <td>0.250490</td>\n",
       "      <td>-0.247848</td>\n",
       "      <td>-0.004331</td>\n",
       "      <td>0.057388</td>\n",
       "      <td>0.294235</td>\n",
       "      <td>-0.578568</td>\n",
       "    </tr>\n",
       "    <tr>\n",
       "      <th>ARNT</th>\n",
       "      <td>-0.414082</td>\n",
       "      <td>0.202835</td>\n",
       "      <td>0.468337</td>\n",
       "      <td>1.000000</td>\n",
       "      <td>-0.517889</td>\n",
       "      <td>0.520001</td>\n",
       "      <td>0.586863</td>\n",
       "      <td>-0.300574</td>\n",
       "      <td>-0.463280</td>\n",
       "      <td>-0.408707</td>\n",
       "      <td>...</td>\n",
       "      <td>-0.106512</td>\n",
       "      <td>0.252230</td>\n",
       "      <td>-0.474690</td>\n",
       "      <td>0.279115</td>\n",
       "      <td>0.228916</td>\n",
       "      <td>-0.149190</td>\n",
       "      <td>-0.177984</td>\n",
       "      <td>-0.108902</td>\n",
       "      <td>0.205337</td>\n",
       "      <td>-0.578573</td>\n",
       "    </tr>\n",
       "    <tr>\n",
       "      <th>PHF7</th>\n",
       "      <td>0.457613</td>\n",
       "      <td>-0.337546</td>\n",
       "      <td>-0.593153</td>\n",
       "      <td>-0.517889</td>\n",
       "      <td>1.000000</td>\n",
       "      <td>-0.573538</td>\n",
       "      <td>-0.613042</td>\n",
       "      <td>0.465998</td>\n",
       "      <td>0.567899</td>\n",
       "      <td>0.455331</td>\n",
       "      <td>...</td>\n",
       "      <td>-0.180819</td>\n",
       "      <td>-0.324386</td>\n",
       "      <td>0.528415</td>\n",
       "      <td>-0.114458</td>\n",
       "      <td>-0.422519</td>\n",
       "      <td>0.168806</td>\n",
       "      <td>-0.041968</td>\n",
       "      <td>-0.145867</td>\n",
       "      <td>-0.301629</td>\n",
       "      <td>0.588954</td>\n",
       "    </tr>\n",
       "    <tr>\n",
       "      <th>...</th>\n",
       "      <td>...</td>\n",
       "      <td>...</td>\n",
       "      <td>...</td>\n",
       "      <td>...</td>\n",
       "      <td>...</td>\n",
       "      <td>...</td>\n",
       "      <td>...</td>\n",
       "      <td>...</td>\n",
       "      <td>...</td>\n",
       "      <td>...</td>\n",
       "      <td>...</td>\n",
       "      <td>...</td>\n",
       "      <td>...</td>\n",
       "      <td>...</td>\n",
       "      <td>...</td>\n",
       "      <td>...</td>\n",
       "      <td>...</td>\n",
       "      <td>...</td>\n",
       "      <td>...</td>\n",
       "      <td>...</td>\n",
       "      <td>...</td>\n",
       "    </tr>\n",
       "    <tr>\n",
       "      <th>MIMAT0004584</th>\n",
       "      <td>0.032184</td>\n",
       "      <td>-0.024023</td>\n",
       "      <td>-0.247848</td>\n",
       "      <td>-0.149190</td>\n",
       "      <td>0.168806</td>\n",
       "      <td>-0.070008</td>\n",
       "      <td>-0.157699</td>\n",
       "      <td>0.148942</td>\n",
       "      <td>0.094738</td>\n",
       "      <td>0.206829</td>\n",
       "      <td>...</td>\n",
       "      <td>0.239883</td>\n",
       "      <td>0.212848</td>\n",
       "      <td>0.380908</td>\n",
       "      <td>0.080668</td>\n",
       "      <td>0.438840</td>\n",
       "      <td>1.000000</td>\n",
       "      <td>0.301028</td>\n",
       "      <td>0.461062</td>\n",
       "      <td>-0.056825</td>\n",
       "      <td>0.166727</td>\n",
       "    </tr>\n",
       "    <tr>\n",
       "      <th>MIMAT0004586</th>\n",
       "      <td>-0.137915</td>\n",
       "      <td>0.156126</td>\n",
       "      <td>-0.004331</td>\n",
       "      <td>-0.177984</td>\n",
       "      <td>-0.041968</td>\n",
       "      <td>0.155344</td>\n",
       "      <td>-0.006110</td>\n",
       "      <td>-0.116167</td>\n",
       "      <td>-0.086711</td>\n",
       "      <td>-0.107259</td>\n",
       "      <td>...</td>\n",
       "      <td>0.534893</td>\n",
       "      <td>0.206019</td>\n",
       "      <td>0.054596</td>\n",
       "      <td>-0.063033</td>\n",
       "      <td>0.469119</td>\n",
       "      <td>0.301028</td>\n",
       "      <td>1.000000</td>\n",
       "      <td>0.422097</td>\n",
       "      <td>0.302732</td>\n",
       "      <td>0.064723</td>\n",
       "    </tr>\n",
       "    <tr>\n",
       "      <th>MIMAT0003298</th>\n",
       "      <td>-0.266116</td>\n",
       "      <td>0.285576</td>\n",
       "      <td>0.057388</td>\n",
       "      <td>-0.108902</td>\n",
       "      <td>-0.145867</td>\n",
       "      <td>0.259441</td>\n",
       "      <td>0.030710</td>\n",
       "      <td>-0.256961</td>\n",
       "      <td>-0.277492</td>\n",
       "      <td>-0.092701</td>\n",
       "      <td>...</td>\n",
       "      <td>0.373386</td>\n",
       "      <td>0.228539</td>\n",
       "      <td>0.098395</td>\n",
       "      <td>-0.043776</td>\n",
       "      <td>0.535604</td>\n",
       "      <td>0.461062</td>\n",
       "      <td>0.422097</td>\n",
       "      <td>1.000000</td>\n",
       "      <td>0.140916</td>\n",
       "      <td>-0.144934</td>\n",
       "    </tr>\n",
       "    <tr>\n",
       "      <th>MIMAT0017950</th>\n",
       "      <td>-0.152266</td>\n",
       "      <td>0.256459</td>\n",
       "      <td>0.294235</td>\n",
       "      <td>0.205337</td>\n",
       "      <td>-0.301629</td>\n",
       "      <td>0.265304</td>\n",
       "      <td>0.270086</td>\n",
       "      <td>-0.240935</td>\n",
       "      <td>-0.199133</td>\n",
       "      <td>-0.324966</td>\n",
       "      <td>...</td>\n",
       "      <td>0.275882</td>\n",
       "      <td>0.206333</td>\n",
       "      <td>-0.260147</td>\n",
       "      <td>0.140441</td>\n",
       "      <td>0.348700</td>\n",
       "      <td>-0.056825</td>\n",
       "      <td>0.302732</td>\n",
       "      <td>0.140916</td>\n",
       "      <td>1.000000</td>\n",
       "      <td>-0.239948</td>\n",
       "    </tr>\n",
       "    <tr>\n",
       "      <th>Subtype</th>\n",
       "      <td>0.521815</td>\n",
       "      <td>-0.530426</td>\n",
       "      <td>-0.578568</td>\n",
       "      <td>-0.578573</td>\n",
       "      <td>0.588954</td>\n",
       "      <td>-0.527755</td>\n",
       "      <td>-0.584029</td>\n",
       "      <td>0.498606</td>\n",
       "      <td>0.536529</td>\n",
       "      <td>0.550922</td>\n",
       "      <td>...</td>\n",
       "      <td>-0.048309</td>\n",
       "      <td>-0.424414</td>\n",
       "      <td>0.440961</td>\n",
       "      <td>-0.293400</td>\n",
       "      <td>-0.378357</td>\n",
       "      <td>0.166727</td>\n",
       "      <td>0.064723</td>\n",
       "      <td>-0.144934</td>\n",
       "      <td>-0.239948</td>\n",
       "      <td>1.000000</td>\n",
       "    </tr>\n",
       "  </tbody>\n",
       "</table>\n",
       "<p>562 rows × 562 columns</p>\n",
       "</div>"
      ],
      "text/plain": [
       "                RHBDD2       MPI    IL18R1      ARNT      PHF7  C6orf150  \\\n",
       "RHBDD2        1.000000 -0.313561 -0.381674 -0.414082  0.457613 -0.550983   \n",
       "MPI          -0.313561  1.000000  0.330266  0.202835 -0.337546  0.248556   \n",
       "IL18R1       -0.381674  0.330266  1.000000  0.468337 -0.593153  0.616802   \n",
       "ARNT         -0.414082  0.202835  0.468337  1.000000 -0.517889  0.520001   \n",
       "PHF7          0.457613 -0.337546 -0.593153 -0.517889  1.000000 -0.573538   \n",
       "...                ...       ...       ...       ...       ...       ...   \n",
       "MIMAT0004584  0.032184 -0.024023 -0.247848 -0.149190  0.168806 -0.070008   \n",
       "MIMAT0004586 -0.137915  0.156126 -0.004331 -0.177984 -0.041968  0.155344   \n",
       "MIMAT0003298 -0.266116  0.285576  0.057388 -0.108902 -0.145867  0.259441   \n",
       "MIMAT0017950 -0.152266  0.256459  0.294235  0.205337 -0.301629  0.265304   \n",
       "Subtype       0.521815 -0.530426 -0.578568 -0.578573  0.588954 -0.527755   \n",
       "\n",
       "                 TTC27     SPHK2  SLC25A26     ABTB2  ...  MIMAT0004672  \\\n",
       "RHBDD2       -0.459739  0.561031  0.593353  0.418830  ...     -0.082796   \n",
       "MPI           0.298907 -0.193317 -0.335859 -0.409544  ...      0.168849   \n",
       "IL18R1        0.522893 -0.495382 -0.532284 -0.483753  ...      0.235325   \n",
       "ARNT          0.586863 -0.300574 -0.463280 -0.408707  ...     -0.106512   \n",
       "PHF7         -0.613042  0.465998  0.567899  0.455331  ...     -0.180819   \n",
       "...                ...       ...       ...       ...  ...           ...   \n",
       "MIMAT0004584 -0.157699  0.148942  0.094738  0.206829  ...      0.239883   \n",
       "MIMAT0004586 -0.006110 -0.116167 -0.086711 -0.107259  ...      0.534893   \n",
       "MIMAT0003298  0.030710 -0.256961 -0.277492 -0.092701  ...      0.373386   \n",
       "MIMAT0017950  0.270086 -0.240935 -0.199133 -0.324966  ...      0.275882   \n",
       "Subtype      -0.584029  0.498606  0.536529  0.550922  ...     -0.048309   \n",
       "\n",
       "              MIMAT0025848  MIMAT0004589  MIMAT0004588  MIMAT0004585  \\\n",
       "RHBDD2           -0.291813      0.279432     -0.139883     -0.375300   \n",
       "MPI               0.389861     -0.255877      0.158554      0.342481   \n",
       "IL18R1            0.255029     -0.605810      0.156353      0.250490   \n",
       "ARNT              0.252230     -0.474690      0.279115      0.228916   \n",
       "PHF7             -0.324386      0.528415     -0.114458     -0.422519   \n",
       "...                    ...           ...           ...           ...   \n",
       "MIMAT0004584      0.212848      0.380908      0.080668      0.438840   \n",
       "MIMAT0004586      0.206019      0.054596     -0.063033      0.469119   \n",
       "MIMAT0003298      0.228539      0.098395     -0.043776      0.535604   \n",
       "MIMAT0017950      0.206333     -0.260147      0.140441      0.348700   \n",
       "Subtype          -0.424414      0.440961     -0.293400     -0.378357   \n",
       "\n",
       "              MIMAT0004584  MIMAT0004586  MIMAT0003298  MIMAT0017950   Subtype  \n",
       "RHBDD2            0.032184     -0.137915     -0.266116     -0.152266  0.521815  \n",
       "MPI              -0.024023      0.156126      0.285576      0.256459 -0.530426  \n",
       "IL18R1           -0.247848     -0.004331      0.057388      0.294235 -0.578568  \n",
       "ARNT             -0.149190     -0.177984     -0.108902      0.205337 -0.578573  \n",
       "PHF7              0.168806     -0.041968     -0.145867     -0.301629  0.588954  \n",
       "...                    ...           ...           ...           ...       ...  \n",
       "MIMAT0004584      1.000000      0.301028      0.461062     -0.056825  0.166727  \n",
       "MIMAT0004586      0.301028      1.000000      0.422097      0.302732  0.064723  \n",
       "MIMAT0003298      0.461062      0.422097      1.000000      0.140916 -0.144934  \n",
       "MIMAT0017950     -0.056825      0.302732      0.140916      1.000000 -0.239948  \n",
       "Subtype           0.166727      0.064723     -0.144934     -0.239948  1.000000  \n",
       "\n",
       "[562 rows x 562 columns]"
      ]
     },
     "execution_count": 52,
     "metadata": {},
     "output_type": "execute_result"
    }
   ],
   "source": [
    "#  use Pearson correlation coefficient to find the best features\n",
    "cor = df.corr(method='pearson')\n",
    "cor"
   ]
  },
  {
   "cell_type": "code",
   "execution_count": 53,
   "id": "2fa6434c",
   "metadata": {
    "scrolled": false
   },
   "outputs": [
    {
     "data": {
      "text/plain": [
       "MIMAT0004601  MIMAT0000435    0.898490\n",
       "MIMAT0000436  MIMAT0001631    0.892085\n",
       "MIMAT0000258  MIMAT0002821    0.890716\n",
       "MIMAT0004926  MIMAT0004927    0.887099\n",
       "MIMAT0000682  MIMAT0001620    0.882258\n",
       "MIMAT0000279  MIMAT0004569    0.880021\n",
       "MIMAT0000074  MIMAT0000073    0.877880\n",
       "MIMAT0003338  MIMAT0002888    0.877731\n",
       "MIMAT0004556  MIMAT0000254    0.874994\n",
       "MIMAT0000279  MIMAT0000278    0.874743\n",
       "MIMAT0000731  MIMAT0000732    0.872306\n",
       "MIMAT0004601  MIMAT0004599    0.870237\n",
       "MIMAT0000097  MIMAT0004603    0.864864\n",
       "MIMAT0001635  MIMAT0000281    0.860373\n",
       "MIMAT0004599  MIMAT0000444    0.858737\n",
       "MIMAT0001341  MIMAT0002874    0.858166\n",
       "MIMAT0001545  MIMAT0003389    0.857694\n",
       "MIMAT0000707  MIMAT0001413    0.852373\n",
       "MIMAT0000062  MIMAT0000067    0.846201\n",
       "MIMAT0004694  MIMAT0000753    0.844572\n",
       "MIMAT0000070  MIMAT0000075    0.838216\n",
       "MIMAT0017982  MIMAT0004809    0.837312\n",
       "MIMAT0000278  MIMAT0004569    0.836136\n",
       "MIMAT0004599  MIMAT0000435    0.831813\n",
       "MIMAT0000731  MIMAT0016847    0.831598\n",
       "MIMAT0000064  MIMAT0000097    0.830466\n",
       "MIMAT0000732  MIMAT0016847    0.824008\n",
       "MIMAT0000103  MIMAT0001413    0.816747\n",
       "MIMAT0004775  MIMAT0002888    0.816082\n",
       "MIMAT0004494  MIMAT0000076    0.815922\n",
       "MIMAT0001341  MIMAT0001545    0.814839\n",
       "MIMAT0000456  MIMAT0000227    0.809983\n",
       "MIMAT0000753  MIMAT0000646    0.806727\n",
       "MIMAT0004775  MIMAT0004773    0.805333\n",
       "MIMAT0004773  MIMAT0002872    0.804297\n",
       "MIMAT0004775  MIMAT0004780    0.803727\n",
       "dtype: float64"
      ]
     },
     "execution_count": 53,
     "metadata": {},
     "output_type": "execute_result"
    }
   ],
   "source": [
    "c1 = cor.stack().sort_values(ascending=False).drop_duplicates()\n",
    "high_cor = c1[c1.values!=1]    \n",
    "high_cor[high_cor>0.8]"
   ]
  },
  {
   "cell_type": "code",
   "execution_count": 54,
   "id": "41b041e2",
   "metadata": {},
   "outputs": [],
   "source": [
    "# MultiIndex into temp file\n",
    "temp= high_cor[high_cor>0.8].index"
   ]
  },
  {
   "cell_type": "code",
   "execution_count": 55,
   "id": "1009729c",
   "metadata": {},
   "outputs": [],
   "source": [
    "# temp set for store features which are high correlated\n",
    "tset=set()"
   ]
  },
  {
   "cell_type": "code",
   "execution_count": 56,
   "id": "13c4dd21",
   "metadata": {},
   "outputs": [],
   "source": [
    "for i in range(temp.size):\n",
    "    tset.add(temp[i][0])"
   ]
  },
  {
   "cell_type": "code",
   "execution_count": 57,
   "id": "af3c5947",
   "metadata": {},
   "outputs": [
    {
     "data": {
      "text/plain": [
       "29"
      ]
     },
     "execution_count": 57,
     "metadata": {},
     "output_type": "execute_result"
    }
   ],
   "source": [
    "len(tset)"
   ]
  },
  {
   "cell_type": "code",
   "execution_count": 58,
   "id": "ae210f6e",
   "metadata": {},
   "outputs": [
    {
     "data": {
      "text/plain": [
       "{'MIMAT0000062',\n",
       " 'MIMAT0000064',\n",
       " 'MIMAT0000070',\n",
       " 'MIMAT0000074',\n",
       " 'MIMAT0000097',\n",
       " 'MIMAT0000103',\n",
       " 'MIMAT0000258',\n",
       " 'MIMAT0000278',\n",
       " 'MIMAT0000279',\n",
       " 'MIMAT0000436',\n",
       " 'MIMAT0000456',\n",
       " 'MIMAT0000682',\n",
       " 'MIMAT0000707',\n",
       " 'MIMAT0000731',\n",
       " 'MIMAT0000732',\n",
       " 'MIMAT0000753',\n",
       " 'MIMAT0001341',\n",
       " 'MIMAT0001545',\n",
       " 'MIMAT0001635',\n",
       " 'MIMAT0003338',\n",
       " 'MIMAT0004494',\n",
       " 'MIMAT0004556',\n",
       " 'MIMAT0004599',\n",
       " 'MIMAT0004601',\n",
       " 'MIMAT0004694',\n",
       " 'MIMAT0004773',\n",
       " 'MIMAT0004775',\n",
       " 'MIMAT0004926',\n",
       " 'MIMAT0017982'}"
      ]
     },
     "execution_count": 58,
     "metadata": {},
     "output_type": "execute_result"
    }
   ],
   "source": [
    "tset"
   ]
  },
  {
   "cell_type": "code",
   "execution_count": 59,
   "id": "9e40c195",
   "metadata": {},
   "outputs": [],
   "source": [
    "# drop high correlated features  \n",
    "df= df.drop(tset,axis=1)"
   ]
  },
  {
   "cell_type": "code",
   "execution_count": 60,
   "id": "d0f623c1",
   "metadata": {},
   "outputs": [
    {
     "data": {
      "text/plain": [
       "(719, 533)"
      ]
     },
     "execution_count": 60,
     "metadata": {},
     "output_type": "execute_result"
    }
   ],
   "source": [
    "df.shape"
   ]
  },
  {
   "cell_type": "code",
   "execution_count": 61,
   "id": "68a81285",
   "metadata": {},
   "outputs": [],
   "source": [
    "cor = df.corr(method='pearson')"
   ]
  },
  {
   "cell_type": "code",
   "execution_count": 62,
   "id": "2e153133",
   "metadata": {},
   "outputs": [
    {
     "data": {
      "text/plain": [
       "RHBDD2          0.521815\n",
       "MPI             0.530426\n",
       "IL18R1          0.578568\n",
       "ARNT            0.578573\n",
       "PHF7            0.588954\n",
       "                  ...   \n",
       "MIMAT0004584    0.166727\n",
       "MIMAT0004586    0.064723\n",
       "MIMAT0003298    0.144934\n",
       "MIMAT0017950    0.239948\n",
       "Subtype         1.000000\n",
       "Name: Subtype, Length: 533, dtype: float64"
      ]
     },
     "execution_count": 62,
     "metadata": {},
     "output_type": "execute_result"
    }
   ],
   "source": [
    "#correlation of variables with the target variable\n",
    "cor_target = abs(cor[\"Subtype\"])\n",
    "cor_target"
   ]
  },
  {
   "cell_type": "code",
   "execution_count": 63,
   "id": "51f580b9",
   "metadata": {
    "scrolled": false
   },
   "outputs": [
    {
     "data": {
      "text/plain": [
       "SCAMP4     0.600280\n",
       "SSR1       0.601012\n",
       "WDFY1      0.601075\n",
       "LPCAT1     0.601283\n",
       "COQ10A     0.601313\n",
       "             ...   \n",
       "FAM155B    0.680464\n",
       "MAEA       0.685783\n",
       "PLEKHA2    0.697017\n",
       "CDK19      0.702017\n",
       "BNIP3L     0.722590\n",
       "Name: Subtype, Length: 100, dtype: float64"
      ]
     },
     "execution_count": 63,
     "metadata": {},
     "output_type": "execute_result"
    }
   ],
   "source": [
    "#first 100 features with high correlation\n",
    "high_cor_100=cor_target.iloc[cor_target.argsort()[-101:-1]]\n",
    "high_cor_100"
   ]
  },
  {
   "cell_type": "code",
   "execution_count": 64,
   "id": "6437fb13",
   "metadata": {
    "scrolled": true
   },
   "outputs": [
    {
     "data": {
      "text/plain": [
       "(719, 100)"
      ]
     },
     "execution_count": 64,
     "metadata": {},
     "output_type": "execute_result"
    }
   ],
   "source": [
    "# select 100 features\n",
    "selected_100_x = df[high_cor_100.index]\n",
    "selected_100_x.shape"
   ]
  },
  {
   "cell_type": "code",
   "execution_count": 65,
   "id": "bdbb2664",
   "metadata": {},
   "outputs": [
    {
     "data": {
      "text/plain": [
       "(719, 50)"
      ]
     },
     "execution_count": 65,
     "metadata": {},
     "output_type": "execute_result"
    }
   ],
   "source": [
    "#first 50 features with high correlation\n",
    "high_cor_50=cor_target.iloc[cor_target.argsort()[-51:-1]]\n",
    "\n",
    "# select 50 features\n",
    "selected_50_x = df[high_cor_50.index]\n",
    "selected_50_x.shape"
   ]
  },
  {
   "cell_type": "code",
   "execution_count": 66,
   "id": "c93e25fa",
   "metadata": {},
   "outputs": [
    {
     "data": {
      "text/plain": [
       "(719, 20)"
      ]
     },
     "execution_count": 66,
     "metadata": {},
     "output_type": "execute_result"
    }
   ],
   "source": [
    "#first 20 features with high correlation\n",
    "high_cor_20=cor_target.iloc[cor_target.argsort()[-21:-1]]\n",
    "\n",
    "# select 20 features\n",
    "selected_20_x = df[high_cor_20.index]\n",
    "selected_20_x.shape"
   ]
  },
  {
   "cell_type": "markdown",
   "id": "474e8fcd",
   "metadata": {},
   "source": [
    "### 4.Dataset balancing"
   ]
  },
  {
   "cell_type": "code",
   "execution_count": 67,
   "id": "a5e6c487",
   "metadata": {
    "scrolled": true
   },
   "outputs": [
    {
     "data": {
      "text/plain": [
       "Subtype\n",
       "1.0    319\n",
       "0.0    311\n",
       "2.0     89\n",
       "Name: count, dtype: int64"
      ]
     },
     "execution_count": 67,
     "metadata": {},
     "output_type": "execute_result"
    }
   ],
   "source": [
    "df['Subtype'].value_counts()"
   ]
  },
  {
   "cell_type": "markdown",
   "id": "16d5f474",
   "metadata": {},
   "source": [
    "- Dataset is unbalance"
   ]
  },
  {
   "cell_type": "markdown",
   "id": "d5d354dc",
   "metadata": {},
   "source": [
    "#### Oversampling amd undersampling"
   ]
  },
  {
   "cell_type": "code",
   "execution_count": 99,
   "id": "cdce4e91",
   "metadata": {},
   "outputs": [],
   "source": [
    "from imblearn.under_sampling import RandomUnderSampler\n",
    "from imblearn.over_sampling import RandomOverSampler\n",
    "\n",
    "# Resampling the minority class.\n",
    "ros = RandomOverSampler(sampling_strategy={2: 130}, random_state=42)\n",
    "\n",
    "# Resampling the majority classes.\n",
    "rus = RandomUnderSampler(sampling_strategy={0: 130,1:130}, random_state=42)"
   ]
  },
  {
   "cell_type": "code",
   "execution_count": 100,
   "id": "6dfacef2",
   "metadata": {},
   "outputs": [],
   "source": [
    "Y=df['Subtype']"
   ]
  },
  {
   "cell_type": "code",
   "execution_count": 101,
   "id": "a59fd50d",
   "metadata": {},
   "outputs": [],
   "source": [
    "x=df.drop(['Subtype'], axis=1)"
   ]
  },
  {
   "cell_type": "code",
   "execution_count": 102,
   "id": "fc1158c8",
   "metadata": {},
   "outputs": [],
   "source": [
    "# Fit the model to generate the data with all features dataset\n",
    "oversampled_X, oversampled_Y = ros.fit_resample(x, Y)\n",
    "sampled_X, sampled_Y = rus.fit_resample(oversampled_X, oversampled_Y)"
   ]
  },
  {
   "cell_type": "code",
   "execution_count": 103,
   "id": "86689919",
   "metadata": {},
   "outputs": [],
   "source": [
    "# Fit the model to generate the data with 100 features dataset\n",
    "oversampled_X_100, oversampled_Y = ros.fit_resample(selected_100_x, Y)\n",
    "sampled_X_100, sampled_Y = rus.fit_resample(oversampled_X_100, oversampled_Y)"
   ]
  },
  {
   "cell_type": "code",
   "execution_count": 104,
   "id": "3fa40bf3",
   "metadata": {},
   "outputs": [],
   "source": [
    "# Fit the model to generate the data with 50 features dataset\n",
    "oversampled_X_50, oversampled_Y = ros.fit_resample(selected_50_x, Y)\n",
    "sampled_X_50, sampled_Y = rus.fit_resample(oversampled_X_50, oversampled_Y)"
   ]
  },
  {
   "cell_type": "code",
   "execution_count": 105,
   "id": "a6d6dd9f",
   "metadata": {},
   "outputs": [],
   "source": [
    "# Fit the model to generate the data with 20 features dataset\n",
    "oversampled_X_20, oversampled_Y = ros.fit_resample(selected_20_x, Y)\n",
    "sampled_X_20, sampled_Y = rus.fit_resample(oversampled_X_20, oversampled_Y)"
   ]
  },
  {
   "cell_type": "code",
   "execution_count": 106,
   "id": "ab9ec62a",
   "metadata": {},
   "outputs": [
    {
     "data": {
      "text/plain": [
       "Subtype\n",
       "0.0    130\n",
       "1.0    130\n",
       "2.0    130\n",
       "Name: count, dtype: int64"
      ]
     },
     "execution_count": 106,
     "metadata": {},
     "output_type": "execute_result"
    }
   ],
   "source": [
    "sampled_Y.value_counts()"
   ]
  },
  {
   "cell_type": "markdown",
   "id": "3fd59a36",
   "metadata": {},
   "source": [
    "- balanced dataset"
   ]
  },
  {
   "cell_type": "markdown",
   "id": "f97636b0",
   "metadata": {},
   "source": [
    "### 5. Feature Scaling"
   ]
  },
  {
   "cell_type": "code",
   "execution_count": 107,
   "id": "5b8d859f",
   "metadata": {
    "scrolled": true
   },
   "outputs": [
    {
     "data": {
      "text/plain": [
       "RHBDD2          8.169400\n",
       "MPI             7.452300\n",
       "IL18R1          0.000000\n",
       "ARNT            7.865900\n",
       "PHF7            3.361400\n",
       "                  ...   \n",
       "MIMAT0004585    2.793139\n",
       "MIMAT0004584    0.929298\n",
       "MIMAT0004586    0.821400\n",
       "MIMAT0003298    0.228743\n",
       "MIMAT0017950    0.191000\n",
       "Length: 532, dtype: float64"
      ]
     },
     "execution_count": 107,
     "metadata": {},
     "output_type": "execute_result"
    }
   ],
   "source": [
    "sampled_X.min(axis=0)"
   ]
  },
  {
   "cell_type": "code",
   "execution_count": 108,
   "id": "da3c0520",
   "metadata": {
    "scrolled": true
   },
   "outputs": [
    {
     "data": {
      "text/plain": [
       "RHBDD2          13.643200\n",
       "MPI             12.364200\n",
       "IL18R1          10.339600\n",
       "ARNT            11.186300\n",
       "PHF7             8.704400\n",
       "                  ...    \n",
       "MIMAT0004585     8.085410\n",
       "MIMAT0004584     6.916900\n",
       "MIMAT0004586     6.655354\n",
       "MIMAT0003298     4.432202\n",
       "MIMAT0017950     5.092007\n",
       "Length: 532, dtype: float64"
      ]
     },
     "execution_count": 108,
     "metadata": {},
     "output_type": "execute_result"
    }
   ],
   "source": [
    "sampled_X.max(axis=0)"
   ]
  },
  {
   "cell_type": "markdown",
   "id": "438106ba",
   "metadata": {},
   "source": [
    "## Test SVM model"
   ]
  },
  {
   "cell_type": "code",
   "execution_count": 109,
   "id": "abab92ff",
   "metadata": {},
   "outputs": [],
   "source": [
    "from sklearn import svm\n",
    "from sklearn.model_selection import cross_val_score"
   ]
  },
  {
   "cell_type": "markdown",
   "id": "08606e6d",
   "metadata": {},
   "source": [
    "#### Check the kernels in SVM "
   ]
  },
  {
   "cell_type": "code",
   "execution_count": 110,
   "id": "6f592f99",
   "metadata": {
    "scrolled": true
   },
   "outputs": [
    {
     "name": "stdout",
     "output_type": "stream",
     "text": [
      "Accuracy SVM with rbf kernel: 0.95 (+/- 0.03)\n"
     ]
    }
   ],
   "source": [
    "acc = cross_val_score(svm.SVC(random_state=0), sampled_X, sampled_Y, cv=5)\n",
    "print(\"Accuracy SVM with rbf kernel: %0.2f (+/- %0.2f)\" % (acc.mean(), acc.std() * 2))"
   ]
  },
  {
   "cell_type": "code",
   "execution_count": 111,
   "id": "d0655027",
   "metadata": {},
   "outputs": [
    {
     "name": "stdout",
     "output_type": "stream",
     "text": [
      "Accuracy SVM with poly kernel: 0.98 (+/- 0.03)\n"
     ]
    }
   ],
   "source": [
    "acc = cross_val_score(svm.SVC(kernel='poly',random_state=0), sampled_X, sampled_Y, cv=5)\n",
    "print(\"Accuracy SVM with poly kernel: %0.2f (+/- %0.2f)\" % (acc.mean(), acc.std() * 2))"
   ]
  },
  {
   "cell_type": "code",
   "execution_count": 112,
   "id": "d374c201",
   "metadata": {},
   "outputs": [
    {
     "name": "stdout",
     "output_type": "stream",
     "text": [
      "Accuracy SVM with linear kernel: 0.98 (+/- 0.03)\n"
     ]
    }
   ],
   "source": [
    "acc = cross_val_score(svm.SVC(kernel='linear',random_state=0), sampled_X, sampled_Y, cv=5)\n",
    "print(\"Accuracy SVM with linear kernel: %0.2f (+/- %0.2f)\" % (acc.mean(), acc.std() * 2))"
   ]
  },
  {
   "cell_type": "code",
   "execution_count": 113,
   "id": "1e7fb679",
   "metadata": {},
   "outputs": [
    {
     "name": "stdout",
     "output_type": "stream",
     "text": [
      "Accuracy SVM with sigmoid kernel: 0.61 (+/- 0.07)\n"
     ]
    }
   ],
   "source": [
    "acc = cross_val_score(svm.SVC(kernel='sigmoid',random_state=0), sampled_X, sampled_Y, cv=5)\n",
    "print(\"Accuracy SVM with sigmoid kernel: %0.2f (+/- %0.2f)\" % (acc.mean(), acc.std() * 2))"
   ]
  },
  {
   "cell_type": "markdown",
   "id": "0b372943",
   "metadata": {},
   "source": [
    "- poli, linear performed well"
   ]
  },
  {
   "cell_type": "markdown",
   "id": "7bcc6963",
   "metadata": {},
   "source": [
    "#### Check the feature scaling method to SVM"
   ]
  },
  {
   "cell_type": "code",
   "execution_count": 114,
   "id": "7c25dbb3",
   "metadata": {},
   "outputs": [],
   "source": [
    "svc=svm.SVC(kernel='poly', random_state=0)"
   ]
  },
  {
   "cell_type": "code",
   "execution_count": 115,
   "id": "8eb9c5d4",
   "metadata": {},
   "outputs": [
    {
     "name": "stdout",
     "output_type": "stream",
     "text": [
      "Accuracy SVM (poly) without transformation: 0.98 (+/- 0.03)\n"
     ]
    }
   ],
   "source": [
    "acc = cross_val_score(svc, sampled_X, sampled_Y, cv=5)\n",
    "print(\"Accuracy SVM (poly) without transformation: %0.2f (+/- %0.2f)\" % (acc.mean(), acc.std() * 2))"
   ]
  },
  {
   "cell_type": "code",
   "execution_count": 116,
   "id": "4ac050e3",
   "metadata": {},
   "outputs": [],
   "source": [
    "from sklearn.pipeline import Pipeline\n",
    "from sklearn.preprocessing import StandardScaler\n",
    "from sklearn import preprocessing"
   ]
  },
  {
   "cell_type": "code",
   "execution_count": 117,
   "id": "394df196",
   "metadata": {},
   "outputs": [
    {
     "name": "stdout",
     "output_type": "stream",
     "text": [
      "Accuracy SVM (poly) with Standardization: 0.82 (+/- 0.10)\n"
     ]
    }
   ],
   "source": [
    "# create pipeline -> Standardization\n",
    "pipeline = Pipeline(steps=[('scaler', StandardScaler()),\n",
    "                   ('model',svc)])\n",
    "\n",
    "# perform cross validation\n",
    "acc = cross_val_score(estimator=pipeline, \n",
    "                         X=sampled_X, \n",
    "                         y=sampled_Y, \n",
    "                         cv=5\n",
    "                        )\n",
    "\n",
    "print(\"Accuracy SVM (poly) with Standardization: %0.2f (+/- %0.2f)\" % (acc.mean(), acc.std() * 2))"
   ]
  },
  {
   "cell_type": "code",
   "execution_count": 118,
   "id": "991d4b4f",
   "metadata": {},
   "outputs": [
    {
     "name": "stdout",
     "output_type": "stream",
     "text": [
      "Accuracy SVM (poly) with Normalizaton: 0.98 (+/- 0.03)\n"
     ]
    }
   ],
   "source": [
    "# create pipeline - > Normalizaton\n",
    "pipeline = Pipeline(steps=[('scaler', preprocessing.MinMaxScaler()),\n",
    "                   ('model', svc)])\n",
    "\n",
    "# perform cross validation\n",
    "acc = cross_val_score(estimator=pipeline, \n",
    "                         X=sampled_X, \n",
    "                         y=sampled_Y, \n",
    "                         cv=5\n",
    "                        )\n",
    "\n",
    "print(\"Accuracy SVM (poly) with Normalizaton: %0.2f (+/- %0.2f)\" % (acc.mean(), acc.std() * 2))"
   ]
  },
  {
   "cell_type": "markdown",
   "id": "ddca5d03",
   "metadata": {},
   "source": [
    "- For poly kernel no transformation need"
   ]
  },
  {
   "cell_type": "code",
   "execution_count": 119,
   "id": "f5f9c7b9",
   "metadata": {},
   "outputs": [],
   "source": [
    "svc=svm.SVC(kernel='linear', random_state=0)"
   ]
  },
  {
   "cell_type": "code",
   "execution_count": 162,
   "id": "3f436256",
   "metadata": {},
   "outputs": [
    {
     "name": "stdout",
     "output_type": "stream",
     "text": [
      "Accuracy SVM (linear) without transformation: 0.98 (+/- 0.03)\n"
     ]
    }
   ],
   "source": [
    "acc = cross_val_score(svc, sampled_X, sampled_Y, cv=5)\n",
    "print(\"Accuracy SVM (linear) without transformation: %0.2f (+/- %0.2f)\" % (acc.mean(), acc.std() * 2))"
   ]
  },
  {
   "cell_type": "code",
   "execution_count": 163,
   "id": "4adff11d",
   "metadata": {},
   "outputs": [
    {
     "name": "stdout",
     "output_type": "stream",
     "text": [
      "Accuracy SVM (linear) with Standardization: 0.98 (+/- 0.03)\n"
     ]
    }
   ],
   "source": [
    "# create pipeline -> Standardization\n",
    "pipeline = Pipeline(steps=[('scaler', StandardScaler()),\n",
    "                   ('model',svc)])\n",
    "\n",
    "# perform cross validation\n",
    "acc = cross_val_score(estimator=pipeline, \n",
    "                         X=sampled_X, \n",
    "                         y=sampled_Y, \n",
    "                         cv=5\n",
    "                        )\n",
    "\n",
    "print(\"Accuracy SVM (linear) with Standardization: %0.2f (+/- %0.2f)\" % (acc.mean(), acc.std() * 2))"
   ]
  },
  {
   "cell_type": "code",
   "execution_count": 123,
   "id": "474ef31f",
   "metadata": {},
   "outputs": [
    {
     "name": "stdout",
     "output_type": "stream",
     "text": [
      "Accuracy SVM (linear) with Normalizaton: 0.98 (+/- 0.03)\n"
     ]
    }
   ],
   "source": [
    "# create pipeline - > Normalizaton\n",
    "pipeline = Pipeline(steps=[('scaler', preprocessing.MinMaxScaler()),\n",
    "                   ('model', svc)])\n",
    "\n",
    "# perform cross validation\n",
    "acc = cross_val_score(estimator=pipeline, \n",
    "                         X=sampled_X, \n",
    "                         y=sampled_Y, \n",
    "                         cv=5\n",
    "                        )\n",
    "\n",
    "print(\"Accuracy SVM (linear) with Normalizaton: %0.2f (+/- %0.2f)\" % (acc.mean(), acc.std() * 2))"
   ]
  },
  {
   "cell_type": "markdown",
   "id": "fd92afdf",
   "metadata": {},
   "source": [
    "- For linear no transformation need"
   ]
  },
  {
   "cell_type": "markdown",
   "id": "3eae4ba5",
   "metadata": {},
   "source": [
    "considering linear and poly, linear can be choose as it shows better accuracy with all transformations"
   ]
  },
  {
   "cell_type": "markdown",
   "id": "c688721d",
   "metadata": {},
   "source": [
    "#### Feaure scaling with stadardization and evaluation"
   ]
  },
  {
   "cell_type": "code",
   "execution_count": 124,
   "id": "26ecff99",
   "metadata": {},
   "outputs": [],
   "source": [
    "svc=svm.SVC(kernel='linear', random_state=0)"
   ]
  },
  {
   "cell_type": "code",
   "execution_count": 125,
   "id": "7d237c02",
   "metadata": {},
   "outputs": [
    {
     "name": "stdout",
     "output_type": "stream",
     "text": [
      "Accuracy SVM using best 20 features: 0.89 (+/- 0.05)\n"
     ]
    }
   ],
   "source": [
    "# perform cross validation -> best 20 features \n",
    "acc = cross_val_score(svc, sampled_X_20, sampled_Y, cv=5)\n",
    "print(\"Accuracy SVM using best 20 features: %0.2f (+/- %0.2f)\" % (acc.mean(), acc.std() * 2))"
   ]
  },
  {
   "cell_type": "code",
   "execution_count": 126,
   "id": "f3e721ed",
   "metadata": {},
   "outputs": [
    {
     "name": "stdout",
     "output_type": "stream",
     "text": [
      "Accuracy SVM using best 50 features: 0.92 (+/- 0.06)\n"
     ]
    }
   ],
   "source": [
    "# perform cross validation -> best 50 features \n",
    "acc = cross_val_score(svc, sampled_X_50, sampled_Y, cv=5)\n",
    "print(\"Accuracy SVM using best 50 features: %0.2f (+/- %0.2f)\" % (acc.mean(), acc.std() * 2))"
   ]
  },
  {
   "cell_type": "code",
   "execution_count": 127,
   "id": "69c59821",
   "metadata": {},
   "outputs": [
    {
     "name": "stdout",
     "output_type": "stream",
     "text": [
      "Accuracy SVM using best 100 features: 0.94 (+/- 0.04)\n"
     ]
    }
   ],
   "source": [
    "# perform cross validation -> best 100 features \n",
    "acc = cross_val_score(svc, sampled_X_100, sampled_Y, cv=5)\n",
    "print(\"Accuracy SVM using best 100 features: %0.2f (+/- %0.2f)\" % (acc.mean(), acc.std() * 2))"
   ]
  },
  {
   "cell_type": "markdown",
   "id": "1f78cabc",
   "metadata": {},
   "source": [
    "#### Select best 120 features, data balancing, splitting, scalling and evaluating"
   ]
  },
  {
   "cell_type": "code",
   "execution_count": 128,
   "id": "268c93c0",
   "metadata": {},
   "outputs": [
    {
     "data": {
      "text/plain": [
       "(719, 120)"
      ]
     },
     "execution_count": 128,
     "metadata": {},
     "output_type": "execute_result"
    }
   ],
   "source": [
    "#first 120 atures with high correlation\n",
    "high_cor_120=cor_target.iloc[cor_target.argsort()[-121:-1]]\n",
    "\n",
    "# select 120 features\n",
    "selected_120_x = df[high_cor_120.index]\n",
    "selected_120_x.shape"
   ]
  },
  {
   "cell_type": "code",
   "execution_count": 129,
   "id": "43f9a72c",
   "metadata": {},
   "outputs": [],
   "source": [
    "# Fit the model to generate the data with 120 features dataset\n",
    "oversampled_X_120, oversampled_Y = ros.fit_resample(selected_120_x, Y)\n",
    "sampled_X_120, sampled_Y = rus.fit_resample(oversampled_X_120, oversampled_Y)"
   ]
  },
  {
   "cell_type": "code",
   "execution_count": 130,
   "id": "5383a84d",
   "metadata": {},
   "outputs": [
    {
     "name": "stdout",
     "output_type": "stream",
     "text": [
      "Accuracy SVM using best 120 features: 0.95 (+/- 0.05)\n"
     ]
    }
   ],
   "source": [
    "# perform cross validation -> best 120 features \n",
    "acc = cross_val_score(svc, sampled_X_120, sampled_Y, cv=5)\n",
    "print(\"Accuracy SVM using best 120 features: %0.2f (+/- %0.2f)\" % (acc.mean(), acc.std() * 2))"
   ]
  },
  {
   "cell_type": "markdown",
   "id": "e483370f",
   "metadata": {},
   "source": [
    "#### Select best 140 features, data balancing, splitting, scalling and evaluating"
   ]
  },
  {
   "cell_type": "code",
   "execution_count": 131,
   "id": "615dbe35",
   "metadata": {},
   "outputs": [
    {
     "data": {
      "text/plain": [
       "(719, 140)"
      ]
     },
     "execution_count": 131,
     "metadata": {},
     "output_type": "execute_result"
    }
   ],
   "source": [
    "#first 140 atures with high correlation\n",
    "high_cor_140=cor_target.iloc[cor_target.argsort()[-141:-1]]\n",
    "\n",
    "# select 140 features\n",
    "selected_140_x = df[high_cor_140.index]\n",
    "selected_140_x.shape"
   ]
  },
  {
   "cell_type": "code",
   "execution_count": 132,
   "id": "d4869a22",
   "metadata": {},
   "outputs": [],
   "source": [
    "# Fit the model to generate the data with 140 features dataset\n",
    "oversampled_X_140, oversampled_Y = ros.fit_resample(selected_140_x, Y)\n",
    "sampled_X_140, sampled_Y = rus.fit_resample(oversampled_X_140, oversampled_Y)"
   ]
  },
  {
   "cell_type": "code",
   "execution_count": 133,
   "id": "a4ed3c9e",
   "metadata": {},
   "outputs": [
    {
     "name": "stdout",
     "output_type": "stream",
     "text": [
      "Accuracy SVM using best 140 features: 0.95 (+/- 0.05)\n"
     ]
    }
   ],
   "source": [
    "# perform cross validation -> best 140 features \n",
    "acc = cross_val_score(svc, sampled_X_140, sampled_Y, cv=5)\n",
    "print(\"Accuracy SVM using best 140 features: %0.2f (+/- %0.2f)\" % (acc.mean(), acc.std() * 2))"
   ]
  },
  {
   "cell_type": "markdown",
   "id": "07bbaf06",
   "metadata": {},
   "source": [
    "#### Select best 150 features, data balancing, splitting, training and evaluating"
   ]
  },
  {
   "cell_type": "code",
   "execution_count": 134,
   "id": "3dc84c17",
   "metadata": {},
   "outputs": [
    {
     "data": {
      "text/plain": [
       "(719, 150)"
      ]
     },
     "execution_count": 134,
     "metadata": {},
     "output_type": "execute_result"
    }
   ],
   "source": [
    "#first 150 atures with high correlation\n",
    "high_cor_150=cor_target.iloc[cor_target.argsort()[-151:-1]]\n",
    "\n",
    "# select 150 features\n",
    "selected_150_x = df[high_cor_150.index]\n",
    "selected_150_x.shape"
   ]
  },
  {
   "cell_type": "code",
   "execution_count": 135,
   "id": "9bceff2d",
   "metadata": {},
   "outputs": [],
   "source": [
    "# Fit the model to generate the data with 150 features dataset\n",
    "oversampled_X_150, oversampled_Y = ros.fit_resample(selected_150_x, Y)\n",
    "sampled_X_150, sampled_Y = rus.fit_resample(oversampled_X_150, oversampled_Y)"
   ]
  },
  {
   "cell_type": "code",
   "execution_count": 136,
   "id": "fb2a6147",
   "metadata": {
    "scrolled": true
   },
   "outputs": [
    {
     "name": "stdout",
     "output_type": "stream",
     "text": [
      "Accuracy SVM using best 150 features: 0.94 (+/- 0.04)\n"
     ]
    }
   ],
   "source": [
    "# perform cross validation -> best 150 features \n",
    "acc = cross_val_score(svc, sampled_X_150, sampled_Y, cv=5)\n",
    "print(\"Accuracy SVM using best 150 features: %0.2f (+/- %0.2f)\" % (acc.mean(), acc.std() * 2))"
   ]
  },
  {
   "cell_type": "markdown",
   "id": "1fee2d9c",
   "metadata": {},
   "source": [
    "#### Select best 200 features, data balancing, splitting, training and evaluating"
   ]
  },
  {
   "cell_type": "code",
   "execution_count": 137,
   "id": "fa4cd422",
   "metadata": {},
   "outputs": [
    {
     "name": "stdout",
     "output_type": "stream",
     "text": [
      "Accuracy SVM using best 200 features: 0.96 (+/- 0.03)\n"
     ]
    }
   ],
   "source": [
    "#first 200 features with high correlation\n",
    "high_cor_200=cor_target.iloc[cor_target.argsort()[-201:-1]]\n",
    "\n",
    "# select 200 features\n",
    "selected_200_x = df[high_cor_200.index]\n",
    "selected_200_x.shape\n",
    "\n",
    "\n",
    "# Fit the model to generate the data with 200 features dataset\n",
    "oversampled_X_200, oversampled_Y = ros.fit_resample(selected_200_x, Y)\n",
    "sampled_X_200, sampled_Y = rus.fit_resample(oversampled_X_200, oversampled_Y)\n",
    "\n",
    "\n",
    "acc = cross_val_score(svc, sampled_X_200, sampled_Y, cv=5)\n",
    "print(\"Accuracy SVM using best 200 features: %0.2f (+/- %0.2f)\" % (acc.mean(), acc.std() * 2))"
   ]
  },
  {
   "cell_type": "markdown",
   "id": "f099b67b",
   "metadata": {},
   "source": [
    "#### Select best 250 features, data balancing, splitting, training and evaluating"
   ]
  },
  {
   "cell_type": "code",
   "execution_count": 138,
   "id": "38e44545",
   "metadata": {},
   "outputs": [
    {
     "name": "stdout",
     "output_type": "stream",
     "text": [
      "Accuracy SVM using best 250 features: 0.97 (+/- 0.04)\n"
     ]
    }
   ],
   "source": [
    "#first 250 atures with high correlation\n",
    "high_cor_250=cor_target.iloc[cor_target.argsort()[-251:-1]]\n",
    "\n",
    "# select 250 features\n",
    "selected_250_x = df[high_cor_250.index]\n",
    "selected_250_x.shape\n",
    "\n",
    "\n",
    "# Fit the model to generate the data with 250 features dataset\n",
    "oversampled_X_250, oversampled_Y = ros.fit_resample(selected_250_x, Y)\n",
    "sampled_X_250, sampled_Y = rus.fit_resample(oversampled_X_250, oversampled_Y)\n",
    "\n",
    "\n",
    "acc = cross_val_score(svc, sampled_X_250, sampled_Y, cv=5)\n",
    "print(\"Accuracy SVM using best 250 features: %0.2f (+/- %0.2f)\" % (acc.mean(), acc.std() * 2))"
   ]
  },
  {
   "cell_type": "markdown",
   "id": "74b4aab8",
   "metadata": {},
   "source": [
    "#### Select best 280 features, data balancing, splitting, training and evaluating"
   ]
  },
  {
   "cell_type": "code",
   "execution_count": 139,
   "id": "17c5fef6",
   "metadata": {},
   "outputs": [
    {
     "name": "stdout",
     "output_type": "stream",
     "text": [
      "Accuracy SVM using best 280 features: 0.97 (+/- 0.04)\n"
     ]
    }
   ],
   "source": [
    "#first 280 atures with high correlation\n",
    "high_cor_280=cor_target.iloc[cor_target.argsort()[-281:-1]]\n",
    "\n",
    "# select 280 features\n",
    "selected_280_x = df[high_cor_280.index]\n",
    "selected_280_x.shape\n",
    "\n",
    "\n",
    "# Fit the model to generate the data with 280 features dataset\n",
    "oversampled_X_280, oversampled_Y = ros.fit_resample(selected_280_x, Y)\n",
    "sampled_X_280, sampled_Y = rus.fit_resample(oversampled_X_280, oversampled_Y)\n",
    "\n",
    "\n",
    "acc = cross_val_score(svc, sampled_X_280, sampled_Y, cv=5)\n",
    "print(\"Accuracy SVM using best 280 features: %0.2f (+/- %0.2f)\" % (acc.mean(), acc.std() * 2))"
   ]
  },
  {
   "cell_type": "markdown",
   "id": "78f8fe69",
   "metadata": {},
   "source": [
    "#### Select best 300 features, data balancing, splitting, training and evaluating"
   ]
  },
  {
   "cell_type": "code",
   "execution_count": 140,
   "id": "55d56839",
   "metadata": {},
   "outputs": [
    {
     "name": "stdout",
     "output_type": "stream",
     "text": [
      "Accuracy SVM using best 300 features: 0.97 (+/- 0.04)\n"
     ]
    }
   ],
   "source": [
    "#first 300 atures with high correlation\n",
    "high_cor_300=cor_target.iloc[cor_target.argsort()[-301:-1]]\n",
    "\n",
    "# select 300 features\n",
    "selected_300_x = df[high_cor_300.index]\n",
    "selected_300_x.shape\n",
    "\n",
    "\n",
    "# Fit the model to generate the data with 280 features dataset\n",
    "oversampled_X_300, oversampled_Y = ros.fit_resample(selected_300_x, Y)\n",
    "sampled_X_300, sampled_Y = rus.fit_resample(oversampled_X_300, oversampled_Y)\n",
    "\n",
    "\n",
    "acc = cross_val_score(svc, sampled_X_300, sampled_Y, cv=5)\n",
    "print(\"Accuracy SVM using best 300 features: %0.2f (+/- %0.2f)\" % (acc.mean(), acc.std() * 2))"
   ]
  },
  {
   "cell_type": "markdown",
   "id": "cacd1b6a",
   "metadata": {},
   "source": [
    "#### Select best 350 features, data balancing, splitting, training and evaluating"
   ]
  },
  {
   "cell_type": "code",
   "execution_count": 141,
   "id": "2def73ae",
   "metadata": {},
   "outputs": [
    {
     "name": "stdout",
     "output_type": "stream",
     "text": [
      "Accuracy SVM using best 350 features: 0.97 (+/- 0.04)\n"
     ]
    }
   ],
   "source": [
    "#first 350 atures with high correlation\n",
    "high_cor_350=cor_target.iloc[cor_target.argsort()[-351:-1]]\n",
    "\n",
    "# select 350 features\n",
    "selected_350_x = df[high_cor_350.index]\n",
    "\n",
    "# Fit the model to generate the data with 280 features dataset\n",
    "oversampled_X_350, oversampled_Y = ros.fit_resample(selected_350_x, Y)\n",
    "sampled_X_350, sampled_Y = rus.fit_resample(oversampled_X_350, oversampled_Y)\n",
    "\n",
    "\n",
    "acc = cross_val_score(svc, sampled_X_350, sampled_Y, cv=5)\n",
    "print(\"Accuracy SVM using best 350 features: %0.2f (+/- %0.2f)\" % (acc.mean(), acc.std() * 2))"
   ]
  },
  {
   "cell_type": "markdown",
   "id": "5634d47e",
   "metadata": {},
   "source": [
    "#### Select best 400 features, data balancing, splitting, training and evaluating"
   ]
  },
  {
   "cell_type": "code",
   "execution_count": 142,
   "id": "17219d89",
   "metadata": {},
   "outputs": [
    {
     "name": "stdout",
     "output_type": "stream",
     "text": [
      "Accuracy SVM using best 400 features: 0.98 (+/- 0.03)\n"
     ]
    }
   ],
   "source": [
    "#first 400 atures with high correlation\n",
    "high_cor_400=cor_target.iloc[cor_target.argsort()[-401:-1]]\n",
    "\n",
    "# select 350 features\n",
    "selected_400_x = df[high_cor_400.index]\n",
    "\n",
    "# Fit the model to generate the data with 280 features dataset\n",
    "oversampled_X_400, oversampled_Y = ros.fit_resample(selected_400_x, Y)\n",
    "sampled_X_400, sampled_Y = rus.fit_resample(oversampled_X_400, oversampled_Y)\n",
    "\n",
    "\n",
    "acc = cross_val_score(svc, sampled_X_400, sampled_Y, cv=5)\n",
    "print(\"Accuracy SVM using best 400 features: %0.2f (+/- %0.2f)\" % (acc.mean(), acc.std() * 2))"
   ]
  },
  {
   "cell_type": "markdown",
   "id": "031b19d6",
   "metadata": {},
   "source": [
    "#### Select best 380 features, data balancing, splitting, training and evaluating"
   ]
  },
  {
   "cell_type": "code",
   "execution_count": 143,
   "id": "a550e69d",
   "metadata": {},
   "outputs": [
    {
     "name": "stdout",
     "output_type": "stream",
     "text": [
      "Accuracy SVM using best 380 features: 0.97 (+/- 0.03)\n"
     ]
    }
   ],
   "source": [
    "#first 400 atures with high correlation\n",
    "high_cor_380=cor_target.iloc[cor_target.argsort()[-381:-1]]\n",
    "\n",
    "# select 350 features\n",
    "selected_380_x = df[high_cor_380.index]\n",
    "\n",
    "# Fit the model to generate the data with 280 features dataset\n",
    "oversampled_X_380, oversampled_Y = ros.fit_resample(selected_380_x, Y)\n",
    "sampled_X_380, sampled_Y = rus.fit_resample(oversampled_X_380, oversampled_Y)\n",
    "\n",
    "\n",
    "acc = cross_val_score(svc, sampled_X_380, sampled_Y, cv=5)\n",
    "print(\"Accuracy SVM using best 380 features: %0.2f (+/- %0.2f)\" % (acc.mean(), acc.std() * 2))"
   ]
  },
  {
   "cell_type": "markdown",
   "id": "898c8295",
   "metadata": {},
   "source": [
    "- using best 400 persormed well"
   ]
  },
  {
   "cell_type": "markdown",
   "id": "21b65d26",
   "metadata": {},
   "source": [
    "## Test RF model"
   ]
  },
  {
   "cell_type": "code",
   "execution_count": 144,
   "id": "109fcf28",
   "metadata": {},
   "outputs": [],
   "source": [
    "from sklearn.ensemble import RandomForestClassifier"
   ]
  },
  {
   "cell_type": "markdown",
   "id": "e853f6b5",
   "metadata": {},
   "source": [
    "#### RF Parameter optimization"
   ]
  },
  {
   "cell_type": "code",
   "execution_count": 145,
   "id": "23cd78c3",
   "metadata": {},
   "outputs": [],
   "source": [
    "rfc = RandomForestClassifier()"
   ]
  },
  {
   "cell_type": "code",
   "execution_count": 146,
   "id": "53889d8e",
   "metadata": {},
   "outputs": [],
   "source": [
    "parameters = {\n",
    "    \"n_estimators\":[100,500,1000],\n",
    "    \"max_depth\":[4,8,16,None],\n",
    "    \"criterion\":['gini', 'entropy'],\n",
    "    \"random_state\": [0]\n",
    "}"
   ]
  },
  {
   "cell_type": "code",
   "execution_count": 147,
   "id": "1fadb9bb",
   "metadata": {},
   "outputs": [
    {
     "data": {
      "text/html": [
       "<style>#sk-container-id-1 {color: black;}#sk-container-id-1 pre{padding: 0;}#sk-container-id-1 div.sk-toggleable {background-color: white;}#sk-container-id-1 label.sk-toggleable__label {cursor: pointer;display: block;width: 100%;margin-bottom: 0;padding: 0.3em;box-sizing: border-box;text-align: center;}#sk-container-id-1 label.sk-toggleable__label-arrow:before {content: \"▸\";float: left;margin-right: 0.25em;color: #696969;}#sk-container-id-1 label.sk-toggleable__label-arrow:hover:before {color: black;}#sk-container-id-1 div.sk-estimator:hover label.sk-toggleable__label-arrow:before {color: black;}#sk-container-id-1 div.sk-toggleable__content {max-height: 0;max-width: 0;overflow: hidden;text-align: left;background-color: #f0f8ff;}#sk-container-id-1 div.sk-toggleable__content pre {margin: 0.2em;color: black;border-radius: 0.25em;background-color: #f0f8ff;}#sk-container-id-1 input.sk-toggleable__control:checked~div.sk-toggleable__content {max-height: 200px;max-width: 100%;overflow: auto;}#sk-container-id-1 input.sk-toggleable__control:checked~label.sk-toggleable__label-arrow:before {content: \"▾\";}#sk-container-id-1 div.sk-estimator input.sk-toggleable__control:checked~label.sk-toggleable__label {background-color: #d4ebff;}#sk-container-id-1 div.sk-label input.sk-toggleable__control:checked~label.sk-toggleable__label {background-color: #d4ebff;}#sk-container-id-1 input.sk-hidden--visually {border: 0;clip: rect(1px 1px 1px 1px);clip: rect(1px, 1px, 1px, 1px);height: 1px;margin: -1px;overflow: hidden;padding: 0;position: absolute;width: 1px;}#sk-container-id-1 div.sk-estimator {font-family: monospace;background-color: #f0f8ff;border: 1px dotted black;border-radius: 0.25em;box-sizing: border-box;margin-bottom: 0.5em;}#sk-container-id-1 div.sk-estimator:hover {background-color: #d4ebff;}#sk-container-id-1 div.sk-parallel-item::after {content: \"\";width: 100%;border-bottom: 1px solid gray;flex-grow: 1;}#sk-container-id-1 div.sk-label:hover label.sk-toggleable__label {background-color: #d4ebff;}#sk-container-id-1 div.sk-serial::before {content: \"\";position: absolute;border-left: 1px solid gray;box-sizing: border-box;top: 0;bottom: 0;left: 50%;z-index: 0;}#sk-container-id-1 div.sk-serial {display: flex;flex-direction: column;align-items: center;background-color: white;padding-right: 0.2em;padding-left: 0.2em;position: relative;}#sk-container-id-1 div.sk-item {position: relative;z-index: 1;}#sk-container-id-1 div.sk-parallel {display: flex;align-items: stretch;justify-content: center;background-color: white;position: relative;}#sk-container-id-1 div.sk-item::before, #sk-container-id-1 div.sk-parallel-item::before {content: \"\";position: absolute;border-left: 1px solid gray;box-sizing: border-box;top: 0;bottom: 0;left: 50%;z-index: -1;}#sk-container-id-1 div.sk-parallel-item {display: flex;flex-direction: column;z-index: 1;position: relative;background-color: white;}#sk-container-id-1 div.sk-parallel-item:first-child::after {align-self: flex-end;width: 50%;}#sk-container-id-1 div.sk-parallel-item:last-child::after {align-self: flex-start;width: 50%;}#sk-container-id-1 div.sk-parallel-item:only-child::after {width: 0;}#sk-container-id-1 div.sk-dashed-wrapped {border: 1px dashed gray;margin: 0 0.4em 0.5em 0.4em;box-sizing: border-box;padding-bottom: 0.4em;background-color: white;}#sk-container-id-1 div.sk-label label {font-family: monospace;font-weight: bold;display: inline-block;line-height: 1.2em;}#sk-container-id-1 div.sk-label-container {text-align: center;}#sk-container-id-1 div.sk-container {/* jupyter's `normalize.less` sets `[hidden] { display: none; }` but bootstrap.min.css set `[hidden] { display: none !important; }` so we also need the `!important` here to be able to override the default hidden behavior on the sphinx rendered scikit-learn.org. See: https://github.com/scikit-learn/scikit-learn/issues/21755 */display: inline-block !important;position: relative;}#sk-container-id-1 div.sk-text-repr-fallback {display: none;}</style><div id=\"sk-container-id-1\" class=\"sk-top-container\"><div class=\"sk-text-repr-fallback\"><pre>GridSearchCV(cv=5, estimator=RandomForestClassifier(),\n",
       "             param_grid={&#x27;criterion&#x27;: [&#x27;gini&#x27;, &#x27;entropy&#x27;],\n",
       "                         &#x27;max_depth&#x27;: [4, 8, 16, None],\n",
       "                         &#x27;n_estimators&#x27;: [100, 500, 1000],\n",
       "                         &#x27;random_state&#x27;: [0]})</pre><b>In a Jupyter environment, please rerun this cell to show the HTML representation or trust the notebook. <br />On GitHub, the HTML representation is unable to render, please try loading this page with nbviewer.org.</b></div><div class=\"sk-container\" hidden><div class=\"sk-item sk-dashed-wrapped\"><div class=\"sk-label-container\"><div class=\"sk-label sk-toggleable\"><input class=\"sk-toggleable__control sk-hidden--visually\" id=\"sk-estimator-id-1\" type=\"checkbox\" ><label for=\"sk-estimator-id-1\" class=\"sk-toggleable__label sk-toggleable__label-arrow\">GridSearchCV</label><div class=\"sk-toggleable__content\"><pre>GridSearchCV(cv=5, estimator=RandomForestClassifier(),\n",
       "             param_grid={&#x27;criterion&#x27;: [&#x27;gini&#x27;, &#x27;entropy&#x27;],\n",
       "                         &#x27;max_depth&#x27;: [4, 8, 16, None],\n",
       "                         &#x27;n_estimators&#x27;: [100, 500, 1000],\n",
       "                         &#x27;random_state&#x27;: [0]})</pre></div></div></div><div class=\"sk-parallel\"><div class=\"sk-parallel-item\"><div class=\"sk-item\"><div class=\"sk-label-container\"><div class=\"sk-label sk-toggleable\"><input class=\"sk-toggleable__control sk-hidden--visually\" id=\"sk-estimator-id-2\" type=\"checkbox\" ><label for=\"sk-estimator-id-2\" class=\"sk-toggleable__label sk-toggleable__label-arrow\">estimator: RandomForestClassifier</label><div class=\"sk-toggleable__content\"><pre>RandomForestClassifier()</pre></div></div></div><div class=\"sk-serial\"><div class=\"sk-item\"><div class=\"sk-estimator sk-toggleable\"><input class=\"sk-toggleable__control sk-hidden--visually\" id=\"sk-estimator-id-3\" type=\"checkbox\" ><label for=\"sk-estimator-id-3\" class=\"sk-toggleable__label sk-toggleable__label-arrow\">RandomForestClassifier</label><div class=\"sk-toggleable__content\"><pre>RandomForestClassifier()</pre></div></div></div></div></div></div></div></div></div></div>"
      ],
      "text/plain": [
       "GridSearchCV(cv=5, estimator=RandomForestClassifier(),\n",
       "             param_grid={'criterion': ['gini', 'entropy'],\n",
       "                         'max_depth': [4, 8, 16, None],\n",
       "                         'n_estimators': [100, 500, 1000],\n",
       "                         'random_state': [0]})"
      ]
     },
     "execution_count": 147,
     "metadata": {},
     "output_type": "execute_result"
    }
   ],
   "source": [
    "from sklearn.model_selection import GridSearchCV\n",
    "cv = GridSearchCV(rfc,parameters,cv=5)\n",
    "cv.fit(sampled_X,sampled_Y)"
   ]
  },
  {
   "cell_type": "code",
   "execution_count": 148,
   "id": "6252a014",
   "metadata": {},
   "outputs": [
    {
     "name": "stdout",
     "output_type": "stream",
     "text": [
      "Best parameters are: {'criterion': 'entropy', 'max_depth': 8, 'n_estimators': 500, 'random_state': 0}\n"
     ]
    }
   ],
   "source": [
    "print(f'Best parameters are: {cv.best_params_}')"
   ]
  },
  {
   "cell_type": "code",
   "execution_count": 149,
   "id": "2a946a97",
   "metadata": {},
   "outputs": [],
   "source": [
    "rf=RandomForestClassifier(criterion= 'entropy', max_depth= 8, n_estimators= 500,random_state= 0)"
   ]
  },
  {
   "cell_type": "code",
   "execution_count": 150,
   "id": "6fb9e431",
   "metadata": {},
   "outputs": [
    {
     "name": "stdout",
     "output_type": "stream",
     "text": [
      "Accuracy RF with best_params: 0.97 (+/- 0.03)\n"
     ]
    }
   ],
   "source": [
    "acc = cross_val_score(rf, sampled_X, sampled_Y, cv=5)\n",
    "print(\"Accuracy RF with best_params: %0.2f (+/- %0.2f)\" % (acc.mean(), acc.std() * 2))"
   ]
  },
  {
   "cell_type": "markdown",
   "id": "56d91d39",
   "metadata": {},
   "source": [
    "#### Try for different number of features"
   ]
  },
  {
   "cell_type": "code",
   "execution_count": 151,
   "id": "5a0c57c7",
   "metadata": {},
   "outputs": [
    {
     "name": "stdout",
     "output_type": "stream",
     "text": [
      "Accuracy RF using best 20 features: 0.91 (+/- 0.04)\n"
     ]
    }
   ],
   "source": [
    "acc = cross_val_score(rf, sampled_X_20, sampled_Y, cv=5)\n",
    "print(\"Accuracy RF using best 20 features: %0.2f (+/- %0.2f)\" % (acc.mean(), acc.std() * 2))"
   ]
  },
  {
   "cell_type": "code",
   "execution_count": 152,
   "id": "3322f163",
   "metadata": {},
   "outputs": [
    {
     "name": "stdout",
     "output_type": "stream",
     "text": [
      "Accuracy RF using best 50 features: 0.95 (+/- 0.04)\n"
     ]
    }
   ],
   "source": [
    "acc = cross_val_score(rf, sampled_X_50, sampled_Y, cv=5)\n",
    "print(\"Accuracy RF using best 50 features: %0.2f (+/- %0.2f)\" % (acc.mean(), acc.std() * 2))"
   ]
  },
  {
   "cell_type": "code",
   "execution_count": 153,
   "id": "c978c6a2",
   "metadata": {},
   "outputs": [
    {
     "name": "stdout",
     "output_type": "stream",
     "text": [
      "Accuracy RF using best 100 features: 0.95 (+/- 0.03)\n"
     ]
    }
   ],
   "source": [
    "acc = cross_val_score(rf, sampled_X_100, sampled_Y, cv=5)\n",
    "print(\"Accuracy RF using best 100 features: %0.2f (+/- %0.2f)\" % (acc.mean(), acc.std() * 2))"
   ]
  },
  {
   "cell_type": "code",
   "execution_count": 154,
   "id": "59b8e090",
   "metadata": {},
   "outputs": [
    {
     "name": "stdout",
     "output_type": "stream",
     "text": [
      "Accuracy RF using best 120 features: 0.95 (+/- 0.03)\n"
     ]
    }
   ],
   "source": [
    "acc = cross_val_score(rf, sampled_X_120, sampled_Y, cv=5)\n",
    "print(\"Accuracy RF using best 120 features: %0.2f (+/- %0.2f)\" % (acc.mean(), acc.std() * 2))"
   ]
  },
  {
   "cell_type": "code",
   "execution_count": 155,
   "id": "f3a0be0f",
   "metadata": {},
   "outputs": [
    {
     "name": "stdout",
     "output_type": "stream",
     "text": [
      "Accuracy RF using best 140 features: 0.94 (+/- 0.03)\n"
     ]
    }
   ],
   "source": [
    "acc = cross_val_score(rf, sampled_X_140, sampled_Y, cv=5)\n",
    "print(\"Accuracy RF using best 140 features: %0.2f (+/- %0.2f)\" % (acc.mean(), acc.std() * 2))"
   ]
  },
  {
   "cell_type": "code",
   "execution_count": 156,
   "id": "9302d98f",
   "metadata": {
    "scrolled": true
   },
   "outputs": [
    {
     "name": "stdout",
     "output_type": "stream",
     "text": [
      "Accuracy RF using best 150 features: 0.95 (+/- 0.02)\n"
     ]
    }
   ],
   "source": [
    "# perform cross validation -> best 150 features \n",
    "acc = cross_val_score(rf, sampled_X_150, sampled_Y, cv=5)\n",
    "print(\"Accuracy RF using best 150 features: %0.2f (+/- %0.2f)\" % (acc.mean(), acc.std() * 2))"
   ]
  },
  {
   "cell_type": "code",
   "execution_count": 157,
   "id": "a8bf38fa",
   "metadata": {},
   "outputs": [
    {
     "name": "stdout",
     "output_type": "stream",
     "text": [
      "Accuracy rf using best 200 features: 0.94 (+/- 0.02)\n"
     ]
    }
   ],
   "source": [
    "# perform cross validation -> best 200 features \n",
    "acc = cross_val_score(rf, sampled_X_200, sampled_Y, cv=5)\n",
    "print(\"Accuracy rf using best 200 features: %0.2f (+/- %0.2f)\" % (acc.mean(), acc.std() * 2))"
   ]
  },
  {
   "cell_type": "code",
   "execution_count": 158,
   "id": "3c745fd6",
   "metadata": {},
   "outputs": [
    {
     "name": "stdout",
     "output_type": "stream",
     "text": [
      "Accuracy rf using best 250 features: 0.96 (+/- 0.03)\n"
     ]
    }
   ],
   "source": [
    "# perform cross validation -> best 250 features \n",
    "acc = cross_val_score(rf, sampled_X_250, sampled_Y, cv=5)\n",
    "print(\"Accuracy rf using best 250 features: %0.2f (+/- %0.2f)\" % (acc.mean(), acc.std() * 2))"
   ]
  },
  {
   "cell_type": "code",
   "execution_count": 159,
   "id": "2f6b6760",
   "metadata": {},
   "outputs": [
    {
     "name": "stdout",
     "output_type": "stream",
     "text": [
      "Accuracy rf using best 300 features: 0.95 (+/- 0.02)\n"
     ]
    }
   ],
   "source": [
    "# perform cross validation -> best 300 features \n",
    "acc = cross_val_score(rf, sampled_X_300, sampled_Y, cv=5)\n",
    "print(\"Accuracy rf using best 300 features: %0.2f (+/- %0.2f)\" % (acc.mean(), acc.std() * 2))"
   ]
  },
  {
   "cell_type": "code",
   "execution_count": 165,
   "id": "41dd882a",
   "metadata": {},
   "outputs": [
    {
     "name": "stdout",
     "output_type": "stream",
     "text": [
      "Accuracy rf using best 350 features: 0.96 (+/- 0.03)\n"
     ]
    }
   ],
   "source": [
    "# perform cross validation -> best 350 features \n",
    "acc = cross_val_score(rf, sampled_X_350, sampled_Y, cv=5)\n",
    "print(\"Accuracy rf using best 350 features: %0.2f (+/- %0.2f)\" % (acc.mean(), acc.std() * 2))"
   ]
  },
  {
   "cell_type": "code",
   "execution_count": 166,
   "id": "8cc9b5a6",
   "metadata": {},
   "outputs": [
    {
     "name": "stdout",
     "output_type": "stream",
     "text": [
      "Accuracy rf using best 400 features: 0.96 (+/- 0.03)\n"
     ]
    }
   ],
   "source": [
    "# perform cross validation -> best 400 features \n",
    "acc = cross_val_score(rf, sampled_X_400, sampled_Y, cv=5)\n",
    "print(\"Accuracy rf using best 400 features: %0.2f (+/- %0.2f)\" % (acc.mean(), acc.std() * 2))"
   ]
  },
  {
   "cell_type": "markdown",
   "id": "4568722f",
   "metadata": {},
   "source": [
    "#### Select best 450 features, data balancing, splitting, training and evaluating"
   ]
  },
  {
   "cell_type": "code",
   "execution_count": 167,
   "id": "59b7b308",
   "metadata": {},
   "outputs": [
    {
     "name": "stdout",
     "output_type": "stream",
     "text": [
      "Accuracy rf using best 450 features: 0.97 (+/- 0.03)\n"
     ]
    }
   ],
   "source": [
    "#first 450 atures with high correlation\n",
    "high_cor_450=cor_target.iloc[cor_target.argsort()[-451:-1]]\n",
    "\n",
    "# select 350 features\n",
    "selected_450_x = df[high_cor_450.index]\n",
    "\n",
    "# Fit the model to generate the data with 450 features dataset\n",
    "oversampled_X_450, oversampled_Y = ros.fit_resample(selected_450_x, Y)\n",
    "sampled_X_450, sampled_Y = rus.fit_resample(oversampled_X_450, oversampled_Y)\n",
    "\n",
    "\n",
    "acc = cross_val_score(rf, sampled_X_450, sampled_Y, cv=5)\n",
    "print(\"Accuracy rf using best 450 features: %0.2f (+/- %0.2f)\" % (acc.mean(), acc.std() * 2))"
   ]
  },
  {
   "cell_type": "markdown",
   "id": "49beb0a8",
   "metadata": {},
   "source": [
    "## Test KNN model"
   ]
  },
  {
   "cell_type": "code",
   "execution_count": 170,
   "id": "62d647ac",
   "metadata": {},
   "outputs": [],
   "source": [
    "# K-Nearest Neighbors\n",
    "from sklearn.neighbors import KNeighborsClassifier\n",
    "import matplotlib.pyplot as plt"
   ]
  },
  {
   "cell_type": "markdown",
   "id": "286699e5",
   "metadata": {},
   "source": [
    "#### Find the best k value for KNN with Standardization "
   ]
  },
  {
   "cell_type": "code",
   "execution_count": 171,
   "id": "24374f4d",
   "metadata": {
    "scrolled": true
   },
   "outputs": [],
   "source": [
    "from sklearn.preprocessing import StandardScaler\n",
    "scaler = StandardScaler()\n",
    "sampled_X_standard = scaler.fit_transform(sampled_X)"
   ]
  },
  {
   "cell_type": "code",
   "execution_count": 176,
   "id": "fdfd7230",
   "metadata": {
    "scrolled": true
   },
   "outputs": [
    {
     "data": {
      "text/plain": [
       "Text(0, 0.5, 'Accuracy')"
      ]
     },
     "execution_count": 176,
     "metadata": {},
     "output_type": "execute_result"
    },
    {
     "data": {
      "image/png": "[encoded data removed]",
      "text/plain": [
       "<Figure size 800x500 with 1 Axes>"
      ]
     },
     "metadata": {},
     "output_type": "display_data"
    }
   ],
   "source": [
    "knn_acc = []\n",
    "\n",
    "for i in range(1,10):\n",
    "    knn = KNeighborsClassifier(n_neighbors=i)\n",
    "    acc = cross_val_score(knn, sampled_X_standard, sampled_Y, cv=5)\n",
    "    knn_acc.append(acc.mean())\n",
    "\n",
    "plt.figure(figsize=(8,5))\n",
    "plt.plot(range(1,10),knn_acc, marker='o', markersize=9)\n",
    "plt.xlabel(\"K value\", fontsize=18)\n",
    "plt.ylabel(\"Accuracy\",fontsize=18)"
   ]
  },
  {
   "cell_type": "code",
   "execution_count": 177,
   "id": "73fc45b4",
   "metadata": {},
   "outputs": [],
   "source": [
    "knn = KNeighborsClassifier(n_neighbors=2)"
   ]
  },
  {
   "cell_type": "code",
   "execution_count": 180,
   "id": "75a79f79",
   "metadata": {},
   "outputs": [
    {
     "name": "stdout",
     "output_type": "stream",
     "text": [
      "Accuracy KNN with Standardization: 0.98 (+/- 0.03)\n"
     ]
    }
   ],
   "source": [
    "acc = cross_val_score(knn, sampled_X_standard, sampled_Y, cv=5)\n",
    "print(\"Accuracy KNN with Standardization: %0.2f (+/- %0.2f)\" % (acc.mean(), acc.std() * 2))"
   ]
  },
  {
   "cell_type": "markdown",
   "id": "24ce4e78",
   "metadata": {},
   "source": [
    "#### Find the best k value for KNN with Normalization "
   ]
  },
  {
   "cell_type": "code",
   "execution_count": 182,
   "id": "2bedd242",
   "metadata": {},
   "outputs": [],
   "source": [
    "from sklearn.preprocessing import MinMaxScaler\n",
    "scaler = MinMaxScaler()\n",
    "sampled_X_minmax = scaler.fit_transform(sampled_X)"
   ]
  },
  {
   "cell_type": "code",
   "execution_count": 183,
   "id": "361d72e3",
   "metadata": {},
   "outputs": [
    {
     "data": {
      "text/plain": [
       "Text(0, 0.5, 'Accuracy')"
      ]
     },
     "execution_count": 183,
     "metadata": {},
     "output_type": "execute_result"
    },
    {
     "data": {
      "image/png": "[encoded data removed]",
      "text/plain": [
       "<Figure size 800x500 with 1 Axes>"
      ]
     },
     "metadata": {},
     "output_type": "display_data"
    }
   ],
   "source": [
    "knn_acc = []\n",
    "\n",
    "for i in range(1,10):\n",
    "    knn = KNeighborsClassifier(n_neighbors=i)\n",
    "    acc = cross_val_score(knn, sampled_X_minmax, sampled_Y, cv=5)\n",
    "    knn_acc.append(acc.mean())\n",
    "\n",
    "plt.figure(figsize=(8,5))\n",
    "plt.plot(range(1,10),knn_acc, marker='o', markersize=9)\n",
    "plt.xlabel(\"K value\", fontsize=18)\n",
    "plt.ylabel(\"Accuracy\",fontsize=18)"
   ]
  },
  {
   "cell_type": "code",
   "execution_count": 184,
   "id": "9777142a",
   "metadata": {},
   "outputs": [],
   "source": [
    "knn = KNeighborsClassifier(n_neighbors=2)"
   ]
  },
  {
   "cell_type": "code",
   "execution_count": 185,
   "id": "a7f7b3ad",
   "metadata": {},
   "outputs": [
    {
     "name": "stdout",
     "output_type": "stream",
     "text": [
      "Accuracy KNN with Normalization: 0.97 (+/- 0.02)\n"
     ]
    }
   ],
   "source": [
    "acc = cross_val_score(knn, sampled_X_standard, sampled_Y, cv=5)\n",
    "print(\"Accuracy KNN with Normalization: %0.2f (+/- %0.2f)\" % (acc.mean(), acc.std() * 2))"
   ]
  },
  {
   "cell_type": "markdown",
   "id": "b34a2ea7",
   "metadata": {},
   "source": [
    "- Standarization with K=2 performed well"
   ]
  },
  {
   "cell_type": "markdown",
   "id": "f84ecf10",
   "metadata": {},
   "source": [
    "#### Try for different number of features"
   ]
  },
  {
   "cell_type": "code",
   "execution_count": 188,
   "id": "69b681ed",
   "metadata": {},
   "outputs": [
    {
     "name": "stdout",
     "output_type": "stream",
     "text": [
      "Accuracy knn using best 20 features: 0.91 (+/- 0.04)\n"
     ]
    }
   ],
   "source": [
    "# perform cross validation -> best 20 features \n",
    "# create pipeline - > Standardization \n",
    "pipeline = Pipeline(steps=[('scaler', preprocessing.StandardScaler()),\n",
    "                   ('model', knn)])\n",
    "\n",
    "# perform cross validation\n",
    "acc = cross_val_score(estimator=pipeline, \n",
    "                         X=sampled_X_20, \n",
    "                         y=sampled_Y, \n",
    "                         cv=5\n",
    "                        )\n",
    "\n",
    "print(\"Accuracy knn using best 20 features: %0.2f (+/- %0.2f)\" % (acc.mean(), acc.std() * 2))"
   ]
  },
  {
   "cell_type": "code",
   "execution_count": 189,
   "id": "b8e7bd88",
   "metadata": {},
   "outputs": [
    {
     "name": "stdout",
     "output_type": "stream",
     "text": [
      "Accuracy knn using best 50 features: 0.92 (+/- 0.03)\n"
     ]
    }
   ],
   "source": [
    "# perform cross validation -> best 50 features \n",
    "# create pipeline - > Standardization \n",
    "pipeline = Pipeline(steps=[('scaler', preprocessing.StandardScaler()),\n",
    "                   ('model', knn)])\n",
    "\n",
    "# perform cross validation\n",
    "acc = cross_val_score(estimator=pipeline, \n",
    "                         X=sampled_X_50, \n",
    "                         y=sampled_Y, \n",
    "                         cv=5\n",
    "                        )\n",
    "\n",
    "print(\"Accuracy knn using best 50 features: %0.2f (+/- %0.2f)\" % (acc.mean(), acc.std() * 2))"
   ]
  },
  {
   "cell_type": "code",
   "execution_count": 191,
   "id": "27912c59",
   "metadata": {},
   "outputs": [
    {
     "name": "stdout",
     "output_type": "stream",
     "text": [
      "Accuracy knn using best 100 features: 0.93 (+/- 0.04)\n"
     ]
    }
   ],
   "source": [
    "# perform cross validation -> best 100 features \n",
    "# create pipeline - > Standardization \n",
    "pipeline = Pipeline(steps=[('scaler', preprocessing.StandardScaler()),\n",
    "                   ('model', knn)])\n",
    "\n",
    "# perform cross validation\n",
    "acc = cross_val_score(estimator=pipeline, \n",
    "                         X=sampled_X_100, \n",
    "                         y=sampled_Y, \n",
    "                         cv=5\n",
    "                        )\n",
    "\n",
    "print(\"Accuracy knn using best 100 features: %0.2f (+/- %0.2f)\" % (acc.mean(), acc.std() * 2))"
   ]
  },
  {
   "cell_type": "code",
   "execution_count": 192,
   "id": "68653128",
   "metadata": {},
   "outputs": [
    {
     "name": "stdout",
     "output_type": "stream",
     "text": [
      "Accuracy knn using best 120 features: 0.93 (+/- 0.06)\n"
     ]
    }
   ],
   "source": [
    "# perform cross validation -> best 120 features \n",
    "# create pipeline - > Standardization \n",
    "pipeline = Pipeline(steps=[('scaler', preprocessing.StandardScaler()),\n",
    "                   ('model', knn)])\n",
    "\n",
    "# perform cross validation\n",
    "acc = cross_val_score(estimator=pipeline, \n",
    "                         X=sampled_X_120, \n",
    "                         y=sampled_Y, \n",
    "                         cv=5\n",
    "                        )\n",
    "\n",
    "print(\"Accuracy knn using best 120 features: %0.2f (+/- %0.2f)\" % (acc.mean(), acc.std() * 2))"
   ]
  },
  {
   "cell_type": "code",
   "execution_count": 194,
   "id": "2ac3339a",
   "metadata": {},
   "outputs": [
    {
     "name": "stdout",
     "output_type": "stream",
     "text": [
      "Accuracy knn using best 140 features: 0.92 (+/- 0.05)\n"
     ]
    }
   ],
   "source": [
    "# perform cross validation -> best 140 features \n",
    "# create pipeline - > Standardization \n",
    "pipeline = Pipeline(steps=[('scaler', preprocessing.StandardScaler()),\n",
    "                   ('model', knn)])\n",
    "\n",
    "# perform cross validation\n",
    "acc = cross_val_score(estimator=pipeline, \n",
    "                         X=sampled_X_140, \n",
    "                         y=sampled_Y, \n",
    "                         cv=5\n",
    "                        )\n",
    "\n",
    "print(\"Accuracy knn using best 140 features: %0.2f (+/- %0.2f)\" % (acc.mean(), acc.std() * 2))"
   ]
  },
  {
   "cell_type": "code",
   "execution_count": 195,
   "id": "8d39e0d7",
   "metadata": {
    "scrolled": true
   },
   "outputs": [
    {
     "name": "stdout",
     "output_type": "stream",
     "text": [
      "Accuracy knn using best 150 features: 0.93 (+/- 0.05)\n"
     ]
    }
   ],
   "source": [
    "# perform cross validation -> best 150 features \n",
    "# create pipeline - > Standardization \n",
    "pipeline = Pipeline(steps=[('scaler', preprocessing.StandardScaler()),\n",
    "                   ('model', knn)])\n",
    "\n",
    "# perform cross validation\n",
    "acc = cross_val_score(estimator=pipeline, \n",
    "                         X=sampled_X_150, \n",
    "                         y=sampled_Y, \n",
    "                         cv=5\n",
    "                        )\n",
    "\n",
    "print(\"Accuracy knn using best 150 features: %0.2f (+/- %0.2f)\" % (acc.mean(), acc.std() * 2))"
   ]
  },
  {
   "cell_type": "code",
   "execution_count": 196,
   "id": "9413669c",
   "metadata": {},
   "outputs": [
    {
     "name": "stdout",
     "output_type": "stream",
     "text": [
      "Accuracy knn using best 200 features: 0.92 (+/- 0.04)\n"
     ]
    }
   ],
   "source": [
    "# perform cross validation -> best 200 features \n",
    "# create pipeline - > Standardization \n",
    "pipeline = Pipeline(steps=[('scaler', preprocessing.StandardScaler()),\n",
    "                   ('model', knn)])\n",
    "\n",
    "# perform cross validation\n",
    "acc = cross_val_score(estimator=pipeline, \n",
    "                         X=sampled_X_200, \n",
    "                         y=sampled_Y, \n",
    "                         cv=5\n",
    "                        )\n",
    "\n",
    "print(\"Accuracy knn using best 200 features: %0.2f (+/- %0.2f)\" % (acc.mean(), acc.std() * 2))"
   ]
  },
  {
   "cell_type": "code",
   "execution_count": 197,
   "id": "28d54264",
   "metadata": {},
   "outputs": [
    {
     "name": "stdout",
     "output_type": "stream",
     "text": [
      "Accuracy knn using best 250 features: 0.92 (+/- 0.05)\n"
     ]
    }
   ],
   "source": [
    "# perform cross validation -> best 250 features \n",
    "# create pipeline - > Standardization \n",
    "pipeline = Pipeline(steps=[('scaler', preprocessing.StandardScaler()),\n",
    "                   ('model', knn)])\n",
    "\n",
    "# perform cross validation\n",
    "acc = cross_val_score(estimator=pipeline, \n",
    "                         X=sampled_X_250, \n",
    "                         y=sampled_Y, \n",
    "                         cv=5\n",
    "                        )\n",
    "\n",
    "print(\"Accuracy knn using best 250 features: %0.2f (+/- %0.2f)\" % (acc.mean(), acc.std() * 2))"
   ]
  },
  {
   "cell_type": "code",
   "execution_count": 210,
   "id": "35f27ef6",
   "metadata": {},
   "outputs": [
    {
     "name": "stdout",
     "output_type": "stream",
     "text": [
      "Accuracy knn using best 280 features: 0.93 (+/- 0.06)\n"
     ]
    }
   ],
   "source": [
    "# perform cross validation -> best 280 features \n",
    "# create pipeline - > Standardization \n",
    "pipeline = Pipeline(steps=[('scaler', preprocessing.StandardScaler()),\n",
    "                   ('model', knn)])\n",
    "\n",
    "# perform cross validation\n",
    "acc = cross_val_score(estimator=pipeline, \n",
    "                         X=sampled_X_280, \n",
    "                         y=sampled_Y, \n",
    "                         cv=5\n",
    "                        )\n",
    "\n",
    "print(\"Accuracy knn using best 280 features: %0.2f (+/- %0.2f)\" % (acc.mean(), acc.std() * 2))"
   ]
  },
  {
   "cell_type": "code",
   "execution_count": 199,
   "id": "1df116a9",
   "metadata": {},
   "outputs": [
    {
     "name": "stdout",
     "output_type": "stream",
     "text": [
      "Accuracy knn using best 300 features: 0.94 (+/- 0.05)\n"
     ]
    }
   ],
   "source": [
    "# perform cross validation -> best 300 features \n",
    "# create pipeline - > Standardization \n",
    "pipeline = Pipeline(steps=[('scaler', preprocessing.StandardScaler()),\n",
    "                   ('model', knn)])\n",
    "\n",
    "# perform cross validation\n",
    "acc = cross_val_score(estimator=pipeline, \n",
    "                         X=sampled_X_300, \n",
    "                         y=sampled_Y, \n",
    "                         cv=5\n",
    "                        )\n",
    "\n",
    "print(\"Accuracy knn using best 300 features: %0.2f (+/- %0.2f)\" % (acc.mean(), acc.std() * 2))"
   ]
  },
  {
   "cell_type": "code",
   "execution_count": 200,
   "id": "ddd1e236",
   "metadata": {},
   "outputs": [
    {
     "name": "stdout",
     "output_type": "stream",
     "text": [
      "Accuracy knn using best 350 features: 0.96 (+/- 0.05)\n"
     ]
    }
   ],
   "source": [
    "# perform cross validation -> best 350 features \n",
    "# create pipeline - > Standardization \n",
    "pipeline = Pipeline(steps=[('scaler', preprocessing.StandardScaler()),\n",
    "                   ('model', knn)])\n",
    "\n",
    "# perform cross validation\n",
    "acc = cross_val_score(estimator=pipeline, \n",
    "                         X=sampled_X_350, \n",
    "                         y=sampled_Y, \n",
    "                         cv=5\n",
    "                        )\n",
    "\n",
    "print(\"Accuracy knn using best 350 features: %0.2f (+/- %0.2f)\" % (acc.mean(), acc.std() * 2))"
   ]
  },
  {
   "cell_type": "code",
   "execution_count": 209,
   "id": "60011db6",
   "metadata": {},
   "outputs": [
    {
     "name": "stdout",
     "output_type": "stream",
     "text": [
      "Accuracy knn using best 380 features: 0.95 (+/- 0.06)\n"
     ]
    }
   ],
   "source": [
    "# perform cross validation -> best 380 features \n",
    "# create pipeline - > Standardization \n",
    "pipeline = Pipeline(steps=[('scaler', preprocessing.StandardScaler()),\n",
    "                   ('model', knn)])\n",
    "\n",
    "# perform cross validation\n",
    "acc = cross_val_score(estimator=pipeline, \n",
    "                         X=sampled_X_380, \n",
    "                         y=sampled_Y, \n",
    "                         cv=5\n",
    "                        )\n",
    "\n",
    "print(\"Accuracy knn using best 380 features: %0.2f (+/- %0.2f)\" % (acc.mean(), acc.std() * 2))"
   ]
  },
  {
   "cell_type": "code",
   "execution_count": 201,
   "id": "99f1c2b1",
   "metadata": {},
   "outputs": [
    {
     "name": "stdout",
     "output_type": "stream",
     "text": [
      "Accuracy knn using best 400 features: 0.95 (+/- 0.06)\n"
     ]
    }
   ],
   "source": [
    "# perform cross validation -> best 400 features \n",
    "# create pipeline - > Standardization \n",
    "pipeline = Pipeline(steps=[('scaler', preprocessing.StandardScaler()),\n",
    "                   ('model', knn)])\n",
    "\n",
    "# perform cross validation\n",
    "acc = cross_val_score(estimator=pipeline, \n",
    "                         X=sampled_X_400, \n",
    "                         y=sampled_Y, \n",
    "                         cv=5\n",
    "                        )\n",
    "\n",
    "print(\"Accuracy knn using best 400 features: %0.2f (+/- %0.2f)\" % (acc.mean(), acc.std() * 2))"
   ]
  },
  {
   "cell_type": "code",
   "execution_count": 202,
   "id": "162967bf",
   "metadata": {},
   "outputs": [
    {
     "name": "stdout",
     "output_type": "stream",
     "text": [
      "Accuracy knn using best 450 features: 0.96 (+/- 0.05)\n"
     ]
    }
   ],
   "source": [
    "# perform cross validation -> best 450 features \n",
    "# create pipeline - > Standardization \n",
    "pipeline = Pipeline(steps=[('scaler', preprocessing.StandardScaler()),\n",
    "                   ('model', knn)])\n",
    "\n",
    "# perform cross validation\n",
    "acc = cross_val_score(estimator=pipeline, \n",
    "                         X=sampled_X_450, \n",
    "                         y=sampled_Y, \n",
    "                         cv=5\n",
    "                        )\n",
    "\n",
    "print(\"Accuracy knn using best 450 features: %0.2f (+/- %0.2f)\" % (acc.mean(), acc.std() * 2))"
   ]
  },
  {
   "cell_type": "markdown",
   "id": "a642918f",
   "metadata": {},
   "source": [
    "#### Select best 500 features, data balancing, splitting, training and evaluating"
   ]
  },
  {
   "cell_type": "code",
   "execution_count": 203,
   "id": "5ea8a598",
   "metadata": {},
   "outputs": [],
   "source": [
    "#first 500 atures with high correlation\n",
    "high_cor_500=cor_target.iloc[cor_target.argsort()[-501:-1]]\n",
    "\n",
    "# select 350 features\n",
    "selected_500_x = df[high_cor_500.index]\n",
    "\n",
    "# Fit the model to generate the data with 450 features dataset\n",
    "oversampled_X_500, oversampled_Y = ros.fit_resample(selected_500_x, Y)\n",
    "sampled_X_500, sampled_Y = rus.fit_resample(oversampled_X_500, oversampled_Y)"
   ]
  },
  {
   "cell_type": "code",
   "execution_count": 204,
   "id": "1ddba9bf",
   "metadata": {},
   "outputs": [
    {
     "name": "stdout",
     "output_type": "stream",
     "text": [
      "Accuracy knn using best 500 features: 0.98 (+/- 0.03)\n"
     ]
    }
   ],
   "source": [
    "# perform cross validation -> best 500 features \n",
    "# create pipeline - > Standardization \n",
    "pipeline = Pipeline(steps=[('scaler', preprocessing.StandardScaler()),\n",
    "                   ('model', knn)])\n",
    "\n",
    "# perform cross validation\n",
    "acc = cross_val_score(estimator=pipeline, \n",
    "                         X=sampled_X_500, \n",
    "                         y=sampled_Y, \n",
    "                         cv=5\n",
    "                        )\n",
    "\n",
    "\n",
    "print(\"Accuracy knn using best 500 features: %0.2f (+/- %0.2f)\" % (acc.mean(), acc.std() * 2))"
   ]
  },
  {
   "cell_type": "markdown",
   "id": "8e4aa99a",
   "metadata": {},
   "source": [
    "-----\n"
   ]
  },
  {
   "cell_type": "markdown",
   "id": "5dd1bf6a",
   "metadata": {},
   "source": [
    "##### Selected SVM with linear kernal."
   ]
  },
  {
   "cell_type": "markdown",
   "id": "8c5f883d",
   "metadata": {},
   "source": [
    "Selected Features are impoerted in a csv file"
   ]
  },
  {
   "cell_type": "code",
   "execution_count": 192,
   "id": "4e634604",
   "metadata": {},
   "outputs": [],
   "source": [
    "import csv\n",
    "with open('features.csv', 'w', encoding='UTF8',newline='') as f:\n",
    "    writer = csv.writer(f)\n",
    "    \n",
    "    for i in range(sampled_X_400.shape[1]):\n",
    "        # write the data\n",
    "        writer.writerow([sampled_X_400.columns[i]])"
   ]
  },
  {
   "cell_type": "code",
   "execution_count": null,
   "id": "41aa7807",
   "metadata": {},
   "outputs": [],
   "source": []
  }
 ],
 "metadata": {
  "kernelspec": {
   "display_name": "Python 3 (ipykernel)",
   "language": "python",
   "name": "python3"
  },
  "language_info": {
   "codemirror_mode": {
    "name": "ipython",
    "version": 3
   },
   "file_extension": ".py",
   "mimetype": "text/x-python",
   "name": "python",
   "nbconvert_exporter": "python",
   "pygments_lexer": "ipython3",
   "version": "3.11.4"
  }
 },
 "nbformat": 4,
 "nbformat_minor": 5
}
