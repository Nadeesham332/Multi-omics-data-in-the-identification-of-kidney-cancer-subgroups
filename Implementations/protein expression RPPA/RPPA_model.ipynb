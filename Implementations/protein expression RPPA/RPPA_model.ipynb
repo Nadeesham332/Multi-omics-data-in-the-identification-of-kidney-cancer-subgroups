{
 "cells": [
  {
   "cell_type": "markdown",
   "id": "24d5437f",
   "metadata": {},
   "source": [
    "## Dataset initialization"
   ]
  },
  {
   "cell_type": "code",
   "execution_count": 1,
   "id": "72fa5628",
   "metadata": {},
   "outputs": [],
   "source": [
    "import pandas as pd\n",
    "\n",
    "#import data sets in protein data\n",
    "df0=pd.read_csv('KIRC_RPPA.data',sep='\\t').set_index('sample').T\n",
    "df1=pd.read_csv('KIRP_RPPA.data',sep='\\t').set_index('sample').T\n",
    "df2=pd.read_csv('KICH_RPPA.data',sep='\\t').set_index('sample').T\n"
   ]
  },
  {
   "cell_type": "code",
   "execution_count": 2,
   "id": "b9c8cf7b",
   "metadata": {
    "scrolled": true
   },
   "outputs": [
    {
     "data": {
      "text/plain": [
       "((478, 274), (216, 225), (63, 220))"
      ]
     },
     "execution_count": 2,
     "metadata": {},
     "output_type": "execute_result"
    }
   ],
   "source": [
    "df0.shape, df1.shape, df2.shape"
   ]
  },
  {
   "cell_type": "markdown",
   "id": "f306a21c",
   "metadata": {},
   "source": [
    "## Preprocessing"
   ]
  },
  {
   "cell_type": "markdown",
   "id": "ef6827f8",
   "metadata": {},
   "source": [
    "### 1. Data Integration"
   ]
  },
  {
   "cell_type": "code",
   "execution_count": 3,
   "id": "4fe0adf4",
   "metadata": {},
   "outputs": [],
   "source": [
    "df=pd.concat([df0, df1, df2])"
   ]
  },
  {
   "cell_type": "code",
   "execution_count": 4,
   "id": "f6e4b7d7",
   "metadata": {},
   "outputs": [
    {
     "data": {
      "text/plain": [
       "(757, 279)"
      ]
     },
     "execution_count": 4,
     "metadata": {},
     "output_type": "execute_result"
    }
   ],
   "source": [
    "df.shape"
   ]
  },
  {
   "cell_type": "markdown",
   "id": "57030f39",
   "metadata": {},
   "source": [
    "### 2. Data Cleaning"
   ]
  },
  {
   "cell_type": "code",
   "execution_count": 5,
   "id": "792e3db5",
   "metadata": {},
   "outputs": [
    {
     "data": {
      "text/plain": [
       "0"
      ]
     },
     "execution_count": 5,
     "metadata": {},
     "output_type": "execute_result"
    }
   ],
   "source": [
    "# number of duplicates\n",
    "df.duplicated().sum()"
   ]
  },
  {
   "cell_type": "code",
   "execution_count": 6,
   "id": "7f3e7e4c",
   "metadata": {},
   "outputs": [
    {
     "data": {
      "text/plain": [
       "sample\n",
       "14-3-3_beta-R-V         0\n",
       "14-3-3_epsilon-M-C      0\n",
       "14-3-3_zeta-R-V         0\n",
       "4E-BP1-R-V              0\n",
       "4E-BP1_pS65-R-V         0\n",
       "                     ... \n",
       "Bak-R-E               549\n",
       "C-Raf_pS338-R-E       549\n",
       "Chk2_pT68-R-E         549\n",
       "Caspase-3-R-E         549\n",
       "Caspase-9-R-E         549\n",
       "Length: 279, dtype: int64"
      ]
     },
     "execution_count": 6,
     "metadata": {},
     "output_type": "execute_result"
    }
   ],
   "source": [
    "df.isnull().sum()"
   ]
  },
  {
   "cell_type": "code",
   "execution_count": 7,
   "id": "750c94cb",
   "metadata": {},
   "outputs": [
    {
     "data": {
      "text/plain": [
       "104"
      ]
     },
     "execution_count": 7,
     "metadata": {},
     "output_type": "execute_result"
    }
   ],
   "source": [
    "# Count the null values containing features\n",
    "n=(df.isnull().sum()>0).sum()\n",
    "n"
   ]
  },
  {
   "cell_type": "code",
   "execution_count": 8,
   "id": "f4abddb3",
   "metadata": {},
   "outputs": [
    {
     "data": {
      "text/plain": [
       "sample\n",
       "C-Raf_pS338-R-V    662\n",
       "C-Raf_pS338-R-E    549\n",
       "Bak-R-E            549\n",
       "Caspase-9-R-E      549\n",
       "Chk2_pT68-R-E      549\n",
       "                  ... \n",
       "Bap1-c-4-M-V       240\n",
       "Bak-R-C            208\n",
       "Chk2_pT68-R-C      208\n",
       "Caspase-3-R-C      208\n",
       "BRCA2-R-C           24\n",
       "Length: 104, dtype: int64"
      ]
     },
     "execution_count": 8,
     "metadata": {},
     "output_type": "execute_result"
    }
   ],
   "source": [
    "# Check the null values\n",
    "df.isnull().sum().sort_values(ascending = False).head(n)"
   ]
  },
  {
   "cell_type": "code",
   "execution_count": 9,
   "id": "a978a244",
   "metadata": {},
   "outputs": [],
   "source": [
    "# drop the null values\n",
    "df=df.dropna(axis=1)"
   ]
  },
  {
   "cell_type": "code",
   "execution_count": 10,
   "id": "f4a660ed",
   "metadata": {},
   "outputs": [
    {
     "data": {
      "text/plain": [
       "(757, 175)"
      ]
     },
     "execution_count": 10,
     "metadata": {},
     "output_type": "execute_result"
    }
   ],
   "source": [
    "df.shape"
   ]
  },
  {
   "cell_type": "code",
   "execution_count": 11,
   "id": "e8ed831d",
   "metadata": {},
   "outputs": [
    {
     "name": "stdout",
     "output_type": "stream",
     "text": [
      "Count of zeros\n",
      "\t 14-3-3_beta-R-V  :  1\n",
      "\t 14-3-3_epsilon-M-C  :  1\n",
      "\t 4E-BP1_pS65-R-V  :  1\n",
      "\t 4E-BP1_pT37_T46-R-V  :  1\n",
      "\t A-Raf_pS299-R-C  :  1\n",
      "\t ACVRL1-R-C  :  2\n",
      "\t Akt-R-V  :  2\n",
      "\t Akt_pS473-R-V  :  1\n",
      "\t Akt_pT308-R-V  :  2\n",
      "\t AMPK_alpha-R-C  :  1\n",
      "\t c-Kit-R-V  :  1\n",
      "\t CD20-R-C  :  1\n",
      "\t CD49b-M-V  :  1\n",
      "\t CDK1-R-V  :  1\n",
      "\t eIF4G-R-C  :  1\n",
      "\t ER-alpha-R-V  :  1\n",
      "\t ERK2-R-E  :  1\n",
      "\t ETS-1-R-V  :  1\n",
      "\t FOXO3a-R-C  :  1\n",
      "\t FOXO3a_pS318_S321-R-C  :  1\n",
      "\t GATA3-M-V  :  2\n",
      "\t HER2_pY1248-R-C  :  1\n",
      "\t HER3-R-V  :  1\n",
      "\t Heregulin-R-V  :  1\n",
      "\t MEK1_pS217_S221-R-V  :  2\n",
      "\t Mre11-R-C  :  1\n",
      "\t MSH2-M-V  :  1\n",
      "\t N-Ras-M-V  :  1\n",
      "\t NDRG1_pT346-R-V  :  1\n",
      "\t Notch1-R-V  :  1\n",
      "\t p27-R-V  :  1\n",
      "\t p27_pT157-R-C  :  1\n",
      "\t p90RSK_pT359_S363-R-C  :  1\n",
      "\t PAI-1-M-E  :  1\n",
      "\t PDK1-R-V  :  1\n",
      "\t PEA15-R-V  :  1\n",
      "\t PI3K-p85-R-V  :  1\n",
      "\t PKC-delta_pS664-R-V  :  1\n",
      "\t PKC-pan_BetaII_pS660-R-V  :  1\n",
      "\t PR-R-V  :  1\n",
      "\t Rab25-R-V  :  1\n",
      "\t Raptor-R-V  :  1\n",
      "\t Rictor_pT1135-R-V  :  2\n",
      "\t SETD2-R-E  :  1\n",
      "\t SF2-M-V  :  1\n",
      "\t Smad4-M-V  :  1\n",
      "\t Snail-M-E  :  1\n",
      "\t Src-M-V  :  1\n",
      "\t Stathmin-R-V  :  2\n",
      "\t XBP1-G-C  :  1\n",
      "\t c-Abl-R-V  :  1\n",
      "\t CD26-R-V  :  1\n",
      "\t Subtype  :  478\n"
     ]
    }
   ],
   "source": [
    "print('Count of zeros')\n",
    "for column_name in df.columns:\n",
    "    column = df[column_name]\n",
    "    # Get the count of Zeros in column \n",
    "    count = (column == 0).sum()\n",
    "    if(count>0):\n",
    "        print('\\t', column_name, ' : ', count)"
   ]
  },
  {
   "cell_type": "markdown",
   "id": "eddc63eb",
   "metadata": {},
   "source": [
    "### 3. Feature Selection - Pearson correlation coefficient"
   ]
  },
  {
   "cell_type": "code",
   "execution_count": 12,
   "id": "6213b5a7",
   "metadata": {
    "scrolled": true
   },
   "outputs": [
    {
     "data": {
      "text/html": [
       "<div>\n",
       "<style scoped>\n",
       "    .dataframe tbody tr th:only-of-type {\n",
       "        vertical-align: middle;\n",
       "    }\n",
       "\n",
       "    .dataframe tbody tr th {\n",
       "        vertical-align: top;\n",
       "    }\n",
       "\n",
       "    .dataframe thead th {\n",
       "        text-align: right;\n",
       "    }\n",
       "</style>\n",
       "<table border=\"1\" class=\"dataframe\">\n",
       "  <thead>\n",
       "    <tr style=\"text-align: right;\">\n",
       "      <th>sample</th>\n",
       "      <th>14-3-3_beta-R-V</th>\n",
       "      <th>14-3-3_epsilon-M-C</th>\n",
       "      <th>14-3-3_zeta-R-V</th>\n",
       "      <th>4E-BP1-R-V</th>\n",
       "      <th>4E-BP1_pS65-R-V</th>\n",
       "      <th>4E-BP1_pT37_T46-R-V</th>\n",
       "      <th>A-Raf_pS299-R-C</th>\n",
       "      <th>ACC_pS79-R-V</th>\n",
       "      <th>ACVRL1-R-C</th>\n",
       "      <th>ADAR1-M-V</th>\n",
       "      <th>...</th>\n",
       "      <th>COG3-R-V</th>\n",
       "      <th>DUSP4-R-V</th>\n",
       "      <th>ERCC5-R-C</th>\n",
       "      <th>IGF1R_pY1135_Y1136-R-V</th>\n",
       "      <th>IRF-1-R-C</th>\n",
       "      <th>Jak2-R-V</th>\n",
       "      <th>p16_INK4a-R-V</th>\n",
       "      <th>SHP-2_pY542-R-C</th>\n",
       "      <th>CDK1_pY15-R-C</th>\n",
       "      <th>Subtype</th>\n",
       "    </tr>\n",
       "    <tr>\n",
       "      <th>sample</th>\n",
       "      <th></th>\n",
       "      <th></th>\n",
       "      <th></th>\n",
       "      <th></th>\n",
       "      <th></th>\n",
       "      <th></th>\n",
       "      <th></th>\n",
       "      <th></th>\n",
       "      <th></th>\n",
       "      <th></th>\n",
       "      <th></th>\n",
       "      <th></th>\n",
       "      <th></th>\n",
       "      <th></th>\n",
       "      <th></th>\n",
       "      <th></th>\n",
       "      <th></th>\n",
       "      <th></th>\n",
       "      <th></th>\n",
       "      <th></th>\n",
       "      <th></th>\n",
       "    </tr>\n",
       "  </thead>\n",
       "  <tbody>\n",
       "    <tr>\n",
       "      <th>14-3-3_beta-R-V</th>\n",
       "      <td>1.000000</td>\n",
       "      <td>0.282127</td>\n",
       "      <td>0.057649</td>\n",
       "      <td>-0.005319</td>\n",
       "      <td>-0.190227</td>\n",
       "      <td>-0.142432</td>\n",
       "      <td>0.021254</td>\n",
       "      <td>-0.054807</td>\n",
       "      <td>0.323613</td>\n",
       "      <td>-0.101753</td>\n",
       "      <td>...</td>\n",
       "      <td>-0.228872</td>\n",
       "      <td>0.203453</td>\n",
       "      <td>-0.102650</td>\n",
       "      <td>0.131471</td>\n",
       "      <td>0.135617</td>\n",
       "      <td>-0.176417</td>\n",
       "      <td>0.190241</td>\n",
       "      <td>-0.157673</td>\n",
       "      <td>0.237943</td>\n",
       "      <td>-0.050581</td>\n",
       "    </tr>\n",
       "    <tr>\n",
       "      <th>14-3-3_epsilon-M-C</th>\n",
       "      <td>0.282127</td>\n",
       "      <td>1.000000</td>\n",
       "      <td>0.143535</td>\n",
       "      <td>-0.181034</td>\n",
       "      <td>-0.231197</td>\n",
       "      <td>-0.187118</td>\n",
       "      <td>0.034647</td>\n",
       "      <td>-0.189923</td>\n",
       "      <td>0.124563</td>\n",
       "      <td>-0.168872</td>\n",
       "      <td>...</td>\n",
       "      <td>-0.186216</td>\n",
       "      <td>-0.121221</td>\n",
       "      <td>0.063385</td>\n",
       "      <td>0.139435</td>\n",
       "      <td>0.110281</td>\n",
       "      <td>-0.143348</td>\n",
       "      <td>0.051737</td>\n",
       "      <td>-0.197622</td>\n",
       "      <td>-0.082638</td>\n",
       "      <td>-0.107780</td>\n",
       "    </tr>\n",
       "    <tr>\n",
       "      <th>14-3-3_zeta-R-V</th>\n",
       "      <td>0.057649</td>\n",
       "      <td>0.143535</td>\n",
       "      <td>1.000000</td>\n",
       "      <td>0.258529</td>\n",
       "      <td>0.064159</td>\n",
       "      <td>0.146824</td>\n",
       "      <td>0.042066</td>\n",
       "      <td>0.101129</td>\n",
       "      <td>-0.049895</td>\n",
       "      <td>-0.227140</td>\n",
       "      <td>...</td>\n",
       "      <td>-0.164713</td>\n",
       "      <td>-0.132429</td>\n",
       "      <td>0.368309</td>\n",
       "      <td>0.042102</td>\n",
       "      <td>0.118457</td>\n",
       "      <td>0.051270</td>\n",
       "      <td>-0.063512</td>\n",
       "      <td>-0.264804</td>\n",
       "      <td>-0.270578</td>\n",
       "      <td>-0.089059</td>\n",
       "    </tr>\n",
       "    <tr>\n",
       "      <th>4E-BP1-R-V</th>\n",
       "      <td>-0.005319</td>\n",
       "      <td>-0.181034</td>\n",
       "      <td>0.258529</td>\n",
       "      <td>1.000000</td>\n",
       "      <td>0.089428</td>\n",
       "      <td>0.208227</td>\n",
       "      <td>0.108455</td>\n",
       "      <td>0.105857</td>\n",
       "      <td>0.016177</td>\n",
       "      <td>0.101847</td>\n",
       "      <td>...</td>\n",
       "      <td>-0.097929</td>\n",
       "      <td>0.207989</td>\n",
       "      <td>-0.040850</td>\n",
       "      <td>-0.090581</td>\n",
       "      <td>-0.004494</td>\n",
       "      <td>-0.082259</td>\n",
       "      <td>0.083774</td>\n",
       "      <td>-0.092836</td>\n",
       "      <td>0.113681</td>\n",
       "      <td>-0.058747</td>\n",
       "    </tr>\n",
       "    <tr>\n",
       "      <th>4E-BP1_pS65-R-V</th>\n",
       "      <td>-0.190227</td>\n",
       "      <td>-0.231197</td>\n",
       "      <td>0.064159</td>\n",
       "      <td>0.089428</td>\n",
       "      <td>1.000000</td>\n",
       "      <td>0.331378</td>\n",
       "      <td>0.001413</td>\n",
       "      <td>0.019991</td>\n",
       "      <td>-0.068369</td>\n",
       "      <td>0.116296</td>\n",
       "      <td>...</td>\n",
       "      <td>0.209355</td>\n",
       "      <td>-0.065528</td>\n",
       "      <td>0.137095</td>\n",
       "      <td>-0.058838</td>\n",
       "      <td>0.166374</td>\n",
       "      <td>0.151133</td>\n",
       "      <td>-0.101683</td>\n",
       "      <td>0.011520</td>\n",
       "      <td>-0.116695</td>\n",
       "      <td>-0.046483</td>\n",
       "    </tr>\n",
       "    <tr>\n",
       "      <th>...</th>\n",
       "      <td>...</td>\n",
       "      <td>...</td>\n",
       "      <td>...</td>\n",
       "      <td>...</td>\n",
       "      <td>...</td>\n",
       "      <td>...</td>\n",
       "      <td>...</td>\n",
       "      <td>...</td>\n",
       "      <td>...</td>\n",
       "      <td>...</td>\n",
       "      <td>...</td>\n",
       "      <td>...</td>\n",
       "      <td>...</td>\n",
       "      <td>...</td>\n",
       "      <td>...</td>\n",
       "      <td>...</td>\n",
       "      <td>...</td>\n",
       "      <td>...</td>\n",
       "      <td>...</td>\n",
       "      <td>...</td>\n",
       "      <td>...</td>\n",
       "    </tr>\n",
       "    <tr>\n",
       "      <th>Jak2-R-V</th>\n",
       "      <td>-0.176417</td>\n",
       "      <td>-0.143348</td>\n",
       "      <td>0.051270</td>\n",
       "      <td>-0.082259</td>\n",
       "      <td>0.151133</td>\n",
       "      <td>-0.038569</td>\n",
       "      <td>-0.083963</td>\n",
       "      <td>0.091769</td>\n",
       "      <td>-0.096963</td>\n",
       "      <td>0.361464</td>\n",
       "      <td>...</td>\n",
       "      <td>0.532319</td>\n",
       "      <td>0.109403</td>\n",
       "      <td>0.342762</td>\n",
       "      <td>-0.214156</td>\n",
       "      <td>0.234592</td>\n",
       "      <td>1.000000</td>\n",
       "      <td>-0.108610</td>\n",
       "      <td>-0.018928</td>\n",
       "      <td>0.149487</td>\n",
       "      <td>-0.052922</td>\n",
       "    </tr>\n",
       "    <tr>\n",
       "      <th>p16_INK4a-R-V</th>\n",
       "      <td>0.190241</td>\n",
       "      <td>0.051737</td>\n",
       "      <td>-0.063512</td>\n",
       "      <td>0.083774</td>\n",
       "      <td>-0.101683</td>\n",
       "      <td>-0.045554</td>\n",
       "      <td>0.040282</td>\n",
       "      <td>-0.000214</td>\n",
       "      <td>0.108453</td>\n",
       "      <td>0.105210</td>\n",
       "      <td>...</td>\n",
       "      <td>-0.074320</td>\n",
       "      <td>0.176436</td>\n",
       "      <td>-0.134029</td>\n",
       "      <td>0.103114</td>\n",
       "      <td>-0.034072</td>\n",
       "      <td>-0.108610</td>\n",
       "      <td>1.000000</td>\n",
       "      <td>0.043022</td>\n",
       "      <td>0.193675</td>\n",
       "      <td>-0.008773</td>\n",
       "    </tr>\n",
       "    <tr>\n",
       "      <th>SHP-2_pY542-R-C</th>\n",
       "      <td>-0.157673</td>\n",
       "      <td>-0.197622</td>\n",
       "      <td>-0.264804</td>\n",
       "      <td>-0.092836</td>\n",
       "      <td>0.011520</td>\n",
       "      <td>0.038410</td>\n",
       "      <td>-0.008697</td>\n",
       "      <td>-0.133218</td>\n",
       "      <td>0.034021</td>\n",
       "      <td>-0.020837</td>\n",
       "      <td>...</td>\n",
       "      <td>0.028638</td>\n",
       "      <td>0.173453</td>\n",
       "      <td>-0.084064</td>\n",
       "      <td>0.442176</td>\n",
       "      <td>-0.150576</td>\n",
       "      <td>-0.018928</td>\n",
       "      <td>0.043022</td>\n",
       "      <td>1.000000</td>\n",
       "      <td>0.181710</td>\n",
       "      <td>0.012917</td>\n",
       "    </tr>\n",
       "    <tr>\n",
       "      <th>CDK1_pY15-R-C</th>\n",
       "      <td>0.237943</td>\n",
       "      <td>-0.082638</td>\n",
       "      <td>-0.270578</td>\n",
       "      <td>0.113681</td>\n",
       "      <td>-0.116695</td>\n",
       "      <td>-0.157399</td>\n",
       "      <td>0.085983</td>\n",
       "      <td>0.210906</td>\n",
       "      <td>0.434927</td>\n",
       "      <td>0.310905</td>\n",
       "      <td>...</td>\n",
       "      <td>0.153795</td>\n",
       "      <td>0.729688</td>\n",
       "      <td>-0.100289</td>\n",
       "      <td>0.017151</td>\n",
       "      <td>-0.114617</td>\n",
       "      <td>0.149487</td>\n",
       "      <td>0.193675</td>\n",
       "      <td>0.181710</td>\n",
       "      <td>1.000000</td>\n",
       "      <td>-0.025506</td>\n",
       "    </tr>\n",
       "    <tr>\n",
       "      <th>Subtype</th>\n",
       "      <td>-0.050581</td>\n",
       "      <td>-0.107780</td>\n",
       "      <td>-0.089059</td>\n",
       "      <td>-0.058747</td>\n",
       "      <td>-0.046483</td>\n",
       "      <td>-0.076820</td>\n",
       "      <td>-0.040433</td>\n",
       "      <td>-0.079118</td>\n",
       "      <td>-0.050251</td>\n",
       "      <td>0.004248</td>\n",
       "      <td>...</td>\n",
       "      <td>-0.009007</td>\n",
       "      <td>0.020134</td>\n",
       "      <td>-0.092362</td>\n",
       "      <td>-0.009201</td>\n",
       "      <td>-0.144549</td>\n",
       "      <td>-0.052922</td>\n",
       "      <td>-0.008773</td>\n",
       "      <td>0.012917</td>\n",
       "      <td>-0.025506</td>\n",
       "      <td>1.000000</td>\n",
       "    </tr>\n",
       "  </tbody>\n",
       "</table>\n",
       "<p>175 rows × 175 columns</p>\n",
       "</div>"
      ],
      "text/plain": [
       "sample              14-3-3_beta-R-V  14-3-3_epsilon-M-C  14-3-3_zeta-R-V  \\\n",
       "sample                                                                     \n",
       "14-3-3_beta-R-V            1.000000            0.282127         0.057649   \n",
       "14-3-3_epsilon-M-C         0.282127            1.000000         0.143535   \n",
       "14-3-3_zeta-R-V            0.057649            0.143535         1.000000   \n",
       "4E-BP1-R-V                -0.005319           -0.181034         0.258529   \n",
       "4E-BP1_pS65-R-V           -0.190227           -0.231197         0.064159   \n",
       "...                             ...                 ...              ...   \n",
       "Jak2-R-V                  -0.176417           -0.143348         0.051270   \n",
       "p16_INK4a-R-V              0.190241            0.051737        -0.063512   \n",
       "SHP-2_pY542-R-C           -0.157673           -0.197622        -0.264804   \n",
       "CDK1_pY15-R-C              0.237943           -0.082638        -0.270578   \n",
       "Subtype                   -0.050581           -0.107780        -0.089059   \n",
       "\n",
       "sample              4E-BP1-R-V  4E-BP1_pS65-R-V  4E-BP1_pT37_T46-R-V  \\\n",
       "sample                                                                 \n",
       "14-3-3_beta-R-V      -0.005319        -0.190227            -0.142432   \n",
       "14-3-3_epsilon-M-C   -0.181034        -0.231197            -0.187118   \n",
       "14-3-3_zeta-R-V       0.258529         0.064159             0.146824   \n",
       "4E-BP1-R-V            1.000000         0.089428             0.208227   \n",
       "4E-BP1_pS65-R-V       0.089428         1.000000             0.331378   \n",
       "...                        ...              ...                  ...   \n",
       "Jak2-R-V             -0.082259         0.151133            -0.038569   \n",
       "p16_INK4a-R-V         0.083774        -0.101683            -0.045554   \n",
       "SHP-2_pY542-R-C      -0.092836         0.011520             0.038410   \n",
       "CDK1_pY15-R-C         0.113681        -0.116695            -0.157399   \n",
       "Subtype              -0.058747        -0.046483            -0.076820   \n",
       "\n",
       "sample              A-Raf_pS299-R-C  ACC_pS79-R-V  ACVRL1-R-C  ADAR1-M-V  ...  \\\n",
       "sample                                                                    ...   \n",
       "14-3-3_beta-R-V            0.021254     -0.054807    0.323613  -0.101753  ...   \n",
       "14-3-3_epsilon-M-C         0.034647     -0.189923    0.124563  -0.168872  ...   \n",
       "14-3-3_zeta-R-V            0.042066      0.101129   -0.049895  -0.227140  ...   \n",
       "4E-BP1-R-V                 0.108455      0.105857    0.016177   0.101847  ...   \n",
       "4E-BP1_pS65-R-V            0.001413      0.019991   -0.068369   0.116296  ...   \n",
       "...                             ...           ...         ...        ...  ...   \n",
       "Jak2-R-V                  -0.083963      0.091769   -0.096963   0.361464  ...   \n",
       "p16_INK4a-R-V              0.040282     -0.000214    0.108453   0.105210  ...   \n",
       "SHP-2_pY542-R-C           -0.008697     -0.133218    0.034021  -0.020837  ...   \n",
       "CDK1_pY15-R-C              0.085983      0.210906    0.434927   0.310905  ...   \n",
       "Subtype                   -0.040433     -0.079118   -0.050251   0.004248  ...   \n",
       "\n",
       "sample              COG3-R-V  DUSP4-R-V  ERCC5-R-C  IGF1R_pY1135_Y1136-R-V  \\\n",
       "sample                                                                       \n",
       "14-3-3_beta-R-V    -0.228872   0.203453  -0.102650                0.131471   \n",
       "14-3-3_epsilon-M-C -0.186216  -0.121221   0.063385                0.139435   \n",
       "14-3-3_zeta-R-V    -0.164713  -0.132429   0.368309                0.042102   \n",
       "4E-BP1-R-V         -0.097929   0.207989  -0.040850               -0.090581   \n",
       "4E-BP1_pS65-R-V     0.209355  -0.065528   0.137095               -0.058838   \n",
       "...                      ...        ...        ...                     ...   \n",
       "Jak2-R-V            0.532319   0.109403   0.342762               -0.214156   \n",
       "p16_INK4a-R-V      -0.074320   0.176436  -0.134029                0.103114   \n",
       "SHP-2_pY542-R-C     0.028638   0.173453  -0.084064                0.442176   \n",
       "CDK1_pY15-R-C       0.153795   0.729688  -0.100289                0.017151   \n",
       "Subtype            -0.009007   0.020134  -0.092362               -0.009201   \n",
       "\n",
       "sample              IRF-1-R-C  Jak2-R-V  p16_INK4a-R-V  SHP-2_pY542-R-C  \\\n",
       "sample                                                                    \n",
       "14-3-3_beta-R-V      0.135617 -0.176417       0.190241        -0.157673   \n",
       "14-3-3_epsilon-M-C   0.110281 -0.143348       0.051737        -0.197622   \n",
       "14-3-3_zeta-R-V      0.118457  0.051270      -0.063512        -0.264804   \n",
       "4E-BP1-R-V          -0.004494 -0.082259       0.083774        -0.092836   \n",
       "4E-BP1_pS65-R-V      0.166374  0.151133      -0.101683         0.011520   \n",
       "...                       ...       ...            ...              ...   \n",
       "Jak2-R-V             0.234592  1.000000      -0.108610        -0.018928   \n",
       "p16_INK4a-R-V       -0.034072 -0.108610       1.000000         0.043022   \n",
       "SHP-2_pY542-R-C     -0.150576 -0.018928       0.043022         1.000000   \n",
       "CDK1_pY15-R-C       -0.114617  0.149487       0.193675         0.181710   \n",
       "Subtype             -0.144549 -0.052922      -0.008773         0.012917   \n",
       "\n",
       "sample              CDK1_pY15-R-C   Subtype  \n",
       "sample                                       \n",
       "14-3-3_beta-R-V          0.237943 -0.050581  \n",
       "14-3-3_epsilon-M-C      -0.082638 -0.107780  \n",
       "14-3-3_zeta-R-V         -0.270578 -0.089059  \n",
       "4E-BP1-R-V               0.113681 -0.058747  \n",
       "4E-BP1_pS65-R-V         -0.116695 -0.046483  \n",
       "...                           ...       ...  \n",
       "Jak2-R-V                 0.149487 -0.052922  \n",
       "p16_INK4a-R-V            0.193675 -0.008773  \n",
       "SHP-2_pY542-R-C          0.181710  0.012917  \n",
       "CDK1_pY15-R-C            1.000000 -0.025506  \n",
       "Subtype                 -0.025506  1.000000  \n",
       "\n",
       "[175 rows x 175 columns]"
      ]
     },
     "execution_count": 12,
     "metadata": {},
     "output_type": "execute_result"
    }
   ],
   "source": [
    "#  use Pearson correlation coefficient to find the best features\n",
    "cor = df.corr(method='pearson')\n",
    "cor"
   ]
  },
  {
   "cell_type": "code",
   "execution_count": 13,
   "id": "2fa6434c",
   "metadata": {
    "scrolled": false
   },
   "outputs": [
    {
     "data": {
      "text/plain": [
       "sample             sample                     \n",
       "GSK3_pS9-R-V       GSK3-alpha-beta_pS21_S9-R-V    0.882082\n",
       "Mre11-R-C          Stathmin-R-V                   0.874103\n",
       "S6_pS240_S244-R-V  S6_pS235_S236-R-V              0.868381\n",
       "GAB2-R-V           MIG-6-M-V                      0.815483\n",
       "Snail-M-E          PARP_cleaved-M-E               0.805666\n",
       "dtype: float64"
      ]
     },
     "execution_count": 13,
     "metadata": {},
     "output_type": "execute_result"
    }
   ],
   "source": [
    "c1 = cor.stack().sort_values(ascending=False).drop_duplicates()\n",
    "high_cor = c1[c1.values!=1]    \n",
    "high_cor[high_cor>0.8]"
   ]
  },
  {
   "cell_type": "code",
   "execution_count": 14,
   "id": "74802ecb",
   "metadata": {},
   "outputs": [],
   "source": [
    "df= df.drop(['GSK3_pS9-R-V','Mre11-R-C','S6_pS240_S244-R-V','GAB2-R-V','GAB2-R-V'], axis=1)"
   ]
  },
  {
   "cell_type": "code",
   "execution_count": 15,
   "id": "68a81285",
   "metadata": {},
   "outputs": [],
   "source": [
    "cor = df.corr(method='pearson')"
   ]
  },
  {
   "cell_type": "code",
   "execution_count": 16,
   "id": "2e153133",
   "metadata": {},
   "outputs": [
    {
     "data": {
      "text/plain": [
       "sample\n",
       "14-3-3_beta-R-V       0.050581\n",
       "14-3-3_epsilon-M-C    0.107780\n",
       "14-3-3_zeta-R-V       0.089059\n",
       "4E-BP1-R-V            0.058747\n",
       "4E-BP1_pS65-R-V       0.046483\n",
       "                        ...   \n",
       "Jak2-R-V              0.052922\n",
       "p16_INK4a-R-V         0.008773\n",
       "SHP-2_pY542-R-C       0.012917\n",
       "CDK1_pY15-R-C         0.025506\n",
       "Subtype               1.000000\n",
       "Name: Subtype, Length: 171, dtype: float64"
      ]
     },
     "execution_count": 16,
     "metadata": {},
     "output_type": "execute_result"
    }
   ],
   "source": [
    "#correlation of variables with the target variable\n",
    "cor_target = abs(cor[\"Subtype\"])\n",
    "cor_target"
   ]
  },
  {
   "cell_type": "code",
   "execution_count": 17,
   "id": "51f580b9",
   "metadata": {
    "scrolled": false
   },
   "outputs": [
    {
     "data": {
      "text/plain": [
       "sample\n",
       "Src_pY527-R-V      0.043179\n",
       "Collagen_VI-R-V    0.043577\n",
       "c-Myc-R-C          0.046295\n",
       "4E-BP1_pS65-R-V    0.046483\n",
       "Notch1-R-V         0.048598\n",
       "                     ...   \n",
       "Bad_pS112-R-V      0.168520\n",
       "PDK1_pS241-R-V     0.169940\n",
       "EGFR-R-V           0.180261\n",
       "GATA3-M-V          0.199628\n",
       "ERCC1-M-V          0.230691\n",
       "Name: Subtype, Length: 100, dtype: float64"
      ]
     },
     "execution_count": 17,
     "metadata": {},
     "output_type": "execute_result"
    }
   ],
   "source": [
    "#first 100 features with high correlation\n",
    "high_cor_100=cor_target.iloc[cor_target.argsort()[-101:-1]]\n",
    "high_cor_100"
   ]
  },
  {
   "cell_type": "code",
   "execution_count": 18,
   "id": "6437fb13",
   "metadata": {
    "scrolled": true
   },
   "outputs": [
    {
     "data": {
      "text/plain": [
       "(757, 100)"
      ]
     },
     "execution_count": 18,
     "metadata": {},
     "output_type": "execute_result"
    }
   ],
   "source": [
    "# select 100 features\n",
    "selected_100_x = df[high_cor_100.index]\n",
    "selected_100_x.shape"
   ]
  },
  {
   "cell_type": "code",
   "execution_count": 19,
   "id": "41992bf1",
   "metadata": {},
   "outputs": [
    {
     "data": {
      "text/plain": [
       "(757, 140)"
      ]
     },
     "execution_count": 19,
     "metadata": {},
     "output_type": "execute_result"
    }
   ],
   "source": [
    "#first 140 features with high correlation\n",
    "high_cor_140=cor_target.iloc[cor_target.argsort()[-141:-1]]\n",
    "\n",
    "# select 140 features\n",
    "selected_140_x = df[high_cor_140.index]\n",
    "selected_140_x.shape"
   ]
  },
  {
   "cell_type": "code",
   "execution_count": 20,
   "id": "e92cf8d2",
   "metadata": {},
   "outputs": [
    {
     "data": {
      "text/plain": [
       "(757, 120)"
      ]
     },
     "execution_count": 20,
     "metadata": {},
     "output_type": "execute_result"
    }
   ],
   "source": [
    "#first 120 features with high correlation\n",
    "high_cor_120=cor_target.iloc[cor_target.argsort()[-121:-1]]\n",
    "\n",
    "# select 120 features\n",
    "selected_120_x = df[high_cor_120.index]\n",
    "selected_120_x.shape"
   ]
  },
  {
   "cell_type": "code",
   "execution_count": 21,
   "id": "bdbb2664",
   "metadata": {},
   "outputs": [
    {
     "data": {
      "text/plain": [
       "(757, 50)"
      ]
     },
     "execution_count": 21,
     "metadata": {},
     "output_type": "execute_result"
    }
   ],
   "source": [
    "#first 50 features with high correlation\n",
    "high_cor_50=cor_target.iloc[cor_target.argsort()[-51:-1]]\n",
    "\n",
    "# select 50 features\n",
    "selected_50_x = df[high_cor_50.index]\n",
    "selected_50_x.shape"
   ]
  },
  {
   "cell_type": "code",
   "execution_count": 22,
   "id": "c93e25fa",
   "metadata": {},
   "outputs": [
    {
     "data": {
      "text/plain": [
       "(757, 20)"
      ]
     },
     "execution_count": 22,
     "metadata": {},
     "output_type": "execute_result"
    }
   ],
   "source": [
    "#first 20 features with high correlation\n",
    "high_cor_20=cor_target.iloc[cor_target.argsort()[-21:-1]]\n",
    "\n",
    "# select 20 features\n",
    "selected_20_x = df[high_cor_20.index]\n",
    "selected_20_x.shape"
   ]
  },
  {
   "cell_type": "markdown",
   "id": "474e8fcd",
   "metadata": {},
   "source": [
    "### 4.Dataset balancing"
   ]
  },
  {
   "cell_type": "code",
   "execution_count": 23,
   "id": "a5e6c487",
   "metadata": {
    "scrolled": true
   },
   "outputs": [
    {
     "data": {
      "text/plain": [
       "0.0    478\n",
       "1.0    216\n",
       "2.0     63\n",
       "Name: Subtype, dtype: int64"
      ]
     },
     "execution_count": 23,
     "metadata": {},
     "output_type": "execute_result"
    }
   ],
   "source": [
    "df['Subtype'].value_counts()"
   ]
  },
  {
   "cell_type": "markdown",
   "id": "16d5f474",
   "metadata": {},
   "source": [
    "- Dataset is unbalance"
   ]
  },
  {
   "cell_type": "markdown",
   "id": "d5d354dc",
   "metadata": {},
   "source": [
    "#### Oversampling amd undersampling"
   ]
  },
  {
   "cell_type": "code",
   "execution_count": 24,
   "id": "cdce4e91",
   "metadata": {},
   "outputs": [],
   "source": [
    "from imblearn.under_sampling import RandomUnderSampler\n",
    "from imblearn.over_sampling import RandomOverSampler\n",
    "\n",
    "# Resampling the minority class.\n",
    "ros = RandomOverSampler(sampling_strategy={2: 100}, random_state=42)\n",
    "\n",
    "# Resampling the majority classes.\n",
    "rus = RandomUnderSampler(sampling_strategy={0: 100,1:100}, random_state=42)"
   ]
  },
  {
   "cell_type": "code",
   "execution_count": 25,
   "id": "6dfacef2",
   "metadata": {},
   "outputs": [],
   "source": [
    "Y=df['Subtype']"
   ]
  },
  {
   "cell_type": "code",
   "execution_count": 26,
   "id": "a59fd50d",
   "metadata": {},
   "outputs": [],
   "source": [
    "x=df.drop(['Subtype'], axis=1)"
   ]
  },
  {
   "cell_type": "code",
   "execution_count": 27,
   "id": "fc1158c8",
   "metadata": {},
   "outputs": [],
   "source": [
    "# Fit the model to generate the data with all features dataset\n",
    "oversampled_X, oversampled_Y = ros.fit_sample(x, Y)\n",
    "sampled_X, sampled_Y = rus.fit_sample(oversampled_X, oversampled_Y)"
   ]
  },
  {
   "cell_type": "code",
   "execution_count": 28,
   "id": "86689919",
   "metadata": {},
   "outputs": [],
   "source": [
    "# Fit the model to generate the data with 100 features dataset\n",
    "oversampled_X_100, oversampled_Y = ros.fit_sample(selected_100_x, Y)\n",
    "sampled_X_100, sampled_Y = rus.fit_sample(oversampled_X_100, oversampled_Y)"
   ]
  },
  {
   "cell_type": "code",
   "execution_count": 29,
   "id": "3fa40bf3",
   "metadata": {},
   "outputs": [],
   "source": [
    "# Fit the model to generate the data with 50 features dataset\n",
    "oversampled_X_50, oversampled_Y = ros.fit_sample(selected_50_x, Y)\n",
    "sampled_X_50, sampled_Y = rus.fit_sample(oversampled_X_50, oversampled_Y)"
   ]
  },
  {
   "cell_type": "code",
   "execution_count": 30,
   "id": "a6d6dd9f",
   "metadata": {},
   "outputs": [],
   "source": [
    "# Fit the model to generate the data with 20 features dataset\n",
    "oversampled_X_20, oversampled_Y = ros.fit_sample(selected_20_x, Y)\n",
    "sampled_X_20, sampled_Y = rus.fit_sample(oversampled_X_20, oversampled_Y)"
   ]
  },
  {
   "cell_type": "code",
   "execution_count": 31,
   "id": "ab9ec62a",
   "metadata": {},
   "outputs": [
    {
     "data": {
      "text/plain": [
       "0.0    100\n",
       "2.0    100\n",
       "1.0    100\n",
       "Name: Subtype, dtype: int64"
      ]
     },
     "execution_count": 31,
     "metadata": {},
     "output_type": "execute_result"
    }
   ],
   "source": [
    "sampled_Y.value_counts()"
   ]
  },
  {
   "cell_type": "markdown",
   "id": "3fd59a36",
   "metadata": {},
   "source": [
    "- balanced dataset"
   ]
  },
  {
   "cell_type": "markdown",
   "id": "f97636b0",
   "metadata": {},
   "source": [
    "### 5. Feature Scaling"
   ]
  },
  {
   "cell_type": "code",
   "execution_count": 36,
   "id": "5b8d859f",
   "metadata": {
    "scrolled": false
   },
   "outputs": [
    {
     "data": {
      "text/plain": [
       "sample\n",
       "14-3-3_beta-R-V      -0.390179\n",
       "14-3-3_epsilon-M-C   -1.299078\n",
       "14-3-3_zeta-R-V      -1.698607\n",
       "4E-BP1-R-V           -0.882929\n",
       "4E-BP1_pS65-R-V      -0.629296\n",
       "                        ...   \n",
       "IRF-1-R-C            -0.785871\n",
       "Jak2-R-V             -1.373935\n",
       "p16_INK4a-R-V        -1.282165\n",
       "SHP-2_pY542-R-C      -1.214466\n",
       "CDK1_pY15-R-C        -1.033109\n",
       "Length: 170, dtype: float64"
      ]
     },
     "execution_count": 36,
     "metadata": {},
     "output_type": "execute_result"
    }
   ],
   "source": [
    "sampled_X.min(axis=0)"
   ]
  },
  {
   "cell_type": "code",
   "execution_count": 37,
   "id": "da3c0520",
   "metadata": {
    "scrolled": true
   },
   "outputs": [
    {
     "data": {
      "text/plain": [
       "sample\n",
       "14-3-3_beta-R-V       3.525614\n",
       "14-3-3_epsilon-M-C    0.776155\n",
       "14-3-3_zeta-R-V       3.006176\n",
       "4E-BP1-R-V            1.391335\n",
       "4E-BP1_pS65-R-V       1.335491\n",
       "                        ...   \n",
       "IRF-1-R-C             0.775634\n",
       "Jak2-R-V              0.910209\n",
       "p16_INK4a-R-V         2.670539\n",
       "SHP-2_pY542-R-C       1.106518\n",
       "CDK1_pY15-R-C         1.636179\n",
       "Length: 170, dtype: float64"
      ]
     },
     "execution_count": 37,
     "metadata": {},
     "output_type": "execute_result"
    }
   ],
   "source": [
    "sampled_X.max(axis=0)"
   ]
  },
  {
   "cell_type": "markdown",
   "id": "438106ba",
   "metadata": {},
   "source": [
    "## Test SVM model"
   ]
  },
  {
   "cell_type": "code",
   "execution_count": 38,
   "id": "abab92ff",
   "metadata": {},
   "outputs": [],
   "source": [
    "from sklearn import svm\n",
    "from sklearn.model_selection import cross_val_score"
   ]
  },
  {
   "cell_type": "markdown",
   "id": "08606e6d",
   "metadata": {},
   "source": [
    "#### Check the kernels in SVM "
   ]
  },
  {
   "cell_type": "code",
   "execution_count": 39,
   "id": "6f592f99",
   "metadata": {
    "scrolled": true
   },
   "outputs": [
    {
     "name": "stdout",
     "output_type": "stream",
     "text": [
      "Accuracy SVM with rbf kernel: 0.88 (+/- 0.06)\n"
     ]
    }
   ],
   "source": [
    "acc = cross_val_score(svm.SVC(random_state=0), sampled_X, sampled_Y, cv=5)\n",
    "print(\"Accuracy SVM with rbf kernel: %0.2f (+/- %0.2f)\" % (acc.mean(), acc.std() * 2))"
   ]
  },
  {
   "cell_type": "code",
   "execution_count": 40,
   "id": "d0655027",
   "metadata": {},
   "outputs": [
    {
     "name": "stdout",
     "output_type": "stream",
     "text": [
      "Accuracy SVM with poly kernel: 0.47 (+/- 0.08)\n"
     ]
    }
   ],
   "source": [
    "acc = cross_val_score(svm.SVC(kernel='poly',random_state=0), sampled_X, sampled_Y, cv=5)\n",
    "print(\"Accuracy SVM with poly kernel: %0.2f (+/- %0.2f)\" % (acc.mean(), acc.std() * 2))"
   ]
  },
  {
   "cell_type": "code",
   "execution_count": 41,
   "id": "d374c201",
   "metadata": {},
   "outputs": [
    {
     "name": "stdout",
     "output_type": "stream",
     "text": [
      "Accuracy SVM with linear kernel: 0.82 (+/- 0.13)\n"
     ]
    }
   ],
   "source": [
    "acc = cross_val_score(svm.SVC(kernel='linear',random_state=0), sampled_X, sampled_Y, cv=5)\n",
    "print(\"Accuracy SVM with linear kernel: %0.2f (+/- %0.2f)\" % (acc.mean(), acc.std() * 2))"
   ]
  },
  {
   "cell_type": "code",
   "execution_count": 42,
   "id": "1e7fb679",
   "metadata": {},
   "outputs": [
    {
     "name": "stdout",
     "output_type": "stream",
     "text": [
      "Accuracy SVM with sigmoid kernel: 0.64 (+/- 0.05)\n"
     ]
    }
   ],
   "source": [
    "acc = cross_val_score(svm.SVC(kernel='sigmoid',random_state=0), sampled_X, sampled_Y, cv=5)\n",
    "print(\"Accuracy SVM with sigmoid kernel: %0.2f (+/- %0.2f)\" % (acc.mean(), acc.std() * 2))"
   ]
  },
  {
   "cell_type": "markdown",
   "id": "0b372943",
   "metadata": {},
   "source": [
    "- rbf performed well"
   ]
  },
  {
   "cell_type": "markdown",
   "id": "7bcc6963",
   "metadata": {},
   "source": [
    "#### Check the feature scaling method to SVM"
   ]
  },
  {
   "cell_type": "code",
   "execution_count": 43,
   "id": "7c25dbb3",
   "metadata": {},
   "outputs": [],
   "source": [
    "svc=svm.SVC(random_state=0)"
   ]
  },
  {
   "cell_type": "code",
   "execution_count": 45,
   "id": "8eb9c5d4",
   "metadata": {},
   "outputs": [
    {
     "name": "stdout",
     "output_type": "stream",
     "text": [
      "Accuracy SVM without transformation: 0.88 (+/- 0.06)\n"
     ]
    }
   ],
   "source": [
    "acc = cross_val_score(svc, sampled_X, sampled_Y, cv=5)\n",
    "print(\"Accuracy SVM without transformation: %0.2f (+/- %0.2f)\" % (acc.mean(), acc.std() * 2))"
   ]
  },
  {
   "cell_type": "code",
   "execution_count": 46,
   "id": "4ac050e3",
   "metadata": {},
   "outputs": [],
   "source": [
    "from sklearn.pipeline import Pipeline\n",
    "from sklearn.preprocessing import StandardScaler\n",
    "from sklearn import preprocessing"
   ]
  },
  {
   "cell_type": "code",
   "execution_count": 63,
   "id": "394df196",
   "metadata": {},
   "outputs": [
    {
     "name": "stdout",
     "output_type": "stream",
     "text": [
      "Accuracy SVM with Standardization: 0.93 (+/- 0.06)\n"
     ]
    }
   ],
   "source": [
    "# create pipeline -> Standardization\n",
    "pipeline = Pipeline(steps=[('scaler', StandardScaler()),\n",
    "                   ('model',svc)])\n",
    "\n",
    "# perform cross validation\n",
    "acc = cross_val_score(estimator=pipeline, \n",
    "                         X=sampled_X, \n",
    "                         y=sampled_Y, \n",
    "                         cv=5\n",
    "                        )\n",
    "\n",
    "print(\"Accuracy SVM with Standardization: %0.2f (+/- %0.2f)\" % (acc.mean(), acc.std() * 2))"
   ]
  },
  {
   "cell_type": "code",
   "execution_count": 64,
   "id": "991d4b4f",
   "metadata": {},
   "outputs": [
    {
     "name": "stdout",
     "output_type": "stream",
     "text": [
      "Accuracy SVM with Normalizaton: 0.89 (+/- 0.06)\n"
     ]
    }
   ],
   "source": [
    "# create pipeline - > Normalizaton\n",
    "pipeline = Pipeline(steps=[('scaler', preprocessing.MinMaxScaler()),\n",
    "                   ('model', svc)])\n",
    "\n",
    "# perform cross validation\n",
    "acc = cross_val_score(estimator=pipeline, \n",
    "                         X=sampled_X, \n",
    "                         y=sampled_Y, \n",
    "                         cv=5\n",
    "                        )\n",
    "\n",
    "print(\"Accuracy SVM with Normalizaton: %0.2f (+/- %0.2f)\" % (acc.mean(), acc.std() * 2))"
   ]
  },
  {
   "cell_type": "markdown",
   "id": "ddca5d03",
   "metadata": {},
   "source": [
    "- Standardization performed well"
   ]
  },
  {
   "cell_type": "markdown",
   "id": "c688721d",
   "metadata": {},
   "source": [
    "#### Feaure scaling with stadardization and evaluation"
   ]
  },
  {
   "cell_type": "code",
   "execution_count": 65,
   "id": "2068bc59",
   "metadata": {},
   "outputs": [],
   "source": [
    "# create pipeline \n",
    "pipeline = Pipeline(steps=[('scaler', StandardScaler()),\n",
    "                   ('model', svc)])"
   ]
  },
  {
   "cell_type": "code",
   "execution_count": 66,
   "id": "b5ea4181",
   "metadata": {},
   "outputs": [
    {
     "name": "stdout",
     "output_type": "stream",
     "text": [
      "Accuracy SVM using best 20 features: 0.78 (+/- 0.12)\n"
     ]
    }
   ],
   "source": [
    "# perform cross validation -> best 20 features \n",
    "acc = cross_val_score(estimator=pipeline, \n",
    "                         X=sampled_X_20, \n",
    "                         y=sampled_Y, \n",
    "                         cv=5\n",
    "                        )\n",
    "\n",
    "print(\"Accuracy SVM using best 20 features: %0.2f (+/- %0.2f)\" % (acc.mean(), acc.std() * 2))"
   ]
  },
  {
   "cell_type": "code",
   "execution_count": 67,
   "id": "f3e721ed",
   "metadata": {},
   "outputs": [
    {
     "name": "stdout",
     "output_type": "stream",
     "text": [
      "Accuracy SVM using best 50 features: 0.88 (+/- 0.07)\n"
     ]
    }
   ],
   "source": [
    "# perform cross validation -> best 50 features \n",
    "acc = cross_val_score(estimator=pipeline, \n",
    "                         X=sampled_X_50, \n",
    "                         y=sampled_Y, \n",
    "                         cv=5\n",
    "                        )\n",
    "\n",
    "print(\"Accuracy SVM using best 50 features: %0.2f (+/- %0.2f)\" % (acc.mean(), acc.std() * 2))"
   ]
  },
  {
   "cell_type": "code",
   "execution_count": 68,
   "id": "69c59821",
   "metadata": {},
   "outputs": [
    {
     "name": "stdout",
     "output_type": "stream",
     "text": [
      "Accuracy SVM using best 100 features: 0.90 (+/- 0.04)\n"
     ]
    }
   ],
   "source": [
    "# perform cross validation -> best 100 features \n",
    "acc = cross_val_score(estimator=pipeline, \n",
    "                         X=sampled_X_100, \n",
    "                         y=sampled_Y, \n",
    "                         cv=5\n",
    "                        )\n",
    "\n",
    "print(\"Accuracy SVM using best 100 features: %0.2f (+/- %0.2f)\" % (acc.mean(), acc.std() * 2))"
   ]
  },
  {
   "cell_type": "markdown",
   "id": "1f78cabc",
   "metadata": {},
   "source": [
    "#### Select best 120 features, data balancing, splitting, scalling and evaluating"
   ]
  },
  {
   "cell_type": "code",
   "execution_count": 69,
   "id": "268c93c0",
   "metadata": {},
   "outputs": [
    {
     "data": {
      "text/plain": [
       "(757, 120)"
      ]
     },
     "execution_count": 69,
     "metadata": {},
     "output_type": "execute_result"
    }
   ],
   "source": [
    "#first 120 atures with high correlation\n",
    "high_cor_120=cor_target.iloc[cor_target.argsort()[-121:-1]]\n",
    "\n",
    "# select 120 features\n",
    "selected_120_x = df[high_cor_120.index]\n",
    "selected_120_x.shape"
   ]
  },
  {
   "cell_type": "code",
   "execution_count": 70,
   "id": "43f9a72c",
   "metadata": {},
   "outputs": [],
   "source": [
    "# Fit the model to generate the data with 120 features dataset\n",
    "oversampled_X_120, oversampled_Y = ros.fit_sample(selected_120_x, Y)\n",
    "sampled_X_120, sampled_Y = rus.fit_sample(oversampled_X_120, oversampled_Y)"
   ]
  },
  {
   "cell_type": "code",
   "execution_count": 71,
   "id": "5383a84d",
   "metadata": {},
   "outputs": [
    {
     "name": "stdout",
     "output_type": "stream",
     "text": [
      "Accuracy SVM using best 120 features: 0.91 (+/- 0.06)\n"
     ]
    }
   ],
   "source": [
    "# perform cross validation -> best 120 features \n",
    "acc = cross_val_score(estimator=pipeline, \n",
    "                         X=sampled_X_120, \n",
    "                         y=sampled_Y, \n",
    "                         cv=4\n",
    "                        )\n",
    "\n",
    "print(\"Accuracy SVM using best 120 features: %0.2f (+/- %0.2f)\" % (acc.mean(), acc.std() * 2))"
   ]
  },
  {
   "cell_type": "markdown",
   "id": "e483370f",
   "metadata": {},
   "source": [
    "#### Select best 140 features, data balancing, splitting, scalling and evaluating"
   ]
  },
  {
   "cell_type": "code",
   "execution_count": 72,
   "id": "615dbe35",
   "metadata": {},
   "outputs": [
    {
     "data": {
      "text/plain": [
       "(757, 140)"
      ]
     },
     "execution_count": 72,
     "metadata": {},
     "output_type": "execute_result"
    }
   ],
   "source": [
    "#first 140 atures with high correlation\n",
    "high_cor_140=cor_target.iloc[cor_target.argsort()[-141:-1]]\n",
    "\n",
    "# select 140 features\n",
    "selected_140_x = df[high_cor_140.index]\n",
    "selected_140_x.shape"
   ]
  },
  {
   "cell_type": "code",
   "execution_count": 73,
   "id": "d4869a22",
   "metadata": {},
   "outputs": [],
   "source": [
    "# Fit the model to generate the data with 120 features dataset\n",
    "oversampled_X_140, oversampled_Y = ros.fit_sample(selected_140_x, Y)\n",
    "sampled_X_140, sampled_Y = rus.fit_sample(oversampled_X_140, oversampled_Y)"
   ]
  },
  {
   "cell_type": "code",
   "execution_count": 74,
   "id": "a4ed3c9e",
   "metadata": {},
   "outputs": [
    {
     "name": "stdout",
     "output_type": "stream",
     "text": [
      "Accuracy SVM using best 140 features: 0.94 (+/- 0.04)\n"
     ]
    }
   ],
   "source": [
    "# perform cross validation -> best 140 features \n",
    "acc = cross_val_score(estimator=pipeline, \n",
    "                         X=sampled_X_140, \n",
    "                         y=sampled_Y, \n",
    "                         cv=5\n",
    "                        )\n",
    "\n",
    "print(\"Accuracy SVM using best 140 features: %0.2f (+/- %0.2f)\" % (acc.mean(), acc.std() * 2))"
   ]
  },
  {
   "cell_type": "markdown",
   "id": "07bbaf06",
   "metadata": {},
   "source": [
    "#### Select best 150 features, data balancing, splitting, training and evaluating"
   ]
  },
  {
   "cell_type": "code",
   "execution_count": 75,
   "id": "3dc84c17",
   "metadata": {},
   "outputs": [
    {
     "data": {
      "text/plain": [
       "(757, 150)"
      ]
     },
     "execution_count": 75,
     "metadata": {},
     "output_type": "execute_result"
    }
   ],
   "source": [
    "#first 150 atures with high correlation\n",
    "high_cor_150=cor_target.iloc[cor_target.argsort()[-151:-1]]\n",
    "\n",
    "# select 150 features\n",
    "selected_150_x = df[high_cor_150.index]\n",
    "selected_150_x.shape"
   ]
  },
  {
   "cell_type": "code",
   "execution_count": 76,
   "id": "9bceff2d",
   "metadata": {},
   "outputs": [],
   "source": [
    "# Fit the model to generate the data with 150 features dataset\n",
    "oversampled_X_150, oversampled_Y = ros.fit_sample(selected_150_x, Y)\n",
    "sampled_X_150, sampled_Y = rus.fit_sample(oversampled_X_150, oversampled_Y)"
   ]
  },
  {
   "cell_type": "code",
   "execution_count": 78,
   "id": "fb2a6147",
   "metadata": {},
   "outputs": [
    {
     "name": "stdout",
     "output_type": "stream",
     "text": [
      "Accuracy SVM using best 150 features: 0.93 (+/- 0.03)\n"
     ]
    }
   ],
   "source": [
    "# perform cross validation -> best 150 features \n",
    "acc = cross_val_score(estimator=pipeline, \n",
    "                         X=sampled_X_150, \n",
    "                         y=sampled_Y, \n",
    "                         cv=5\n",
    "                        )\n",
    "\n",
    "print(\"Accuracy SVM using best 150 features: %0.2f (+/- %0.2f)\" % (acc.mean(), acc.std() * 2))"
   ]
  },
  {
   "cell_type": "markdown",
   "id": "21b65d26",
   "metadata": {},
   "source": [
    "## Test RF model"
   ]
  },
  {
   "cell_type": "code",
   "execution_count": 79,
   "id": "109fcf28",
   "metadata": {},
   "outputs": [],
   "source": [
    "from sklearn.ensemble import RandomForestClassifier"
   ]
  },
  {
   "cell_type": "markdown",
   "id": "e853f6b5",
   "metadata": {},
   "source": [
    "#### RF Parameter optimization"
   ]
  },
  {
   "cell_type": "code",
   "execution_count": 80,
   "id": "8707d247",
   "metadata": {},
   "outputs": [],
   "source": [
    "rfc = RandomForestClassifier()"
   ]
  },
  {
   "cell_type": "code",
   "execution_count": 96,
   "id": "aa2971c3",
   "metadata": {},
   "outputs": [],
   "source": [
    "parameters = {\n",
    "    \"n_estimators\":[100,500,1000],\n",
    "    \"max_depth\":[4,8,16,None],\n",
    "    \"criterion\":['gini', 'entropy'],\n",
    "    \"random_state\": [0]\n",
    "}"
   ]
  },
  {
   "cell_type": "code",
   "execution_count": 97,
   "id": "3c569bf0",
   "metadata": {},
   "outputs": [
    {
     "data": {
      "text/plain": [
       "GridSearchCV(cv=5, estimator=RandomForestClassifier(),\n",
       "             param_grid={'criterion': ['gini', 'entropy'],\n",
       "                         'max_depth': [4, 8, 16, None],\n",
       "                         'n_estimators': [100, 500, 1000],\n",
       "                         'random_state': [0]})"
      ]
     },
     "execution_count": 97,
     "metadata": {},
     "output_type": "execute_result"
    }
   ],
   "source": [
    "from sklearn.model_selection import GridSearchCV\n",
    "cv = GridSearchCV(rfc,parameters,cv=5)\n",
    "cv.fit(sampled_X,sampled_Y)"
   ]
  },
  {
   "cell_type": "code",
   "execution_count": 98,
   "id": "89e0a2c4",
   "metadata": {
    "scrolled": true
   },
   "outputs": [
    {
     "name": "stdout",
     "output_type": "stream",
     "text": [
      "Best parameters are: {'criterion': 'gini', 'max_depth': 8, 'n_estimators': 1000, 'random_state': 0}\n"
     ]
    }
   ],
   "source": [
    "print(f'Best parameters are: {cv.best_params_}')"
   ]
  },
  {
   "cell_type": "code",
   "execution_count": 99,
   "id": "275d6acf",
   "metadata": {},
   "outputs": [],
   "source": [
    "rf=RandomForestClassifier(criterion= 'gini', max_depth= 8, n_estimators= 1000,random_state= 0)"
   ]
  },
  {
   "cell_type": "code",
   "execution_count": 100,
   "id": "6fb9e431",
   "metadata": {},
   "outputs": [
    {
     "name": "stdout",
     "output_type": "stream",
     "text": [
      "Accuracy RF with best_params: 0.97 (+/- 0.03)\n"
     ]
    }
   ],
   "source": [
    "acc = cross_val_score(rf, sampled_X, sampled_Y, cv=5)\n",
    "print(\"Accuracy RF with best_params: %0.2f (+/- %0.2f)\" % (acc.mean(), acc.std() * 2))"
   ]
  },
  {
   "cell_type": "markdown",
   "id": "3dfb52ec",
   "metadata": {},
   "source": [
    "#### Check the feature scaling method to RF"
   ]
  },
  {
   "cell_type": "code",
   "execution_count": 101,
   "id": "a5f47a12",
   "metadata": {
    "scrolled": false
   },
   "outputs": [
    {
     "name": "stdout",
     "output_type": "stream",
     "text": [
      "Accuracy RF without transformation: 0.97 (+/- 0.03)\n"
     ]
    }
   ],
   "source": [
    "acc = cross_val_score(rf, sampled_X, sampled_Y, cv=5)\n",
    "print(\"Accuracy RF without transformation: %0.2f (+/- %0.2f)\" % (acc.mean(), acc.std() * 2))"
   ]
  },
  {
   "cell_type": "code",
   "execution_count": 103,
   "id": "eaf22ba7",
   "metadata": {},
   "outputs": [
    {
     "name": "stdout",
     "output_type": "stream",
     "text": [
      "Accuracy RF with Standardization: 0.97 (+/- 0.03)\n"
     ]
    }
   ],
   "source": [
    "# create pipeline -> Standardization\n",
    "pipeline = Pipeline(steps=[('scaler', StandardScaler()),\n",
    "                   ('model', rf)])\n",
    "\n",
    "# perform cross validation\n",
    "acc = cross_val_score(estimator=pipeline, \n",
    "                         X=sampled_X, \n",
    "                         y=sampled_Y, \n",
    "                         cv=5\n",
    "                        )\n",
    "\n",
    "print(\"Accuracy RF with Standardization: %0.2f (+/- %0.2f)\" % (acc.mean(), acc.std() * 2))"
   ]
  },
  {
   "cell_type": "code",
   "execution_count": 105,
   "id": "c03bb4fb",
   "metadata": {},
   "outputs": [
    {
     "name": "stdout",
     "output_type": "stream",
     "text": [
      "Accuracy SVM with Normalization: 0.97 (+/- 0.03)\n"
     ]
    }
   ],
   "source": [
    "# create pipeline - > Normalizaton\n",
    "pipeline = Pipeline(steps=[('scaler', preprocessing.MinMaxScaler()),\n",
    "                   ('model', rf)])\n",
    "\n",
    "# perform cross validation\n",
    "acc = cross_val_score(estimator=pipeline, \n",
    "                         X=sampled_X, \n",
    "                         y=sampled_Y, \n",
    "                         cv=5\n",
    "                        )\n",
    "\n",
    "print(\"Accuracy SVM with Normalization: %0.2f (+/- %0.2f)\" % (acc.mean(), acc.std() * 2))"
   ]
  },
  {
   "cell_type": "markdown",
   "id": "73ba9185",
   "metadata": {},
   "source": [
    "- No tranformation needed"
   ]
  },
  {
   "cell_type": "markdown",
   "id": "56d91d39",
   "metadata": {},
   "source": [
    "#### Try for different number of features"
   ]
  },
  {
   "cell_type": "code",
   "execution_count": 107,
   "id": "5a0c57c7",
   "metadata": {},
   "outputs": [
    {
     "name": "stdout",
     "output_type": "stream",
     "text": [
      "Accuracy RF using best 20 features: 0.85 (+/- 0.12)\n"
     ]
    }
   ],
   "source": [
    "acc = cross_val_score(rf, sampled_X_20, sampled_Y, cv=5)\n",
    "print(\"Accuracy RF using best 20 features: %0.2f (+/- %0.2f)\" % (acc.mean(), acc.std() * 2))"
   ]
  },
  {
   "cell_type": "code",
   "execution_count": 109,
   "id": "3322f163",
   "metadata": {},
   "outputs": [
    {
     "name": "stdout",
     "output_type": "stream",
     "text": [
      "Accuracy RF using best 50 features: 0.92 (+/- 0.05)\n"
     ]
    }
   ],
   "source": [
    "acc = cross_val_score(rf, sampled_X_50, sampled_Y, cv=5)\n",
    "print(\"Accuracy RF using best 50 features: %0.2f (+/- %0.2f)\" % (acc.mean(), acc.std() * 2))"
   ]
  },
  {
   "cell_type": "code",
   "execution_count": 111,
   "id": "c978c6a2",
   "metadata": {},
   "outputs": [
    {
     "name": "stdout",
     "output_type": "stream",
     "text": [
      "Accuracy RF using best 100 features: 0.94 (+/- 0.05)\n"
     ]
    }
   ],
   "source": [
    "acc = cross_val_score(rf, sampled_X_100, sampled_Y, cv=5)\n",
    "print(\"Accuracy RF using best 100 features: %0.2f (+/- %0.2f)\" % (acc.mean(), acc.std() * 2))"
   ]
  },
  {
   "cell_type": "code",
   "execution_count": 113,
   "id": "59b8e090",
   "metadata": {},
   "outputs": [
    {
     "name": "stdout",
     "output_type": "stream",
     "text": [
      "Accuracy RF using best 120 features: 0.95 (+/- 0.03)\n"
     ]
    }
   ],
   "source": [
    "acc = cross_val_score(rf, sampled_X_120, sampled_Y, cv=5)\n",
    "print(\"Accuracy RF using best 120 features: %0.2f (+/- %0.2f)\" % (acc.mean(), acc.std() * 2))"
   ]
  },
  {
   "cell_type": "code",
   "execution_count": 114,
   "id": "f3a0be0f",
   "metadata": {},
   "outputs": [
    {
     "name": "stdout",
     "output_type": "stream",
     "text": [
      "Accuracy RF using best 140 features: 0.96 (+/- 0.02)\n"
     ]
    }
   ],
   "source": [
    "acc = cross_val_score(rf, sampled_X_140, sampled_Y, cv=5)\n",
    "print(\"Accuracy RF using best 140 features: %0.2f (+/- %0.2f)\" % (acc.mean(), acc.std() * 2))"
   ]
  },
  {
   "cell_type": "code",
   "execution_count": 115,
   "id": "9302d98f",
   "metadata": {
    "scrolled": true
   },
   "outputs": [
    {
     "name": "stdout",
     "output_type": "stream",
     "text": [
      "Accuracy RF using best 150 features: 0.96 (+/- 0.02)\n"
     ]
    }
   ],
   "source": [
    "# perform cross validation -> best 150 features \n",
    "acc = cross_val_score(rf, sampled_X_150, sampled_Y, cv=5)\n",
    "print(\"Accuracy RF using best 150 features: %0.2f (+/- %0.2f)\" % (acc.mean(), acc.std() * 2))"
   ]
  },
  {
   "cell_type": "markdown",
   "id": "98916014",
   "metadata": {},
   "source": [
    "#### Select best 160 features, data balancing, splitting, training and evaluating"
   ]
  },
  {
   "cell_type": "code",
   "execution_count": 117,
   "id": "1115346a",
   "metadata": {},
   "outputs": [
    {
     "data": {
      "text/plain": [
       "(757, 160)"
      ]
     },
     "execution_count": 117,
     "metadata": {},
     "output_type": "execute_result"
    }
   ],
   "source": [
    "#first 160 atures with high correlation\n",
    "high_cor_160=cor_target.iloc[cor_target.argsort()[-161:-1]]\n",
    "\n",
    "# select 160 features\n",
    "selected_160_x = df[high_cor_160.index]\n",
    "selected_160_x.shape"
   ]
  },
  {
   "cell_type": "code",
   "execution_count": 118,
   "id": "14949bb7",
   "metadata": {},
   "outputs": [],
   "source": [
    "# Fit the model to generate the data with 150 features dataset\n",
    "oversampled_X_160, oversampled_Y = ros.fit_sample(selected_160_x, Y)\n",
    "sampled_X_160, sampled_Y = rus.fit_sample(oversampled_X_160, oversampled_Y)"
   ]
  },
  {
   "cell_type": "code",
   "execution_count": 119,
   "id": "134d6fe6",
   "metadata": {},
   "outputs": [
    {
     "name": "stdout",
     "output_type": "stream",
     "text": [
      "Accuracy RF using best 160 features: 0.96 (+/- 0.01)\n"
     ]
    }
   ],
   "source": [
    "# perform cross validation -> best 160 features \n",
    "acc = cross_val_score(rf, sampled_X_160, sampled_Y, cv=5)\n",
    "print(\"Accuracy RF using best 160 features: %0.2f (+/- %0.2f)\" % (acc.mean(), acc.std() * 2))"
   ]
  },
  {
   "cell_type": "markdown",
   "id": "49beb0a8",
   "metadata": {},
   "source": [
    "## Test KNN model"
   ]
  },
  {
   "cell_type": "code",
   "execution_count": 120,
   "id": "62d647ac",
   "metadata": {},
   "outputs": [],
   "source": [
    "# K-Nearest Neighbors\n",
    "from sklearn.neighbors import KNeighborsClassifier\n",
    "import matplotlib.pyplot as plt"
   ]
  },
  {
   "cell_type": "markdown",
   "id": "286699e5",
   "metadata": {},
   "source": [
    "#### Find the best k value for KNN "
   ]
  },
  {
   "cell_type": "code",
   "execution_count": 121,
   "id": "fdfd7230",
   "metadata": {
    "scrolled": true
   },
   "outputs": [
    {
     "data": {
      "text/plain": [
       "Text(0, 0.5, 'Accuracy')"
      ]
     },
     "execution_count": 121,
     "metadata": {},
     "output_type": "execute_result"
    },
    {
     "data": {
      "image/png": "[encoded data removed]",
      "text/plain": [
       "<Figure size 576x360 with 1 Axes>"
      ]
     },
     "metadata": {
      "needs_background": "light"
     },
     "output_type": "display_data"
    }
   ],
   "source": [
    "knn_acc = []\n",
    "\n",
    "for i in range(1,10):\n",
    "    knn = KNeighborsClassifier(n_neighbors=i)\n",
    "    acc = cross_val_score(knn, sampled_X, sampled_Y, cv=5)\n",
    "    knn_acc.append(acc.mean())\n",
    "\n",
    "plt.figure(figsize=(8,5))\n",
    "plt.plot(range(1,10),knn_acc, marker='o', markersize=9)\n",
    "plt.xlabel(\"K value\", fontsize=18)\n",
    "plt.ylabel(\"Accuracy\",fontsize=18)"
   ]
  },
  {
   "cell_type": "markdown",
   "id": "78da463d",
   "metadata": {},
   "source": [
    "- k=4 is optimal"
   ]
  },
  {
   "cell_type": "markdown",
   "id": "d5352f0f",
   "metadata": {},
   "source": [
    "#### Check the feature scaling method to KNN"
   ]
  },
  {
   "cell_type": "code",
   "execution_count": 122,
   "id": "f45b1644",
   "metadata": {},
   "outputs": [],
   "source": [
    "knn = KNeighborsClassifier(n_neighbors=4)"
   ]
  },
  {
   "cell_type": "code",
   "execution_count": 123,
   "id": "34584c41",
   "metadata": {
    "scrolled": false
   },
   "outputs": [
    {
     "name": "stdout",
     "output_type": "stream",
     "text": [
      "Accuracy KNN without transformation: 0.68 (+/- 0.12)\n"
     ]
    }
   ],
   "source": [
    "acc = cross_val_score(knn, sampled_X, sampled_Y, cv=5)\n",
    "print(\"Accuracy KNN without transformation: %0.2f (+/- %0.2f)\" % (acc.mean(), acc.std() * 2))"
   ]
  },
  {
   "cell_type": "code",
   "execution_count": 124,
   "id": "c6708724",
   "metadata": {},
   "outputs": [
    {
     "name": "stdout",
     "output_type": "stream",
     "text": [
      "Accuracy KNN with Standardization: 0.76 (+/- 0.14)\n"
     ]
    }
   ],
   "source": [
    "# create pipeline -> Standardization\n",
    "pipeline = Pipeline(steps=[('scaler', StandardScaler()),\n",
    "                   ('model',knn)])\n",
    "\n",
    "# perform cross validation\n",
    "acc = cross_val_score(estimator=pipeline, \n",
    "                         X=sampled_X, \n",
    "                         y=sampled_Y, \n",
    "                         cv=5\n",
    "                        )\n",
    "\n",
    "print(\"Accuracy KNN with Standardization: %0.2f (+/- %0.2f)\" % (acc.mean(), acc.std() * 2))"
   ]
  },
  {
   "cell_type": "code",
   "execution_count": 125,
   "id": "48b8e45a",
   "metadata": {},
   "outputs": [
    {
     "name": "stdout",
     "output_type": "stream",
     "text": [
      "Accuracy KNN with Normalizaton: 0.76 (+/- 0.12)\n"
     ]
    }
   ],
   "source": [
    "# create pipeline - > Normalizaton\n",
    "pipeline = Pipeline(steps=[('scaler', preprocessing.MinMaxScaler()),\n",
    "                   ('model', knn)])\n",
    "\n",
    "# perform cross validation\n",
    "acc = cross_val_score(estimator=pipeline, \n",
    "                         X=sampled_X, \n",
    "                         y=sampled_Y, \n",
    "                         cv=5\n",
    "                        )\n",
    "\n",
    "print(\"Accuracy KNN with Normalizaton: %0.2f (+/- %0.2f)\" % (acc.mean(), acc.std() * 2))"
   ]
  },
  {
   "cell_type": "markdown",
   "id": "21b2c987",
   "metadata": {},
   "source": [
    "- Normalization performed well"
   ]
  },
  {
   "cell_type": "markdown",
   "id": "f6cc6a86",
   "metadata": {},
   "source": [
    "#### Feaure scaling with stadardization and evaluation"
   ]
  },
  {
   "cell_type": "code",
   "execution_count": 126,
   "id": "40dba59f",
   "metadata": {},
   "outputs": [],
   "source": [
    "# create pipeline \n",
    "pipeline = Pipeline(steps=[('scaler',preprocessing.MinMaxScaler()),\n",
    "                   ('model', knn)])"
   ]
  },
  {
   "cell_type": "code",
   "execution_count": 127,
   "id": "8c873d76",
   "metadata": {},
   "outputs": [
    {
     "name": "stdout",
     "output_type": "stream",
     "text": [
      "Accuracy KNN using best 20 features: 0.73 (+/- 0.11)\n"
     ]
    }
   ],
   "source": [
    "# perform cross validation -> best 20 features \n",
    "acc = cross_val_score(estimator=pipeline, \n",
    "                         X=sampled_X_20, \n",
    "                         y=sampled_Y, \n",
    "                         cv=5\n",
    "                        )\n",
    "\n",
    "print(\"Accuracy KNN using best 20 features: %0.2f (+/- %0.2f)\" % (acc.mean(), acc.std() * 2))"
   ]
  },
  {
   "cell_type": "code",
   "execution_count": 128,
   "id": "8ec2a13b",
   "metadata": {},
   "outputs": [
    {
     "name": "stdout",
     "output_type": "stream",
     "text": [
      "Accuracy KNN using best 50 features: 0.81 (+/- 0.11)\n"
     ]
    }
   ],
   "source": [
    "# perform cross validation -> best 50 features \n",
    "acc = cross_val_score(estimator=pipeline, \n",
    "                         X=sampled_X_50, \n",
    "                         y=sampled_Y, \n",
    "                         cv=5\n",
    "                        )\n",
    "\n",
    "print(\"Accuracy KNN using best 50 features: %0.2f (+/- %0.2f)\" % (acc.mean(), acc.std() * 2))"
   ]
  },
  {
   "cell_type": "code",
   "execution_count": 130,
   "id": "6c68928c",
   "metadata": {},
   "outputs": [
    {
     "name": "stdout",
     "output_type": "stream",
     "text": [
      "Accuracy KNN using best 100 features: 0.78 (+/- 0.11)\n"
     ]
    }
   ],
   "source": [
    "# perform cross validation -> best 100 features \n",
    "acc = cross_val_score(estimator=pipeline, \n",
    "                         X=sampled_X_100, \n",
    "                         y=sampled_Y, \n",
    "                         cv=5\n",
    "                        )\n",
    "\n",
    "print(\"Accuracy KNN using best 100 features: %0.2f (+/- %0.2f)\" % (acc.mean(), acc.std() * 2))"
   ]
  },
  {
   "cell_type": "markdown",
   "id": "d7c17000",
   "metadata": {},
   "source": [
    "#### Select best 60 features, data balancing, splitting, training and evaluating"
   ]
  },
  {
   "cell_type": "code",
   "execution_count": 131,
   "id": "8351102d",
   "metadata": {},
   "outputs": [
    {
     "data": {
      "text/plain": [
       "(757, 60)"
      ]
     },
     "execution_count": 131,
     "metadata": {},
     "output_type": "execute_result"
    }
   ],
   "source": [
    "#first 60 atures with high correlation\n",
    "high_cor_60=cor_target.iloc[cor_target.argsort()[-61:-1]]\n",
    "\n",
    "# select 60 features\n",
    "selected_60_x = df[high_cor_60.index]\n",
    "selected_60_x.shape"
   ]
  },
  {
   "cell_type": "code",
   "execution_count": 132,
   "id": "00099252",
   "metadata": {},
   "outputs": [],
   "source": [
    "# Fit the model to generate the data with 60 features dataset\n",
    "oversampled_X_60, oversampled_Y = ros.fit_sample(selected_60_x, Y)\n",
    "sampled_X_60, sampled_Y = rus.fit_sample(oversampled_X_60, oversampled_Y)"
   ]
  },
  {
   "cell_type": "code",
   "execution_count": 134,
   "id": "aa00ab8c",
   "metadata": {},
   "outputs": [
    {
     "name": "stdout",
     "output_type": "stream",
     "text": [
      "Accuracy KNN using best 60 features: 0.79 (+/- 0.05)\n"
     ]
    }
   ],
   "source": [
    "# perform cross validation -> best 60 features \n",
    "acc = cross_val_score(estimator=pipeline, \n",
    "                         X=sampled_X_60, \n",
    "                         y=sampled_Y, \n",
    "                         cv=5\n",
    "                        )\n",
    "\n",
    "print(\"Accuracy KNN using best 60 features: %0.2f (+/- %0.2f)\" % (acc.mean(), acc.std() * 2))"
   ]
  },
  {
   "cell_type": "markdown",
   "id": "bc81c9ca",
   "metadata": {},
   "source": [
    "#### Select best 40 features, data balancing, splitting, training and evaluating"
   ]
  },
  {
   "cell_type": "code",
   "execution_count": 135,
   "id": "7da00760",
   "metadata": {},
   "outputs": [
    {
     "data": {
      "text/plain": [
       "(757, 40)"
      ]
     },
     "execution_count": 135,
     "metadata": {},
     "output_type": "execute_result"
    }
   ],
   "source": [
    "#first 40 atures with high correlation\n",
    "high_cor_40=cor_target.iloc[cor_target.argsort()[-41:-1]]\n",
    "\n",
    "# select 40 features\n",
    "selected_40_x = df[high_cor_40.index]\n",
    "selected_40_x.shape"
   ]
  },
  {
   "cell_type": "code",
   "execution_count": 136,
   "id": "89fee01f",
   "metadata": {},
   "outputs": [],
   "source": [
    "# Fit the model to generate the data with 40 features dataset\n",
    "oversampled_X_40, oversampled_Y = ros.fit_sample(selected_40_x, Y)\n",
    "sampled_X_40, sampled_Y = rus.fit_sample(oversampled_X_40, oversampled_Y)"
   ]
  },
  {
   "cell_type": "code",
   "execution_count": 137,
   "id": "20704f07",
   "metadata": {},
   "outputs": [
    {
     "name": "stdout",
     "output_type": "stream",
     "text": [
      "Accuracy KNN using best 40 features: 0.81 (+/- 0.09)\n"
     ]
    }
   ],
   "source": [
    "# perform cross validation -> best 40 features \n",
    "acc = cross_val_score(estimator=pipeline, \n",
    "                         X=sampled_X_40, \n",
    "                         y=sampled_Y, \n",
    "                         cv=5\n",
    "                        )\n",
    "\n",
    "print(\"Accuracy KNN using best 40 features: %0.2f (+/- %0.2f)\" % (acc.mean(), acc.std() * 2))"
   ]
  },
  {
   "cell_type": "markdown",
   "id": "6a05d312",
   "metadata": {},
   "source": [
    "#### Select best 30 features, data balancing, splitting, training and evaluating"
   ]
  },
  {
   "cell_type": "code",
   "execution_count": 138,
   "id": "aaa7841f",
   "metadata": {},
   "outputs": [
    {
     "data": {
      "text/plain": [
       "(757, 30)"
      ]
     },
     "execution_count": 138,
     "metadata": {},
     "output_type": "execute_result"
    }
   ],
   "source": [
    "#first 30 atures with high correlation\n",
    "high_cor_30=cor_target.iloc[cor_target.argsort()[-31:-1]]\n",
    "\n",
    "# select 30 features\n",
    "selected_30_x = df[high_cor_30.index]\n",
    "selected_30_x.shape"
   ]
  },
  {
   "cell_type": "code",
   "execution_count": 139,
   "id": "68ae5f2f",
   "metadata": {},
   "outputs": [],
   "source": [
    "# Fit the model to generate the data with 30 features dataset\n",
    "oversampled_X_30, oversampled_Y = ros.fit_sample(selected_30_x, Y)\n",
    "sampled_X_30, sampled_Y = rus.fit_sample(oversampled_X_30, oversampled_Y)"
   ]
  },
  {
   "cell_type": "code",
   "execution_count": 140,
   "id": "c2e69415",
   "metadata": {},
   "outputs": [
    {
     "name": "stdout",
     "output_type": "stream",
     "text": [
      "Accuracy KNN using best 30 features: 0.79 (+/- 0.07)\n"
     ]
    }
   ],
   "source": [
    "# perform cross validation -> best 30 features \n",
    "acc = cross_val_score(estimator=pipeline, \n",
    "                         X=sampled_X_30, \n",
    "                         y=sampled_Y, \n",
    "                         cv=5\n",
    "                        )\n",
    "\n",
    "print(\"Accuracy KNN using best 30 features: %0.2f (+/- %0.2f)\" % (acc.mean(), acc.std() * 2))"
   ]
  }
 ],
 "metadata": {
  "kernelspec": {
   "display_name": "Python 3",
   "language": "python",
   "name": "python3"
  },
  "language_info": {
   "codemirror_mode": {
    "name": "ipython",
    "version": 3
   },
   "file_extension": ".py",
   "mimetype": "text/x-python",
   "name": "python",
   "nbconvert_exporter": "python",
   "pygments_lexer": "ipython3",
   "version": "3.8.8"
  }
 },
 "nbformat": 4,
 "nbformat_minor": 5
}
